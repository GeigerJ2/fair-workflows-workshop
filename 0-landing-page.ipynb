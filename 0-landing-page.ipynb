{
 "cells": [
  {
   "cell_type": "markdown",
   "metadata": {},
   "source": [
    "# Tutorial notebooks for the AiiDA hands-on session of the FAIR workflows workshop at Purdue University on 2024-08-13\n",
    "\n",
    "1. [Setup](notebooks/1-aiida-setup.ipynb)\n",
    "2. [AiiDA basics and concepts](notebooks/2-aiida-basics.ipynb)\n",
    "3. [Running a Quantum ESPRESSO calculation](notebooks/3-aiida-qe-pw.ipynb)\n",
    "4. [Defining your own Equation of State workflow](notebooks/4-aiida-eos-workflow.ipynb)\n",
    "5. [Managing your data](notebooks/5-aiida-data.ipynb)"
   ]
  }
 ],
 "metadata": {
  "language_info": {
   "name": "python"
  }
 },
 "nbformat": 4,
 "nbformat_minor": 2
}
