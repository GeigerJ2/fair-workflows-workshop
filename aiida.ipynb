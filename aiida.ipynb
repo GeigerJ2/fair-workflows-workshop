{
 "cells": [
  {
   "cell_type": "markdown",
   "metadata": {},
   "source": [
    "<img src=\"./data/aiida-logo.png\" width=\"300\" style=\"height:auto; display:block; margin-left:auto; margin-right:auto;\">\n",
    "\n",
    "AiiDA is an open-source Python infrastructure to help researchers with automating, managing, persisting, sharing and reproducing the complex workflows associated with modern computational science and all associated data.\n",
    "\n",
    "\n",
    "## Get started\n",
    "We provide a series of tutorials to help you get started with AiiDA. These tutorials can be run on the nanoHUB platform directly. You can access by clicking on the links below.\n",
    "\n",
    "- [AiiDA setup](./examples/1-aiida-setup.ipynb)\n",
    "- [AiiDA basics](./examples/2-aiida-basics.ipynb)\n",
    "- [Real-World Example](./examples/3-aiida-qe-pw.ipynb)\n",
    "- [Designing a Workflow](./examples/4-aiida-eos-workflow.ipynb)\n",
    "- [Querying and Sharing Your Data](./examples/5-aiida-data.ipynb)\n",
    "\n",
    "The jupyter file browser can be started via the following link:\n",
    "\n",
    "- [File tree](../tree/)\n",
    "\n",
    "From there, you can also start a terminal session.\n",
    "\n",
    "## Other useful resources\n",
    "\n",
    "- [AiiDA documentation](https://aiida.readthedocs.io/en/latest/)\n",
    "- [AiiDA tutorials](https://aiida-tutorials.readthedocs.io/en/latest/)\n",
    "\n",
    "## Acknowledgements\n",
    "\n",
    "We are very grateful to our sponsors:\n",
    "\n",
    "The [MaX European Centre of Excellence](http://www.max-centre.eu/), the [MARVEL National Centre of Competence in Research](http://nccr-marvel.ch/), the [swissuniversities P-5 project “Materials Cloud”](https://www.materialscloud.org/swissuniversities), the [H2020 MARKETPLACE project](https://www.the-marketplace-project.eu/), and the [BIG-MAP project](https://www.big-map.eu/)."
   ]
  }
 ],
 "metadata": {
  "kernelspec": {
   "display_name": "Python 3 (ipykernel)",
   "language": "python",
   "name": "python3"
  },
  "language_info": {
   "codemirror_mode": {
    "name": "ipython",
    "version": 3
   },
   "file_extension": ".py",
   "mimetype": "text/x-python",
   "name": "python",
   "nbconvert_exporter": "python",
   "pygments_lexer": "ipython3",
   "version": "3.11.5"
  }
 },
 "nbformat": 4,
 "nbformat_minor": 4
}
