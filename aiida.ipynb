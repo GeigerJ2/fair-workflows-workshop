{
 "cells": [
  {
   "cell_type": "markdown",
   "metadata": {},
   "source": [
    "<img src=\"./data/figs/aiida-logo.png\" width=\"300\" style=\"height:auto; display:block; margin-left:auto; margin-right:auto;\">\n",
    "\n",
    "AiiDA is an open-source Python infrastructure to help researchers with automating, managing, persisting, sharing and reproducing the complex workflows associated with modern computational science and all associated data.\n",
    "\n",
    "\n",
    "## Get started\n",
    "\n",
    "This repository contains jupyter notebooks used during various AiiDA online tutorials. They can be run directly on the nanoHUB\n",
    "platform by clicking the links below. In additian, the jupyter file browser can be started via [this link](../tree/),\n",
    "from where you can also start a terminal session.\n",
    "\n",
    "## EuroSciPy 2024\n",
    "\n",
    "Notebooks for the hands-on tutorial at SciPy on 17/08/2024 showcasing the novel `aiida-shell` and `aiida-workgraph`\n",
    "tools for writing workflows in AiiDA:\n",
    "\n",
    "- [AiiDA introduction](./examples/euro-scipy-2024/1-aiida-intro.ipynb)\n",
    "- [AiiDA shell](./examples/euro-scipy-2024/2-aiida-shell.ipynb)\n",
    "- [AiiDA WorkGraph](./examples/euro-scipy-2024/3-aiida-workgraph.ipynb)\n",
    "\n",
    "## FAIR workflows workshop 2024\n",
    "\n",
    "Tutorial notebooks for the FAIR workflows workshop held at Purdue University during 13-14/08/2024:\n",
    "\n",
    "- [AiiDA setup](./examples/fair-workflows-workshop-2024/1-aiida-setup.ipynb)\n",
    "- [AiiDA basics](./examples/fair-workflows-workshop-2024/2-aiida-basics.ipynb)\n",
    "- [Real-World Example](./examples/fair-workflows-workshop-2024/3-aiida-qe-pw.ipynb)\n",
    "- [Designing a Workflow](./examples/fair-workflows-workshop-2024/4-aiida-eos-workflow.ipynb)\n",
    "- [Querying and Sharing Your Data](./examples/fair-workflows-workshop-2024/5-aiida-data.ipynb)\n",
    "\n",
    "## Other useful resources\n",
    "\n",
    "- [AiiDA documentation](https://aiida.readthedocs.io/en/latest/)\n",
    "- [AiiDA tutorials](https://aiida-tutorials.readthedocs.io/en/latest/)\n",
    "\n",
    "## Acknowledgements\n",
    "\n",
    "We are very grateful to our sponsors:\n",
    "\n",
    "The [MaX European Centre of Excellence](http://www.max-centre.eu/), the [MARVEL National Centre of Competence in Research](http://nccr-marvel.ch/), the [swissuniversities P-5 project “Materials Cloud”](https://www.materialscloud.org/swissuniversities), the [H2020 MARKETPLACE project](https://www.the-marketplace-project.eu/), and the [BIG-MAP project](https://www.big-map.eu/)."
   ]
  }
 ],
 "metadata": {
  "kernelspec": {
   "display_name": "Python 3 (ipykernel)",
   "language": "python",
   "name": "python3"
  },
  "language_info": {
   "codemirror_mode": {
    "name": "ipython",
    "version": 3
   },
   "file_extension": ".py",
   "mimetype": "text/x-python",
   "name": "python",
   "nbconvert_exporter": "python",
   "pygments_lexer": "ipython3",
   "version": "3.11.5"
  }
 },
 "nbformat": 4,
 "nbformat_minor": 4
}
