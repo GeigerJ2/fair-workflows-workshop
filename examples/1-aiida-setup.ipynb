{
 "cells": [
  {
   "cell_type": "markdown",
   "metadata": {},
   "source": [
    "# Preparations to get started with AiiDA"
   ]
  },
  {
   "cell_type": "markdown",
   "metadata": {},
   "source": [
    "## Interacting with AiiDA\n",
    "\n",
    "AiiDA can be controlled in two ways:\n",
    "\n",
    "1. Using the `verdi` command line interface (CLI), or `%verdi` magic in Jupyter notebooks.\n",
    "2. Using the `aiida` Python API\n",
    "\n",
    "For each project in AiiDA, we set up a **profile**, which defines the connection to the data storage (SQLite or PostgreSQL database and file repository), configuration, and other settings."
   ]
  },
  {
   "cell_type": "markdown",
   "metadata": {},
   "source": [
    "\n",
    "## Creating an AiiDA profile\n",
    "\n",
    "Before we can get started using AiiDA, we first need to set up a profile.\n",
    "\n",
    "The command:\n",
    "\n",
    "```shell\n",
    "verdi presto\n",
    "```\n",
    "\n",
    "provides a quick way to create a profile.\n",
    "For additional information, we refer to the [Installation\n",
    "Guide](https://aiida.readthedocs.io/projects/aiida-core/en/stable/installation/index.html) of the AiiDA documentation.\n",
    "\n",
    "Run the following cell to create the profile to be used during this workshop."
   ]
  },
  {
   "cell_type": "code",
   "execution_count": null,
   "metadata": {},
   "outputs": [],
   "source": [
    "!/apps/share64/debian10/anaconda/anaconda-7/envs/AIIDA/bin/verdi presto --profile-name fair-workflows"
   ]
  },
  {
   "cell_type": "markdown",
   "metadata": {},
   "source": [
    "Now that we have created a profile, for convenience, we will now load the AiiDA jupyter extension. This will allow us\n",
    "to use the `%verdi` jupyter magic commands, rather than having to run them in a subshell with the full, absolute\n",
    "path to the `verdi` executable as done in the cell above.\n",
    "\n",
    "In addition, this makes the `%aiida` jupyter magic command available that, when executed, will automatically load the\n",
    "previously created `fair-workflows` default profile. Alternatively, a specific profile can also be loaded as follows:\n",
    "```python\n",
    "from aiida import load_profile\n",
    "load_profile('fair-workflows')\n",
    "```"
   ]
  },
  {
   "cell_type": "code",
   "execution_count": 3,
   "metadata": {},
   "outputs": [
    {
     "name": "stdout",
     "output_type": "stream",
     "text": [
      "The aiida extension is already loaded. To reload it, use:\n",
      "  %reload_ext aiida\n"
     ]
    },
    {
     "data": {
      "application/json": {
       "current_state": "Loaded AiiDA DB environment - profile name: fair-workflows."
      },
      "text/html": [
       "<p>Loaded AiiDA DB environment - profile name: fair-workflows.</p>"
      ],
      "text/latex": [
       "Loaded AiiDA DB environment - profile name: fair-workflows.\n"
      ],
      "text/plain": [
       "Loaded AiiDA DB environment - profile name: fair-workflows.\n"
      ]
     },
     "execution_count": 3,
     "metadata": {},
     "output_type": "execute_result"
    }
   ],
   "source": [
    "%load_ext aiida\n",
    "%aiida"
   ]
  },
  {
   "cell_type": "markdown",
   "metadata": {},
   "source": [
    "Now, we set a some configuration options for our profile:"
   ]
  },
  {
   "cell_type": "code",
   "execution_count": 4,
   "metadata": {},
   "outputs": [
    {
     "name": "stdout",
     "output_type": "stream",
     "text": [
      "\u001b[32m\u001b[1mSuccess: \u001b[0m\u001b[22m'warnings.development_version' set to False globally\u001b[0m\n",
      "\u001b[32m\u001b[1mSuccess: \u001b[0m\u001b[22m'warnings.showdeprecations' set to False for 'fair-workflows' profile\u001b[0m\n"
     ]
    }
   ],
   "source": [
    "%verdi config set warnings.development_version false\n",
    "%verdi config set warnings.showdeprecations false"
   ]
  },
  {
   "cell_type": "markdown",
   "metadata": {},
   "source": [
    "And verify that the profile was created successfully via:"
   ]
  },
  {
   "cell_type": "code",
   "execution_count": 5,
   "metadata": {},
   "outputs": [
    {
     "name": "stdout",
     "output_type": "stream",
     "text": [
      "\u001b[32m\u001b[22m ✔ \u001b[0m\u001b[22mversion:     AiiDA v2.6.2\u001b[0m\n",
      "\u001b[32m\u001b[22m ✔ \u001b[0m\u001b[22mconfig:      /home/geiger_j/aiida_projects/fair-workflows-workshop/.aiida\u001b[0m\n",
      "\u001b[32m\u001b[22m ✔ \u001b[0m\u001b[22mprofile:     fair-workflows\u001b[0m\n",
      "\u001b[32m\u001b[22m ✔ \u001b[0m\u001b[22mstorage:     SqliteDosStorage[/home/geiger_j/aiida_projects/fair-workflows-workshop/.aiida/repository/sqlite_dos_7578b848b98c4e8a9a8a72e2efcb9e15]: open,\u001b[0m\n",
      "\u001b[33m\u001b[22m ⏺ \u001b[0m\u001b[22mbroker:      No broker defined for this profile: certain functionality not available. See https://aiida-core.readthedocs.io/en/stable/installation/guide_quick.html#quick-install-limitations\u001b[0m\n",
      "\u001b[33m\u001b[22m ⏺ \u001b[0m\u001b[22mdaemon:      No broker defined for this profile: daemon is not available. See {URL_NO_BROKER}\u001b[0m\n"
     ]
    }
   ],
   "source": [
    "%verdi status"
   ]
  },
  {
   "cell_type": "markdown",
   "metadata": {},
   "source": [
    " should show something like:\n",
    "```shell\n",
    " ✔ version:     AiiDA v2.6.2\n",
    " ✔ config:      /home/nanohub/<your-user>/.aiida\n",
    " ✔ profile:     fair-workflows\n",
    " ✔ storage:     SqliteDosStorage[/home/nanohub/<your-user>/.aiida/repository/sqlite_dos_b25c3582f65647beb068a3e50636a274]: open,\n",
    " ⏺ broker:      No broker defined for this profile: certain functionality not available. See https://aiida-core.readthedocs.io/en/stable/installation/guide_quick.html#quick-install-limitations\n",
    " ⏺ daemon:      No broker defined for this profile: daemon is not available. See {URL_NO_BROKER}\n",
    "\n",
    "```"
   ]
  },
  {
   "cell_type": "markdown",
   "metadata": {},
   "source": [
    "## Computers and Codes\n",
    "\n",
    "Being a workflow manager for computational science, AiiDA's main use is to execute codes on local or remote\n",
    "(high-performance) compute resources. Thus, to actually execute computations, it requires `Computer` and `Code` entities\n",
    "to be correctly set up.\n",
    "\n",
    "The `verdi presto` command automatically configures the local workstation as the `localhost` computer.\n",
    "\n",
    "Additional compute resources can be created using the:\n",
    "\n",
    "```shell\n",
    "verdi computer setup\n",
    "verdi computer config\n",
    "```\n",
    "\n",
    "commands, which will prompt you for all required options. For convenience, it is also possible to provide these options\n",
    "via YAML configuration files. This repository contains such configuration files for the `localhost` computer. Using\n",
    "these, the two above commands are as follows:\n",
    "\n",
    "```shell\n",
    "verdi computer setup --config ../data/yaml-configs/localhost-setup.yaml\n",
    "verdi computer configure core.local --config ../data/yaml-configs/localhost-config.yaml\n",
    "```\n",
    "\n",
    "The setup of computers and codes works similarly, and can either be achieved interactively via:\n",
    "\n",
    "```shell\n",
    "verdi code create core.code.installed\n",
    "```\n",
    "\n",
    "for which a configuration YAML file can again be provided via the `--config` flag.\n",
    "\n",
    "```shell\n",
    "verdi code create core.code.installed --config ../data/yaml-configs/qe-7.1-pw@localhost.yaml\n",
    "```\n",
    "\n",
    "The [aiida-code-registry](https://github.com/aiidateam/aiida-code-registry/) compiles `Computer` and `Code`\n",
    "configuration files of commonly used HPC resources. If you don't find your HPC there, pull requests are very welcome.\n",
    "\n",
    "We'll set up the `pw.x` code of Quantum ESPRESSO v7.1 on our `localhost` computer later on when actually running an\n",
    "atomistic simulation."
   ]
  },
  {
   "cell_type": "markdown",
   "metadata": {},
   "source": [
    "## AiiDA plugins\n",
    "\n",
    "AiiDA is extendable via plugins, which often provide infrastructure to run executables (e.g. Quantum Mechanical codes,\n",
    "like Quantum ESPRESSO or VASP), or add additional functionalities. For this tutorial, we will need the\n",
    "`aiida-quantumespresso` and the `aiida-pseudo` plugins, that will allow us to run Quantum ESPRESSO calculations and\n",
    "install the required pseudopotentials, respectively, which are already installed in the workspace."
   ]
  }
 ],
 "metadata": {
  "kernelspec": {
   "display_name": "FAIR",
   "language": "python",
   "name": "python3"
  },
  "language_info": {
   "codemirror_mode": {
    "name": "ipython",
    "version": 3
   },
   "file_extension": ".py",
   "mimetype": "text/x-python",
   "name": "python",
   "nbconvert_exporter": "python",
   "pygments_lexer": "ipython3",
   "version": "3.10.12"
  }
 },
 "nbformat": 4,
 "nbformat_minor": 4
}
