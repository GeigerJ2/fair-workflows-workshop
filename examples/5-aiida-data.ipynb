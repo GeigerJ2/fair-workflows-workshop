{
 "cells": [
  {
   "cell_type": "markdown",
   "metadata": {},
   "source": [
    "# Managing your data"
   ]
  },
  {
   "cell_type": "markdown",
   "metadata": {},
   "source": [
    "By running our own simulations and workflows, we have now created a bunch of data along the way. So let's see how we can\n",
    "explore it, shall we?\n",
    "\n",
    "As mentioned earlier, AiiDA stores it's data in an internal file repository, as well as an SQL database. The former\n",
    "contains the main input and output files of the calculations, while the latter contains the provenance data, as well as\n",
    "parsed results (only pointers to files are stored in the SQL database). To achieve high performance, these storage\n",
    "solutions are machine-readable, rather than human-readable, so we will require the AiiDA CLI and API to efficiently\n",
    "explore our data. Let's first load our AiiDA profile again:"
   ]
  },
  {
   "cell_type": "code",
   "execution_count": null,
   "metadata": {},
   "outputs": [],
   "source": [
    "%load_ext aiida\n",
    "%aiida"
   ]
  },
  {
   "cell_type": "code",
   "execution_count": null,
   "metadata": {},
   "outputs": [],
   "source": []
  }
 ],
 "metadata": {
  "kernelspec": {
   "display_name": "FAIR",
   "language": "python",
   "name": "python3"
  },
  "language_info": {
   "codemirror_mode": {
    "name": "ipython",
    "version": 3
   },
   "file_extension": ".py",
   "mimetype": "text/x-python",
   "name": "python",
   "nbconvert_exporter": "python",
   "pygments_lexer": "ipython3",
   "version": "3.10.12"
  }
 },
 "nbformat": 4,
 "nbformat_minor": 2
}
