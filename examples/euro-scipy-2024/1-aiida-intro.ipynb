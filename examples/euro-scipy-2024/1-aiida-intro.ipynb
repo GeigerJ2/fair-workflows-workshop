{
 "cells": [
  {
   "cell_type": "markdown",
   "metadata": {},
   "source": [
    "# Building robust workflows with strong provenance\n",
    "\n",
    "And we will do that using:\n",
    "<img src=\"../../data/aiida-logo.png\" width=\"500\" style=\"height:auto; display:block; margin-left:auto; margin-right:auto;\">\n",
    "\n",
    "An open-source Python infrastructure to help researchers with:\n",
    "- automating,\n",
    "- managing,\n",
    "- persisting,\n",
    "- sharing, and\n",
    "- reproducing\n",
    "the complex workflows associated with modern computational science and all associated data."
   ]
  },
  {
   "cell_type": "markdown",
   "metadata": {},
   "source": [
    "***\n",
    "## Provenance: A robust solution for process management and data traceability"
   ]
  },
  {
   "cell_type": "markdown",
   "metadata": {},
   "source": [
    "What is a process or a calculation, fundamentally?\n",
    "\n",
    "Well, it's just a data transformation!\n",
    "\n",
    "<img src=\"../../data/aiida-calculation-recipe.jpg\" width=\"500\" style=\"height:auto; display:block; margin-left:auto;\n",
    "margin-right:auto;\">\n",
    "\n",
    "When doing this via AiiDA, it stores:\n",
    "- The data transformations or calculations\n",
    "- The inputs and their metadata\n",
    "- The outputs and their metadata\n",
    "- Most crucially: The inter-connections"
   ]
  },
  {
   "cell_type": "markdown",
   "metadata": {
    "vscode": {
     "languageId": "plaintext"
    }
   },
   "source": [
    "While doing so, AiiDA creates a directed acyclic graph (DAG), which implements some important features:\n",
    "- Once data is stored, it cannot be modified &rarr; **provenance**\n",
    "- Data is queryable and can always be traced back &rarr; **reproducibility**\n",
    "- Checkpointing allows for **continuation** (even if computer is shut down)\n",
    "- **Caching** prevents running the same calculation twice"
   ]
  },
  {
   "cell_type": "markdown",
   "metadata": {},
   "source": [
    "***\n",
    "## Scalability, interoperability, and high-throughput performance\n",
    "\n",
    "### Learning by example: The LUMI hero run\n",
    "\n",
    "AiiDA was built with high-throughput and the upcoming exa-scale area in mind:\n",
    "\n",
    "<img src=\"../../data/lumi-hero-run.jpg\" width=\"500\" style=\"height:auto; display:block; margin-left:auto;\n",
    "margin-right:auto;\">\n",
    "\n",
    "The hero run:\n",
    "\n",
    "- Utilized a full partition of LUMI-C: **1,500** nodes with **128** cores each (**192k** cores in total)\n",
    "- **~15k** simulations (geometry optimizations of inorganic compounds) orchestrated with AiiDA in **13** hours runtime\n",
    "- **~8k** issues dealt with on the fly\n",
    "\n",
    "During all of this, **AiiDA runs on the local machine**. So no need to:\n",
    "\n",
    "- Mirror your local environment to the HPC\n",
    "- Ask the HPC admin to install software for you\n",
    "- Getting banned from the HPC because a background process is continuously running"
   ]
  },
  {
   "cell_type": "markdown",
   "metadata": {},
   "source": [
    "## The cogs and wheels behind AiiDA: Architecture and dependencies\n",
    "\n",
    "To achieve such performance, AiiDA requires:\n",
    "- The **RabbitMQ** message broker, allowing for multiple background daemon workers that monitor processes and write to the\n",
    "- **PostgreSQL** database where data *nodes* are stored, and which allows for concurrent write access by the daemon\n",
    "  workers\n",
    "\n",
    "It further makes use of:\n",
    "- An object-relational-mapper (ORM) which links entries in the database to the Python objects we will be dealing with\n",
    "- A custom [disk-objectstore](https://aiida.readthedocs.io/projects/aiida-core/en/latest/internals/storage/repository.html#the-disk-object-store) file repository, where raw files are stored\n",
    "  in an efficient, machine-readable manner, and can be *packed* for quick backup and export\n",
    "- A custom [daemon](https://aiida.readthedocs.io/projects/aiida-core/en/latest/topics/daemon.html#daemon) that handles\n",
    "  the execution and retrieval of simulations\n",
    "- "
   ]
  }
 ],
 "metadata": {
  "language_info": {
   "name": "python"
  }
 },
 "nbformat": 4,
 "nbformat_minor": 2
}
