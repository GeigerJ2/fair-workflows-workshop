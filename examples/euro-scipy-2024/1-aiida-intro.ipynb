{
 "cells": [
  {
   "cell_type": "markdown",
   "metadata": {},
   "source": [
    "# Building robust workflows with strong provenance\n",
    "\n",
    "And we will do that using:\n",
    "\n",
    "<img src=\"../../data/aiida-logo.png\" width=\"500\" style=\"height:auto; display:block; margin-left:auto; margin-right:auto;\">\n",
    "\n",
    "An open-source Python infrastructure to help researchers with:\n",
    "- automating,\n",
    "- managing,\n",
    "- persisting,\n",
    "- sharing, and\n",
    "- reproducing\n",
    "the complex workflows associated with modern computational science and all associated data."
   ]
  },
  {
   "cell_type": "markdown",
   "metadata": {},
   "source": [
    "***\n",
    "## Provenance: A robust solution for process management and data traceability"
   ]
  },
  {
   "cell_type": "markdown",
   "metadata": {},
   "source": [
    "What is a process or a what we call *calculation*, fundamentally?\n",
    "\n",
    "Well, it's just a data transformation!\n",
    "\n",
    "<img src=\"../../data/aiida-calculation-recipe.jpg\" width=\"500\" style=\"height:auto; display:block; margin-left:auto;\n",
    "margin-right:auto;\">\n",
    "\n",
    "When doing this via AiiDA, it stores:\n",
    "- The data transformations or calculations\n",
    "- The inputs and their metadata\n",
    "- The outputs and their metadata\n",
    "- Most crucially: The inter-connections"
   ]
  },
  {
   "cell_type": "markdown",
   "metadata": {
    "vscode": {
     "languageId": "plaintext"
    }
   },
   "source": [
    "While doing so, AiiDA creates a directed acyclic graph (DAG) of the data flow and takes care of some important features:\n",
    "- Once data is stored, it cannot be modified &rarr; **provenance**\n",
    "- Data is queryable and can always be traced back &rarr; **reproducibility**\n",
    "- Checkpointing allows for **continuation** (even if computer is shut down)\n",
    "- **Caching** prevents running the same calculation twice"
   ]
  },
  {
   "cell_type": "markdown",
   "metadata": {},
   "source": [
    "***\n",
    "## Scalability, interoperability, and high-throughput performance\n",
    "\n",
    "### Learning by example: The LUMI hero run\n",
    "\n",
    "AiiDA was built for high-throughput workloads, having the upcoming exa-scale area in mind:\n",
    "\n",
    "<img src=\"../../data/lumi-hero-run.jpg\" width=\"500\" style=\"height:auto; display:block; margin-left:auto;\n",
    "margin-right:auto;\">\n",
    "\n",
    "The hero run:\n",
    "\n",
    "- Utilized a full partition of LUMI-C: **1,500** nodes with **128** cores each (**192k** cores in total)\n",
    "- **~15k** simulations (geometry optimizations of inorganic compounds) orchestrated with AiiDA in **13** hours runtime\n",
    "- **~8k** issues dealt with on the fly\n",
    "\n",
    "During all of this, **AiiDA runs on the local machine**. So no need to:\n",
    "\n",
    "- Mirror your local environment to the HPC\n",
    "- Ask the HPC admin to install software for you\n",
    "- Getting banned from the HPC because a background process is continuously running\n",
    "\n",
    "***"
   ]
  },
  {
   "cell_type": "markdown",
   "metadata": {},
   "source": [
    "## The cogs and wheels behind AiiDA\n",
    "\n",
    "### System dependencies\n",
    "\n",
    "To achieve performance for thousands of workflows and millions of data nodes, AiiDA requires two system services:\n",
    "\n",
    "- The **RabbitMQ** message broker that enables running multiple background daemon workers that orchestrate and\n",
    "  monitor processes, as well as write data to the\n",
    "- **PostgreSQL** database, which allows for concurrent write access by the daemon workers.\n",
    "\n",
    "**Note** that for this tutorial, we will be using a simplified, service-less AiiDA installation that actually does not\n",
    "require these two services. More information on the different ways to install AiiDA can be found in the [documentation](https://aiida.readthedocs.io/projects/aiida-core/en/latest/installation/index.html).\n",
    "\n",
    "### Architecture\n",
    "\n",
    "The other components of AiiDA are:\n",
    "- An object-relational-mapper (ORM) which links entries in the database to the Python objects we will be dealing with\n",
    "- A custom [disk-objectstore](https://aiida.readthedocs.io/projects/aiida-core/en/latest/internals/storage/repository.html#the-disk-object-store) file repository, where raw files are stored\n",
    "  in an efficient, machine-readable manner, and can be *packed* to reduce the number of files for quick backup and export\n",
    "- A custom [daemon](https://aiida.readthedocs.io/projects/aiida-core/en/latest/topics/daemon.html#daemon) that handles\n",
    "  the execution and retrieval of multiple simulations\n",
    "\n",
    "### More on provenance\n",
    "\n",
    "The main ORM entry point in AiiDA is the **Node** class, which provides the functionalities to interact with the\n",
    "underlying SQL database. From this, we branch of to the **Data** and **ProcessNode** classes, used to distinguish\n",
    "between, you guessed it, **Data** and **Processes**.\n",
    "\n",
    "For the latter, another important distinction is then made: One one hand, AiiDA defines:\n",
    "\n",
    "- **Calculations** as processes that are able to **create** new data, and\n",
    "- **Workflows** which are processes that **orchestrate** other workflows and calculations, but **cannot create new\n",
    "  data**, but only **return already existing data**.\n",
    "\n",
    "This distinction allows for a the conceptual separation of the **data provenance** and **logical provenance**. In the\n",
    "former case, due to the causality principle, a directed acyclic graph (DAG) must result, while in the second case, as a\n",
    "workflow can **return** its inputs, cycles can be present in the graph.\n",
    "\n",
    "The interested reader is referred to the [relevant documentation section on\n",
    "provenance](https://aiida.readthedocs.io/projects/aiida-core/en/stable/topics/provenance/index.html), which provides an\n",
    "in-depth discussion of the topic.\n",
    "\n",
    "Importantly, AiiDA enforces **strict provenance**, and therefore when exporting/deleting entities of its database,\n",
    "all connected Nodes necessary to keep the provenance consistent will also be exported/deleted."
   ]
  },
  {
   "cell_type": "markdown",
   "metadata": {},
   "source": [
    "## Implementation of Calculations and Workflows and where this tutorial will lead you\n",
    "\n",
    "The two main classes that provide the aforementioned implementation of `Calculation`s and `Workflow`s are the `CalcJob`\n",
    "and the `WorkChain` classes (to be precise, also `CalcFunction` and `WorkFunction` exist, however, we will not\n",
    "cover them in this tutorial).\n",
    "\n",
    "The `CalcJob` class is typically used to provide an interface for external codes, e.g. [Quantum\n",
    "ESPRESSO (QE)](https://www.quantum-espresso.org) in materials science. It is at this stage, where the first\n",
    "external tool that we will cover in this workshop enters: [**`aiida-shell`**](https://aiida-shell.readthedocs.io/en/latest/).\n",
    "\n",
    "Writing the `CalcJob` interface for an external code requires significant Python and AiiDA expertise, and is typically a\n",
    "task taken care of by an AiiDA plugin developer. The [AiiDA plugin\n",
    "registry](https://aiidateam.github.io/aiida-registry/) currently contains almost 100 plugins with 163 `CalcJob`s\n",
    "defined, however, these are mostly related to the field of materials science. If you'd like to start executing a\n",
    "a new external code from a different research domain in AiiDA, the next notebook will show you how `aiida-shell` can\n",
    "help kickstart you doing just that!\n",
    "\n",
    "Further, to define a workflow in AiiDA, the typical approach is to construct a `WorkChain` by inheriting from the\n",
    "`WorkChain` class, like so: `class EuroSciPyWorkChain(WorkChain):`. However, constructing this class correctly again\n",
    "requires advanced Python and AiiDA expertise, so to simplify the generation of workflows, the [**`aiida-workgraph`**](https://aiida-workgraph.readthedocs.io/en/stable/search.html)\n",
    "was created. In the third notebook, we will show you how you can use this tool to quickly construct your own workflows,\n",
    "using existing AiiDA building blocks, external executables and scripts, or your own Python code.\n",
    "\n",
    "Finally, we should mention that `aiida-shell` and `aiida-workgraph` are currently not part of the `aiida-core`\n",
    "repository, and do not replace, but rather build on top of it:"
   ]
  },
  {
   "cell_type": "markdown",
   "metadata": {
    "vscode": {
     "languageId": "plaintext"
    }
   },
   "source": [
    "<br>\n",
    "\n",
    "<img src=\"../../data/aiida-core-shell-workgraph.jpg\" width=\"800\" style=\"height:auto; display:block; margin-left:auto;\n",
    "margin-right:auto;\">\n",
    "\n",
    "For more in-depth information on how to write AiiDA workflows in the *classical* way, that is, by writing a custom\n",
    "`WorkChain` class, we point you to the [relevant documentation\n",
    "section](https://aiida.readthedocs.io/projects/aiida-core/en/latest/howto/write_workflows.html), as well as material from [past AiiDA virtual tutorials](https://aiida-tutorials.readthedocs.io/en/latest/sections/writing_workflows/index.html).\n",
    "\n",
    "Lastly, it is important to note that, while the `aiida-shell` API has been quite stable for a while, the\n",
    "`aiida-workgraph` is still very much under active development. So any feedback you might have during this tutorial will\n",
    "be very valuable to us!\n",
    "\n",
    "So, let's install both tools in the next cell, and get started, shall we?!"
   ]
  },
  {
   "cell_type": "code",
   "execution_count": null,
   "metadata": {
    "vscode": {
     "languageId": "plaintext"
    }
   },
   "outputs": [],
   "source": [
    "!/apps/share64/debian10/anaconda/anaconda-7/envs/AIIDA/bin/python -m pip install aiida-shell==0.7.3\n",
    "!/apps/share64/debian10/anaconda/anaconda-7/envs/AIIDA/bin/python -m pip install aiida-workgraph"
   ]
  }
 ],
 "metadata": {
  "language_info": {
   "name": "python"
  }
 },
 "nbformat": 4,
 "nbformat_minor": 2
}
