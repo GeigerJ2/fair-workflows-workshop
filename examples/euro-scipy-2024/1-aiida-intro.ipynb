{
 "cells": [
  {
   "cell_type": "markdown",
   "metadata": {},
   "source": [
    "# Building robust workflows with strong provenance\n",
    "\n",
    "And we will do that using:\n",
    "\n",
    "<img src=\"../../data/figs/aiida-logo.png\" width=\"500\" style=\"height:auto; display:block; margin-left:auto; margin-right:auto;\">\n",
    "\n",
    "An open-source Python infrastructure to help researchers with:\n",
    "- automating,\n",
    "- managing,\n",
    "- persisting,\n",
    "- sharing, and\n",
    "- reproducing\n",
    "the complex workflows associated with modern computational science and all associated data."
   ]
  },
  {
   "cell_type": "markdown",
   "metadata": {},
   "source": [
    "***\n",
    "## Provenance: A robust solution for process management and data traceability"
   ]
  },
  {
   "cell_type": "markdown",
   "metadata": {},
   "source": [
    "What is a process or a what we call *calculation*, fundamentally?\n",
    "\n",
    "Well, it's just a data transformation!\n",
    "\n",
    "<img src=\"../../data/figs/aiida-calculation-recipe.jpg\" width=\"500\" style=\"height:auto; display:block; margin-left:auto;\n",
    "margin-right:auto;\">\n",
    "\n",
    "When doing this via AiiDA, it stores:\n",
    "- The data transformations or calculations\n",
    "- The inputs and their metadata\n",
    "- The outputs and their metadata\n",
    "- Most crucially: The inter-connections"
   ]
  },
  {
   "cell_type": "markdown",
   "metadata": {
    "vscode": {
     "languageId": "plaintext"
    }
   },
   "source": [
    "While doing so, AiiDA creates a directed acyclic graph (DAG) of the data flow and takes care of some important features:\n",
    "- Once data is stored, it cannot be modified &rarr; **provenance**\n",
    "- Data is queryable and can always be traced back &rarr; **reproducibility**\n",
    "- Checkpointing allows for **continuation** (even if computer is shut down)\n",
    "- **Caching** prevents running the same calculation twice"
   ]
  },
  {
   "cell_type": "markdown",
   "metadata": {},
   "source": [
    "***\n",
    "## Scalability, interoperability, and high-throughput performance\n",
    "\n",
    "### Learning by example: The LUMI hero run\n",
    "\n",
    "AiiDA was built for high-throughput workloads, having the upcoming exa-scale area in mind:\n",
    "\n",
    "<img src=\"../../data/figs/lumi-hero-run.jpg\" width=\"500\" style=\"height:auto; display:block; margin-left:auto;\n",
    "margin-right:auto;\">\n",
    "\n",
    "The hero run:\n",
    "\n",
    "- Utilized a full partition of LUMI-C: **1,500** nodes with **128** cores each (**192k** cores in total)\n",
    "- **~15k** simulations (geometry optimizations of inorganic compounds) orchestrated with AiiDA in **13** hours runtime\n",
    "- **~8k** issues dealt with on the fly\n",
    "\n",
    "During all of this, **AiiDA runs on the local machine**. So no need to:\n",
    "\n",
    "- Mirror your local environment to the HPC\n",
    "- Ask the HPC admin to install software for you\n",
    "- Getting banned from the HPC because a background process is continuously running\n",
    "\n",
    "***"
   ]
  },
  {
   "cell_type": "markdown",
   "metadata": {},
   "source": [
    "## The cogs and wheels behind AiiDA\n",
    "\n",
    "### System dependencies\n",
    "\n",
    "To achieve performance for thousands of workflows and millions of data nodes, AiiDA requires two system services:\n",
    "\n",
    "- The **RabbitMQ** message broker that enables running multiple background daemon workers that orchestrate and\n",
    "  monitor processes, as well as write data to the\n",
    "- **PostgreSQL** database, which allows for concurrent write access by the daemon workers.\n",
    "\n",
    "**Note** that for this tutorial, we will be using a simplified, service-less AiiDA installation that actually does not\n",
    "require these two services. More information on the different ways to install AiiDA can be found in the [documentation](https://aiida.readthedocs.io/projects/aiida-core/en/latest/installation/index.html).\n",
    "\n",
    "### Architecture\n",
    "\n",
    "The other components of AiiDA are:\n",
    "- An object-relational-mapper (ORM) which links entries in the database to the Python objects we will be dealing with\n",
    "- A custom [disk-objectstore](https://aiida.readthedocs.io/projects/aiida-core/en/latest/internals/storage/repository.html#the-disk-object-store) file repository, where raw files are stored\n",
    "  in an efficient, machine-readable manner, and can be *packed* to reduce the number of files for quick backup and export\n",
    "- A custom [daemon](https://aiida.readthedocs.io/projects/aiida-core/en/latest/topics/daemon.html#daemon) that handles\n",
    "  the execution and retrieval of multiple simulations"
   ]
  },
  {
   "cell_type": "markdown",
   "metadata": {},
   "source": [
    "### Quickly set up a running instance\n",
    "\n",
    "#### Interacting with AiiDA and creating a profile\n",
    "\n",
    "While AiiDA is already installed in the conda kernel of this deployment, for each project one must set up a **profile**,\n",
    "which defines the connection to the data storage (SQLite or PostgreSQL database and file repository), configuration, and\n",
    "other settings.\n",
    "\n",
    "Overall, AiiDA can be controlled in two ways:\n",
    "\n",
    "1. Using the `verdi` command line interface (CLI), or `%verdi` magic in Jupyter notebooks.\n",
    "2. Using the `aiida` Python API\n",
    "\n",
    "As of AiiDA **v2.6.1** which was released on 2024-07-01, it is now possible to create a profile without the\n",
    "PostgreSQL and RabbitMQ services mentioned previously. For the sake of this tutorial, we will use this simplified\n",
    "version, and we refer you to the [installation instructions on\n",
    "RTD](https://aiida.readthedocs.io/projects/aiida-core/en/stable/installation/index.html) for more information on how to\n",
    "set up a fully functional high-performance profile.\n",
    "\n",
    "To set up our profile, we just need to run the following notebook cell:"
   ]
  },
  {
   "cell_type": "code",
   "execution_count": null,
   "metadata": {
    "ExecuteTime": {
     "end_time": "2024-08-26T09:46:29.640009Z",
     "start_time": "2024-08-26T09:46:27.979921Z"
    }
   },
   "outputs": [],
   "source": [
    "!/apps/share64/debian10/anaconda/anaconda-7/envs/AIIDA/bin/verdi presto --profile-name euro-scipy-2024"
   ]
  },
  {
   "cell_type": "markdown",
   "metadata": {},
   "source": [
    "Now that we have created a profile, for convenience, we will now load the AiiDA jupyter extension. This will allow us\n",
    "to use the `%verdi` jupyter magic commands, rather than having to run them in a subshell with the full, absolute\n",
    "path to the `verdi` executable as done in the cell above.\n",
    "\n",
    "In addition, this makes the `%aiida` jupyter magic command available that, when executed, will automatically load the\n",
    "previously created `euro-scipy-2024` default profile. Alternatively, a specific profile can also be loaded as follows:\n",
    "```python\n",
    "from aiida import load_profile\n",
    "load_profile('euro-scipy-2024')\n",
    "```\n",
    "which is the typical way to load a profile and what you will see in most code snippets."
   ]
  },
  {
   "cell_type": "code",
   "execution_count": null,
   "metadata": {
    "ExecuteTime": {
     "end_time": "2024-08-26T09:46:32.925067Z",
     "start_time": "2024-08-26T09:46:31.619976Z"
    }
   },
   "outputs": [],
   "source": [
    "%load_ext aiida\n",
    "%aiida"
   ]
  },
  {
   "cell_type": "markdown",
   "metadata": {},
   "source": [
    "Now, we set some configuration options for our profile:"
   ]
  },
  {
   "cell_type": "code",
   "execution_count": null,
   "metadata": {
    "ExecuteTime": {
     "end_time": "2024-08-26T09:46:35.400914Z",
     "start_time": "2024-08-26T09:46:35.119509Z"
    }
   },
   "outputs": [],
   "source": [
    "%verdi config set warnings.development_version false\n",
    "%verdi config set warnings.showdeprecations false"
   ]
  },
  {
   "cell_type": "markdown",
   "metadata": {},
   "source": [
    "And verify that the profile was created successfully via:"
   ]
  },
  {
   "cell_type": "code",
   "execution_count": null,
   "metadata": {
    "ExecuteTime": {
     "end_time": "2024-08-26T09:46:37.280265Z",
     "start_time": "2024-08-26T09:46:36.939530Z"
    }
   },
   "outputs": [],
   "source": [
    "%verdi status"
   ]
  },
  {
   "cell_type": "markdown",
   "metadata": {},
   "source": [
    "should show something like:\n",
    "\n",
    "```shell\n",
    " ✔ version:     AiiDA v2.6.2\n",
    " ✔ config:      /home/nanohub/<your-user>/.aiida\n",
    " ✔ profile:     euro-scipy-2024\n",
    " ✔ storage:     SqliteDosStorage[/home/nanohub/<your-user>/.aiida/repository/sqlite_dos_b25c3582f65647beb068a3e50636a274]: open,\n",
    " ⏺ broker:      No broker defined for this profile: certain functionality not available. See https://aiida-core.readthedocs.io/en/stable/installation/guide_quick.html#quick-install-limitations\n",
    " ⏺ daemon:      No broker defined for this profile: daemon is not available. See {URL_NO_BROKER}\n",
    "```"
   ]
  },
  {
   "cell_type": "markdown",
   "metadata": {},
   "source": [
    "### Data nodes\n",
    "\n",
    "Before running any calculations, let's create and store a *data node*.\n",
    "AiiDA implements data node types for the most common types of data (int, float, str, etc.), which you can extend with your own (composite) data node types if needed.\n",
    "For this tutorial, we'll keep it very simple, and start by initializing an `Int` node and assigning it to the `x` variable:"
   ]
  },
  {
   "cell_type": "code",
   "execution_count": null,
   "metadata": {
    "ExecuteTime": {
     "end_time": "2024-08-26T09:46:40.873461Z",
     "start_time": "2024-08-26T09:46:40.524133Z"
    }
   },
   "outputs": [],
   "source": [
    "from aiida import orm\n",
    "\n",
    "x = orm.Int(2)"
   ]
  },
  {
   "cell_type": "markdown",
   "metadata": {},
   "source": [
    "We can check the contents of the `node` variable like this:"
   ]
  },
  {
   "cell_type": "code",
   "execution_count": null,
   "metadata": {
    "ExecuteTime": {
     "end_time": "2024-08-26T09:46:41.524472Z",
     "start_time": "2024-08-26T09:46:41.516377Z"
    }
   },
   "outputs": [],
   "source": [
    "x"
   ]
  },
  {
   "cell_type": "markdown",
   "metadata": {},
   "source": [
    "Quite a bit of information on our freshly created node is returned:\n",
    "\n",
    "- The data node is of the type `Int`\n",
    "- The node has the *universally unique identifier* (**UUID**)\n",
    "- The node is currently not stored in the database `(unstored)`\n",
    "- The integer value of the node is `2`\n",
    "\n",
    "Let's store the node in the database:"
   ]
  },
  {
   "cell_type": "code",
   "execution_count": null,
   "metadata": {
    "ExecuteTime": {
     "end_time": "2024-08-26T09:46:42.372043Z",
     "start_time": "2024-08-26T09:46:42.232512Z"
    }
   },
   "outputs": [],
   "source": [
    "x.store()"
   ]
  },
  {
   "cell_type": "markdown",
   "metadata": {},
   "source": [
    "As you can see, the data node has now been assigned a *primary key* (**PK**), a number that identifies the node in your database `(pk: 1)`.\n",
    "The PK and UUID both reference the node with the only difference that the PK is unique *for your local database only*, whereas the UUID is a globally unique identifier and can therefore be used between *different* databases.\n",
    "Use the PK only if you are working within a single database, i.e. in an interactive session and the UUID in all other cases.\n",
    "\n",
    "> **Note**\n",
    "> \n",
    "> The PK numbers shown throughout this tutorial assume that you start from a completely empty database.\n",
    "> It is possible that the nodes' PKs will be different for your database!\n",
    ">\n",
    "> The UUIDs are generated randomly and are, therefore, **guaranteed** to be different.\n",
    "\n",
    "\n",
    "Next, let's use the `verdi` command line interface (CLI) to check the data node we have just created:\n",
    "(**tip**: To dynamically access the PK of the node when using the `%verdi` magic command, you can also use: {x.pk})"
   ]
  },
  {
   "cell_type": "code",
   "execution_count": null,
   "metadata": {
    "ExecuteTime": {
     "end_time": "2024-08-26T09:46:42.928459Z",
     "start_time": "2024-08-26T09:46:42.764954Z"
    }
   },
   "outputs": [],
   "source": [
    "%verdi node show {x.pk}"
   ]
  },
  {
   "cell_type": "markdown",
   "metadata": {},
   "source": [
    "Once again, we can see that the node is of type `Int`, has its PK and UUID.\n",
    "Besides this information, the `verdi node show` command also shows the (empty) `label` and `description`, as well as the time the node was created (`ctime`) and last modified (`mtime`).\n",
    "\n",
    "> **Note**\n",
    "> AiiDA already provides many standard data types, but you can also [create your own](https://aiida.readthedocs.io/projects/aiida-core/en/stable/topics/data_types.html#topics-data-types-plugin)."
   ]
  },
  {
   "cell_type": "markdown",
   "metadata": {},
   "source": [
    "### Calculation functions\n",
    "\n",
    "Once your data is stored in the database, it is ready to be used for some computational task.\n",
    "For example, let's say you want to multiply two `Int` data nodes.\n",
    "The following Python function:\n",
    "\n",
    "```python\n",
    "def multiply(x, y):\n",
    "    return x * y\n",
    "```\n",
    "\n",
    "will give the desired result when applied to two `Int` nodes, but the calculation will not be stored in the provenance graph.\n",
    "However, we can use a [Python decorator](https://docs.python.org/3/glossary.html#term-decorator) provided by AiiDA to automatically make it part of the provenance graph, as shown below:"
   ]
  },
  {
   "cell_type": "code",
   "execution_count": null,
   "metadata": {},
   "outputs": [],
   "source": [
    "from aiida import engine\n",
    "\n",
    "@engine.calcfunction\n",
    "def multiply(x, y):\n",
    "    return x * y"
   ]
  },
  {
   "cell_type": "markdown",
   "metadata": {},
   "source": [
    "This converts the `multiply` function into an AiIDA *calculation function*, the most basic execution unit in AiiDA.\n",
    "Next, Let's create a new `Int` data node and assign it to the variable `y`, and then run the `multiply` function with the `x` and `y` data nodes as inputs:"
   ]
  },
  {
   "cell_type": "code",
   "execution_count": null,
   "metadata": {},
   "outputs": [],
   "source": [
    "y = orm.Int(3)"
   ]
  },
  {
   "cell_type": "markdown",
   "metadata": {},
   "source": [
    "Now it's time to multiply the two numbers!"
   ]
  },
  {
   "cell_type": "code",
   "execution_count": null,
   "metadata": {},
   "outputs": [],
   "source": [
    "multiply(x, y)"
   ]
  },
  {
   "cell_type": "markdown",
   "metadata": {},
   "source": [
    "Success!\n",
    "The `calcfunction`-decorated `multiply` function has multiplied the two `Int` data nodes and returned a new `Int` data node whose value is the product of the two input nodes.\n",
    "Note that by executing the `multiply` function, all input and output nodes are automatically stored in the database:"
   ]
  },
  {
   "cell_type": "code",
   "execution_count": null,
   "metadata": {},
   "outputs": [],
   "source": [
    "y"
   ]
  },
  {
   "cell_type": "markdown",
   "metadata": {},
   "source": [
    "We had not yet stored the data node assigned to the `y` variable, but by providing it as an input argument to the `multiply` function, it was automatically stored with PK = 2.\n",
    "Similarly, the returned `Int` node with value 6 has been stored with PK = 4.\n",
    "\n",
    "Let's look for the process we have just run using the `verdi` CLI:"
   ]
  },
  {
   "cell_type": "code",
   "execution_count": null,
   "metadata": {},
   "outputs": [],
   "source": [
    "%verdi process list -a"
   ]
  },
  {
   "cell_type": "markdown",
   "metadata": {},
   "source": [
    "We can see that our `multiply` calcfunction was created 1 minute ago, assigned the PK 3, and has `Finished`.\n",
    "\n",
    "### The provenance graph\n",
    "An AiiDA database does not only contain the results of your calculations, but also their inputs and each step that was executed to obtain them. All of this information is stored in the form of a directed acyclic graph (DAG).\n",
    "Let's have a look at the provenance of this simple calculation.\n",
    "The provenance graph can be automatically generated using the verdi CLI.\n",
    "Let's generate the provenance graph for the `multiply` calculation function we have just run with PK = 3:\n",
    "\n",
    "> **note**\n",
    "> Remember that the PK of the `CalcJob` can be different for your database.\n",
    "\n",
    "```console\n",
    "$ verdi node graph generate 3\n",
    "```\n",
    "\n",
    "The command will write the provenance graph to a `.pdf` file.\n",
    "Use your favorite PDF viewer to have a look.\n",
    "It should look something like the graph shown below."
   ]
  },
  {
   "cell_type": "code",
   "execution_count": null,
   "metadata": {},
   "outputs": [],
   "source": [
    "from aiida.tools.visualization import Graph\n",
    "graph = Graph()\n",
    "graph.add_incoming(3, annotate_links=\"both\")\n",
    "graph.add_outgoing(3, annotate_links=\"both\")\n",
    "graph.graphviz"
   ]
  },
  {
   "cell_type": "markdown",
   "metadata": {},
   "source": [
    "In the provenance graph, you can see different types of *nodes* represented by different shapes.\n",
    "The green ellipses are `Data` nodes, and the rectangles represent *processes*, i.e. the calculations performed in your *workflow*.\n",
    "\n",
    "The provenance graph allows us to not only see what data we have, but also how it was produced."
   ]
  },
  {
   "cell_type": "markdown",
   "metadata": {},
   "source": [
    "### More on provenance\n",
    "\n",
    "The main ORM entry point in AiiDA is the **Node** class, which provides the functionalities to interact with the\n",
    "underlying SQL database. From this, we branch of to the **Data** and **ProcessNode** classes, used to distinguish\n",
    "between, you guessed it, **Data** and **Processes**.\n",
    "\n",
    "For the latter, another important distinction is then made: One one hand, AiiDA defines:\n",
    "\n",
    "- **Calculations** as processes that are able to **create** new data, and\n",
    "- **Workflows** which are processes that **orchestrate** other workflows and calculations, but **cannot create new\n",
    "  data**, but only **return already existing data**.\n",
    "\n",
    "This distinction allows for a the conceptual separation of the **data provenance** and **logical provenance**. In the\n",
    "former case, due to the causality principle, a directed acyclic graph (DAG) must result, while in the second case, as a\n",
    "workflow can **return** its inputs, cycles can be present in the graph.\n",
    "\n",
    "The interested reader is referred to the [relevant documentation section on\n",
    "provenance](https://aiida.readthedocs.io/projects/aiida-core/en/stable/topics/provenance/index.html), which provides an\n",
    "in-depth discussion of the topic.\n",
    "\n",
    "Importantly, AiiDA enforces **strict provenance**, and therefore when exporting/deleting entities of its database,\n",
    "all connected Nodes necessary to keep the provenance consistent will also be exported/deleted."
   ]
  },
  {
   "cell_type": "markdown",
   "metadata": {},
   "source": [
    "## Implementation of Calculations and Workflows and where this tutorial will lead you\n",
    "\n",
    "The two main classes that provide the aforementioned implementation of `Calculation`s and `Workflow`s are the `CalcJob`\n",
    "and the `WorkChain` classes.\n",
    "\n",
    "The `CalcJob` class is typically used to provide an interface for external codes, e.g. [Quantum\n",
    "ESPRESSO (QE)](https://www.quantum-espresso.org) in materials science. It is at this stage, where the first\n",
    "external tool that we will cover in this workshop enters: [**`aiida-shell`**](https://aiida-shell.readthedocs.io/en/latest/).\n",
    "\n",
    "Writing the `CalcJob` interface for an external code requires significant Python and AiiDA expertise, and is typically a\n",
    "task taken care of by an AiiDA plugin developer. The [AiiDA plugin\n",
    "registry](https://aiidateam.github.io/aiida-registry/) currently contains almost 100 plugins with 163 `CalcJob`s\n",
    "defined, however, these are mostly related to the field of materials science. If you'd like to start executing a\n",
    "a new external code from a different research domain in AiiDA, the next notebook will show you how `aiida-shell` can\n",
    "help kickstart you doing just that!\n",
    "\n",
    "Further, to define a workflow in AiiDA, the typical approach is to construct a `WorkChain` by inheriting from the\n",
    "`WorkChain` class, like so: `class EuroSciPyWorkChain(WorkChain):`. However, constructing this class correctly again\n",
    "requires advanced Python and AiiDA expertise, so to simplify the generation of workflows, the [**`aiida-workgraph`**](https://aiida-workgraph.readthedocs.io/en/stable/search.html)\n",
    "was created. In the third notebook, we will show you how you can use this tool to quickly construct your own workflows,\n",
    "using existing AiiDA building blocks, external executables and scripts, or your own Python code.\n",
    "\n",
    "Finally, we should mention that `aiida-shell` and `aiida-workgraph` are currently not part of the `aiida-core`\n",
    "repository, and do not replace, but rather build on top of it:"
   ]
  },
  {
   "cell_type": "markdown",
   "metadata": {
    "vscode": {
     "languageId": "plaintext"
    }
   },
   "source": [
    "<br>\n",
    "\n",
    "<img src=\"../../data/figs/aiida-core-shell-workgraph.jpg\" width=\"800\" style=\"height:auto; display:block; margin-left:auto;\n",
    "margin-right:auto;\">\n",
    "\n",
    "For more in-depth information on how to write AiiDA workflows in the *classical* way, that is, by writing a custom\n",
    "`WorkChain` class, we point you to the [relevant documentation\n",
    "section](https://aiida.readthedocs.io/projects/aiida-core/en/latest/howto/write_workflows.html), as well as material from [past AiiDA virtual tutorials](https://aiida-tutorials.readthedocs.io/en/latest/sections/writing_workflows/index.html).\n",
    "\n",
    "Lastly, it is important to note that, while the `aiida-shell` API has been quite stable for a while, the\n",
    "`aiida-workgraph` is still very much under active development. So any feedback you might have during this tutorial will\n",
    "be very valuable to us!\n",
    "\n",
    "So, let's install both tools in the next cell, and get started, shall we?!"
   ]
  },
  {
   "cell_type": "code",
   "execution_count": null,
   "metadata": {},
   "outputs": [],
   "source": [
    "!/apps/share64/debian10/anaconda/anaconda-7/envs/AIIDA/bin/python -m pip install aiida-shell==0.7.3\n",
    "!/apps/share64/debian10/anaconda/anaconda-7/envs/AIIDA/bin/python -m pip install aiida-workgraph[widget]==0.3.22"
   ]
  }
 ],
 "metadata": {
  "kernelspec": {
   "display_name": "Python3.10 (AIIDA)",
   "language": "python",
   "name": "aiida"
  },
  "language_info": {
   "codemirror_mode": {
    "name": "ipython",
    "version": 3
   },
   "file_extension": ".py",
   "mimetype": "text/x-python",
   "name": "python",
   "nbconvert_exporter": "python",
   "pygments_lexer": "ipython3",
   "version": "3.10.6"
  },
  "toc": {
   "base_numbering": 1,
   "nav_menu": {},
   "number_sections": true,
   "sideBar": true,
   "skip_h1_title": false,
   "title_cell": "Table of Contents",
   "title_sidebar": "Contents",
   "toc_cell": false,
   "toc_position": {},
   "toc_section_display": true,
   "toc_window_display": false
  },
  "varInspector": {
   "cols": {
    "lenName": 16,
    "lenType": 16,
    "lenVar": 40
   },
   "kernels_config": {
    "python": {
     "delete_cmd_postfix": "",
     "delete_cmd_prefix": "del ",
     "library": "var_list.py",
     "varRefreshCmd": "print(var_dic_list())"
    },
    "r": {
     "delete_cmd_postfix": ") ",
     "delete_cmd_prefix": "rm(",
     "library": "var_list.r",
     "varRefreshCmd": "cat(var_dic_list()) "
    }
   },
   "types_to_exclude": [
    "module",
    "function",
    "builtin_function_or_method",
    "instance",
    "_Feature"
   ],
   "window_display": false
  }
 },
 "nbformat": 4,
 "nbformat_minor": 2
}
