{
 "cells": [
  {
   "cell_type": "markdown",
   "metadata": {},
   "source": [
    "# How to quickly create a workflow from a set of executables\n",
    "\n",
    "**Please note, this notebook depends on successful execution of the first notebook `1-aiida-intro.ipynb`!**"
   ]
  },
  {
   "cell_type": "markdown",
   "metadata": {
    "vscode": {
     "languageId": "plaintext"
    }
   },
   "source": [
    "To run the following Python cells, we need to make sure that we select the correct kernel `Python3.10 (AIIDA)`. If it is\n",
    "not already selected, do so as follows:\n",
    "\n",
    "<img src=\"../../data/figs/change_notebook_kernel.png\" width=\"500\" style=\"height:auto; display:block; margin-left:auto; margin-right:auto;\">"
   ]
  },
  {
   "cell_type": "markdown",
   "metadata": {},
   "source": [
    "***\n",
    "\n",
    "## Concatenating several scripts to one workflow\n",
    "\n",
    "### The workflow setup\n",
    "\n",
    "Now that we have a working profile set up, assume we would like to execute a workflow that is composed of the following\n",
    "steps:\n",
    "\n",
    "- 1. Create a database that contains some matrices \n",
    "- 2. Run a code that achieves matrix diagonalizations and writes the eigenvalues and eigenvectors to files on disk\n",
    "- 3. Plot the results from the previous steps\n",
    "\n",
    "For this tutorial, the chosen example serves mainly demonstration purposes. However, to motivate our choices of\n",
    "tasks, one could imagine the following concrete use cases:\n",
    "\n",
    "- 1. Query and download atomic structures from a materials database via their API\n",
    "- 2. Run structure optimizations using Quantum Mechanical codes like QE (these, like many other numerical codes, run\n",
    "     many matrix diagonalizations)\n",
    "- 3. Visualize our results for a scientific publication\n",
    "\n",
    "Note that AiiDA was originally created for materials science applications, so we are aware that the examples reflect\n",
    "that. If you think of other use cases, feel free to implement them after this tutorial and let us know about them :star: \n",
    "\n",
    "Each of the steps of our workflow can be of arbitrary nature, e.g. an executable on your system, a shell script, Python code, etc.\n",
    "\n",
    "We provide those for the exemplary workflow outlined above as pre-compiled binaries. Their source code doesn't really\n",
    "matter. If you are interested, you can find the source code under the `data` directory.\n",
    "\n",
    "### `Computer`s and `Code`s\n",
    "\n",
    "Now, before we can start running stuff with AiiDA, we must first register the computational resources and executables we\n",
    "want to use for that purpose.\n",
    "\n",
    "The `verdi presto` command with which we created our profile automatically set up your local workstation as the\n",
    "`localhost` computer, which will suffice for this tutorial. To set up additional `Computer`s in the future,\n",
    "e.g. remote HPC resources, they will need to be registered in AiiDA, providing the necessary SSH and scheduler options.\n",
    "For further information, we refer to the [relevant section of the\n",
    "documentation](https://aiida.readthedocs.io/projects/aiida-core/en/stable/howto/run_codes.html#how-to-set-up-a-computer).\n",
    "Configuration files for some (mainly Swiss) HPC resources [here](https://github.com/aiidateam/aiida-code-registry) (PRs\n",
    "welcome!).\n",
    "\n",
    "We have now finally arrived at some Python code, so let's import the necessary modules, importantly the AiiDA ORM and engine:"
   ]
  },
  {
   "cell_type": "code",
   "execution_count": 19,
   "metadata": {
    "ExecuteTime": {
     "end_time": "2024-08-26T10:19:11.519473Z",
     "start_time": "2024-08-26T10:19:11.510640Z"
    }
   },
   "outputs": [],
   "source": [
    "from pathlib import Path\n",
    "import numpy as np\n",
    "from IPython.display import Image, display\n",
    "\n",
    "from aiida import orm\n",
    "from aiida.common.exceptions import NotExistent\n",
    "from aiida_shell.parsers import ShellParser\n",
    "from aiida.tools.visualization import Graph"
   ]
  },
  {
   "cell_type": "code",
   "execution_count": 20,
   "metadata": {
    "ExecuteTime": {
     "end_time": "2024-08-26T10:19:11.915361Z",
     "start_time": "2024-08-26T10:19:11.842073Z"
    }
   },
   "outputs": [
    {
     "name": "stdout",
     "output_type": "stream",
     "text": [
      "The aiida extension is already loaded. To reload it, use:\n",
      "  %reload_ext aiida\n"
     ]
    },
    {
     "data": {
      "application/json": {
       "current_state": "Loaded AiiDA DB environment - profile name: euro-scipy-2024."
      },
      "text/html": [
       "<p>Loaded AiiDA DB environment - profile name: euro-scipy-2024.</p>"
      ],
      "text/latex": [
       "Loaded AiiDA DB environment - profile name: euro-scipy-2024.\n"
      ],
      "text/plain": [
       "Loaded AiiDA DB environment - profile name: euro-scipy-2024.\n"
      ]
     },
     "execution_count": 20,
     "metadata": {},
     "output_type": "execute_result"
    }
   ],
   "source": [
    "%load_ext aiida\n",
    "%aiida"
   ]
  },
  {
   "cell_type": "code",
   "execution_count": 21,
   "metadata": {
    "ExecuteTime": {
     "end_time": "2024-08-26T10:19:12.248749Z",
     "start_time": "2024-08-26T10:19:12.240673Z"
    }
   },
   "outputs": [],
   "source": [
    "def provenance_graph(aiida_node):\n",
    "    graph = Graph()\n",
    "    graph.recurse_ancestors(aiida_node, annotate_links=\"both\")\n",
    "    graph.recurse_descendants(aiida_node, annotate_links=\"both\")\n",
    "    display(graph.graphviz)"
   ]
  },
  {
   "cell_type": "code",
   "execution_count": 22,
   "metadata": {
    "ExecuteTime": {
     "end_time": "2024-08-26T10:19:12.611276Z",
     "start_time": "2024-08-26T10:19:12.560119Z"
    }
   },
   "outputs": [
    {
     "name": "stdout",
     "output_type": "stream",
     "text": [
      "Loaded remote_query\n",
      "Loaded diagonalization\n",
      "Loaded plotting\n"
     ]
    }
   ],
   "source": [
    "required_codes = [\n",
    "    {\n",
    "        'label': 'remote_query',\n",
    "        'path': str(Path('../../data/euro-scipy-2024/diag-wf/remote_query.py').resolve()),\n",
    "        'description': 'Python code to query a remote resource and obtain matrix data.'\n",
    "    },\n",
    "    {\n",
    "        'label': 'diagonalization',\n",
    "        'path': str(Path('../../data/euro-scipy-2024/diag-wf/bin/default/diag').resolve()),\n",
    "        'description': 'External executable that can diagonalize a matrix.'\n",
    "    },\n",
    "    {\n",
    "        'label': 'plotting',\n",
    "        'path': str(Path('../../data/euro-scipy-2024/diag-wf/plot_eigvals.py').resolve()),\n",
    "        'description': 'Python script to plot the eigenvalues of the matrix diagonalization.'\n",
    "    }\n",
    "]\n",
    "\n",
    "loaded_codes = []\n",
    "\n",
    "for required_code in required_codes:\n",
    "    code_label = required_code['label']\n",
    "    code_path = required_code['path']\n",
    "    code_description = required_code['description']\n",
    "    \n",
    "    try:\n",
    "        code = orm.load_code(f'{code_label}@localhost')\n",
    "        print(f\"Loaded {code_label}\")\n",
    "    except NotExistent:\n",
    "        code = orm.InstalledCode(\n",
    "            computer=orm.load_computer('localhost'),\n",
    "            filepath_executable=code_path,\n",
    "            label=code_label,\n",
    "            description=code_description,\n",
    "            default_calc_job_plugin='core.shell',\n",
    "            prepend_text='export OMP_NUM_THREADS=1',\n",
    "            append_text='',\n",
    "            use_double_quotes=False,\n",
    "            with_mpi=False\n",
    "        ).store()\n",
    "        print(f\"Created and stored {code_label}\")\n",
    "    loaded_codes.append(code)\n",
    "\n",
    "query_code = loaded_codes[0]\n",
    "diag_code = loaded_codes[1]\n",
    "plot_code = loaded_codes[2]"
   ]
  },
  {
   "cell_type": "markdown",
   "metadata": {},
   "source": [
    "To create a `Code` in AiiDA, various settings are required:\n",
    "\n",
    "- First, the `Computer` where the code should be executed needs to be specified\n",
    "- The absolute path to the executable must be given, as well, and we have already added the correct path for the nanoHUB deployment\n",
    "- A label (to load the `Code` later on), and a description (optional) are also given\n",
    "- The interface how AiiDA interacts with the given executable\n",
    "- In addition, `append_text` and `prepend_text` can be added, and will appear in the submission script before and after\n",
    "  the actual call to the executable. This can be useful to load modules or set environment variables (as done here to\n",
    "  disable hyperthreading)\n",
    "- Lastly, Let's keep things simple and serial by disabling MPI via `with_mpi=False`\n",
    "\n",
    "Note that AiiDA's `verdi` command-line interface (CLI) is often used to set up a `Code` instance for a profile. To this end, the command:\n",
    "\n",
    "```shell\n",
    "verdi code create core.code.installed\n",
    "```\n",
    "\n",
    "needs to be run on the terminal and will ask you for all required options.\n",
    "\n",
    "For convenience, it is also possible to provide these options via a YAML configuration file using the `--config` flat,\n",
    "which can point either to a local file, or to a URL (e.g. on GitHub). The YAML configuration for our `remote_query`\n",
    "executable could have the following content:\n",
    "\n",
    "```yaml\n",
    "append_text: ''\n",
    "computer: localhost\n",
    "default_calc_job_plugin: core.shell\n",
    "description: ''\n",
    "filepath_executable: <absolute-path-to-remote_query>\n",
    "label: remote_query\n",
    "prepend_text: ''\n",
    "use_double_quotes: 'False'\n",
    "with_mpi: 'False'\n",
    "```\n",
    "\n",
    "After creating our `Code`, we can then see if everything works fine by running:"
   ]
  },
  {
   "cell_type": "code",
   "execution_count": 23,
   "metadata": {
    "ExecuteTime": {
     "end_time": "2024-08-26T10:19:13.237026Z",
     "start_time": "2024-08-26T10:19:12.982690Z"
    }
   },
   "outputs": [
    {
     "name": "stdout",
     "output_type": "stream",
     "text": [
      "\u001b[32m\u001b[1mSuccess: \u001b[0m\u001b[22mall tests succeeded.\u001b[0m\n",
      "\u001b[32m\u001b[1mSuccess: \u001b[0m\u001b[22mall tests succeeded.\u001b[0m\n",
      "\u001b[32m\u001b[1mSuccess: \u001b[0m\u001b[22mall tests succeeded.\u001b[0m\n"
     ]
    }
   ],
   "source": [
    "%verdi code test remote_query\n",
    "%verdi code test diagonalization\n",
    "%verdi code test plotting"
   ]
  },
  {
   "cell_type": "markdown",
   "metadata": {},
   "source": [
    "Now that we have successfully registered our codes, let's see how we can execute them through `aiida-shell`. For this\n",
    "purpose, we load the `launch_shell_job` function:"
   ]
  },
  {
   "cell_type": "code",
   "execution_count": 24,
   "metadata": {
    "ExecuteTime": {
     "end_time": "2024-08-26T10:19:13.601220Z",
     "start_time": "2024-08-26T10:19:13.595225Z"
    }
   },
   "outputs": [],
   "source": [
    "from aiida_shell import launch_shell_job"
   ]
  },
  {
   "cell_type": "markdown",
   "metadata": {},
   "source": [
    "To which we pass:\n",
    "\n",
    "- The loaded `Code` that we want to execute, and\n",
    "- The two required command line arguments, namely\n",
    "  - The path to the mocked external database from which we want to obtain data, and\n",
    "  - The matrix identifier (feel free to change that to a value between 0 and 100 to obtain different results)\n",
    "- Lastly, we also specify the output filename of the file that our executable will create (note that `stdout` and\n",
    "  `stderr` are automatically captured by `aiida-shell`)"
   ]
  },
  {
   "cell_type": "code",
   "execution_count": 25,
   "metadata": {
    "ExecuteTime": {
     "end_time": "2024-08-26T10:19:17.940220Z",
     "start_time": "2024-08-26T10:19:14.015565Z"
    }
   },
   "outputs": [],
   "source": [
    "db_path = str(Path('../../data/euro-scipy-2024/diag-wf/remote/matrices.db').resolve())\n",
    "matrix_pk = 0\n",
    "matrix_file = f'matrix-{matrix_pk}.npy'\n",
    "\n",
    "# 1. Query a remote database for data\n",
    "\n",
    "query_results, query_node = launch_shell_job(\n",
    "    query_code,\n",
    "    arguments=f'{db_path} {matrix_pk}',\n",
    "    outputs=[matrix_file]\n",
    ")"
   ]
  },
  {
   "cell_type": "markdown",
   "metadata": {},
   "source": [
    "That was simple, wasn't it?\n",
    "\n",
    "Now, `aiida-shell` allows us to pass the output of one job as the input of another job, so let's do that for the next\n",
    "step, and then unpack it:"
   ]
  },
  {
   "cell_type": "code",
   "execution_count": 26,
   "metadata": {
    "ExecuteTime": {
     "end_time": "2024-08-26T10:19:21.402299Z",
     "start_time": "2024-08-26T10:19:18.258459Z"
    }
   },
   "outputs": [],
   "source": [
    "# 2. Diagonalize \n",
    "\n",
    "eigvals_file = f'matrix-{matrix_pk}-eigvals.txt'\n",
    "matrix_file_link_label = ShellParser.format_link_label(matrix_file)\n",
    "\n",
    "diag_results, diag_node = launch_shell_job(\n",
    "    diag_code,\n",
    "    arguments='{matrix_file}',\n",
    "    nodes={\n",
    "        'matrix_file': query_results[matrix_file_link_label]\n",
    "    },\n",
    "    outputs = [eigvals_file]\n",
    ")"
   ]
  },
  {
   "cell_type": "code",
   "execution_count": 27,
   "metadata": {
    "ExecuteTime": {
     "end_time": "2024-08-26T10:19:27.237681Z",
     "start_time": "2024-08-26T10:19:21.717293Z"
    }
   },
   "outputs": [],
   "source": [
    "# 3. Plotting of the script\n",
    "\n",
    "plot_type = 'violin'\n",
    "figure_file = f'matrix-{matrix_pk}-eigvals-{plot_type}.png'\n",
    "eigvals_file_link_label = ShellParser.format_link_label(eigvals_file)\n",
    "\n",
    "plot_results, plot_node = launch_shell_job(\n",
    "    plot_code,\n",
    "    arguments='-i {eigenval_txt} -p {plot_type}',\n",
    "    nodes={\n",
    "        'eigenval_txt': diag_results[eigvals_file_link_label],\n",
    "        'plot_type': orm.Str(plot_type)\n",
    "    },\n",
    "    outputs = [figure_file]\n",
    ")"
   ]
  },
  {
   "cell_type": "code",
   "execution_count": 28,
   "metadata": {
    "ExecuteTime": {
     "end_time": "2024-08-26T10:19:27.739311Z",
     "start_time": "2024-08-26T10:19:27.584549Z"
    }
   },
   "outputs": [
    {
     "name": "stdout",
     "output_type": "stream",
     "text": [
      "\u001b[22m  PK  Created    Process label                        ♻    Process State    Process status\n",
      "----  ---------  -----------------------------------  ---  ---------------  ----------------\n",
      "   7  31m ago    ShellJob<remote_query@localhost>          ⏹ Finished [0]\n",
      "  15  31m ago    ShellJob<diagonalization@localhost>       ⏹ Finished [0]\n",
      "  24  31m ago    ShellJob<plotting@localhost>              ⏹ Finished [0]\n",
      "  32  31m ago    ShellJob<remote_query@localhost>          ⏹ Finished [0]\n",
      "  41  31m ago    ShellJob<diagonalization@localhost>       ⏹ Finished [0]\n",
      "  48  25m ago    WorkGraph<Run WG>                         ⏹ Finished [0]\n",
      "  52  25m ago    WorkGraph<Provenance restored>            ⏹ Finished [0]\n",
      "  53  25m ago    sleep_and_print_with_provenance           ⏹ Finished [0]\n",
      "  57  25m ago    WorkGraph<Linked data>                    ⏹ Finished [0]\n",
      "  58  25m ago    sleep_and_return                          ⏹ Finished [0]\n",
      "  72  24m ago    WorkGraph<Arbitrary WorkGraph>            ⏹ Finished [0]\n",
      "  73  24m ago    sleep_and_print_with_provenance           ⏹ Finished [0]\n",
      "  74  24m ago    sleep_and_print_with_provenance           ⏹ Finished [0]\n",
      "  75  24m ago    sleep_and_print_with_provenance           ⏹ Finished [0]\n",
      "  76  24m ago    sleep_and_print_with_provenance           ⏹ Finished [0]\n",
      "  77  24m ago    sleep_and_return                          ⏹ Finished [0]\n",
      "  79  24m ago    sleep_and_print_with_provenance           ⏹ Finished [0]\n",
      "  83  24m ago    WorkGraph<query_and_diag>                 ⏹ Finished [0]\n",
      "  88  24m ago    ShellJob<remote_query@localhost>          ⏹ Finished [0]\n",
      "  98  24m ago    ShellJob<diagonalization@localhost>       ⏹ Finished [0]\n",
      " 108  23m ago    WorkGraph<compute_eigvals_wg>             ⏹ Finished [0]\n",
      " 113  23m ago    ShellJob<remote_query@localhost>          ⏹ Finished [0]\n",
      " 123  23m ago    ShellJob<diagonalization@localhost>       ⏹ Finished [0]\n",
      " 130  23m ago    compute_mean                              ⏹ Finished [0]\n",
      " 133  16m ago    WorkGraph<Run WG>                         ⏹ Finished [0]\n",
      " 137  13m ago    WorkGraph<Provenance restored>            ⏹ Finished [0]\n",
      " 141  12m ago    WorkGraph<Provenance restored>            ⏹ Finished [0]\n",
      " 145  10m ago    WorkGraph<Linked data>                    ⏹ Finished [0]\n",
      " 150  8m ago     WorkGraph<Linked data>                    ⏹ Finished [0]\n",
      " 151  8m ago     sleep_and_return                          ⏹ Finished [0]\n",
      " 156  7m ago     WorkGraph<Linked data>                    ⏹ Finished [0]\n",
      " 157  7m ago     sleep_and_return                          ⏹ Finished [0]\n",
      " 162  6m ago     WorkGraph<Linked data>                    ⏹ Finished [0]\n",
      " 163  6m ago     sleep_and_return                          ⏹ Finished [0]\n",
      " 177  5m ago     WorkGraph<Arbitrary WorkGraph>            ⏹ Finished [0]\n",
      " 178  4m ago     sleep_and_return                          ⏹ Finished [0]\n",
      " 192  4m ago     WorkGraph<Arbitrary WorkGraph>            ⏹ Finished [0]\n",
      " 193  4m ago     sleep_and_return                          ⏹ Finished [0]\n",
      " 198  13s ago    ShellJob<remote_query@localhost>          ⏹ Finished [0]\n",
      " 206  9s ago     ShellJob<diagonalization@localhost>       ⏹ Finished [0]\n",
      " 215  5s ago     ShellJob<plotting@localhost>              ⏹ Finished [0]\u001b[0m\n",
      "\u001b[22m\n",
      "Total results: 41\n",
      "\u001b[0m\n",
      "\u001b[34m\u001b[1mReport\u001b[0m: \u001b[22m♻ Processes marked with check-mark were not run but taken from the cache.\u001b[0m\n",
      "\u001b[34m\u001b[1mReport\u001b[0m: \u001b[22mAdd the option `-P pk cached_from` to the command to display cache source.\u001b[0m\n",
      "\u001b[34m\u001b[1mReport\u001b[0m: \u001b[22mLast time an entry changed state: 0s ago (at 10:19:27 on 2024-08-26)\u001b[0m\n",
      "\u001b[93m\u001b[1mWarning\u001b[0m: \u001b[22mThis profile does not have a broker and so it has no daemon.\u001b[0m\n"
     ]
    }
   ],
   "source": [
    "%verdi process list -ap 1"
   ]
  },
  {
   "cell_type": "markdown",
   "metadata": {},
   "source": [
    "Normally while waiting, executing the command above will show processes in various states, for example first you would see this step by order:\n",
    "\n",
    "```bash \n",
    "# Step 1\n",
    "PK  Created    Process label                        ♻    Process State    Process status\n",
    "----  ---------  -----------------------------------  ---  ---------------  ----------------\n",
    "6  1s ago    ShellJob<remote_query@localhost>          ⏵ Waiting        Waiting for transport task: upload \n",
    "\n",
    "# Step 2\n",
    " PK  Created    Process label                        ♻    Process State    Process status\n",
    "----  ---------  -----------------------------------  ---  ---------------  ----------------\n",
    "6  2s ago    ShellJob<remote_query@localhost>          ⏵ Waiting        Waiting for transport task: submit\n",
    "\n",
    "# Step 3\n",
    "PK  Created    Process label                        ♻    Process State    Process status\n",
    "----  ---------  -----------------------------------  ---  ---------------  ----------------   \n",
    "6  3s ago    ShellJob<remote_query@localhost>          ⏵ Waiting        Monitoring scheduler: job state QUEUED\n",
    "\n",
    "# Step 4\n",
    "PK  Created    Process label                        ♻    Process State    Process status\n",
    "----  ---------  -----------------------------------  ---  ---------------  ----------------\n",
    "6  4s ago    ShellJob<remote_query@localhost>          ⏵ Waiting        Monitoring scheduler: job state RUNNING\n",
    "\n",
    "# Step 5\n",
    "PK  Created    Process label                        ♻    Process State    Process status\n",
    "----  ---------  -----------------------------------  ---  ---------------  ----------------\n",
    "6  5s ago    ShellJob<remote_query@localhost>          ⏵ Waiting        Waiting for transport task: retrieve\n",
    "\n",
    "# Step 6\n",
    "PK  Created    Process label                        ♻    Process State    Process status\n",
    "----  ---------  -----------------------------------  ---  ---------------  ----------------\n",
    "6  6s ago    ShellJob<remote_query@localhost>          ⏹ Finished [0]\n",
    "```\n",
    "\n",
    "During this tutorial, processes will always be in the `Finished [0]` state, as without the RabbitMQ dependency, we\n",
    "cannot `submit` them to the daemon in a non-blocking manner, but instead `run` them blockingly in the notebook cells."
   ]
  },
  {
   "cell_type": "markdown",
   "metadata": {},
   "source": [
    "Once all processes have (hopefully) finished successfully, we can visualize the final plotted result, as well as the\n",
    "provenance graph that AiiDA has created from the execution of our workflow:"
   ]
  },
  {
   "cell_type": "code",
   "execution_count": 29,
   "metadata": {
    "ExecuteTime": {
     "end_time": "2024-08-26T10:19:28.124520Z",
     "start_time": "2024-08-26T10:19:28.106798Z"
    }
   },
   "outputs": [
    {
     "data": {
      "image/png": "[encoded data removed]",
      "text/plain": [
       "<IPython.core.display.Image object>"
      ]
     },
     "metadata": {},
     "output_type": "display_data"
    }
   ],
   "source": [
    "# TODO use the ShellJob node plot_results\n",
    "display(Image(filename=Path(plot_node.get_remote_workdir()) / figure_file))"
   ]
  },
  {
   "cell_type": "code",
   "execution_count": 30,
   "metadata": {
    "ExecuteTime": {
     "end_time": "2024-08-26T10:19:28.591950Z",
     "start_time": "2024-08-26T10:19:28.330311Z"
    }
   },
   "outputs": [
    {
     "data": {
      "image/svg+xml": [
       "<?xml version=\"1.0\" encoding=\"UTF-8\" standalone=\"no\"?>\n",
       "<!DOCTYPE svg PUBLIC \"-//W3C//DTD SVG 1.1//EN\"\n",
       " \"http://www.w3.org/Graphics/SVG/1.1/DTD/svg11.dtd\">\n",
       "<!-- Generated by graphviz version 2.40.1 (20161225.0304)\n",
       " -->\n",
       "<!-- Title: %3 Pages: 1 -->\n",
       "<svg width=\"1094pt\" height=\"778pt\"\n",
       " viewBox=\"0.00 0.00 1094.35 777.96\" xmlns=\"http://www.w3.org/2000/svg\" xmlns:xlink=\"http://www.w3.org/1999/xlink\">\n",
       "<g id=\"graph0\" class=\"graph\" transform=\"scale(1 1) rotate(0) translate(4 773.9605)\">\n",
       "<title>%3</title>\n",
       "<polygon fill=\"#ffffff\" stroke=\"transparent\" points=\"-4,4 -4,-773.9605 1090.3539,-773.9605 1090.3539,4 -4,4\"/>\n",
       "<!-- N215 -->\n",
       "<g id=\"node1\" class=\"node\">\n",
       "<title>N215</title>\n",
       "<polygon fill=\"#de707f\" stroke=\"#ff0000\" stroke-width=\"6\" points=\"677.8442,-172.7401 461.8442,-172.7401 461.8442,-119.7401 677.8442,-119.7401 677.8442,-172.7401\"/>\n",
       "<text text-anchor=\"middle\" x=\"569.8442\" y=\"-157.5401\" font-family=\"Times,serif\" font-size=\"14.00\" fill=\"#000000\">ShellJob&lt;plotting@localhost&gt; (215)</text>\n",
       "<text text-anchor=\"middle\" x=\"569.8442\" y=\"-142.5401\" font-family=\"Times,serif\" font-size=\"14.00\" fill=\"#000000\">State: finished</text>\n",
       "<text text-anchor=\"middle\" x=\"569.8442\" y=\"-127.5401\" font-family=\"Times,serif\" font-size=\"14.00\" fill=\"#000000\">Exit Code: 0</text>\n",
       "</g>\n",
       "<!-- N216 -->\n",
       "<g id=\"node16\" class=\"node\">\n",
       "<title>N216</title>\n",
       "<ellipse fill=\"#8cd499\" stroke=\"#000000\" stroke-width=\"0\" cx=\"188.8442\" cy=\"-26.8701\" rx=\"83.3772\" ry=\"26.7407\"/>\n",
       "<text text-anchor=\"middle\" x=\"188.8442\" y=\"-30.6701\" font-family=\"Times,serif\" font-size=\"14.00\" fill=\"#000000\">RemoteData (216)</text>\n",
       "<text text-anchor=\"middle\" x=\"188.8442\" y=\"-15.6701\" font-family=\"Times,serif\" font-size=\"14.00\" fill=\"#000000\">@localhost</text>\n",
       "</g>\n",
       "<!-- N215&#45;&gt;N216 -->\n",
       "<g id=\"edge19\" class=\"edge\">\n",
       "<title>N215&#45;&gt;N216</title>\n",
       "<path fill=\"none\" stroke=\"#000000\" d=\"M461.6482,-127.8975C428.3012,-121.0537 391.72,-112.3202 358.8442,-101.7401 319.0286,-88.9267 275.922,-69.8794 243.0786,-54.2036\"/>\n",
       "<polygon fill=\"#000000\" stroke=\"#000000\" points=\"244.1937,-50.8559 233.6656,-49.6692 241.1558,-57.1624 244.1937,-50.8559\"/>\n",
       "<text text-anchor=\"middle\" x=\"397.8442\" y=\"-90.5401\" font-family=\"Times,serif\" font-size=\"14.00\" fill=\"#000000\">CREATE</text>\n",
       "<text text-anchor=\"middle\" x=\"397.8442\" y=\"-75.5401\" font-family=\"Times,serif\" font-size=\"14.00\" fill=\"#000000\">remote_folder</text>\n",
       "</g>\n",
       "<!-- N217 -->\n",
       "<g id=\"node17\" class=\"node\">\n",
       "<title>N217</title>\n",
       "<ellipse fill=\"#8cd499\" stroke=\"#000000\" stroke-width=\"0\" cx=\"361.8442\" cy=\"-26.8701\" rx=\"71.4873\" ry=\"18\"/>\n",
       "<text text-anchor=\"middle\" x=\"361.8442\" y=\"-23.1701\" font-family=\"Times,serif\" font-size=\"14.00\" fill=\"#000000\">FolderData (217)</text>\n",
       "</g>\n",
       "<!-- N215&#45;&gt;N217 -->\n",
       "<g id=\"edge18\" class=\"edge\">\n",
       "<title>N215&#45;&gt;N217</title>\n",
       "<path fill=\"none\" stroke=\"#000000\" d=\"M523.4238,-119.5997C486.1645,-98.2168 434.5073,-68.571 399.7183,-48.6058\"/>\n",
       "<polygon fill=\"#000000\" stroke=\"#000000\" points=\"401.2336,-45.44 390.8183,-43.4981 397.7493,-51.5113 401.2336,-45.44\"/>\n",
       "<text text-anchor=\"middle\" x=\"516.3442\" y=\"-90.5401\" font-family=\"Times,serif\" font-size=\"14.00\" fill=\"#000000\">CREATE</text>\n",
       "<text text-anchor=\"middle\" x=\"516.3442\" y=\"-75.5401\" font-family=\"Times,serif\" font-size=\"14.00\" fill=\"#000000\">retrieved</text>\n",
       "</g>\n",
       "<!-- N218 -->\n",
       "<g id=\"node18\" class=\"node\">\n",
       "<title>N218</title>\n",
       "<ellipse fill=\"#8cd499\" stroke=\"#000000\" stroke-width=\"0\" cx=\"569.8442\" cy=\"-26.8701\" rx=\"118.1737\" ry=\"26.7407\"/>\n",
       "<text text-anchor=\"middle\" x=\"569.8442\" y=\"-30.6701\" font-family=\"Times,serif\" font-size=\"14.00\" fill=\"#000000\">SinglefileData (218)</text>\n",
       "<text text-anchor=\"middle\" x=\"569.8442\" y=\"-15.6701\" font-family=\"Times,serif\" font-size=\"14.00\" fill=\"#000000\">matrix&#45;0&#45;eigvals&#45;violin.png</text>\n",
       "</g>\n",
       "<!-- N215&#45;&gt;N218 -->\n",
       "<g id=\"edge16\" class=\"edge\">\n",
       "<title>N215&#45;&gt;N218</title>\n",
       "<path fill=\"none\" stroke=\"#000000\" d=\"M569.8442,-119.4511C569.8442,-103.1321 569.8442,-82.0416 569.8442,-64.1132\"/>\n",
       "<polygon fill=\"#000000\" stroke=\"#000000\" points=\"573.3443,-63.9826 569.8442,-53.9826 566.3443,-63.9827 573.3443,-63.9826\"/>\n",
       "<text text-anchor=\"middle\" x=\"649.8442\" y=\"-90.5401\" font-family=\"Times,serif\" font-size=\"14.00\" fill=\"#000000\">CREATE</text>\n",
       "<text text-anchor=\"middle\" x=\"649.8442\" y=\"-75.5401\" font-family=\"Times,serif\" font-size=\"14.00\" fill=\"#000000\">matrix_0_eigvals_violin_png</text>\n",
       "</g>\n",
       "<!-- N219 -->\n",
       "<g id=\"node19\" class=\"node\">\n",
       "<title>N219</title>\n",
       "<ellipse fill=\"#8cd499\" stroke=\"#000000\" stroke-width=\"0\" cx=\"796.8442\" cy=\"-26.8701\" rx=\"90.5193\" ry=\"26.7407\"/>\n",
       "<text text-anchor=\"middle\" x=\"796.8442\" y=\"-30.6701\" font-family=\"Times,serif\" font-size=\"14.00\" fill=\"#000000\">SinglefileData (219)</text>\n",
       "<text text-anchor=\"middle\" x=\"796.8442\" y=\"-15.6701\" font-family=\"Times,serif\" font-size=\"14.00\" fill=\"#000000\">stderr</text>\n",
       "</g>\n",
       "<!-- N215&#45;&gt;N219 -->\n",
       "<g id=\"edge17\" class=\"edge\">\n",
       "<title>N215&#45;&gt;N219</title>\n",
       "<path fill=\"none\" stroke=\"#000000\" d=\"M677.9188,-126.9551C697.4366,-120.7335 716.9344,-112.534 733.8442,-101.7401 749.8839,-91.5016 763.9489,-75.8884 774.6963,-61.5644\"/>\n",
       "<polygon fill=\"#000000\" stroke=\"#000000\" points=\"777.6235,-63.489 780.6307,-53.3299 771.9445,-59.3963 777.6235,-63.489\"/>\n",
       "<text text-anchor=\"middle\" x=\"791.3442\" y=\"-90.5401\" font-family=\"Times,serif\" font-size=\"14.00\" fill=\"#000000\">CREATE</text>\n",
       "<text text-anchor=\"middle\" x=\"791.3442\" y=\"-75.5401\" font-family=\"Times,serif\" font-size=\"14.00\" fill=\"#000000\">stderr</text>\n",
       "</g>\n",
       "<!-- N220 -->\n",
       "<g id=\"node20\" class=\"node\">\n",
       "<title>N220</title>\n",
       "<ellipse fill=\"#8cd499\" stroke=\"#000000\" stroke-width=\"0\" cx=\"995.8442\" cy=\"-26.8701\" rx=\"90.5193\" ry=\"26.7407\"/>\n",
       "<text text-anchor=\"middle\" x=\"995.8442\" y=\"-30.6701\" font-family=\"Times,serif\" font-size=\"14.00\" fill=\"#000000\">SinglefileData (220)</text>\n",
       "<text text-anchor=\"middle\" x=\"995.8442\" y=\"-15.6701\" font-family=\"Times,serif\" font-size=\"14.00\" fill=\"#000000\">stdout</text>\n",
       "</g>\n",
       "<!-- N215&#45;&gt;N220 -->\n",
       "<g id=\"edge15\" class=\"edge\">\n",
       "<title>N215&#45;&gt;N220</title>\n",
       "<path fill=\"none\" stroke=\"#000000\" d=\"M678.1096,-132.7472C723.118,-125.6938 775.5551,-115.5817 821.8442,-101.7401 862.8841,-89.4681 907.2069,-70.3017 940.8474,-54.4337\"/>\n",
       "<polygon fill=\"#000000\" stroke=\"#000000\" points=\"942.5182,-57.5147 950.0409,-50.054 939.5076,-51.1951 942.5182,-57.5147\"/>\n",
       "<text text-anchor=\"middle\" x=\"925.3442\" y=\"-90.5401\" font-family=\"Times,serif\" font-size=\"14.00\" fill=\"#000000\">CREATE</text>\n",
       "<text text-anchor=\"middle\" x=\"925.3442\" y=\"-75.5401\" font-family=\"Times,serif\" font-size=\"14.00\" fill=\"#000000\">stdout</text>\n",
       "</g>\n",
       "<!-- N2 -->\n",
       "<g id=\"node2\" class=\"node\">\n",
       "<title>N2</title>\n",
       "<ellipse fill=\"#8cd499\" stroke=\"#000000\" stroke-width=\"0\" cx=\"162.8442\" cy=\"-743.0904\" rx=\"108.789\" ry=\"26.7407\"/>\n",
       "<text text-anchor=\"middle\" x=\"162.8442\" y=\"-746.8904\" font-family=\"Times,serif\" font-size=\"14.00\" fill=\"#000000\">InstalledCode (2)</text>\n",
       "<text text-anchor=\"middle\" x=\"162.8442\" y=\"-731.8904\" font-family=\"Times,serif\" font-size=\"14.00\" fill=\"#000000\">remote_query@localhost</text>\n",
       "</g>\n",
       "<!-- N198 -->\n",
       "<g id=\"node7\" class=\"node\">\n",
       "<title>N198</title>\n",
       "<polygon fill=\"#de707f\" stroke=\"#000000\" stroke-width=\"0\" points=\"460.8442,-650.2203 210.8442,-650.2203 210.8442,-597.2203 460.8442,-597.2203 460.8442,-650.2203\"/>\n",
       "<text text-anchor=\"middle\" x=\"335.8442\" y=\"-635.0203\" font-family=\"Times,serif\" font-size=\"14.00\" fill=\"#000000\">ShellJob&lt;remote_query@localhost&gt; (198)</text>\n",
       "<text text-anchor=\"middle\" x=\"335.8442\" y=\"-620.0203\" font-family=\"Times,serif\" font-size=\"14.00\" fill=\"#000000\">State: finished</text>\n",
       "<text text-anchor=\"middle\" x=\"335.8442\" y=\"-605.0203\" font-family=\"Times,serif\" font-size=\"14.00\" fill=\"#000000\">Exit Code: 0</text>\n",
       "</g>\n",
       "<!-- N2&#45;&gt;N198 -->\n",
       "<g id=\"edge4\" class=\"edge\">\n",
       "<title>N2&#45;&gt;N198</title>\n",
       "<path fill=\"none\" stroke=\"#000000\" d=\"M189.3434,-717.0088C205.6817,-701.7173 227.5258,-682.6355 248.8442,-668.2203 255.4649,-663.7435 262.5951,-659.4074 269.823,-655.3118\"/>\n",
       "<polygon fill=\"#000000\" stroke=\"#000000\" points=\"271.9271,-658.1489 278.9997,-650.2603 268.5514,-652.0166 271.9271,-658.1489\"/>\n",
       "<text text-anchor=\"middle\" x=\"290.3442\" y=\"-687.0203\" font-family=\"Times,serif\" font-size=\"14.00\" fill=\"#000000\">INPUT_CALC</text>\n",
       "<text text-anchor=\"middle\" x=\"290.3442\" y=\"-672.0203\" font-family=\"Times,serif\" font-size=\"14.00\" fill=\"#000000\">code</text>\n",
       "</g>\n",
       "<!-- N3 -->\n",
       "<g id=\"node3\" class=\"node\">\n",
       "<title>N3</title>\n",
       "<ellipse fill=\"#8cd499\" stroke=\"#000000\" stroke-width=\"0\" cx=\"113.8442\" cy=\"-504.3503\" rx=\"113.6886\" ry=\"26.7407\"/>\n",
       "<text text-anchor=\"middle\" x=\"113.8442\" y=\"-508.1503\" font-family=\"Times,serif\" font-size=\"14.00\" fill=\"#000000\">InstalledCode (3)</text>\n",
       "<text text-anchor=\"middle\" x=\"113.8442\" y=\"-493.1503\" font-family=\"Times,serif\" font-size=\"14.00\" fill=\"#000000\">diagonalization@localhost</text>\n",
       "</g>\n",
       "<!-- N206 -->\n",
       "<g id=\"node11\" class=\"node\">\n",
       "<title>N206</title>\n",
       "<polygon fill=\"#de707f\" stroke=\"#000000\" stroke-width=\"0\" points=\"554.3442,-411.4802 297.3442,-411.4802 297.3442,-358.4802 554.3442,-358.4802 554.3442,-411.4802\"/>\n",
       "<text text-anchor=\"middle\" x=\"425.8442\" y=\"-396.2802\" font-family=\"Times,serif\" font-size=\"14.00\" fill=\"#000000\">ShellJob&lt;diagonalization@localhost&gt; (206)</text>\n",
       "<text text-anchor=\"middle\" x=\"425.8442\" y=\"-381.2802\" font-family=\"Times,serif\" font-size=\"14.00\" fill=\"#000000\">State: finished</text>\n",
       "<text text-anchor=\"middle\" x=\"425.8442\" y=\"-366.2802\" font-family=\"Times,serif\" font-size=\"14.00\" fill=\"#000000\">Exit Code: 0</text>\n",
       "</g>\n",
       "<!-- N3&#45;&gt;N206 -->\n",
       "<g id=\"edge1\" class=\"edge\">\n",
       "<title>N3&#45;&gt;N206</title>\n",
       "<path fill=\"none\" stroke=\"#000000\" d=\"M153.2906,-479.1029C179.7571,-463.0624 215.8674,-442.8719 249.8442,-429.4802 263.9152,-423.9343 278.8954,-418.9039 293.9494,-414.3906\"/>\n",
       "<polygon fill=\"#000000\" stroke=\"#000000\" points=\"295.227,-417.6637 303.8438,-411.4992 293.2635,-410.9447 295.227,-417.6637\"/>\n",
       "<text text-anchor=\"middle\" x=\"291.3442\" y=\"-448.2802\" font-family=\"Times,serif\" font-size=\"14.00\" fill=\"#000000\">INPUT_CALC</text>\n",
       "<text text-anchor=\"middle\" x=\"291.3442\" y=\"-433.2802\" font-family=\"Times,serif\" font-size=\"14.00\" fill=\"#000000\">code</text>\n",
       "</g>\n",
       "<!-- N4 -->\n",
       "<g id=\"node4\" class=\"node\">\n",
       "<title>N4</title>\n",
       "<ellipse fill=\"#8cd499\" stroke=\"#000000\" stroke-width=\"0\" cx=\"232.8442\" cy=\"-265.6102\" rx=\"84.7059\" ry=\"26.7407\"/>\n",
       "<text text-anchor=\"middle\" x=\"232.8442\" y=\"-269.4102\" font-family=\"Times,serif\" font-size=\"14.00\" fill=\"#000000\">InstalledCode (4)</text>\n",
       "<text text-anchor=\"middle\" x=\"232.8442\" y=\"-254.4102\" font-family=\"Times,serif\" font-size=\"14.00\" fill=\"#000000\">plotting@localhost</text>\n",
       "</g>\n",
       "<!-- N4&#45;&gt;N215 -->\n",
       "<g id=\"edge13\" class=\"edge\">\n",
       "<title>N4&#45;&gt;N215</title>\n",
       "<path fill=\"none\" stroke=\"#000000\" d=\"M264.2178,-240.471C286.3651,-223.9483 317.4047,-203.1624 347.8442,-190.7401 380.3891,-177.4586 417.2851,-168.026 451.5216,-161.3741\"/>\n",
       "<polygon fill=\"#000000\" stroke=\"#000000\" points=\"452.3944,-164.7714 461.5758,-159.4844 451.1014,-157.8918 452.3944,-164.7714\"/>\n",
       "<text text-anchor=\"middle\" x=\"389.3442\" y=\"-209.5401\" font-family=\"Times,serif\" font-size=\"14.00\" fill=\"#000000\">INPUT_CALC</text>\n",
       "<text text-anchor=\"middle\" x=\"389.3442\" y=\"-194.5401\" font-family=\"Times,serif\" font-size=\"14.00\" fill=\"#000000\">code</text>\n",
       "</g>\n",
       "<!-- N196 -->\n",
       "<g id=\"node5\" class=\"node\">\n",
       "<title>N196</title>\n",
       "<ellipse fill=\"#8cd499\" stroke=\"#000000\" stroke-width=\"0\" cx=\"335.8442\" cy=\"-743.0904\" rx=\"46.2923\" ry=\"18\"/>\n",
       "<text text-anchor=\"middle\" x=\"335.8442\" y=\"-739.3904\" font-family=\"Times,serif\" font-size=\"14.00\" fill=\"#000000\">List (196)</text>\n",
       "</g>\n",
       "<!-- N196&#45;&gt;N198 -->\n",
       "<g id=\"edge12\" class=\"edge\">\n",
       "<title>N196&#45;&gt;N198</title>\n",
       "<path fill=\"none\" stroke=\"#000000\" d=\"M335.8442,-724.9607C335.8442,-707.9215 335.8442,-681.9122 335.8442,-660.523\"/>\n",
       "<polygon fill=\"#000000\" stroke=\"#000000\" points=\"339.3443,-660.4535 335.8442,-650.4536 332.3443,-660.4536 339.3443,-660.4535\"/>\n",
       "<text text-anchor=\"middle\" x=\"377.3442\" y=\"-687.0203\" font-family=\"Times,serif\" font-size=\"14.00\" fill=\"#000000\">INPUT_CALC</text>\n",
       "<text text-anchor=\"middle\" x=\"377.3442\" y=\"-672.0203\" font-family=\"Times,serif\" font-size=\"14.00\" fill=\"#000000\">arguments</text>\n",
       "</g>\n",
       "<!-- N197 -->\n",
       "<g id=\"node6\" class=\"node\">\n",
       "<title>N197</title>\n",
       "<ellipse fill=\"#8cd499\" stroke=\"#000000\" stroke-width=\"0\" cx=\"445.8442\" cy=\"-743.0904\" rx=\"46.2923\" ry=\"18\"/>\n",
       "<text text-anchor=\"middle\" x=\"445.8442\" y=\"-739.3904\" font-family=\"Times,serif\" font-size=\"14.00\" fill=\"#000000\">List (197)</text>\n",
       "</g>\n",
       "<!-- N197&#45;&gt;N198 -->\n",
       "<g id=\"edge7\" class=\"edge\">\n",
       "<title>N197&#45;&gt;N198</title>\n",
       "<path fill=\"none\" stroke=\"#000000\" d=\"M444.2544,-724.8645C441.9644,-708.4082 436.3902,-684.3674 422.8442,-668.2203 419.2324,-663.915 415.0986,-659.9787 410.6384,-656.3881\"/>\n",
       "<polygon fill=\"#000000\" stroke=\"#000000\" points=\"412.4386,-653.3687 402.2999,-650.2934 408.3079,-659.02 412.4386,-653.3687\"/>\n",
       "<text text-anchor=\"middle\" x=\"479.3442\" y=\"-687.0203\" font-family=\"Times,serif\" font-size=\"14.00\" fill=\"#000000\">INPUT_CALC</text>\n",
       "<text text-anchor=\"middle\" x=\"479.3442\" y=\"-672.0203\" font-family=\"Times,serif\" font-size=\"14.00\" fill=\"#000000\">outputs</text>\n",
       "</g>\n",
       "<!-- N201 -->\n",
       "<g id=\"node8\" class=\"node\">\n",
       "<title>N201</title>\n",
       "<ellipse fill=\"#8cd499\" stroke=\"#000000\" stroke-width=\"0\" cx=\"335.8442\" cy=\"-504.3503\" rx=\"90.5193\" ry=\"26.7407\"/>\n",
       "<text text-anchor=\"middle\" x=\"335.8442\" y=\"-508.1503\" font-family=\"Times,serif\" font-size=\"14.00\" fill=\"#000000\">SinglefileData (201)</text>\n",
       "<text text-anchor=\"middle\" x=\"335.8442\" y=\"-493.1503\" font-family=\"Times,serif\" font-size=\"14.00\" fill=\"#000000\">matrix&#45;0.npy</text>\n",
       "</g>\n",
       "<!-- N198&#45;&gt;N201 -->\n",
       "<g id=\"edge9\" class=\"edge\">\n",
       "<title>N198&#45;&gt;N201</title>\n",
       "<path fill=\"none\" stroke=\"#000000\" d=\"M335.8442,-596.9314C335.8442,-580.6124 335.8442,-559.5219 335.8442,-541.5935\"/>\n",
       "<polygon fill=\"#000000\" stroke=\"#000000\" points=\"339.3443,-541.4628 335.8442,-531.4629 332.3443,-541.4629 339.3443,-541.4628\"/>\n",
       "<text text-anchor=\"middle\" x=\"374.3442\" y=\"-568.0203\" font-family=\"Times,serif\" font-size=\"14.00\" fill=\"#000000\">CREATE</text>\n",
       "<text text-anchor=\"middle\" x=\"374.3442\" y=\"-553.0203\" font-family=\"Times,serif\" font-size=\"14.00\" fill=\"#000000\">matrix_0_npy</text>\n",
       "</g>\n",
       "<!-- N201&#45;&gt;N206 -->\n",
       "<g id=\"edge8\" class=\"edge\">\n",
       "<title>N201&#45;&gt;N206</title>\n",
       "<path fill=\"none\" stroke=\"#000000\" d=\"M335.0956,-477.3009C335.9294,-462.0453 339.1794,-443.3277 348.8442,-429.4802 351.6775,-425.4208 355.0089,-421.6801 358.6692,-418.2421\"/>\n",
       "<polygon fill=\"#000000\" stroke=\"#000000\" points=\"361.1732,-420.7103 366.5902,-411.605 356.6773,-415.3448 361.1732,-420.7103\"/>\n",
       "<text text-anchor=\"middle\" x=\"401.8442\" y=\"-448.2802\" font-family=\"Times,serif\" font-size=\"14.00\" fill=\"#000000\">INPUT_CALC</text>\n",
       "<text text-anchor=\"middle\" x=\"401.8442\" y=\"-433.2802\" font-family=\"Times,serif\" font-size=\"14.00\" fill=\"#000000\">nodes__matrix_file</text>\n",
       "</g>\n",
       "<!-- N204 -->\n",
       "<g id=\"node9\" class=\"node\">\n",
       "<title>N204</title>\n",
       "<ellipse fill=\"#8cd499\" stroke=\"#000000\" stroke-width=\"0\" cx=\"490.8442\" cy=\"-504.3503\" rx=\"46.2923\" ry=\"18\"/>\n",
       "<text text-anchor=\"middle\" x=\"490.8442\" y=\"-500.6503\" font-family=\"Times,serif\" font-size=\"14.00\" fill=\"#000000\">List (204)</text>\n",
       "</g>\n",
       "<!-- N204&#45;&gt;N206 -->\n",
       "<g id=\"edge6\" class=\"edge\">\n",
       "<title>N204&#45;&gt;N206</title>\n",
       "<path fill=\"none\" stroke=\"#000000\" d=\"M484.4722,-486.2398C478.6928,-470.7151 469.4685,-447.9932 458.8442,-429.4802 457.013,-426.2894 454.9923,-423.0586 452.8796,-419.8711\"/>\n",
       "<polygon fill=\"#000000\" stroke=\"#000000\" points=\"455.7134,-417.8155 447.1394,-411.5916 449.9608,-421.8039 455.7134,-417.8155\"/>\n",
       "<text text-anchor=\"middle\" x=\"513.3442\" y=\"-448.2802\" font-family=\"Times,serif\" font-size=\"14.00\" fill=\"#000000\">INPUT_CALC</text>\n",
       "<text text-anchor=\"middle\" x=\"513.3442\" y=\"-433.2802\" font-family=\"Times,serif\" font-size=\"14.00\" fill=\"#000000\">arguments</text>\n",
       "</g>\n",
       "<!-- N205 -->\n",
       "<g id=\"node10\" class=\"node\">\n",
       "<title>N205</title>\n",
       "<ellipse fill=\"#8cd499\" stroke=\"#000000\" stroke-width=\"0\" cx=\"600.8442\" cy=\"-504.3503\" rx=\"46.2923\" ry=\"18\"/>\n",
       "<text text-anchor=\"middle\" x=\"600.8442\" y=\"-500.6503\" font-family=\"Times,serif\" font-size=\"14.00\" fill=\"#000000\">List (205)</text>\n",
       "</g>\n",
       "<!-- N205&#45;&gt;N206 -->\n",
       "<g id=\"edge10\" class=\"edge\">\n",
       "<title>N205&#45;&gt;N206</title>\n",
       "<path fill=\"none\" stroke=\"#000000\" d=\"M595.0681,-486.4346C588.7336,-469.4929 576.9872,-444.4916 558.8442,-429.4802 553.0404,-424.6782 546.697,-420.3869 540.0291,-416.5531\"/>\n",
       "<polygon fill=\"#000000\" stroke=\"#000000\" points=\"541.2258,-413.2245 530.7557,-411.6036 537.9298,-419.4 541.2258,-413.2245\"/>\n",
       "<text text-anchor=\"middle\" x=\"623.3442\" y=\"-448.2802\" font-family=\"Times,serif\" font-size=\"14.00\" fill=\"#000000\">INPUT_CALC</text>\n",
       "<text text-anchor=\"middle\" x=\"623.3442\" y=\"-433.2802\" font-family=\"Times,serif\" font-size=\"14.00\" fill=\"#000000\">outputs</text>\n",
       "</g>\n",
       "<!-- N209 -->\n",
       "<g id=\"node12\" class=\"node\">\n",
       "<title>N209</title>\n",
       "<ellipse fill=\"#8cd499\" stroke=\"#000000\" stroke-width=\"0\" cx=\"425.8442\" cy=\"-265.6102\" rx=\"90.5193\" ry=\"26.7407\"/>\n",
       "<text text-anchor=\"middle\" x=\"425.8442\" y=\"-269.4102\" font-family=\"Times,serif\" font-size=\"14.00\" fill=\"#000000\">SinglefileData (209)</text>\n",
       "<text text-anchor=\"middle\" x=\"425.8442\" y=\"-254.4102\" font-family=\"Times,serif\" font-size=\"14.00\" fill=\"#000000\">matrix&#45;0&#45;eigvals.txt</text>\n",
       "</g>\n",
       "<!-- N206&#45;&gt;N209 -->\n",
       "<g id=\"edge3\" class=\"edge\">\n",
       "<title>N206&#45;&gt;N209</title>\n",
       "<path fill=\"none\" stroke=\"#000000\" d=\"M425.8442,-358.1913C425.8442,-341.8722 425.8442,-320.7818 425.8442,-302.8533\"/>\n",
       "<polygon fill=\"#000000\" stroke=\"#000000\" points=\"429.3443,-302.7227 425.8442,-292.7227 422.3443,-302.7228 429.3443,-302.7227\"/>\n",
       "<text text-anchor=\"middle\" x=\"483.8442\" y=\"-329.2802\" font-family=\"Times,serif\" font-size=\"14.00\" fill=\"#000000\">CREATE</text>\n",
       "<text text-anchor=\"middle\" x=\"483.8442\" y=\"-314.2802\" font-family=\"Times,serif\" font-size=\"14.00\" fill=\"#000000\">matrix_0_eigvals_txt</text>\n",
       "</g>\n",
       "<!-- N209&#45;&gt;N215 -->\n",
       "<g id=\"edge11\" class=\"edge\">\n",
       "<title>N209&#45;&gt;N215</title>\n",
       "<path fill=\"none\" stroke=\"#000000\" d=\"M429.7945,-238.7249C433.3834,-222.9526 440.1562,-203.65 452.8442,-190.7401 457.3427,-186.1629 462.3603,-182.0496 467.7174,-178.3539\"/>\n",
       "<polygon fill=\"#000000\" stroke=\"#000000\" points=\"469.7986,-181.1793 476.3892,-172.8838 466.0639,-175.2588 469.7986,-181.1793\"/>\n",
       "<text text-anchor=\"middle\" x=\"508.8442\" y=\"-209.5401\" font-family=\"Times,serif\" font-size=\"14.00\" fill=\"#000000\">INPUT_CALC</text>\n",
       "<text text-anchor=\"middle\" x=\"508.8442\" y=\"-194.5401\" font-family=\"Times,serif\" font-size=\"14.00\" fill=\"#000000\">nodes__eigenval_txt</text>\n",
       "</g>\n",
       "<!-- N212 -->\n",
       "<g id=\"node13\" class=\"node\">\n",
       "<title>N212</title>\n",
       "<ellipse fill=\"#8cd499\" stroke=\"#000000\" stroke-width=\"0\" cx=\"576.8442\" cy=\"-265.6102\" rx=\"42.4939\" ry=\"18\"/>\n",
       "<text text-anchor=\"middle\" x=\"576.8442\" y=\"-261.9102\" font-family=\"Times,serif\" font-size=\"14.00\" fill=\"#000000\">Str (212)</text>\n",
       "</g>\n",
       "<!-- N212&#45;&gt;N215 -->\n",
       "<g id=\"edge5\" class=\"edge\">\n",
       "<title>N212&#45;&gt;N215</title>\n",
       "<path fill=\"none\" stroke=\"#000000\" d=\"M573.8955,-247.3235C572.7166,-239.2047 571.4877,-229.5189 570.8442,-220.7401 569.9445,-208.4674 569.5754,-195.028 569.4668,-182.9837\"/>\n",
       "<polygon fill=\"#000000\" stroke=\"#000000\" points=\"572.9663,-182.8107 569.4316,-172.8229 565.9663,-182.835 572.9663,-182.8107\"/>\n",
       "<text text-anchor=\"middle\" x=\"619.3442\" y=\"-209.5401\" font-family=\"Times,serif\" font-size=\"14.00\" fill=\"#000000\">INPUT_CALC</text>\n",
       "<text text-anchor=\"middle\" x=\"619.3442\" y=\"-194.5401\" font-family=\"Times,serif\" font-size=\"14.00\" fill=\"#000000\">nodes__plot_type</text>\n",
       "</g>\n",
       "<!-- N213 -->\n",
       "<g id=\"node14\" class=\"node\">\n",
       "<title>N213</title>\n",
       "<ellipse fill=\"#8cd499\" stroke=\"#000000\" stroke-width=\"0\" cx=\"689.8442\" cy=\"-265.6102\" rx=\"46.2923\" ry=\"18\"/>\n",
       "<text text-anchor=\"middle\" x=\"689.8442\" y=\"-261.9102\" font-family=\"Times,serif\" font-size=\"14.00\" fill=\"#000000\">List (213)</text>\n",
       "</g>\n",
       "<!-- N213&#45;&gt;N215 -->\n",
       "<g id=\"edge2\" class=\"edge\">\n",
       "<title>N213&#45;&gt;N215</title>\n",
       "<path fill=\"none\" stroke=\"#000000\" d=\"M688.7401,-247.5667C686.841,-231.0079 681.7032,-206.6963 667.8442,-190.7401 663.9978,-186.3117 659.6213,-182.3003 654.9024,-178.6701\"/>\n",
       "<polygon fill=\"#000000\" stroke=\"#000000\" points=\"656.8717,-175.7764 646.6707,-172.9144 652.8604,-181.5131 656.8717,-175.7764\"/>\n",
       "<text text-anchor=\"middle\" x=\"724.3442\" y=\"-209.5401\" font-family=\"Times,serif\" font-size=\"14.00\" fill=\"#000000\">INPUT_CALC</text>\n",
       "<text text-anchor=\"middle\" x=\"724.3442\" y=\"-194.5401\" font-family=\"Times,serif\" font-size=\"14.00\" fill=\"#000000\">arguments</text>\n",
       "</g>\n",
       "<!-- N214 -->\n",
       "<g id=\"node15\" class=\"node\">\n",
       "<title>N214</title>\n",
       "<ellipse fill=\"#8cd499\" stroke=\"#000000\" stroke-width=\"0\" cx=\"799.8442\" cy=\"-265.6102\" rx=\"46.2923\" ry=\"18\"/>\n",
       "<text text-anchor=\"middle\" x=\"799.8442\" y=\"-261.9102\" font-family=\"Times,serif\" font-size=\"14.00\" fill=\"#000000\">List (214)</text>\n",
       "</g>\n",
       "<!-- N214&#45;&gt;N215 -->\n",
       "<g id=\"edge14\" class=\"edge\">\n",
       "<title>N214&#45;&gt;N215</title>\n",
       "<path fill=\"none\" stroke=\"#000000\" d=\"M797.4334,-247.3931C794.1804,-230.2279 786.7044,-205.066 769.8442,-190.7401 756.4022,-179.3186 723.3586,-170.068 687.9184,-163.0203\"/>\n",
       "<polygon fill=\"#000000\" stroke=\"#000000\" points=\"688.3539,-159.54 677.8732,-161.0909 687.0335,-166.4144 688.3539,-159.54\"/>\n",
       "<text text-anchor=\"middle\" x=\"830.3442\" y=\"-209.5401\" font-family=\"Times,serif\" font-size=\"14.00\" fill=\"#000000\">INPUT_CALC</text>\n",
       "<text text-anchor=\"middle\" x=\"830.3442\" y=\"-194.5401\" font-family=\"Times,serif\" font-size=\"14.00\" fill=\"#000000\">outputs</text>\n",
       "</g>\n",
       "</g>\n",
       "</svg>\n"
      ],
      "text/plain": [
       "<graphviz.graphs.Digraph at 0x7ff1000441c0>"
      ]
     },
     "metadata": {},
     "output_type": "display_data"
    }
   ],
   "source": [
    "provenance_graph(plot_node)"
   ]
  },
  {
   "cell_type": "markdown",
   "metadata": {
    "vscode": {
     "languageId": "raw"
    }
   },
   "source": [
    "## Interlude: More `verdi` commands\n",
    "\n",
    "AiiDA provides many useful `verdi` commands to interact with your processes and data. Some of which are listed in the\n",
    "[AiiDA cheatsheet](https://aiida.readthedocs.io/projects/aiida-core/en/stable/reference/cheatsheet.html).\n",
    "\n",
    "As you've seen, `verdi process list -a` shows you all processes (optionally including a time filter with `-p` for *past-days*).\n",
    "\n",
    "The command:\n",
    "\n",
    "```shell\n",
    "verdi calcjob gotocomputer <pk>\n",
    "```\n",
    "\n",
    "will take you the working directory of the process with the pk `<pk>` (performing a `cd` command if you run locally, and\n",
    "ssh-ing into the remote computer if you run remotely).\n",
    "\n",
    "Alternatively, to extract all the files involved in the execution of a workflow to your local disk, you can run:\n",
    "```shell\n",
    "verdi process dump <pk>\n",
    "```\n",
    "\n",
    "Remember to replace <pk> with the actual `pk` of your process. E.g. for the `diagonalization` task from above, you will\n",
    "see that a new folder named `dump-ShellJob<diagonalization@localhost>-<pk>` will be created in the current working\n",
    "directory "
   ]
  },
  {
   "cell_type": "markdown",
   "metadata": {},
   "source": [
    "## Custom parsing of your results\n",
    "\n",
    "When running your matrix diagonalization, you might not want to only obtain the output file with the eigenvalues, but\n",
    "actually retrieve them as Python objects, so that you can the directly operate on them. This can be achieved in\n",
    "`aiida-shell` by attaching a custom parser, like so:"
   ]
  },
  {
   "cell_type": "code",
   "execution_count": 31,
   "metadata": {
    "ExecuteTime": {
     "end_time": "2024-08-26T10:19:35.844598Z",
     "start_time": "2024-08-26T10:19:28.856907Z"
    }
   },
   "outputs": [],
   "source": [
    "# 1. Query a remote database for data\n",
    "\n",
    "query_results, query_node = launch_shell_job(\n",
    "    query_code,\n",
    "    arguments=f'{db_path} {matrix_pk}',\n",
    "    outputs=[matrix_file]\n",
    ")\n",
    "\n",
    "# Custom parser defined that actually reads the created output file and returns the eigenvalues as an AiiDA data type\n",
    "\n",
    "def parse_array(self, dirpath: Path) -> dict[str, orm.Data]:\n",
    "    arr = np.loadtxt(dirpath / self.node.inputs.outputs[0])\n",
    "    data = orm.ArrayData(arr)\n",
    "    return {\"eigvals\": data}\n",
    "\n",
    "# 2. Run matrix diagonalization with the parser attached\n",
    "\n",
    "eigvals_file = f'matrix-{matrix_pk}-eigvals.txt'\n",
    "matrix_file_link_label = ShellParser.format_link_label(matrix_file)\n",
    "\n",
    "diag_results, diag_node = launch_shell_job(\n",
    "    diag_code,\n",
    "    arguments='{matrix_file}',\n",
    "    nodes={\n",
    "        'matrix_file': query_results[matrix_file_link_label]\n",
    "    },\n",
    "    outputs = [eigvals_file],\n",
    "    parser=parse_array,  # Parser attached here\n",
    ")"
   ]
  },
  {
   "cell_type": "code",
   "execution_count": 32,
   "metadata": {
    "ExecuteTime": {
     "end_time": "2024-08-26T10:19:36.165766Z",
     "start_time": "2024-08-26T10:19:36.138362Z"
    }
   },
   "outputs": [
    {
     "name": "stdout",
     "output_type": "stream",
     "text": [
      "uuid: 8d3d5b32-885d-4b80-96cb-633a99d65289 (pk: 238)\n",
      "[5.93661571e+02 4.03207045e+00 4.03207045e+00 4.74154885e+00\n",
      " 4.74154885e+00 3.44346581e+00 3.44346581e+00 3.57871622e+00\n",
      " 3.57871622e+00 3.23129917e+00 3.23129917e+00 2.82217113e+00\n",
      " 2.82217113e+00 2.53060338e+00 2.53060338e+00 3.33764827e+00\n",
      " 3.33764827e+00 2.67697756e+00 2.67697756e+00 2.03203947e+00\n",
      " 2.03203947e+00 2.39375531e+00 2.39375531e+00 2.34980146e+00\n",
      " 2.34980146e+00 2.38342140e+00 2.07443748e+00 2.07443748e+00\n",
      " 1.49205898e+00 1.49205898e+00 1.06237736e+00 1.06237736e+00\n",
      " 8.71266118e-01 8.71266118e-01 1.05316728e+00 1.05316728e+00\n",
      " 6.22015017e-01 1.38399912e+00 8.85008894e-01 8.85008894e-01\n",
      " 7.94168270e-01 7.94168270e-01 4.62879106e-01 4.62879106e-01\n",
      " 2.43788957e-01 1.88896335e-01 1.14283511e-01 1.14283511e-01\n",
      " 7.63502395e-03]\n"
     ]
    }
   ],
   "source": [
    "print(diag_results['eigvals'])\n",
    "print(diag_results['eigvals'].get_array())"
   ]
  },
  {
   "cell_type": "markdown",
   "metadata": {},
   "source": [
    "We've now seen how we can parse and access the results of our `ShellJob`. This will become important in the next\n",
    "notebook where we'll start creating more complex workflows. So let's go :fire:"
   ]
  }
 ],
 "metadata": {
  "kernelspec": {
   "display_name": "Python3.10 (AIIDA)",
   "language": "python",
   "name": "aiida"
  },
  "language_info": {
   "codemirror_mode": {
    "name": "ipython",
    "version": 3
   },
   "file_extension": ".py",
   "mimetype": "text/x-python",
   "name": "python",
   "nbconvert_exporter": "python",
   "pygments_lexer": "ipython3",
   "version": "3.10.6"
  },
  "toc": {
   "base_numbering": 1,
   "nav_menu": {},
   "number_sections": true,
   "sideBar": true,
   "skip_h1_title": false,
   "title_cell": "Table of Contents",
   "title_sidebar": "Contents",
   "toc_cell": false,
   "toc_position": {},
   "toc_section_display": true,
   "toc_window_display": false
  },
  "varInspector": {
   "cols": {
    "lenName": 16,
    "lenType": 16,
    "lenVar": 40
   },
   "kernels_config": {
    "python": {
     "delete_cmd_postfix": "",
     "delete_cmd_prefix": "del ",
     "library": "var_list.py",
     "varRefreshCmd": "print(var_dic_list())"
    },
    "r": {
     "delete_cmd_postfix": ") ",
     "delete_cmd_prefix": "rm(",
     "library": "var_list.r",
     "varRefreshCmd": "cat(var_dic_list()) "
    }
   },
   "types_to_exclude": [
    "module",
    "function",
    "builtin_function_or_method",
    "instance",
    "_Feature"
   ],
   "window_display": false
  }
 },
 "nbformat": 4,
 "nbformat_minor": 4
}
