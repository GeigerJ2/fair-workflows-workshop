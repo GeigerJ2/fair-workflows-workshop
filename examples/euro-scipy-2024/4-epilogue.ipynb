{
 "cells": [
  {
   "cell_type": "markdown",
   "metadata": {},
   "source": [
    "# Epilogue\n",
    "\n",
    "We have now reached the end of this short tutorial. You have hopefully learned how you can get started with AiiDA by\n",
    "creating a profile and registering your desired compute resources and codes. Once you have reached this stage, you are\n",
    "ready to run workflows with AiiDA :rocket:\n",
    "\n",
    "To simplify this process, we have introduced the `aiida-shell` which allows you to run any executable directly through\n",
    "AiiDA, while keeping full provenance of your work. `aiida-shell` is particularly useful if you are outside of\n",
    "the materials science community (for which a large infrastructure of ready-to-use plugins for common codes already\n",
    "exists) and you might want to start using novel codes within AiiDA.\n",
    "\n",
    "We then showcased the `aiida-workgraph`, which simplifies chaining multiple steps together in a workflow, again keeping\n",
    "full provenance of your work. These steps can be existing AiiDA entities, external executables, or even arbitrary Python\n",
    "code. `aiida-workgraph` provides an intuitive syntax inspired by how one would construct a graph from the ground up.\n",
    "\n",
    "Of course, there are many more tools and features to discover on your AiiDA journey. Too many to cover them in depth\n",
    "here. We provide you pointers to some useful further resources in the following."
   ]
  },
  {
   "cell_type": "markdown",
   "metadata": {},
   "source": [
    "## AiiDAlab and AiiDAlab Quantum ESPRESSO app\n",
    "\n",
    "- [AiiDAlab](https://aiidalab.readthedocs.io/en/latest/) provides a jupyter-based graphical user interface (GUI) for\n",
    "  AiiDA\n",
    "- With the [AiiDAlab Quantum ESPRESSO app](https://aiidalab-qe.readthedocs.io) one can run Quantum mechanical\n",
    "  simulations using the GUI directly in the browser (see below)\n",
    "- AiiDAlab can be set up using:\n",
    "  - `pipx install aiidalab-launch`\n",
    "  - `aiidalab-launch start`\n",
    "  (requires Docker)\n",
    "\n",
    "<br>\n",
    "\n",
    "<img src=\"../../data/figs/aiidalab-qe-app-1.png\" width=\"400\" style=\"height:auto; display:block; margin-left:auto;\n",
    "margin-right:auto;\">\n",
    "\n",
    "<br>\n",
    "\n",
    "<img src=\"../../data/figs/aiidalab-qe-app-2.png\" width=\"400\" style=\"height:auto; display:block; margin-left:auto;\n",
    "margin-right:auto;\">\n",
    "\n",
    "<br>\n",
    "\n",
    "<img src=\"../../data/figs/aiidalab-qe-app-3.png\" width=\"400\" style=\"height:auto; display:block; margin-left:auto;\n",
    "margin-right:auto;\">"
   ]
  },
  {
   "cell_type": "markdown",
   "metadata": {
    "vscode": {
     "languageId": "plaintext"
    }
   },
   "source": [
    "## Additional tutorials\n",
    "\n",
    "- [Very basic AiiDA tutorial (RTD)](https://aiida.readthedocs.io/projects/aiida-core/en/latest/tutorials/basic.html#tutorial-basic)\n",
    "- [Past week-long AiiDA virtual tutorials](https://aiida-tutorials.readthedocs.io/en/)\n",
    "- [AiiDA Quantum ESPRESSO demo (~2 hours)](https://aiida-qe-demo.readthedocs.io/en/latest/)\n",
    "- [WorkGraph documentation and tutorials](https://aiida-workgraph.readthedocs.io/en/latest/)\n",
    "- [Collections of WorkGraphs](https://workgraph-collections.readthedocs.io/)"
   ]
  },
  {
   "cell_type": "markdown",
   "metadata": {
    "vscode": {
     "languageId": "plaintext"
    }
   },
   "source": [
    "## Materials Cloud Explore\n",
    "\n",
    "Explore provenance graphs in an interactive manner on the [Materials Cloud Explore](https://www.materialscloud.org/explore) website, e.g. [here (click me)](https://www.materialscloud.org/explore/mc3d/details/a95f38cc-ee40-484a-8f1a-ca33303edf18?nodeType=NODE)."
   ]
  },
  {
   "cell_type": "markdown",
   "metadata": {},
   "source": [
    "## Discourse support platform\n",
    "\n",
    "- If you have any questions or issues, please post on the [Discourse support platform](https://aiida.discourse.group)\n",
    "- Developers will answer you quickly\n",
    "- Information is publicly available, so the website also serves to build up a knowledge base\n",
    "- As you write your question, similar, existing posts will be shown to you"
   ]
  },
  {
   "cell_type": "markdown",
   "metadata": {
    "vscode": {
     "languageId": "plaintext"
    }
   },
   "source": [
    "## Other tools\n",
    "\n",
    "- [aiida-project](https://github.com/aiidateam/aiida-project): AiiDA project manager that takes care of your Python environment and AiiDA configuration.\n",
    "- [aiida-submission-controller](https://github.com/aiidateam/aiida-submission-controller/): Classes to help managing large numbers of simulations (think big!)\n",
    "- [aiida-hyperqueue](https://github.com/aiidateam/aiida-hyperqueue/): Submit many small jobs in a single SLURM job\n",
    "- [aiida-plugin-cutter](https://github.com/aiidateam/aiida-plugin-cutter): Cookiecutter recipe to help kickstart writing your own plugin"
   ]
  }
 ],
 "metadata": {
  "language_info": {
   "name": "python"
  }
 },
 "nbformat": 4,
 "nbformat_minor": 2
}
