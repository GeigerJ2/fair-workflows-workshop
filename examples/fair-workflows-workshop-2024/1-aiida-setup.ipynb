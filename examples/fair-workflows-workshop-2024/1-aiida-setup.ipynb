{
 "cells": [
  {
   "cell_type": "markdown",
   "metadata": {},
   "source": [
    "# Preparations to get started with AiiDA\n",
    "\n",
    "## Select the notebook kernel\n",
    "\n",
    "We have already set up a Conda environment with AiiDA installed. You can select the kernel by following the steps shown in the image below:\n",
    "<img src=\"../../data/figs/change_notebook_kernel.png\" width=500>"
   ]
  },
  {
   "cell_type": "markdown",
   "metadata": {},
   "source": [
    "## Interacting with AiiDA\n",
    "\n",
    "AiiDA can be controlled in two ways:\n",
    "\n",
    "1. Using the `verdi` command line interface (CLI), or `%verdi` magic in Jupyter notebooks.\n",
    "2. Using the `aiida` Python API\n",
    "\n",
    "For each project in AiiDA, we set up a **profile**, which defines the connection to the data storage (SQLite or PostgreSQL database and file repository), configuration, and other settings."
   ]
  },
  {
   "cell_type": "markdown",
   "metadata": {},
   "source": [
    "\n",
    "## Creating an AiiDA profile\n",
    "\n",
    "Before we can get started using AiiDA, we first need to set up a profile.\n",
    "\n",
    "The command:\n",
    "\n",
    "```shell\n",
    "verdi presto\n",
    "```\n",
    "\n",
    "provides a quick way to create a profile.\n",
    "For additional information, we refer to the [Installation\n",
    "Guide](https://aiida.readthedocs.io/projects/aiida-core/en/stable/installation/index.html) of the AiiDA documentation.\n",
    "\n",
    "Run the following cell to create the profile to be used during this workshop."
   ]
  },
  {
   "cell_type": "code",
   "execution_count": null,
   "metadata": {},
   "outputs": [],
   "source": [
    "!/apps/share64/debian10/anaconda/anaconda-7/envs/AIIDA/bin/verdi presto --profile-name fair-workflows"
   ]
  },
  {
   "cell_type": "markdown",
   "metadata": {},
   "source": [
    "Now that we have created a profile, for convenience, we will now load the AiiDA jupyter extension. This will allow us\n",
    "to use the `%verdi` jupyter magic commands, rather than having to run them in a subshell with the full, absolute\n",
    "path to the `verdi` executable as done in the cell above.\n",
    "\n",
    "In addition, this makes the `%aiida` jupyter magic command available that, when executed, will automatically load the\n",
    "previously created `fair-workflows` default profile. Alternatively, a specific profile can also be loaded as follows:\n",
    "```python\n",
    "from aiida import load_profile\n",
    "load_profile('fair-workflows')\n",
    "```"
   ]
  },
  {
   "cell_type": "code",
   "execution_count": null,
   "metadata": {},
   "outputs": [],
   "source": [
    "%load_ext aiida\n",
    "%aiida"
   ]
  },
  {
   "cell_type": "markdown",
   "metadata": {},
   "source": [
    "Now, we set a some configuration options for our profile:"
   ]
  },
  {
   "cell_type": "code",
   "execution_count": null,
   "metadata": {},
   "outputs": [],
   "source": [
    "%verdi config set warnings.development_version false\n",
    "%verdi config set warnings.showdeprecations false"
   ]
  },
  {
   "cell_type": "markdown",
   "metadata": {},
   "source": [
    "And verify that the profile was created successfully via:"
   ]
  },
  {
   "cell_type": "code",
   "execution_count": null,
   "metadata": {},
   "outputs": [],
   "source": [
    "%verdi status"
   ]
  },
  {
   "cell_type": "markdown",
   "metadata": {},
   "source": [
    " should show something like:\n",
    "```shell\n",
    " ✔ version:     AiiDA v2.6.2\n",
    " ✔ config:      /home/nanohub/<your-user>/.aiida\n",
    " ✔ profile:     fair-workflows\n",
    " ✔ storage:     SqliteDosStorage[/home/nanohub/<your-user>/.aiida/repository/sqlite_dos_b25c3582f65647beb068a3e50636a274]: open,\n",
    " ⏺ broker:      No broker defined for this profile: certain functionality not available. See https://aiida-core.readthedocs.io/en/stable/installation/guide_quick.html#quick-install-limitations\n",
    " ⏺ daemon:      No broker defined for this profile: daemon is not available. See {URL_NO_BROKER}\n",
    "\n",
    "```"
   ]
  },
  {
   "cell_type": "markdown",
   "metadata": {},
   "source": [
    "## Computers and Codes\n",
    "\n",
    "Being a workflow manager for computational science, AiiDA's main use is to execute codes on local or remote\n",
    "(high-performance) compute resources. Thus, to actually execute computations, it requires `Computer` and `Code` entities\n",
    "to be correctly set up.\n",
    "\n",
    "The `verdi presto` command automatically configures the local workstation as the `localhost` computer.\n",
    "\n",
    "Additional compute resources can be created using the:\n",
    "\n",
    "```shell\n",
    "verdi computer setup\n",
    "verdi computer config\n",
    "```\n",
    "\n",
    "commands, which will prompt you for all required options. For convenience, it is also possible to provide these options\n",
    "via YAML configuration files. This repository contains such configuration files for the `localhost` computer. Using\n",
    "these, the two above commands are as follows:\n",
    "\n",
    "```shell\n",
    "verdi computer setup --config ../data/yaml-configs/localhost-setup.yaml\n",
    "verdi computer configure core.local --config ../data/yaml-configs/localhost-config.yaml\n",
    "```\n",
    "\n",
    "The setup of computers and codes works similarly, and can either be achieved interactively via:\n",
    "\n",
    "```shell\n",
    "verdi code create core.code.installed\n",
    "```\n",
    "\n",
    "for which a configuration YAML file can again be provided via the `--config` flag.\n",
    "\n",
    "```shell\n",
    "verdi code create core.code.installed --config ../data/yaml-configs/qe-7.1-pw@localhost.yaml\n",
    "```\n",
    "\n",
    "The [aiida-code-registry](https://github.com/aiidateam/aiida-code-registry/) compiles `Computer` and `Code`\n",
    "configuration files of commonly used HPC resources. If you don't find your HPC there, pull requests are very welcome.\n",
    "\n",
    "We'll set up the `pw.x` code of Quantum ESPRESSO v7.1 on our `localhost` computer later on when actually running an\n",
    "atomistic simulation."
   ]
  },
  {
   "cell_type": "markdown",
   "metadata": {},
   "source": [
    "## AiiDA plugins\n",
    "\n",
    "AiiDA is extendable via plugins, which often provide infrastructure to run executables (e.g. Quantum Mechanical codes,\n",
    "like Quantum ESPRESSO or VASP), or add additional functionalities. For this tutorial, we will need the\n",
    "`aiida-quantumespresso` and the `aiida-pseudo` plugins, that will allow us to run Quantum ESPRESSO calculations and\n",
    "install the required pseudopotentials, respectively, which are already installed in the workspace."
   ]
  }
 ],
 "metadata": {
  "kernelspec": {
   "display_name": "Python3.10 (AIIDA)",
   "language": "python",
   "name": "aiida"
  },
  "language_info": {
   "codemirror_mode": {
    "name": "ipython",
    "version": 3
   },
   "file_extension": ".py",
   "mimetype": "text/x-python",
   "name": "python",
   "nbconvert_exporter": "python",
   "pygments_lexer": "ipython3",
   "version": "3.10.6"
  },
  "toc": {
   "base_numbering": 1,
   "nav_menu": {},
   "number_sections": true,
   "sideBar": true,
   "skip_h1_title": false,
   "title_cell": "Table of Contents",
   "title_sidebar": "Contents",
   "toc_cell": false,
   "toc_position": {},
   "toc_section_display": true,
   "toc_window_display": false
  },
  "varInspector": {
   "cols": {
    "lenName": 16,
    "lenType": 16,
    "lenVar": 40
   },
   "kernels_config": {
    "python": {
     "delete_cmd_postfix": "",
     "delete_cmd_prefix": "del ",
     "library": "var_list.py",
     "varRefreshCmd": "print(var_dic_list())"
    },
    "r": {
     "delete_cmd_postfix": ") ",
     "delete_cmd_prefix": "rm(",
     "library": "var_list.r",
     "varRefreshCmd": "cat(var_dic_list()) "
    }
   },
   "types_to_exclude": [
    "module",
    "function",
    "builtin_function_or_method",
    "instance",
    "_Feature"
   ],
   "window_display": false
  }
 },
 "nbformat": 4,
 "nbformat_minor": 4
}
