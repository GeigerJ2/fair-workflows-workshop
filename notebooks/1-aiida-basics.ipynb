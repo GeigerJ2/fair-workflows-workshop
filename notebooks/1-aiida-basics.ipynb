{
 "cells": [
  {
   "cell_type": "markdown",
   "id": "6207a563",
   "metadata": {},
   "source": [
    "# Basic tutorial\n",
    "\n",
    "The goal of this tutorial is to give you an idea of how AiiDA helps you in executing data-driven workflows.\n",
    "At the end of this tutorial, you will know how to:\n",
    "\n",
    "- Store data in the database and subsequently retrieve it.\n",
    "- Decorate a Python function such that its inputs and outputs are automatically tracked.\n",
    "- Run and monitor the status of processes.\n",
    "- Explore and visualize the provenance graph.\n"
   ]
  },
  {
   "cell_type": "code",
   "execution_count": 1,
   "id": "2befc3e9",
   "metadata": {
    "ExecuteTime": {
     "end_time": "2024-08-06T11:32:55.634425Z",
     "start_time": "2024-08-06T11:32:53.610577Z"
    },
    "tags": [
     "hide-cell"
    ]
   },
   "outputs": [
    {
     "data": {
      "application/json": {
       "current_state": "Loaded AiiDA DB environment - profile name: fair-workflows."
      },
      "text/html": [
       "<p>Loaded AiiDA DB environment - profile name: fair-workflows.</p>"
      ],
      "text/latex": [
       "Loaded AiiDA DB environment - profile name: fair-workflows.\n"
      ],
      "text/plain": [
       "Loaded AiiDA DB environment - profile name: fair-workflows.\n"
      ]
     },
     "execution_count": 1,
     "metadata": {},
     "output_type": "execute_result"
    }
   ],
   "source": [
    "%load_ext aiida\n",
    "%aiida"
   ]
  },
  {
   "cell_type": "markdown",
   "id": "b8ace3e6",
   "metadata": {},
   "source": [
    "## Data nodes\n",
    "\n",
    "Before running any calculations, let's create and store a *data node*.\n",
    "AiiDA implements data node types for the most common types of data (int, float, str, etc.), which you can extend with your own (composite) data node types if needed.\n",
    "For this tutorial, we'll keep it very simple, and start by initializing an `Int` node and assigning it to the `x` variable:"
   ]
  },
  {
   "cell_type": "code",
   "execution_count": 2,
   "id": "ccd5095b",
   "metadata": {
    "ExecuteTime": {
     "end_time": "2024-08-06T11:33:02.000136Z",
     "start_time": "2024-08-06T11:33:01.339306Z"
    }
   },
   "outputs": [],
   "source": [
    "from aiida import orm\n",
    "\n",
    "x = orm.Int(2)"
   ]
  },
  {
   "cell_type": "markdown",
   "id": "dad582c9",
   "metadata": {},
   "source": [
    "We can check the contents of the `node` variable like this:"
   ]
  },
  {
   "cell_type": "code",
   "execution_count": 3,
   "id": "7c635b71",
   "metadata": {
    "ExecuteTime": {
     "end_time": "2024-08-06T11:33:03.773085Z",
     "start_time": "2024-08-06T11:33:03.764296Z"
    }
   },
   "outputs": [
    {
     "data": {
      "text/plain": [
       "<Int: uuid: 7b9b9be8-fb73-4d3a-beb0-72ecb66185ac (unstored) value: 2>"
      ]
     },
     "execution_count": 3,
     "metadata": {},
     "output_type": "execute_result"
    }
   ],
   "source": [
    "x"
   ]
  },
  {
   "cell_type": "markdown",
   "id": "4ff34158",
   "metadata": {},
   "source": [
    "Quite a bit of information on our freshly created node is returned:\n",
    "\n",
    "- The data node is of the type `Int`\n",
    "- The node has the *universally unique identifier* (**UUID**)\n",
    "- The node is currently not stored in the database `(unstored)`\n",
    "- The integer value of the node is `2`\n",
    "\n",
    "Let's store the node in the database:"
   ]
  },
  {
   "cell_type": "code",
   "execution_count": 4,
   "id": "6011161e",
   "metadata": {
    "ExecuteTime": {
     "end_time": "2024-08-06T11:33:06.574533Z",
     "start_time": "2024-08-06T11:33:06.422723Z"
    }
   },
   "outputs": [
    {
     "data": {
      "text/plain": [
       "<Int: uuid: 7b9b9be8-fb73-4d3a-beb0-72ecb66185ac (pk: 1) value: 2>"
      ]
     },
     "execution_count": 4,
     "metadata": {},
     "output_type": "execute_result"
    }
   ],
   "source": [
    "x.store()"
   ]
  },
  {
   "cell_type": "markdown",
   "id": "70e3bf03",
   "metadata": {},
   "source": [
    "As you can see, the data node has now been assigned a *primary key* (**PK**), a number that identifies the node in your database `(pk: 1)`.\n",
    "The PK and UUID both reference the node with the only difference that the PK is unique *for your local database only*, whereas the UUID is a globally unique identifier and can therefore be used between *different* databases.\n",
    "Use the PK only if you are working within a single database, i.e. in an interactive session and the UUID in all other cases.\n",
    "\n",
    "> **Note**\n",
    "> \n",
    "> The PK numbers shown throughout this tutorial assume that you start from a completely empty database.\n",
    "> It is possible that the nodes' PKs will be different for your database!\n",
    ">\n",
    "> The UUIDs are generated randomly and are, therefore, **guaranteed** to be different.\n",
    "\n",
    "\n",
    "Next, let's use the `verdi` command line interface (CLI) to check the data node we have just created:"
   ]
  },
  {
   "cell_type": "code",
   "execution_count": 5,
   "id": "9a774962",
   "metadata": {
    "ExecuteTime": {
     "end_time": "2024-08-06T11:33:08.358584Z",
     "start_time": "2024-08-06T11:33:07.962328Z"
    }
   },
   "outputs": [
    {
     "name": "stdout",
     "output_type": "stream",
     "text": [
      "\u001b[22mProperty     Value\n",
      "-----------  ------------------------------------\n",
      "type         Int\n",
      "pk           1\n",
      "uuid         7b9b9be8-fb73-4d3a-beb0-72ecb66185ac\n",
      "label\n",
      "description\n",
      "ctime        2024-08-06 11:33:01.997706+00:00\n",
      "mtime        2024-08-06 11:33:06.554727+00:00\u001b[0m\n"
     ]
    }
   ],
   "source": [
    "%verdi node show 1"
   ]
  },
  {
   "cell_type": "markdown",
   "id": "388b4fd5",
   "metadata": {},
   "source": [
    "Once again, we can see that the node is of type `Int`, has its PK and UUID.\n",
    "Besides this information, the `verdi node show` command also shows the (empty) `label` and `description`, as well as the time the node was created (`ctime`) and last modified (`mtime`).\n",
    "\n",
    "> **Note**\n",
    "> AiiDA already provides many standard data types, but you can also [create your own](https://aiida.readthedocs.io/projects/aiida-core/en/stable/topics/data_types.html#topics-data-types-plugin).\n",
    "\n",
    "\n",
    "## Calculation functions\n",
    "\n",
    "Once your data is stored in the database, it is ready to be used for some computational task.\n",
    "For example, let's say you want to multiply two `Int` data nodes.\n",
    "The following Python function:\n",
    "\n",
    "```python\n",
    "def multiply(x, y):\n",
    "    return x * y\n",
    "```\n",
    "\n",
    "will give the desired result when applied to two `Int` nodes, but the calculation will not be stored in the provenance graph.\n",
    "However, we can use a [Python decorator](https://docs.python.org/3/glossary.html#term-decorator) provided by AiiDA to automatically make it part of the provenance graph, as shown below:"
   ]
  },
  {
   "cell_type": "code",
   "execution_count": 7,
   "id": "1028e613",
   "metadata": {
    "ExecuteTime": {
     "end_time": "2024-08-06T11:33:18.703241Z",
     "start_time": "2024-08-06T11:33:18.694242Z"
    }
   },
   "outputs": [],
   "source": [
    "from aiida import engine\n",
    "\n",
    "@engine.calcfunction\n",
    "def multiply(x, y):\n",
    "    return x * y"
   ]
  },
  {
   "cell_type": "markdown",
   "id": "ccf6ce53",
   "metadata": {},
   "source": [
    "This converts the `multiply` function into an AiIDA *calculation function*, the most basic execution unit in AiiDA.\n",
    "Next, Let's create a new `Int` data node and assign it to the variable `y`, and then run the `multiply` function with the `x` and `y` data nodes as inputs:"
   ]
  },
  {
   "cell_type": "code",
   "execution_count": 8,
   "id": "ca68c80b",
   "metadata": {
    "ExecuteTime": {
     "end_time": "2024-08-06T11:33:19.739759Z",
     "start_time": "2024-08-06T11:33:19.729665Z"
    }
   },
   "outputs": [],
   "source": [
    "y = orm.Int(3)"
   ]
  },
  {
   "cell_type": "markdown",
   "id": "bd70b8a6",
   "metadata": {},
   "source": [
    "Now it's time to multiply the two numbers!"
   ]
  },
  {
   "cell_type": "code",
   "execution_count": 9,
   "id": "c2030fd5",
   "metadata": {
    "ExecuteTime": {
     "end_time": "2024-08-06T11:33:21.543386Z",
     "start_time": "2024-08-06T11:33:20.794262Z"
    }
   },
   "outputs": [
    {
     "data": {
      "text/plain": [
       "<Int: uuid: 24cb2513-cd36-4bea-a939-63c8481183a8 (pk: 4) value: 6>"
      ]
     },
     "execution_count": 9,
     "metadata": {},
     "output_type": "execute_result"
    }
   ],
   "source": [
    "multiply(x, y)"
   ]
  },
  {
   "cell_type": "markdown",
   "id": "a090079f",
   "metadata": {},
   "source": [
    "Success!\n",
    "The `calcfunction`-decorated `multiply` function has multiplied the two `Int` data nodes and returned a new `Int` data node whose value is the product of the two input nodes.\n",
    "Note that by executing the `multiply` function, all input and output nodes are automatically stored in the database:"
   ]
  },
  {
   "cell_type": "code",
   "execution_count": 10,
   "id": "747f5ba0",
   "metadata": {
    "ExecuteTime": {
     "end_time": "2024-08-06T11:33:30.388007Z",
     "start_time": "2024-08-06T11:33:30.377205Z"
    }
   },
   "outputs": [
    {
     "data": {
      "text/plain": [
       "<Int: uuid: 13bc9f20-4a18-48b7-b5a8-129bd1e55abd (pk: 2) value: 3>"
      ]
     },
     "execution_count": 10,
     "metadata": {},
     "output_type": "execute_result"
    }
   ],
   "source": [
    "y"
   ]
  },
  {
   "cell_type": "markdown",
   "id": "30cd1020",
   "metadata": {},
   "source": [
    "We had not yet stored the data node assigned to the `y` variable, but by providing it as an input argument to the `multiply` function, it was automatically stored with PK = 2.\n",
    "Similarly, the returned `Int` node with value 6 has been stored with PK = 4.\n",
    "\n",
    "Let's look for the process we have just run using the `verdi` CLI:"
   ]
  },
  {
   "cell_type": "code",
   "execution_count": 11,
   "id": "981f4a13",
   "metadata": {
    "ExecuteTime": {
     "end_time": "2024-08-06T11:33:42.611553Z",
     "start_time": "2024-08-06T11:33:42.490228Z"
    }
   },
   "outputs": [
    {
     "name": "stdout",
     "output_type": "stream",
     "text": [
      "\u001b[22m  PK  Created    Process label    ♻    Process State    Process status\n",
      "----  ---------  ---------------  ---  ---------------  ----------------\n",
      "   3  21s ago    multiply              ⏹ Finished [0]\u001b[0m\n",
      "\u001b[22m\n",
      "Total results: 1\n",
      "\u001b[0m\n",
      "\u001b[34m\u001b[1mReport\u001b[0m: \u001b[22m♻ Processes marked with check-mark were not run but taken from the cache.\u001b[0m\n",
      "\u001b[34m\u001b[1mReport\u001b[0m: \u001b[22mAdd the option `-P pk cached_from` to the command to display cache source.\u001b[0m\n",
      "\u001b[34m\u001b[1mReport\u001b[0m: \u001b[22mLast time an entry changed state: 21s ago (at 11:33:21 on 2024-08-06)\u001b[0m\n",
      "\u001b[93m\u001b[1mWarning\u001b[0m: \u001b[22mThis profile does not have a broker and so it has no daemon.\u001b[0m\n"
     ]
    }
   ],
   "source": [
    "%verdi process list -a"
   ]
  },
  {
   "cell_type": "markdown",
   "id": "3090807f",
   "metadata": {},
   "source": [
    "We can see that our `multiply` calcfunction was created 1 minute ago, assigned the PK 3, and has `Finished`.\n",
    "\n",
    "### Provenance graph\n",
    "An AiiDA database does not only contain the results of your calculations, but also their inputs and each step that was executed to obtain them. All of this information is stored in the form of a directed acyclic graph (DAG).\n",
    "Let's have a look at the provenance of this simple calculation.\n",
    "The provenance graph can be automatically generated using the verdi CLI.\n",
    "Let's generate the provenance graph for the `multiply` calculation function we have just run with PK = 3:\n",
    "\n",
    "> **note**\n",
    "> Remember that the PK of the `CalcJob` can be different for your database.\n",
    "\n",
    "```console\n",
    "$ verdi node graph generate 3\n",
    "```\n",
    "\n",
    "The command will write the provenance graph to a `.pdf` file.\n",
    "Use your favorite PDF viewer to have a look.\n",
    "It should look something like the graph shown below."
   ]
  },
  {
   "cell_type": "code",
   "execution_count": 12,
   "id": "1e597a49",
   "metadata": {
    "ExecuteTime": {
     "end_time": "2024-08-06T11:33:46.333243Z",
     "start_time": "2024-08-06T11:33:45.937907Z"
    },
    "mystnb": {
     "figure": {
      "caption": "Provenance graph of the `multiply` calculation function.",
      "name": "fig_calcfun_graph"
     },
     "image": {
      "align": "center",
      "width": "300px"
     }
    },
    "tags": [
     "hide-input"
    ]
   },
   "outputs": [
    {
     "data": {
      "image/svg+xml": [
       "<?xml version=\"1.0\" encoding=\"UTF-8\" standalone=\"no\"?>\n",
       "<!DOCTYPE svg PUBLIC \"-//W3C//DTD SVG 1.1//EN\"\n",
       " \"http://www.w3.org/Graphics/SVG/1.1/DTD/svg11.dtd\">\n",
       "<!-- Generated by graphviz version 2.40.1 (20161225.0304)\n",
       " -->\n",
       "<!-- Title: %3 Pages: 1 -->\n",
       "<svg width=\"228pt\" height=\"300pt\"\n",
       " viewBox=\"0.00 0.00 228.43 300.48\" xmlns=\"http://www.w3.org/2000/svg\" xmlns:xlink=\"http://www.w3.org/1999/xlink\">\n",
       "<g id=\"graph0\" class=\"graph\" transform=\"scale(1 1) rotate(0) translate(4 296.4802)\">\n",
       "<title>%3</title>\n",
       "<polygon fill=\"#ffffff\" stroke=\"transparent\" points=\"-4,4 -4,-296.4802 224.4264,-296.4802 224.4264,4 -4,4\"/>\n",
       "<!-- N1 -->\n",
       "<g id=\"node1\" class=\"node\">\n",
       "<title>N1</title>\n",
       "<ellipse fill=\"#8cd499\" stroke=\"#000000\" stroke-width=\"0\" cx=\"42.4264\" cy=\"-265.6102\" rx=\"42.3529\" ry=\"26.7407\"/>\n",
       "<text text-anchor=\"middle\" x=\"42.4264\" y=\"-269.4102\" font-family=\"Times,serif\" font-size=\"14.00\" fill=\"#000000\">Int (1)</text>\n",
       "<text text-anchor=\"middle\" x=\"42.4264\" y=\"-254.4102\" font-family=\"Times,serif\" font-size=\"14.00\" fill=\"#000000\">value: 2</text>\n",
       "</g>\n",
       "<!-- N3 -->\n",
       "<g id=\"node3\" class=\"node\">\n",
       "<title>N3</title>\n",
       "<polygon fill=\"#de707f\" fill-opacity=\"0.466667\" stroke=\"#000000\" stroke-width=\"0\" points=\"142.9264,-172.7401 47.9264,-172.7401 47.9264,-119.7401 142.9264,-119.7401 142.9264,-172.7401\"/>\n",
       "<text text-anchor=\"middle\" x=\"95.4264\" y=\"-157.5401\" font-family=\"Times,serif\" font-size=\"14.00\" fill=\"#000000\">multiply (3)</text>\n",
       "<text text-anchor=\"middle\" x=\"95.4264\" y=\"-142.5401\" font-family=\"Times,serif\" font-size=\"14.00\" fill=\"#000000\">State: finished</text>\n",
       "<text text-anchor=\"middle\" x=\"95.4264\" y=\"-127.5401\" font-family=\"Times,serif\" font-size=\"14.00\" fill=\"#000000\">Exit Code: 0</text>\n",
       "</g>\n",
       "<!-- N1&#45;&gt;N3 -->\n",
       "<g id=\"edge1\" class=\"edge\">\n",
       "<title>N1&#45;&gt;N3</title>\n",
       "<path fill=\"none\" stroke=\"#000000\" d=\"M37.562,-238.7722C36.1263,-223.941 36.4771,-205.5721 43.4264,-190.7401 45.1082,-187.1507 47.2346,-183.7412 49.6613,-180.5255\"/>\n",
       "<polygon fill=\"#000000\" stroke=\"#000000\" points=\"52.3297,-182.7907 56.2296,-172.9397 47.0377,-178.2086 52.3297,-182.7907\"/>\n",
       "<text text-anchor=\"middle\" x=\"84.9264\" y=\"-209.5401\" font-family=\"Times,serif\" font-size=\"14.00\" fill=\"#000000\">INPUT_CALC</text>\n",
       "<text text-anchor=\"middle\" x=\"84.9264\" y=\"-194.5401\" font-family=\"Times,serif\" font-size=\"14.00\" fill=\"#000000\">x</text>\n",
       "</g>\n",
       "<!-- N2 -->\n",
       "<g id=\"node2\" class=\"node\">\n",
       "<title>N2</title>\n",
       "<ellipse fill=\"#8cd499\" stroke=\"#000000\" stroke-width=\"0\" cx=\"148.4264\" cy=\"-265.6102\" rx=\"42.3529\" ry=\"26.7407\"/>\n",
       "<text text-anchor=\"middle\" x=\"148.4264\" y=\"-269.4102\" font-family=\"Times,serif\" font-size=\"14.00\" fill=\"#000000\">Int (2)</text>\n",
       "<text text-anchor=\"middle\" x=\"148.4264\" y=\"-254.4102\" font-family=\"Times,serif\" font-size=\"14.00\" fill=\"#000000\">value: 3</text>\n",
       "</g>\n",
       "<!-- N2&#45;&gt;N3 -->\n",
       "<g id=\"edge2\" class=\"edge\">\n",
       "<title>N2&#45;&gt;N3</title>\n",
       "<path fill=\"none\" stroke=\"#000000\" d=\"M142.7919,-238.8549C139.1655,-224.2184 133.7486,-206.0101 126.4264,-190.7401 125.0015,-187.7687 123.3868,-184.7779 121.6608,-181.8287\"/>\n",
       "<polygon fill=\"#000000\" stroke=\"#000000\" points=\"124.5062,-179.7781 116.2274,-173.1665 118.5762,-183.4977 124.5062,-179.7781\"/>\n",
       "<text text-anchor=\"middle\" x=\"178.9264\" y=\"-209.5401\" font-family=\"Times,serif\" font-size=\"14.00\" fill=\"#000000\">INPUT_CALC</text>\n",
       "<text text-anchor=\"middle\" x=\"178.9264\" y=\"-194.5401\" font-family=\"Times,serif\" font-size=\"14.00\" fill=\"#000000\">y</text>\n",
       "</g>\n",
       "<!-- N4 -->\n",
       "<g id=\"node4\" class=\"node\">\n",
       "<title>N4</title>\n",
       "<ellipse fill=\"#8cd499\" stroke=\"#000000\" stroke-width=\"0\" cx=\"95.4264\" cy=\"-26.8701\" rx=\"42.3529\" ry=\"26.7407\"/>\n",
       "<text text-anchor=\"middle\" x=\"95.4264\" y=\"-30.6701\" font-family=\"Times,serif\" font-size=\"14.00\" fill=\"#000000\">Int (4)</text>\n",
       "<text text-anchor=\"middle\" x=\"95.4264\" y=\"-15.6701\" font-family=\"Times,serif\" font-size=\"14.00\" fill=\"#000000\">value: 6</text>\n",
       "</g>\n",
       "<!-- N3&#45;&gt;N4 -->\n",
       "<g id=\"edge3\" class=\"edge\">\n",
       "<title>N3&#45;&gt;N4</title>\n",
       "<path fill=\"none\" stroke=\"#000000\" d=\"M95.4264,-119.4511C95.4264,-103.1321 95.4264,-82.0416 95.4264,-64.1132\"/>\n",
       "<polygon fill=\"#000000\" stroke=\"#000000\" points=\"98.9265,-63.9826 95.4264,-53.9826 91.9265,-63.9827 98.9265,-63.9826\"/>\n",
       "<text text-anchor=\"middle\" x=\"121.9264\" y=\"-90.5401\" font-family=\"Times,serif\" font-size=\"14.00\" fill=\"#000000\">CREATE</text>\n",
       "<text text-anchor=\"middle\" x=\"121.9264\" y=\"-75.5401\" font-family=\"Times,serif\" font-size=\"14.00\" fill=\"#000000\">result</text>\n",
       "</g>\n",
       "</g>\n",
       "</svg>\n"
      ],
      "text/plain": [
       "<graphviz.graphs.Digraph at 0x7f20b296a3e0>"
      ]
     },
     "execution_count": 12,
     "metadata": {},
     "output_type": "execute_result"
    }
   ],
   "source": [
    "from aiida.tools.visualization import Graph\n",
    "graph = Graph()\n",
    "calc_node = orm.load_node(3)\n",
    "graph.add_incoming(calc_node, annotate_links=\"both\")\n",
    "graph.add_outgoing(calc_node, annotate_links=\"both\")\n",
    "graph.graphviz"
   ]
  },
  {
   "cell_type": "markdown",
   "id": "1aa4cc09",
   "metadata": {},
   "source": [
    "In the provenance graph, you can see different types of *nodes* represented by different shapes.\n",
    "The green ellipses are `Data` nodes, and the rectangles represent *processes*, i.e. the calculations performed in your *workflow*.\n",
    "\n",
    "The provenance graph allows us to not only see what data we have, but also how it was produced."
   ]
  },
  {
   "cell_type": "markdown",
   "id": "a6ad12fb",
   "metadata": {},
   "source": [
    "## CalcJobs\n",
    "When running calculations that require an external code or run on a remote machine, a simple calculation function is no longer sufficient.\n",
    "For this purpose, AiiDA provides the `CalcJob` process class.\n",
    "\n",
    "To run a `CalcJob`, you need to set up two things: a `code` that is going to implement the desired calculation and a `computer` for the calculation to run on.\n",
    "\n",
    "In the previous section, the `verdi presto` command automatically configures the local workstation as the `localhost` computer for you.\n",
    "\n",
    "Now, let's set up the code we're going to use for the tutorial. The following command sets up a code with *label* `add` on the *computer* `localhost`, using the *plugin* `core.arithmetic.add`.\n",
    "\n",
    "\n",
    "More details for how to [run external codes](https://aiida.readthedocs.io/projects/aiida-core/en/stable/howto/run_codes.html#how-to-run-codes) can be found in the AiiDA documentation."
   ]
  },
  {
   "cell_type": "code",
   "execution_count": 13,
   "id": "df261f26",
   "metadata": {
    "ExecuteTime": {
     "end_time": "2024-08-06T11:33:49.187033Z",
     "start_time": "2024-08-06T11:33:48.947326Z"
    },
    "tags": [
     "hide-cell"
    ]
   },
   "outputs": [
    {
     "name": "stdout",
     "output_type": "stream",
     "text": [
      "\u001b[32m\u001b[1mSuccess: \u001b[0m\u001b[22mCreated InstalledCode<5>\u001b[0m\n"
     ]
    }
   ],
   "source": [
    "%verdi code create core.code.installed --label add --computer=localhost --default-calc-job-plugin core.arithmetic.add --filepath-executable=/bin/bash -n"
   ]
  },
  {
   "cell_type": "markdown",
   "id": "4b356d44",
   "metadata": {},
   "source": [
    "A typical real-world example of a computer is a remote supercomputing facility.\n",
    "Codes can be anything from a Python script to powerful *ab initio* codes such as Quantum Espresso or machine learning tools like Tensorflow.\n",
    "Let's have a look at the codes that are available to us:"
   ]
  },
  {
   "cell_type": "code",
   "execution_count": 14,
   "id": "227e711a",
   "metadata": {
    "ExecuteTime": {
     "end_time": "2024-08-06T11:33:51.108569Z",
     "start_time": "2024-08-06T11:33:51.019469Z"
    }
   },
   "outputs": [
    {
     "name": "stdout",
     "output_type": "stream",
     "text": [
      "\u001b[22mFull label       Pk  Entry point\n",
      "-------------  ----  -------------------\n",
      "add@localhost     5  core.code.installed\u001b[0m\n",
      "\u001b[22m\n",
      "Use `verdi code show IDENTIFIER` to see details for a code\u001b[0m\n"
     ]
    }
   ],
   "source": [
    "%verdi code list"
   ]
  },
  {
   "cell_type": "markdown",
   "id": "24f26172",
   "metadata": {},
   "source": [
    "You can see a single code `add@tutor`, with PK = 5, in the printed list.\n",
    "This code allows us to add two integers together.\n",
    "The `add@tutor` identifier indicates that the code with label `add` is run on the computer with label `tutor`.\n",
    "To see more details about the computer, you can use the following `verdi` command:"
   ]
  },
  {
   "cell_type": "code",
   "execution_count": 15,
   "id": "f45d0d50",
   "metadata": {
    "ExecuteTime": {
     "end_time": "2024-08-06T11:33:53.001353Z",
     "start_time": "2024-08-06T11:33:52.889638Z"
    }
   },
   "outputs": [
    {
     "name": "stdout",
     "output_type": "stream",
     "text": [
      "\u001b[22m---------------------------  -------------------------------------------------------\n",
      "Label                        localhost\n",
      "PK                           1\n",
      "UUID                         6fb174c6-391f-4b08-bd7a-ac119a3fffb0\n",
      "Description                  Localhost automatically created by `verdi presto`\n",
      "Hostname                     localhost\n",
      "Transport type               core.local\n",
      "Scheduler type               core.direct\n",
      "Work directory               /home/nanohub/superstar54/.aiida/scratch/fair-workflows\n",
      "Shebang                      #!/bin/bash\n",
      "Mpirun command               mpirun -np {tot_num_mpiprocs}\n",
      "Default #procs/machine       1\n",
      "Default memory (kB)/machine\n",
      "Prepend text\n",
      "Append text\n",
      "---------------------------  -------------------------------------------------------\u001b[0m\n"
     ]
    }
   ],
   "source": [
    "%verdi computer show localhost"
   ]
  },
  {
   "cell_type": "markdown",
   "id": "6b04f2b4",
   "metadata": {},
   "source": [
    "We can see that the *Work directory* has been set up as the `work` subdirectory of the current directory.\n",
    "This is the directory in which the calculations running on the `localhost` computer will be executed.\n",
    "\n",
    "> **note**\n",
    "> You may have noticed that the PK of the `localhost` computer is 1, same as the `Int` node we created at the start of this tutorial.\n",
    "> This is because different entities, such as nodes, computers and groups, are stored in different tables of the database.\n",
    "> So, the PKs for each entity type are unique for each database, but entities of different types can have the same PK within one database.\n",
    "\n",
    "Let's now load the `add@localhost` code using its label:"
   ]
  },
  {
   "cell_type": "code",
   "execution_count": 16,
   "id": "069e3e38",
   "metadata": {
    "ExecuteTime": {
     "end_time": "2024-08-06T11:33:54.742913Z",
     "start_time": "2024-08-06T11:33:54.704709Z"
    }
   },
   "outputs": [
    {
     "data": {
      "text/plain": [
       "<InstalledCode: Remote code 'add' on localhost pk: 5, uuid: 239759d1-2784-4129-bba2-3e4aabfbcc8d>"
      ]
     },
     "execution_count": 16,
     "metadata": {},
     "output_type": "execute_result"
    }
   ],
   "source": [
    "code = orm.load_code(label='add')\n",
    "code"
   ]
  },
  {
   "cell_type": "markdown",
   "id": "38f1dd99",
   "metadata": {},
   "source": [
    "Every code has a convenient tool for setting up the required input, called the *builder*.\n",
    "It can be obtained by using the `get_builder` method:"
   ]
  },
  {
   "cell_type": "code",
   "execution_count": 17,
   "id": "70bd2511",
   "metadata": {
    "ExecuteTime": {
     "end_time": "2024-08-06T11:34:00.378695Z",
     "start_time": "2024-08-06T11:34:00.327868Z"
    }
   },
   "outputs": [
    {
     "data": {
      "text/plain": [
       "Process class: ArithmeticAddCalculation\n",
       "Inputs:\n",
       "code: add@localhost\n",
       "metadata:\n",
       "  options:\n",
       "    stash: {}\n",
       "monitors: {}\n"
      ]
     },
     "execution_count": 17,
     "metadata": {},
     "output_type": "execute_result"
    }
   ],
   "source": [
    "builder = code.get_builder()\n",
    "builder"
   ]
  },
  {
   "cell_type": "markdown",
   "id": "1143242a",
   "metadata": {},
   "source": [
    "Using the builder, you can easily set up the calculation by directly providing the input arguments.\n",
    "Let's use the `Int` node that was created by our previous `calcfunction` as one of the inputs and a new node as the second input:"
   ]
  },
  {
   "cell_type": "code",
   "execution_count": 18,
   "id": "adcd2d34",
   "metadata": {
    "ExecuteTime": {
     "end_time": "2024-08-06T11:34:01.591078Z",
     "start_time": "2024-08-06T11:34:01.505409Z"
    }
   },
   "outputs": [
    {
     "data": {
      "text/plain": [
       "Process class: ArithmeticAddCalculation\n",
       "Inputs:\n",
       "code: add@localhost\n",
       "metadata:\n",
       "  options:\n",
       "    stash: {}\n",
       "monitors: {}\n",
       "x: 6\n",
       "y: 5\n"
      ]
     },
     "execution_count": 18,
     "metadata": {},
     "output_type": "execute_result"
    }
   ],
   "source": [
    "builder.x = orm.load_node(pk=4)\n",
    "builder.y = orm.Int(5)\n",
    "builder"
   ]
  },
  {
   "cell_type": "markdown",
   "id": "8e7ac82d",
   "metadata": {},
   "source": [
    "In case that your nodes' PKs are different and you don't remember the PK of the output node from the previous calculation, check the provenance graph you generated earlier and use the UUID of the output node instead:\n",
    "\n",
    "```ipython\n",
    "In [3]: builder.x = orm.load_node(uuid='42541d38')\n",
    "   ...: builder.y = orm.Int(5)\n",
    "```\n",
    "\n",
    "Note that you don't have to provide the entire UUID to load the node.\n",
    "As long as the first part of the UUID is unique within your database, AiiDA will find the node you are looking for.\n",
    "\n",
    "> **note**\n",
    "> One nifty feature of the builder is the ability to use tab completion for the inputs.\n",
    "> Try it out by typing `builder.` + `<TAB>` in the verdi shell.\n",
    "\n",
    "To execute the `CalcJob`, we use the `run` function provided by the AiiDA engine, and wait for the process to complete:"
   ]
  },
  {
   "cell_type": "code",
   "execution_count": 19,
   "id": "ab8d5486",
   "metadata": {
    "ExecuteTime": {
     "end_time": "2024-08-06T11:34:06.779733Z",
     "start_time": "2024-08-06T11:34:03.137980Z"
    }
   },
   "outputs": [
    {
     "data": {
      "text/plain": [
       "{'remote_folder': <RemoteData: uuid: 39a0b7ab-026a-4f9c-9579-f2233dc4651d (pk: 8)>,\n",
       " 'retrieved': <FolderData: uuid: 35d7d124-52af-495c-a514-3cfe7983d6af (pk: 9)>,\n",
       " 'sum': <Int: uuid: 7a88895e-b6d8-4cfa-8f96-a8c7c4617a0e (pk: 10) value: 11>}"
      ]
     },
     "execution_count": 19,
     "metadata": {},
     "output_type": "execute_result"
    }
   ],
   "source": [
    "engine.run(builder)"
   ]
  },
  {
   "cell_type": "markdown",
   "id": "ca4c949b",
   "metadata": {},
   "source": [
    "Besides the sum of the two `Int` nodes, the calculation function also returns two other outputs: one of type `RemoteData` and one of type `FolderData`.\n",
    "See the [topics section on calculation jobs](https://aiida.readthedocs.io/projects/aiida-core/en/stable/topics/calculations/usage.html#calculation-jobs) for more details.\n",
    "Now, once more check for *all* processes:"
   ]
  },
  {
   "cell_type": "code",
   "execution_count": 20,
   "id": "d52731cc",
   "metadata": {
    "ExecuteTime": {
     "end_time": "2024-08-06T11:34:08.144558Z",
     "start_time": "2024-08-06T11:34:08.033334Z"
    }
   },
   "outputs": [
    {
     "name": "stdout",
     "output_type": "stream",
     "text": [
      "\u001b[22m  PK  Created    Process label             ♻    Process State    Process status\n",
      "----  ---------  ------------------------  ---  ---------------  ----------------\n",
      "   3  47s ago    multiply                       ⏹ Finished [0]\n",
      "   7  4s ago     ArithmeticAddCalculation       ⏹ Finished [0]\u001b[0m\n",
      "\u001b[22m\n",
      "Total results: 2\n",
      "\u001b[0m\n",
      "\u001b[34m\u001b[1mReport\u001b[0m: \u001b[22m♻ Processes marked with check-mark were not run but taken from the cache.\u001b[0m\n",
      "\u001b[34m\u001b[1mReport\u001b[0m: \u001b[22mAdd the option `-P pk cached_from` to the command to display cache source.\u001b[0m\n",
      "\u001b[34m\u001b[1mReport\u001b[0m: \u001b[22mLast time an entry changed state: 1s ago (at 11:34:06 on 2024-08-06)\u001b[0m\n",
      "\u001b[93m\u001b[1mWarning\u001b[0m: \u001b[22mThis profile does not have a broker and so it has no daemon.\u001b[0m\n"
     ]
    }
   ],
   "source": [
    "%verdi process list -a"
   ]
  },
  {
   "cell_type": "markdown",
   "id": "abd1038f",
   "metadata": {},
   "source": [
    "You should now see two processes in the list.\n",
    "One is the `multiply` calcfunction you ran earlier, the second is the `ArithmeticAddCalculation` CalcJob that you have just run.\n",
    "Grab the PK of the `ArithmeticAddCalculation`, and generate the provenance graph.\n",
    "The result should look like the graph shown below.\n",
    "\n",
    "```console\n",
    "$ verdi node graph generate 7\n",
    "```"
   ]
  },
  {
   "cell_type": "code",
   "execution_count": 21,
   "id": "f1363dd9",
   "metadata": {
    "ExecuteTime": {
     "end_time": "2024-08-06T11:34:13.206219Z",
     "start_time": "2024-08-06T11:34:12.714424Z"
    },
    "mystnb": {
     "image": {
      "align": "center",
      "width": "400px"
     }
    },
    "tags": [
     "hide-input"
    ]
   },
   "outputs": [
    {
     "data": {
      "image/svg+xml": [
       "<?xml version=\"1.0\" encoding=\"UTF-8\" standalone=\"no\"?>\n",
       "<!DOCTYPE svg PUBLIC \"-//W3C//DTD SVG 1.1//EN\"\n",
       " \"http://www.w3.org/Graphics/SVG/1.1/DTD/svg11.dtd\">\n",
       "<!-- Generated by graphviz version 2.40.1 (20161225.0304)\n",
       " -->\n",
       "<!-- Title: %3 Pages: 1 -->\n",
       "<svg width=\"438pt\" height=\"539pt\"\n",
       " viewBox=\"0.00 0.00 438.43 539.22\" xmlns=\"http://www.w3.org/2000/svg\" xmlns:xlink=\"http://www.w3.org/1999/xlink\">\n",
       "<g id=\"graph0\" class=\"graph\" transform=\"scale(1 1) rotate(0) translate(4 535.2203)\">\n",
       "<title>%3</title>\n",
       "<polygon fill=\"#ffffff\" stroke=\"transparent\" points=\"-4,4 -4,-535.2203 434.4264,-535.2203 434.4264,4 -4,4\"/>\n",
       "<!-- N7 -->\n",
       "<g id=\"node1\" class=\"node\">\n",
       "<title>N7</title>\n",
       "<polygon fill=\"#de707f\" stroke=\"#ff0000\" stroke-width=\"6\" points=\"324.9264,-172.7401 143.9264,-172.7401 143.9264,-119.7401 324.9264,-119.7401 324.9264,-172.7401\"/>\n",
       "<text text-anchor=\"middle\" x=\"234.4264\" y=\"-157.5401\" font-family=\"Times,serif\" font-size=\"14.00\" fill=\"#000000\">ArithmeticAddCalculation (7)</text>\n",
       "<text text-anchor=\"middle\" x=\"234.4264\" y=\"-142.5401\" font-family=\"Times,serif\" font-size=\"14.00\" fill=\"#000000\">State: finished</text>\n",
       "<text text-anchor=\"middle\" x=\"234.4264\" y=\"-127.5401\" font-family=\"Times,serif\" font-size=\"14.00\" fill=\"#000000\">Exit Code: 0</text>\n",
       "</g>\n",
       "<!-- N8 -->\n",
       "<g id=\"node8\" class=\"node\">\n",
       "<title>N8</title>\n",
       "<ellipse fill=\"#8cd499\" stroke=\"#000000\" stroke-width=\"0\" cx=\"79.4264\" cy=\"-26.8701\" rx=\"73.5782\" ry=\"26.7407\"/>\n",
       "<text text-anchor=\"middle\" x=\"79.4264\" y=\"-30.6701\" font-family=\"Times,serif\" font-size=\"14.00\" fill=\"#000000\">RemoteData (8)</text>\n",
       "<text text-anchor=\"middle\" x=\"79.4264\" y=\"-15.6701\" font-family=\"Times,serif\" font-size=\"14.00\" fill=\"#000000\">@localhost</text>\n",
       "</g>\n",
       "<!-- N7&#45;&gt;N8 -->\n",
       "<g id=\"edge9\" class=\"edge\">\n",
       "<title>N7&#45;&gt;N8</title>\n",
       "<path fill=\"none\" stroke=\"#000000\" d=\"M179.623,-119.4969C170.2419,-114.0868 160.8229,-108.0918 152.4264,-101.7401 136.4233,-89.6344 120.6307,-74.025 107.8501,-60.1943\"/>\n",
       "<polygon fill=\"#000000\" stroke=\"#000000\" points=\"110.3882,-57.7829 101.0775,-52.7271 105.2032,-62.4856 110.3882,-57.7829\"/>\n",
       "<text text-anchor=\"middle\" x=\"191.4264\" y=\"-90.5401\" font-family=\"Times,serif\" font-size=\"14.00\" fill=\"#000000\">CREATE</text>\n",
       "<text text-anchor=\"middle\" x=\"191.4264\" y=\"-75.5401\" font-family=\"Times,serif\" font-size=\"14.00\" fill=\"#000000\">remote_folder</text>\n",
       "</g>\n",
       "<!-- N9 -->\n",
       "<g id=\"node9\" class=\"node\">\n",
       "<title>N9</title>\n",
       "<ellipse fill=\"#8cd499\" stroke=\"#000000\" stroke-width=\"0\" cx=\"234.4264\" cy=\"-26.8701\" rx=\"63.0888\" ry=\"18\"/>\n",
       "<text text-anchor=\"middle\" x=\"234.4264\" y=\"-23.1701\" font-family=\"Times,serif\" font-size=\"14.00\" fill=\"#000000\">FolderData (9)</text>\n",
       "</g>\n",
       "<!-- N7&#45;&gt;N9 -->\n",
       "<g id=\"edge7\" class=\"edge\">\n",
       "<title>N7&#45;&gt;N9</title>\n",
       "<path fill=\"none\" stroke=\"#000000\" d=\"M234.4264,-119.4511C234.4264,-100.3117 234.4264,-74.6089 234.4264,-55.1418\"/>\n",
       "<polygon fill=\"#000000\" stroke=\"#000000\" points=\"237.9265,-55.0495 234.4264,-45.0495 230.9265,-55.0495 237.9265,-55.0495\"/>\n",
       "<text text-anchor=\"middle\" x=\"260.9264\" y=\"-90.5401\" font-family=\"Times,serif\" font-size=\"14.00\" fill=\"#000000\">CREATE</text>\n",
       "<text text-anchor=\"middle\" x=\"260.9264\" y=\"-75.5401\" font-family=\"Times,serif\" font-size=\"14.00\" fill=\"#000000\">retrieved</text>\n",
       "</g>\n",
       "<!-- N10 -->\n",
       "<g id=\"node10\" class=\"node\">\n",
       "<title>N10</title>\n",
       "<ellipse fill=\"#8cd499\" stroke=\"#000000\" stroke-width=\"0\" cx=\"362.4264\" cy=\"-26.8701\" rx=\"47.2526\" ry=\"26.7407\"/>\n",
       "<text text-anchor=\"middle\" x=\"362.4264\" y=\"-30.6701\" font-family=\"Times,serif\" font-size=\"14.00\" fill=\"#000000\">Int (10)</text>\n",
       "<text text-anchor=\"middle\" x=\"362.4264\" y=\"-15.6701\" font-family=\"Times,serif\" font-size=\"14.00\" fill=\"#000000\">value: 11</text>\n",
       "</g>\n",
       "<!-- N7&#45;&gt;N10 -->\n",
       "<g id=\"edge8\" class=\"edge\">\n",
       "<title>N7&#45;&gt;N10</title>\n",
       "<path fill=\"none\" stroke=\"#000000\" d=\"M270.0664,-119.7392C277.2993,-113.9967 284.7354,-107.8177 291.4264,-101.7401 306.1689,-88.3492 321.4977,-72.4681 334.1229,-58.7854\"/>\n",
       "<polygon fill=\"#000000\" stroke=\"#000000\" points=\"337.0577,-60.7622 341.2191,-51.0188 331.89,-56.0405 337.0577,-60.7622\"/>\n",
       "<text text-anchor=\"middle\" x=\"347.9264\" y=\"-90.5401\" font-family=\"Times,serif\" font-size=\"14.00\" fill=\"#000000\">CREATE</text>\n",
       "<text text-anchor=\"middle\" x=\"347.9264\" y=\"-75.5401\" font-family=\"Times,serif\" font-size=\"14.00\" fill=\"#000000\">sum</text>\n",
       "</g>\n",
       "<!-- N1 -->\n",
       "<g id=\"node2\" class=\"node\">\n",
       "<title>N1</title>\n",
       "<ellipse fill=\"#8cd499\" stroke=\"#000000\" stroke-width=\"0\" cx=\"42.4264\" cy=\"-504.3503\" rx=\"42.3529\" ry=\"26.7407\"/>\n",
       "<text text-anchor=\"middle\" x=\"42.4264\" y=\"-508.1503\" font-family=\"Times,serif\" font-size=\"14.00\" fill=\"#000000\">Int (1)</text>\n",
       "<text text-anchor=\"middle\" x=\"42.4264\" y=\"-493.1503\" font-family=\"Times,serif\" font-size=\"14.00\" fill=\"#000000\">value: 2</text>\n",
       "</g>\n",
       "<!-- N3 -->\n",
       "<g id=\"node4\" class=\"node\">\n",
       "<title>N3</title>\n",
       "<polygon fill=\"#de707f\" fill-opacity=\"0.466667\" stroke=\"#000000\" stroke-width=\"0\" points=\"142.9264,-411.4802 47.9264,-411.4802 47.9264,-358.4802 142.9264,-358.4802 142.9264,-411.4802\"/>\n",
       "<text text-anchor=\"middle\" x=\"95.4264\" y=\"-396.2802\" font-family=\"Times,serif\" font-size=\"14.00\" fill=\"#000000\">multiply (3)</text>\n",
       "<text text-anchor=\"middle\" x=\"95.4264\" y=\"-381.2802\" font-family=\"Times,serif\" font-size=\"14.00\" fill=\"#000000\">State: finished</text>\n",
       "<text text-anchor=\"middle\" x=\"95.4264\" y=\"-366.2802\" font-family=\"Times,serif\" font-size=\"14.00\" fill=\"#000000\">Exit Code: 0</text>\n",
       "</g>\n",
       "<!-- N1&#45;&gt;N3 -->\n",
       "<g id=\"edge3\" class=\"edge\">\n",
       "<title>N1&#45;&gt;N3</title>\n",
       "<path fill=\"none\" stroke=\"#000000\" d=\"M37.562,-477.5123C36.1263,-462.6811 36.4771,-444.3122 43.4264,-429.4802 45.1082,-425.8908 47.2346,-422.4813 49.6613,-419.2656\"/>\n",
       "<polygon fill=\"#000000\" stroke=\"#000000\" points=\"52.3297,-421.5308 56.2296,-411.6798 47.0377,-416.9487 52.3297,-421.5308\"/>\n",
       "<text text-anchor=\"middle\" x=\"84.9264\" y=\"-448.2802\" font-family=\"Times,serif\" font-size=\"14.00\" fill=\"#000000\">INPUT_CALC</text>\n",
       "<text text-anchor=\"middle\" x=\"84.9264\" y=\"-433.2802\" font-family=\"Times,serif\" font-size=\"14.00\" fill=\"#000000\">x</text>\n",
       "</g>\n",
       "<!-- N2 -->\n",
       "<g id=\"node3\" class=\"node\">\n",
       "<title>N2</title>\n",
       "<ellipse fill=\"#8cd499\" stroke=\"#000000\" stroke-width=\"0\" cx=\"148.4264\" cy=\"-504.3503\" rx=\"42.3529\" ry=\"26.7407\"/>\n",
       "<text text-anchor=\"middle\" x=\"148.4264\" y=\"-508.1503\" font-family=\"Times,serif\" font-size=\"14.00\" fill=\"#000000\">Int (2)</text>\n",
       "<text text-anchor=\"middle\" x=\"148.4264\" y=\"-493.1503\" font-family=\"Times,serif\" font-size=\"14.00\" fill=\"#000000\">value: 3</text>\n",
       "</g>\n",
       "<!-- N2&#45;&gt;N3 -->\n",
       "<g id=\"edge5\" class=\"edge\">\n",
       "<title>N2&#45;&gt;N3</title>\n",
       "<path fill=\"none\" stroke=\"#000000\" d=\"M142.7919,-477.595C139.1655,-462.9585 133.7486,-444.7502 126.4264,-429.4802 125.0015,-426.5088 123.3868,-423.518 121.6608,-420.5688\"/>\n",
       "<polygon fill=\"#000000\" stroke=\"#000000\" points=\"124.5062,-418.5182 116.2274,-411.9066 118.5762,-422.2378 124.5062,-418.5182\"/>\n",
       "<text text-anchor=\"middle\" x=\"179.9264\" y=\"-448.2802\" font-family=\"Times,serif\" font-size=\"14.00\" fill=\"#000000\">INPUT_CALC</text>\n",
       "<text text-anchor=\"middle\" x=\"179.9264\" y=\"-433.2802\" font-family=\"Times,serif\" font-size=\"14.00\" fill=\"#000000\">y</text>\n",
       "</g>\n",
       "<!-- N4 -->\n",
       "<g id=\"node5\" class=\"node\">\n",
       "<title>N4</title>\n",
       "<ellipse fill=\"#8cd499\" stroke=\"#000000\" stroke-width=\"0\" cx=\"95.4264\" cy=\"-265.6102\" rx=\"42.3529\" ry=\"26.7407\"/>\n",
       "<text text-anchor=\"middle\" x=\"95.4264\" y=\"-269.4102\" font-family=\"Times,serif\" font-size=\"14.00\" fill=\"#000000\">Int (4)</text>\n",
       "<text text-anchor=\"middle\" x=\"95.4264\" y=\"-254.4102\" font-family=\"Times,serif\" font-size=\"14.00\" fill=\"#000000\">value: 6</text>\n",
       "</g>\n",
       "<!-- N3&#45;&gt;N4 -->\n",
       "<g id=\"edge1\" class=\"edge\">\n",
       "<title>N3&#45;&gt;N4</title>\n",
       "<path fill=\"none\" stroke=\"#000000\" d=\"M95.4264,-358.1913C95.4264,-341.8722 95.4264,-320.7818 95.4264,-302.8533\"/>\n",
       "<polygon fill=\"#000000\" stroke=\"#000000\" points=\"98.9265,-302.7227 95.4264,-292.7227 91.9265,-302.7228 98.9265,-302.7227\"/>\n",
       "<text text-anchor=\"middle\" x=\"121.9264\" y=\"-329.2802\" font-family=\"Times,serif\" font-size=\"14.00\" fill=\"#000000\">CREATE</text>\n",
       "<text text-anchor=\"middle\" x=\"121.9264\" y=\"-314.2802\" font-family=\"Times,serif\" font-size=\"14.00\" fill=\"#000000\">result</text>\n",
       "</g>\n",
       "<!-- N4&#45;&gt;N7 -->\n",
       "<g id=\"edge4\" class=\"edge\">\n",
       "<title>N4&#45;&gt;N7</title>\n",
       "<path fill=\"none\" stroke=\"#000000\" d=\"M108.9281,-239.9604C118.1618,-224.259 131.5782,-204.5917 147.4264,-190.7401 152.5759,-186.2394 158.2609,-182.0526 164.1852,-178.1926\"/>\n",
       "<polygon fill=\"#000000\" stroke=\"#000000\" points=\"166.3157,-180.9914 173.0015,-172.7725 162.6496,-175.0282 166.3157,-180.9914\"/>\n",
       "<text text-anchor=\"middle\" x=\"188.9264\" y=\"-209.5401\" font-family=\"Times,serif\" font-size=\"14.00\" fill=\"#000000\">INPUT_CALC</text>\n",
       "<text text-anchor=\"middle\" x=\"188.9264\" y=\"-194.5401\" font-family=\"Times,serif\" font-size=\"14.00\" fill=\"#000000\">x</text>\n",
       "</g>\n",
       "<!-- N5 -->\n",
       "<g id=\"node6\" class=\"node\">\n",
       "<title>N5</title>\n",
       "<ellipse fill=\"#8cd499\" stroke=\"#000000\" stroke-width=\"0\" cx=\"234.4264\" cy=\"-265.6102\" rx=\"78.4777\" ry=\"26.7407\"/>\n",
       "<text text-anchor=\"middle\" x=\"234.4264\" y=\"-269.4102\" font-family=\"Times,serif\" font-size=\"14.00\" fill=\"#000000\">InstalledCode (5)</text>\n",
       "<text text-anchor=\"middle\" x=\"234.4264\" y=\"-254.4102\" font-family=\"Times,serif\" font-size=\"14.00\" fill=\"#000000\">add@localhost</text>\n",
       "</g>\n",
       "<!-- N5&#45;&gt;N7 -->\n",
       "<g id=\"edge6\" class=\"edge\">\n",
       "<title>N5&#45;&gt;N7</title>\n",
       "<path fill=\"none\" stroke=\"#000000\" d=\"M234.4264,-238.5233C234.4264,-222.0777 234.4264,-200.869 234.4264,-182.9314\"/>\n",
       "<polygon fill=\"#000000\" stroke=\"#000000\" points=\"237.9265,-182.8086 234.4264,-172.8086 230.9265,-182.8087 237.9265,-182.8086\"/>\n",
       "<text text-anchor=\"middle\" x=\"275.9264\" y=\"-209.5401\" font-family=\"Times,serif\" font-size=\"14.00\" fill=\"#000000\">INPUT_CALC</text>\n",
       "<text text-anchor=\"middle\" x=\"275.9264\" y=\"-194.5401\" font-family=\"Times,serif\" font-size=\"14.00\" fill=\"#000000\">code</text>\n",
       "</g>\n",
       "<!-- N6 -->\n",
       "<g id=\"node7\" class=\"node\">\n",
       "<title>N6</title>\n",
       "<ellipse fill=\"#8cd499\" stroke=\"#000000\" stroke-width=\"0\" cx=\"373.4264\" cy=\"-265.6102\" rx=\"42.3529\" ry=\"26.7407\"/>\n",
       "<text text-anchor=\"middle\" x=\"373.4264\" y=\"-269.4102\" font-family=\"Times,serif\" font-size=\"14.00\" fill=\"#000000\">Int (6)</text>\n",
       "<text text-anchor=\"middle\" x=\"373.4264\" y=\"-254.4102\" font-family=\"Times,serif\" font-size=\"14.00\" fill=\"#000000\">value: 5</text>\n",
       "</g>\n",
       "<!-- N6&#45;&gt;N7 -->\n",
       "<g id=\"edge2\" class=\"edge\">\n",
       "<title>N6&#45;&gt;N7</title>\n",
       "<path fill=\"none\" stroke=\"#000000\" d=\"M359.9247,-239.9604C350.691,-224.259 337.2746,-204.5917 321.4264,-190.7401 316.2769,-186.2394 310.5919,-182.0526 304.6676,-178.1926\"/>\n",
       "<polygon fill=\"#000000\" stroke=\"#000000\" points=\"306.2033,-175.0282 295.8513,-172.7725 302.5371,-180.9914 306.2033,-175.0282\"/>\n",
       "<text text-anchor=\"middle\" x=\"388.9264\" y=\"-209.5401\" font-family=\"Times,serif\" font-size=\"14.00\" fill=\"#000000\">INPUT_CALC</text>\n",
       "<text text-anchor=\"middle\" x=\"388.9264\" y=\"-194.5401\" font-family=\"Times,serif\" font-size=\"14.00\" fill=\"#000000\">y</text>\n",
       "</g>\n",
       "</g>\n",
       "</svg>\n"
      ],
      "text/plain": [
       "<graphviz.graphs.Digraph at 0x7f20b291dab0>"
      ]
     },
     "execution_count": 21,
     "metadata": {},
     "output_type": "execute_result"
    }
   ],
   "source": [
    "from aiida.tools.visualization import Graph\n",
    "graph = Graph()\n",
    "calc_node = orm.load_node(7)\n",
    "graph.recurse_ancestors(calc_node, annotate_links=\"both\")\n",
    "graph.add_outgoing(calc_node, annotate_links=\"both\")\n",
    "graph.graphviz"
   ]
  },
  {
   "cell_type": "markdown",
   "id": "427423be",
   "metadata": {},
   "source": [
    "You can see more details on any process, including its inputs and outputs, using the verdi shell:"
   ]
  },
  {
   "cell_type": "code",
   "execution_count": 22,
   "id": "17c58605",
   "metadata": {
    "ExecuteTime": {
     "end_time": "2024-08-06T11:34:21.819460Z",
     "start_time": "2024-08-06T11:34:21.509187Z"
    }
   },
   "outputs": [
    {
     "name": "stdout",
     "output_type": "stream",
     "text": [
      "\u001b[22mProperty     Value\n",
      "-----------  ------------------------------------\n",
      "type         ArithmeticAddCalculation\n",
      "state        Finished [0]\n",
      "pk           7\n",
      "uuid         c8e17909-71e2-4974-8bfd-2c411b81e9aa\n",
      "label\n",
      "description\n",
      "ctime        2024-08-06 11:34:03.209029+00:00\n",
      "mtime        2024-08-06 11:34:06.745011+00:00\n",
      "computer     [1] localhost\n",
      "\n",
      "Inputs      PK  Type\n",
      "--------  ----  -------------\n",
      "code         5  InstalledCode\n",
      "x            4  Int\n",
      "y            6  Int\n",
      "\n",
      "Outputs          PK  Type\n",
      "-------------  ----  ----------\n",
      "remote_folder     8  RemoteData\n",
      "retrieved         9  FolderData\n",
      "sum              10  Int\u001b[0m\n"
     ]
    }
   ],
   "source": [
    "%verdi process show 7"
   ]
  },
  {
   "cell_type": "markdown",
   "id": "e2d0d3bb",
   "metadata": {},
   "source": [
    "## Workflows\n",
    "\n",
    "So far we have executed each process manually.\n",
    "AiiDA allows us to automate these steps by linking them together in a *workflow*, whose provenance is stored to ensure reproducibility.\n",
    "For this tutorial we have prepared a basic `WorkChain` that is already implemented in `aiida-core`.\n",
    "You can see the code below:\n",
    "\n",
    "<details>\n",
    "<summary>Click to show/hide code</summary>\n",
    "\n",
    "```python\n",
    "from aiida.engine import ToContext, WorkChain, calcfunction\n",
    "from aiida.orm import AbstractCode, Int\n",
    "from aiida.plugins.factories import CalculationFactory\n",
    "\n",
    "ArithmeticAddCalculation = CalculationFactory('core.arithmetic.add')\n",
    "\n",
    "\n",
    "@calcfunction\n",
    "def multiply(x, y):\n",
    "    return x * y\n",
    "\n",
    "\n",
    "class MultiplyAddWorkChain(WorkChain):\n",
    "    \"\"\"WorkChain to multiply two numbers and add a third, for testing and demonstration purposes.\"\"\"\n",
    "\n",
    "    @classmethod\n",
    "    def define(cls, spec):\n",
    "        \"\"\"Specify inputs and outputs.\"\"\"\n",
    "        super().define(spec)\n",
    "        spec.input('x', valid_type=Int)\n",
    "        spec.input('y', valid_type=Int)\n",
    "        spec.input('z', valid_type=Int)\n",
    "        spec.input('code', valid_type=AbstractCode)\n",
    "        spec.outline(\n",
    "            cls.multiply,\n",
    "            cls.add,\n",
    "            cls.validate_result,\n",
    "            cls.result,\n",
    "        )\n",
    "        spec.output('result', valid_type=Int)\n",
    "        spec.exit_code(400, 'ERROR_NEGATIVE_NUMBER', message='The result is a negative number.')\n",
    "\n",
    "    def multiply(self):\n",
    "        \"\"\"Multiply two integers.\"\"\"\n",
    "        self.ctx.product = multiply(self.inputs.x, self.inputs.y)\n",
    "\n",
    "    def add(self):\n",
    "        \"\"\"Add two numbers using the `ArithmeticAddCalculation` calculation job plugin.\"\"\"\n",
    "        inputs = {'x': self.ctx.product, 'y': self.inputs.z, 'code': self.inputs.code}\n",
    "        future = self.submit(ArithmeticAddCalculation, **inputs)\n",
    "\n",
    "        return ToContext(addition=future)\n",
    "\n",
    "    def validate_result(self):\n",
    "        \"\"\"Make sure the result is not negative.\"\"\"\n",
    "        result = self.ctx.addition.outputs.sum\n",
    "\n",
    "        if result.value < 0:\n",
    "            return self.exit_codes.ERROR_NEGATIVE_NUMBER\n",
    "\n",
    "    def result(self):\n",
    "        \"\"\"Add the result to the outputs.\"\"\"\n",
    "        self.out('result', self.ctx.addition.outputs.sum)\n",
    "```\n",
    "First, we recognize the `multiply` function we have used earlier, decorated as a `calcfunction`.\n",
    "The `define` class method specifies the `input` and `output` of the `WorkChain`, as well as the `outline`, which are the steps of the workflow.\n",
    "These steps are provided as methods of the `MultiplyAddWorkChain` class.\n"
   ]
  },
  {
   "cell_type": "markdown",
   "id": "ee5fc0bb",
   "metadata": {},
   "source": [
    "Let's import and run the `MultiplyAddWorkChain`. Similar to a `CalcJob`, the `WorkChain` input can be set up using a builder:"
   ]
  },
  {
   "cell_type": "code",
   "execution_count": 24,
   "id": "6a0f975f",
   "metadata": {
    "ExecuteTime": {
     "end_time": "2024-08-06T11:34:37.744088Z",
     "start_time": "2024-08-06T11:34:37.657497Z"
    }
   },
   "outputs": [
    {
     "data": {
      "text/plain": [
       "Process class: MultiplyAddWorkChain\n",
       "Inputs:\n",
       "code: add@localhost\n",
       "metadata: {}\n",
       "x: 2\n",
       "y: 3\n",
       "z: 5\n"
      ]
     },
     "execution_count": 24,
     "metadata": {},
     "output_type": "execute_result"
    }
   ],
   "source": [
    "from aiida.workflows.arithmetic.multiply_add import MultiplyAddWorkChain\n",
    "\n",
    "from aiida import orm\n",
    "builder = MultiplyAddWorkChain.get_builder()\n",
    "builder.code = orm.load_code(label='add')\n",
    "builder.x = orm.Int(2)\n",
    "builder.y = orm.Int(3)\n",
    "builder.z = orm.Int(5)\n",
    "builder"
   ]
  },
  {
   "cell_type": "markdown",
   "id": "cd1bb5da",
   "metadata": {},
   "source": [
    "Once the `WorkChain` input has been set up, we run it with the AiiDA engine:"
   ]
  },
  {
   "cell_type": "code",
   "execution_count": 25,
   "id": "08c9890e",
   "metadata": {
    "ExecuteTime": {
     "end_time": "2024-08-06T11:34:45.092658Z",
     "start_time": "2024-08-06T11:34:39.033732Z"
    }
   },
   "outputs": [
    {
     "name": "stdout",
     "output_type": "stream",
     "text": [
      "\u001b[34m\u001b[1mReport\u001b[0m: [14|MultiplyAddWorkChain|add]: Submitted the `ArithmeticAddCalculation`: uuid: 3e0155a1-a1d8-4923-a3e4-997b98839b76 (pk: 17) (aiida.calculations:core.arithmetic.add)\n"
     ]
    },
    {
     "data": {
      "text/plain": [
       "{'result': <Int: uuid: d95eb6ad-fc11-4739-97fa-c5eef6b7b2b1 (pk: 20) value: 11>}"
      ]
     },
     "execution_count": 25,
     "metadata": {},
     "output_type": "execute_result"
    }
   ],
   "source": [
    "from aiida import engine\n",
    "engine.run(builder)"
   ]
  },
  {
   "cell_type": "markdown",
   "id": "0003d35f",
   "metadata": {},
   "source": [
    "Now quickly leave the IPython shell and check the process list:"
   ]
  },
  {
   "cell_type": "code",
   "execution_count": 26,
   "id": "7a45ba34",
   "metadata": {
    "ExecuteTime": {
     "end_time": "2024-08-06T11:34:45.482527Z",
     "start_time": "2024-08-06T11:34:45.421545Z"
    }
   },
   "outputs": [
    {
     "name": "stdout",
     "output_type": "stream",
     "text": [
      "\u001b[22m  PK  Created    Process label             ♻    Process State    Process status\n",
      "----  ---------  ------------------------  ---  ---------------  ----------------\n",
      "   3  1m ago     multiply                       ⏹ Finished [0]\n",
      "   7  42s ago    ArithmeticAddCalculation       ⏹ Finished [0]\n",
      "  14  6s ago     MultiplyAddWorkChain           ⏹ Finished [0]\n",
      "  15  5s ago     multiply                       ⏹ Finished [0]\n",
      "  17  4s ago     ArithmeticAddCalculation       ⏹ Finished [0]\u001b[0m\n",
      "\u001b[22m\n",
      "Total results: 5\n",
      "\u001b[0m\n",
      "\u001b[34m\u001b[1mReport\u001b[0m: \u001b[22m♻ Processes marked with check-mark were not run but taken from the cache.\u001b[0m\n",
      "\u001b[34m\u001b[1mReport\u001b[0m: \u001b[22mAdd the option `-P pk cached_from` to the command to display cache source.\u001b[0m\n",
      "\u001b[34m\u001b[1mReport\u001b[0m: \u001b[22mLast time an entry changed state: 0s ago (at 11:34:45 on 2024-08-06)\u001b[0m\n",
      "\u001b[93m\u001b[1mWarning\u001b[0m: \u001b[22mThis profile does not have a broker and so it has no daemon.\u001b[0m\n"
     ]
    }
   ],
   "source": [
    "%verdi process list -a"
   ]
  },
  {
   "cell_type": "markdown",
   "id": "86147926",
   "metadata": {},
   "source": [
    "We can see that the `MultiplyAddWorkChain` and its *child process* should be in the `Finished` state."
   ]
  },
  {
   "cell_type": "markdown",
   "id": "14ffbf84",
   "metadata": {},
   "source": [
    "We can now generate the full provenance graph for the `WorkChain` with:\n",
    "\n",
    "```console\n",
    "$ verdi node graph generate 14\n",
    "```"
   ]
  },
  {
   "cell_type": "code",
   "execution_count": 27,
   "id": "3c577cbb",
   "metadata": {
    "ExecuteTime": {
     "end_time": "2024-08-06T11:34:50.257791Z",
     "start_time": "2024-08-06T11:34:49.753779Z"
    },
    "mystnb": {
     "image": {
      "align": "center",
      "width": "400px"
     }
    },
    "tags": [
     "hide-input"
    ]
   },
   "outputs": [
    {
     "data": {
      "image/svg+xml": [
       "<?xml version=\"1.0\" encoding=\"UTF-8\" standalone=\"no\"?>\n",
       "<!DOCTYPE svg PUBLIC \"-//W3C//DTD SVG 1.1//EN\"\n",
       " \"http://www.w3.org/Graphics/SVG/1.1/DTD/svg11.dtd\">\n",
       "<!-- Generated by graphviz version 2.40.1 (20161225.0304)\n",
       " -->\n",
       "<!-- Title: %3 Pages: 1 -->\n",
       "<svg width=\"545pt\" height=\"658pt\"\n",
       " viewBox=\"0.00 0.00 545.49 658.22\" xmlns=\"http://www.w3.org/2000/svg\" xmlns:xlink=\"http://www.w3.org/1999/xlink\">\n",
       "<g id=\"graph0\" class=\"graph\" transform=\"scale(1 1) rotate(0) translate(4 654.2203)\">\n",
       "<title>%3</title>\n",
       "<polygon fill=\"#ffffff\" stroke=\"transparent\" points=\"-4,4 -4,-654.2203 541.4889,-654.2203 541.4889,4 -4,4\"/>\n",
       "<!-- N14 -->\n",
       "<g id=\"node1\" class=\"node\">\n",
       "<title>N14</title>\n",
       "<polygon fill=\"#e38851\" stroke=\"#ff0000\" stroke-width=\"6\" points=\"381.4889,-530.4802 203.4889,-530.4802 203.4889,-477.4802 381.4889,-477.4802 381.4889,-530.4802\"/>\n",
       "<text text-anchor=\"middle\" x=\"292.4889\" y=\"-515.2802\" font-family=\"Times,serif\" font-size=\"14.00\" fill=\"#000000\">MultiplyAddWorkChain (14)</text>\n",
       "<text text-anchor=\"middle\" x=\"292.4889\" y=\"-500.2802\" font-family=\"Times,serif\" font-size=\"14.00\" fill=\"#000000\">State: finished</text>\n",
       "<text text-anchor=\"middle\" x=\"292.4889\" y=\"-485.2802\" font-family=\"Times,serif\" font-size=\"14.00\" fill=\"#000000\">Exit Code: 0</text>\n",
       "</g>\n",
       "<!-- N15 -->\n",
       "<g id=\"node6\" class=\"node\">\n",
       "<title>N15</title>\n",
       "<polygon fill=\"#de707f\" fill-opacity=\"0.466667\" stroke=\"#000000\" stroke-width=\"0\" points=\"244.9889,-411.4802 149.9889,-411.4802 149.9889,-358.4802 244.9889,-358.4802 244.9889,-411.4802\"/>\n",
       "<text text-anchor=\"middle\" x=\"197.4889\" y=\"-396.2802\" font-family=\"Times,serif\" font-size=\"14.00\" fill=\"#000000\">multiply (15)</text>\n",
       "<text text-anchor=\"middle\" x=\"197.4889\" y=\"-381.2802\" font-family=\"Times,serif\" font-size=\"14.00\" fill=\"#000000\">State: finished</text>\n",
       "<text text-anchor=\"middle\" x=\"197.4889\" y=\"-366.2802\" font-family=\"Times,serif\" font-size=\"14.00\" fill=\"#000000\">Exit Code: 0</text>\n",
       "</g>\n",
       "<!-- N14&#45;&gt;N15 -->\n",
       "<g id=\"edge5\" class=\"edge\">\n",
       "<title>N14&#45;&gt;N15</title>\n",
       "<path fill=\"none\" stroke=\"#000000\" stroke-dasharray=\"1,5\" d=\"M216.4666,-477.2167C209.8454,-472.248 203.9712,-466.3868 199.4889,-459.4802 192.3746,-448.5184 190.5627,-434.6098 190.9765,-421.7859\"/>\n",
       "<polygon fill=\"#000000\" stroke=\"#000000\" points=\"194.4668,-422.0454 191.7268,-411.811 187.4865,-421.5203 194.4668,-422.0454\"/>\n",
       "<text text-anchor=\"middle\" x=\"238.9889\" y=\"-448.2802\" font-family=\"Times,serif\" font-size=\"14.00\" fill=\"#000000\">CALL_CALC</text>\n",
       "<text text-anchor=\"middle\" x=\"238.9889\" y=\"-433.2802\" font-family=\"Times,serif\" font-size=\"14.00\" fill=\"#000000\">CALL</text>\n",
       "</g>\n",
       "<!-- N17 -->\n",
       "<g id=\"node8\" class=\"node\">\n",
       "<title>N17</title>\n",
       "<polygon fill=\"#de707f\" stroke=\"#000000\" stroke-width=\"0\" points=\"336.4889,-172.7401 148.4889,-172.7401 148.4889,-119.7401 336.4889,-119.7401 336.4889,-172.7401\"/>\n",
       "<text text-anchor=\"middle\" x=\"242.4889\" y=\"-157.5401\" font-family=\"Times,serif\" font-size=\"14.00\" fill=\"#000000\">ArithmeticAddCalculation (17)</text>\n",
       "<text text-anchor=\"middle\" x=\"242.4889\" y=\"-142.5401\" font-family=\"Times,serif\" font-size=\"14.00\" fill=\"#000000\">State: finished</text>\n",
       "<text text-anchor=\"middle\" x=\"242.4889\" y=\"-127.5401\" font-family=\"Times,serif\" font-size=\"14.00\" fill=\"#000000\">Exit Code: 0</text>\n",
       "</g>\n",
       "<!-- N14&#45;&gt;N17 -->\n",
       "<g id=\"edge11\" class=\"edge\">\n",
       "<title>N14&#45;&gt;N17</title>\n",
       "<path fill=\"none\" stroke=\"#000000\" stroke-dasharray=\"1,5\" d=\"M292.2498,-477.3545C291.4803,-406.5393 288.5009,-217.1445 278.4889,-190.7401 277.2535,-187.4822 275.6813,-184.282 273.8875,-181.1847\"/>\n",
       "<polygon fill=\"#000000\" stroke=\"#000000\" points=\"276.7659,-179.1917 268.3419,-172.7662 270.9202,-183.0426 276.7659,-179.1917\"/>\n",
       "<text text-anchor=\"middle\" x=\"328.9889\" y=\"-329.2802\" font-family=\"Times,serif\" font-size=\"14.00\" fill=\"#000000\">CALL_CALC</text>\n",
       "<text text-anchor=\"middle\" x=\"328.9889\" y=\"-314.2802\" font-family=\"Times,serif\" font-size=\"14.00\" fill=\"#000000\">CALL</text>\n",
       "</g>\n",
       "<!-- N20 -->\n",
       "<g id=\"node11\" class=\"node\">\n",
       "<title>N20</title>\n",
       "<ellipse fill=\"#8cd499\" stroke=\"#000000\" stroke-width=\"0\" cx=\"381.4889\" cy=\"-26.8701\" rx=\"47.2526\" ry=\"26.7407\"/>\n",
       "<text text-anchor=\"middle\" x=\"381.4889\" y=\"-30.6701\" font-family=\"Times,serif\" font-size=\"14.00\" fill=\"#000000\">Int (20)</text>\n",
       "<text text-anchor=\"middle\" x=\"381.4889\" y=\"-15.6701\" font-family=\"Times,serif\" font-size=\"14.00\" fill=\"#000000\">value: 11</text>\n",
       "</g>\n",
       "<!-- N14&#45;&gt;N20 -->\n",
       "<g id=\"edge12\" class=\"edge\">\n",
       "<title>N14&#45;&gt;N20</title>\n",
       "<path fill=\"none\" stroke=\"#000000\" stroke-dasharray=\"5,2\" d=\"M330.7223,-477.3481C356.7467,-455.8055 386.4889,-422.8921 386.4889,-384.9802 386.4889,-384.9802 386.4889,-384.9802 386.4889,-146.2401 386.4889,-118.7195 385.1458,-87.6612 383.8518,-64.1246\"/>\n",
       "<polygon fill=\"#000000\" stroke=\"#000000\" points=\"387.3312,-63.6633 383.2657,-53.8795 380.3427,-64.0631 387.3312,-63.6633\"/>\n",
       "<text text-anchor=\"middle\" x=\"413.9889\" y=\"-269.4102\" font-family=\"Times,serif\" font-size=\"14.00\" fill=\"#000000\">RETURN</text>\n",
       "<text text-anchor=\"middle\" x=\"413.9889\" y=\"-254.4102\" font-family=\"Times,serif\" font-size=\"14.00\" fill=\"#000000\">result</text>\n",
       "</g>\n",
       "<!-- N5 -->\n",
       "<g id=\"node2\" class=\"node\">\n",
       "<title>N5</title>\n",
       "<ellipse fill=\"#8cd499\" stroke=\"#000000\" stroke-width=\"0\" cx=\"97.4889\" cy=\"-623.3503\" rx=\"78.4777\" ry=\"26.7407\"/>\n",
       "<text text-anchor=\"middle\" x=\"97.4889\" y=\"-627.1503\" font-family=\"Times,serif\" font-size=\"14.00\" fill=\"#000000\">InstalledCode (5)</text>\n",
       "<text text-anchor=\"middle\" x=\"97.4889\" y=\"-612.1503\" font-family=\"Times,serif\" font-size=\"14.00\" fill=\"#000000\">add@localhost</text>\n",
       "</g>\n",
       "<!-- N5&#45;&gt;N14 -->\n",
       "<g id=\"edge2\" class=\"edge\">\n",
       "<title>N5&#45;&gt;N14</title>\n",
       "<path fill=\"none\" stroke=\"#000000\" stroke-dasharray=\"5,2\" d=\"M105.9038,-596.2773C112.1989,-580.2332 122.361,-560.7098 137.4889,-548.4802 147.2434,-540.5946 169.1592,-532.7773 193.5277,-525.9466\"/>\n",
       "<polygon fill=\"#000000\" stroke=\"#000000\" points=\"194.6066,-529.2805 203.3389,-523.2808 192.7711,-522.5254 194.6066,-529.2805\"/>\n",
       "<text text-anchor=\"middle\" x=\"181.9889\" y=\"-567.2802\" font-family=\"Times,serif\" font-size=\"14.00\" fill=\"#000000\">INPUT_WORK</text>\n",
       "<text text-anchor=\"middle\" x=\"181.9889\" y=\"-552.2802\" font-family=\"Times,serif\" font-size=\"14.00\" fill=\"#000000\">code</text>\n",
       "</g>\n",
       "<!-- N11 -->\n",
       "<g id=\"node3\" class=\"node\">\n",
       "<title>N11</title>\n",
       "<ellipse fill=\"#8cd499\" stroke=\"#000000\" stroke-width=\"0\" cx=\"236.4889\" cy=\"-623.3503\" rx=\"42.3529\" ry=\"26.7407\"/>\n",
       "<text text-anchor=\"middle\" x=\"236.4889\" y=\"-627.1503\" font-family=\"Times,serif\" font-size=\"14.00\" fill=\"#000000\">Int (11)</text>\n",
       "<text text-anchor=\"middle\" x=\"236.4889\" y=\"-612.1503\" font-family=\"Times,serif\" font-size=\"14.00\" fill=\"#000000\">value: 2</text>\n",
       "</g>\n",
       "<!-- N11&#45;&gt;N14 -->\n",
       "<g id=\"edge3\" class=\"edge\">\n",
       "<title>N11&#45;&gt;N14</title>\n",
       "<path fill=\"none\" stroke=\"#000000\" stroke-dasharray=\"5,2\" d=\"M231.4668,-596.4371C229.9817,-581.5824 230.3357,-563.215 237.4889,-548.4802 239.2489,-544.8546 241.4614,-541.4274 243.9813,-538.2072\"/>\n",
       "<polygon fill=\"#000000\" stroke=\"#000000\" points=\"246.7086,-540.4088 250.7961,-530.6342 241.5052,-535.7264 246.7086,-540.4088\"/>\n",
       "<text text-anchor=\"middle\" x=\"281.9889\" y=\"-567.2802\" font-family=\"Times,serif\" font-size=\"14.00\" fill=\"#000000\">INPUT_WORK</text>\n",
       "<text text-anchor=\"middle\" x=\"281.9889\" y=\"-552.2802\" font-family=\"Times,serif\" font-size=\"14.00\" fill=\"#000000\">x</text>\n",
       "</g>\n",
       "<!-- N12 -->\n",
       "<g id=\"node4\" class=\"node\">\n",
       "<title>N12</title>\n",
       "<ellipse fill=\"#8cd499\" stroke=\"#000000\" stroke-width=\"0\" cx=\"348.4889\" cy=\"-623.3503\" rx=\"42.3529\" ry=\"26.7407\"/>\n",
       "<text text-anchor=\"middle\" x=\"348.4889\" y=\"-627.1503\" font-family=\"Times,serif\" font-size=\"14.00\" fill=\"#000000\">Int (12)</text>\n",
       "<text text-anchor=\"middle\" x=\"348.4889\" y=\"-612.1503\" font-family=\"Times,serif\" font-size=\"14.00\" fill=\"#000000\">value: 3</text>\n",
       "</g>\n",
       "<!-- N12&#45;&gt;N14 -->\n",
       "<g id=\"edge4\" class=\"edge\">\n",
       "<title>N12&#45;&gt;N14</title>\n",
       "<path fill=\"none\" stroke=\"#000000\" stroke-dasharray=\"5,2\" d=\"M343.1166,-596.4657C339.5696,-581.79 334.145,-563.5855 326.4889,-548.4802 324.9023,-545.3501 323.0873,-542.218 321.1398,-539.1467\"/>\n",
       "<polygon fill=\"#000000\" stroke=\"#000000\" points=\"323.907,-536.9924 315.3799,-530.7044 318.1246,-540.9375 323.907,-536.9924\"/>\n",
       "<text text-anchor=\"middle\" x=\"381.9889\" y=\"-567.2802\" font-family=\"Times,serif\" font-size=\"14.00\" fill=\"#000000\">INPUT_WORK</text>\n",
       "<text text-anchor=\"middle\" x=\"381.9889\" y=\"-552.2802\" font-family=\"Times,serif\" font-size=\"14.00\" fill=\"#000000\">y</text>\n",
       "</g>\n",
       "<!-- N13 -->\n",
       "<g id=\"node5\" class=\"node\">\n",
       "<title>N13</title>\n",
       "<ellipse fill=\"#8cd499\" stroke=\"#000000\" stroke-width=\"0\" cx=\"460.4889\" cy=\"-623.3503\" rx=\"42.3529\" ry=\"26.7407\"/>\n",
       "<text text-anchor=\"middle\" x=\"460.4889\" y=\"-627.1503\" font-family=\"Times,serif\" font-size=\"14.00\" fill=\"#000000\">Int (13)</text>\n",
       "<text text-anchor=\"middle\" x=\"460.4889\" y=\"-612.1503\" font-family=\"Times,serif\" font-size=\"14.00\" fill=\"#000000\">value: 5</text>\n",
       "</g>\n",
       "<!-- N13&#45;&gt;N14 -->\n",
       "<g id=\"edge1\" class=\"edge\">\n",
       "<title>N13&#45;&gt;N14</title>\n",
       "<path fill=\"none\" stroke=\"#000000\" stroke-dasharray=\"5,2\" d=\"M455.7038,-596.5453C451.5568,-580.6021 444.003,-561.0905 430.4889,-548.4802 419.241,-537.9846 405.4989,-529.9641 391.0945,-523.8351\"/>\n",
       "<polygon fill=\"#000000\" stroke=\"#000000\" points=\"392.1394,-520.485 381.5526,-520.0736 389.5722,-526.9972 392.1394,-520.485\"/>\n",
       "<text text-anchor=\"middle\" x=\"492.9889\" y=\"-567.2802\" font-family=\"Times,serif\" font-size=\"14.00\" fill=\"#000000\">INPUT_WORK</text>\n",
       "<text text-anchor=\"middle\" x=\"492.9889\" y=\"-552.2802\" font-family=\"Times,serif\" font-size=\"14.00\" fill=\"#000000\">z</text>\n",
       "</g>\n",
       "<!-- N16 -->\n",
       "<g id=\"node7\" class=\"node\">\n",
       "<title>N16</title>\n",
       "<ellipse fill=\"#8cd499\" stroke=\"#000000\" stroke-width=\"0\" cx=\"194.4889\" cy=\"-265.6102\" rx=\"42.3529\" ry=\"26.7407\"/>\n",
       "<text text-anchor=\"middle\" x=\"194.4889\" y=\"-269.4102\" font-family=\"Times,serif\" font-size=\"14.00\" fill=\"#000000\">Int (16)</text>\n",
       "<text text-anchor=\"middle\" x=\"194.4889\" y=\"-254.4102\" font-family=\"Times,serif\" font-size=\"14.00\" fill=\"#000000\">value: 6</text>\n",
       "</g>\n",
       "<!-- N15&#45;&gt;N16 -->\n",
       "<g id=\"edge7\" class=\"edge\">\n",
       "<title>N15&#45;&gt;N16</title>\n",
       "<path fill=\"none\" stroke=\"#000000\" d=\"M196.8156,-358.1913C196.4055,-341.8722 195.8754,-320.7818 195.4248,-302.8533\"/>\n",
       "<polygon fill=\"#000000\" stroke=\"#000000\" points=\"198.9205,-302.6316 195.1702,-292.7227 191.9227,-302.8076 198.9205,-302.6316\"/>\n",
       "<text text-anchor=\"middle\" x=\"221.9889\" y=\"-329.2802\" font-family=\"Times,serif\" font-size=\"14.00\" fill=\"#000000\">CREATE</text>\n",
       "<text text-anchor=\"middle\" x=\"221.9889\" y=\"-314.2802\" font-family=\"Times,serif\" font-size=\"14.00\" fill=\"#000000\">result</text>\n",
       "</g>\n",
       "<!-- N16&#45;&gt;N17 -->\n",
       "<g id=\"edge9\" class=\"edge\">\n",
       "<title>N16&#45;&gt;N17</title>\n",
       "<path fill=\"none\" stroke=\"#000000\" d=\"M189.8827,-238.5508C188.5753,-223.8222 188.9665,-205.623 195.4889,-190.7401 196.9984,-187.2955 198.9166,-183.991 201.1108,-180.8488\"/>\n",
       "<polygon fill=\"#000000\" stroke=\"#000000\" points=\"203.9407,-182.9146 207.4723,-172.9256 198.4824,-178.532 203.9407,-182.9146\"/>\n",
       "<text text-anchor=\"middle\" x=\"236.9889\" y=\"-209.5401\" font-family=\"Times,serif\" font-size=\"14.00\" fill=\"#000000\">INPUT_CALC</text>\n",
       "<text text-anchor=\"middle\" x=\"236.9889\" y=\"-194.5401\" font-family=\"Times,serif\" font-size=\"14.00\" fill=\"#000000\">x</text>\n",
       "</g>\n",
       "<!-- N18 -->\n",
       "<g id=\"node9\" class=\"node\">\n",
       "<title>N18</title>\n",
       "<ellipse fill=\"#8cd499\" stroke=\"#000000\" stroke-width=\"0\" cx=\"78.4889\" cy=\"-26.8701\" rx=\"78.4777\" ry=\"26.7407\"/>\n",
       "<text text-anchor=\"middle\" x=\"78.4889\" y=\"-30.6701\" font-family=\"Times,serif\" font-size=\"14.00\" fill=\"#000000\">RemoteData (18)</text>\n",
       "<text text-anchor=\"middle\" x=\"78.4889\" y=\"-15.6701\" font-family=\"Times,serif\" font-size=\"14.00\" fill=\"#000000\">@localhost</text>\n",
       "</g>\n",
       "<!-- N17&#45;&gt;N18 -->\n",
       "<g id=\"edge6\" class=\"edge\">\n",
       "<title>N17&#45;&gt;N18</title>\n",
       "<path fill=\"none\" stroke=\"#000000\" d=\"M188.856,-119.5792C179.1602,-114.0803 169.3301,-108.0332 160.4889,-101.7401 142.9689,-89.2696 125.1472,-73.4506 110.6135,-59.5693\"/>\n",
       "<polygon fill=\"#000000\" stroke=\"#000000\" points=\"112.9497,-56.9593 103.3321,-52.5149 108.0789,-61.9869 112.9497,-56.9593\"/>\n",
       "<text text-anchor=\"middle\" x=\"199.4889\" y=\"-90.5401\" font-family=\"Times,serif\" font-size=\"14.00\" fill=\"#000000\">CREATE</text>\n",
       "<text text-anchor=\"middle\" x=\"199.4889\" y=\"-75.5401\" font-family=\"Times,serif\" font-size=\"14.00\" fill=\"#000000\">remote_folder</text>\n",
       "</g>\n",
       "<!-- N19 -->\n",
       "<g id=\"node10\" class=\"node\">\n",
       "<title>N19</title>\n",
       "<ellipse fill=\"#8cd499\" stroke=\"#000000\" stroke-width=\"0\" cx=\"242.4889\" cy=\"-26.8701\" rx=\"67.6881\" ry=\"18\"/>\n",
       "<text text-anchor=\"middle\" x=\"242.4889\" y=\"-23.1701\" font-family=\"Times,serif\" font-size=\"14.00\" fill=\"#000000\">FolderData (19)</text>\n",
       "</g>\n",
       "<!-- N17&#45;&gt;N19 -->\n",
       "<g id=\"edge10\" class=\"edge\">\n",
       "<title>N17&#45;&gt;N19</title>\n",
       "<path fill=\"none\" stroke=\"#000000\" d=\"M242.4889,-119.4511C242.4889,-100.3117 242.4889,-74.6089 242.4889,-55.1418\"/>\n",
       "<polygon fill=\"#000000\" stroke=\"#000000\" points=\"245.989,-55.0495 242.4889,-45.0495 238.989,-55.0495 245.989,-55.0495\"/>\n",
       "<text text-anchor=\"middle\" x=\"268.9889\" y=\"-90.5401\" font-family=\"Times,serif\" font-size=\"14.00\" fill=\"#000000\">CREATE</text>\n",
       "<text text-anchor=\"middle\" x=\"268.9889\" y=\"-75.5401\" font-family=\"Times,serif\" font-size=\"14.00\" fill=\"#000000\">retrieved</text>\n",
       "</g>\n",
       "<!-- N17&#45;&gt;N20 -->\n",
       "<g id=\"edge8\" class=\"edge\">\n",
       "<title>N17&#45;&gt;N20</title>\n",
       "<path fill=\"none\" stroke=\"#000000\" d=\"M277.2306,-119.5907C283.8687,-113.9572 290.5825,-107.8579 296.4889,-101.7401 308.1582,-89.653 307.4459,-83.455 319.4889,-71.7401 326.2034,-65.2085 333.9218,-58.8714 341.5819,-53.1171\"/>\n",
       "<polygon fill=\"#000000\" stroke=\"#000000\" points=\"343.7955,-55.8349 349.8207,-47.1202 339.676,-50.1754 343.7955,-55.8349\"/>\n",
       "<text text-anchor=\"middle\" x=\"345.9889\" y=\"-90.5401\" font-family=\"Times,serif\" font-size=\"14.00\" fill=\"#000000\">CREATE</text>\n",
       "<text text-anchor=\"middle\" x=\"345.9889\" y=\"-75.5401\" font-family=\"Times,serif\" font-size=\"14.00\" fill=\"#000000\">sum</text>\n",
       "</g>\n",
       "</g>\n",
       "</svg>\n"
      ],
      "text/plain": [
       "<graphviz.graphs.Digraph at 0x7f20b24d36a0>"
      ]
     },
     "execution_count": 27,
     "metadata": {},
     "output_type": "execute_result"
    }
   ],
   "source": [
    "from aiida.tools.visualization import Graph\n",
    "graph = Graph()\n",
    "calc_node = orm.load_node(14)\n",
    "graph.recurse_ancestors(calc_node, annotate_links=\"both\")\n",
    "graph.recurse_descendants(calc_node, annotate_links=\"both\")\n",
    "graph.graphviz"
   ]
  },
  {
   "cell_type": "markdown",
   "id": "e9e8ba61",
   "metadata": {},
   "source": [
    "# Next Steps\n",
    "\n",
    "Congratulations! You have completed the first step to becoming an AiiDA expert.\n",
    "\n",
    "To further enhance your skills, we have compiled several how-to guides tailored for key use cases:\n",
    "\n",
    "- **Querying and Sharing Your Data**: Once you have run multiple computations, the [Managing Data](3-managing-data.ipynb) guide will show you how to efficiently explore and share your data.\n",
    "\n",
    "- **Real-World Example**: The [Quantum Espresso](2-qe-pw-aiida.ipynb) guide demonstrates how to run a Quantum Espresso calculation using AiiDA, providing a practical example of its application.\n",
    "\n",
    "- **Designing a Workflow**: Learn how to encode the logic of a typical scientific workflow with the [EOS Workflow](4-eos-workflow.ipynb) guide.\n",
    "\n",
    "These resources will help you deepen your understanding and proficiency with AiiDA. Happy exploring!\n"
   ]
  }
 ],
 "metadata": {
  "execution": {
   "timeout": 60
  },
  "kernelspec": {
   "display_name": "Python3.10 (AIIDA)",
   "language": "python",
   "name": "aiida"
  },
  "language_info": {
   "codemirror_mode": {
    "name": "ipython",
    "version": 3
   },
   "file_extension": ".py",
   "mimetype": "text/x-python",
   "name": "python",
   "nbconvert_exporter": "python",
   "pygments_lexer": "ipython3",
   "version": "3.10.6"
  },
  "source_map": [
   14,
   41,
   65,
   102,
   106,
   110,
   112,
   123,
   125,
   141,
   143,
   167,
   173,
   178,
   180,
   185,
   187,
   191,
   193,
   199,
   201,
   208,
   210,
   216,
   218,
   234,
   251,
   302,
   308,
   314,
   316,
   323,
   325,
   338,
   341,
   346,
   349,
   354,
   358,
   377,
   379,
   385,
   387,
   398,
   416,
   420,
   422,
   444,
   500,
   511,
   514,
   521,
   529,
   533,
   536,
   540,
   542,
   571,
   573,
   584,
   602
  ],
  "toc": {
   "base_numbering": 1,
   "nav_menu": {},
   "number_sections": true,
   "sideBar": true,
   "skip_h1_title": false,
   "title_cell": "Table of Contents",
   "title_sidebar": "Contents",
   "toc_cell": false,
   "toc_position": {},
   "toc_section_display": true,
   "toc_window_display": false
  },
  "varInspector": {
   "cols": {
    "lenName": 16,
    "lenType": 16,
    "lenVar": 40
   },
   "kernels_config": {
    "python": {
     "delete_cmd_postfix": "",
     "delete_cmd_prefix": "del ",
     "library": "var_list.py",
     "varRefreshCmd": "print(var_dic_list())"
    },
    "r": {
     "delete_cmd_postfix": ") ",
     "delete_cmd_prefix": "rm(",
     "library": "var_list.r",
     "varRefreshCmd": "cat(var_dic_list()) "
    }
   },
   "types_to_exclude": [
    "module",
    "function",
    "builtin_function_or_method",
    "instance",
    "_Feature"
   ],
   "window_display": false
  }
 },
 "nbformat": 4,
 "nbformat_minor": 5
}
