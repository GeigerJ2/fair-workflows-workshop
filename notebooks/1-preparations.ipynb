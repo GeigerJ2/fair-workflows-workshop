{
 "cells": [
  {
   "cell_type": "code",
   "execution_count": 1,
   "metadata": {},
   "outputs": [],
   "source": [
    "%load_ext aiida"
   ]
  },
  {
   "cell_type": "code",
   "execution_count": 2,
   "metadata": {},
   "outputs": [
    {
     "name": "stdout",
     "output_type": "stream",
     "text": [
      "\u001b[34m\u001b[1mReport\u001b[0m: \u001b[22mOption `--use-postgres` not enabled: configuring the profile to use SQLite.\u001b[0m\n",
      "\u001b[34m\u001b[1mReport\u001b[0m: \u001b[22mRabbitMQ server detected: configuring the profile with a broker.\u001b[0m\n",
      "\u001b[34m\u001b[1mReport\u001b[0m: Initialising the storage backend.\n",
      "\u001b[34m\u001b[1mReport\u001b[0m: Storage initialisation completed.\n",
      "\u001b[32m\u001b[1mSuccess: \u001b[0m\u001b[22mCreated new profile `presto`.\u001b[0m\n",
      "\u001b[32m\u001b[1mSuccess: \u001b[0m\u001b[22mConfigured the localhost as a computer.\u001b[0m\n"
     ]
    }
   ],
   "source": [
    "%verdi presto"
   ]
  }
 ],
 "metadata": {
  "kernelspec": {
   "display_name": "FAIR",
   "language": "python",
   "name": "python3"
  },
  "language_info": {
   "codemirror_mode": {
    "name": "ipython",
    "version": 3
   },
   "file_extension": ".py",
   "mimetype": "text/x-python",
   "name": "python",
   "nbconvert_exporter": "python",
   "pygments_lexer": "ipython3",
   "version": "3.10.12"
  }
 },
 "nbformat": 4,
 "nbformat_minor": 2
}
