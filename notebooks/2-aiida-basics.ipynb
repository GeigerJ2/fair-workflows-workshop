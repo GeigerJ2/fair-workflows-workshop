{
 "cells": [
  {
   "cell_type": "markdown",
   "id": "0",
   "metadata": {},
   "source": [
    "# Basic tutorial\n",
    "\n",
    "The goal of this tutorial is to give you an idea of how AiiDA helps you in executing data-driven workflows.\n",
    "At the end of this tutorial, you will know how to:\n",
    "\n",
    "- Store data in the database and subsequently retrieve it.\n",
    "- Decorate a Python function such that its inputs and outputs are automatically tracked.\n",
    "- Run and monitor the status of processes.\n",
    "- Explore and visualize the provenance graph.\n"
   ]
  },
  {
   "cell_type": "code",
   "execution_count": null,
   "id": "1",
   "metadata": {
    "tags": [
     "hide-cell"
    ]
   },
   "outputs": [],
   "source": [
    "%load_ext aiida\n",
    "%aiida"
   ]
  },
  {
   "cell_type": "markdown",
   "id": "2",
   "metadata": {},
   "source": [
    "## Data nodes\n",
    "\n",
    "Before running any calculations, let's create and store a *data node*.\n",
    "AiiDA implements data node types for the most common types of data (int, float, str, etc.), which you can extend with your own (composite) data node types if needed.\n",
    "For this tutorial, we'll keep it very simple, and start by initializing an `Int` node and assigning it to the `x` variable:"
   ]
  },
  {
   "cell_type": "code",
   "execution_count": null,
   "id": "3",
   "metadata": {},
   "outputs": [],
   "source": [
    "from aiida import orm\n",
    "\n",
    "x = orm.Int(2)"
   ]
  },
  {
   "cell_type": "markdown",
   "id": "4",
   "metadata": {},
   "source": [
    "We can check the contents of the `node` variable like this:"
   ]
  },
  {
   "cell_type": "code",
   "execution_count": null,
   "id": "5",
   "metadata": {},
   "outputs": [],
   "source": [
    "x"
   ]
  },
  {
   "cell_type": "markdown",
   "id": "6",
   "metadata": {},
   "source": [
    "Quite a bit of information on our freshly created node is returned:\n",
    "\n",
    "- The data node is of the type `Int`\n",
    "- The node has the *universally unique identifier* (**UUID**)\n",
    "- The node is currently not stored in the database `(unstored)`\n",
    "- The integer value of the node is `2`\n",
    "\n",
    "Let's store the node in the database:"
   ]
  },
  {
   "cell_type": "code",
   "execution_count": null,
   "id": "7",
   "metadata": {},
   "outputs": [],
   "source": [
    "x.store()"
   ]
  },
  {
   "cell_type": "markdown",
   "id": "8",
   "metadata": {},
   "source": [
    "As you can see, the data node has now been assigned a *primary key* (**PK**), a number that identifies the node in your database `(pk: 1)`.\n",
    "The PK and UUID both reference the node with the only difference that the PK is unique *for your local database only*, whereas the UUID is a globally unique identifier and can therefore be used between *different* databases.\n",
    "Use the PK only if you are working within a single database, i.e. in an interactive session and the UUID in all other cases.\n",
    "\n",
    "> **Note**\n",
    "> \n",
    "> The PK numbers shown throughout this tutorial assume that you start from a completely empty database.\n",
    "> It is possible that the nodes' PKs will be different for your database!\n",
    ">\n",
    "> The UUIDs are generated randomly and are, therefore, **guaranteed** to be different.\n",
    "\n",
    "\n",
    "Next, let's use the `verdi` command line interface (CLI) to check the data node we have just created:"
   ]
  },
  {
   "cell_type": "code",
   "execution_count": null,
   "id": "9",
   "metadata": {},
   "outputs": [],
   "source": [
    "%verdi node show 1"
   ]
  },
  {
   "cell_type": "markdown",
   "id": "10",
   "metadata": {},
   "source": [
    "Once again, we can see that the node is of type `Int`, has its PK and UUID.\n",
    "Besides this information, the `verdi node show` command also shows the (empty) `label` and `description`, as well as the time the node was created (`ctime`) and last modified (`mtime`).\n",
    "\n",
    "> **Note**\n",
    "> AiiDA already provides many standard data types, but you can also [create your own](https://aiida.readthedocs.io/projects/aiida-core/en/stable/topics/data_types.html#topics-data-types-plugin).\n",
    "\n",
    "\n",
    "## Calculation functions\n",
    "\n",
    "Once your data is stored in the database, it is ready to be used for some computational task.\n",
    "For example, let's say you want to multiply two `Int` data nodes.\n",
    "The following Python function:\n",
    "\n",
    "```python\n",
    "def multiply(x, y):\n",
    "    return x * y\n",
    "```\n",
    "\n",
    "will give the desired result when applied to two `Int` nodes, but the calculation will not be stored in the provenance graph.\n",
    "However, we can use a [Python decorator](https://docs.python.org/3/glossary.html#term-decorator) provided by AiiDA to automatically make it part of the provenance graph, as shown below:"
   ]
  },
  {
   "cell_type": "code",
   "execution_count": null,
   "id": "11",
   "metadata": {},
   "outputs": [],
   "source": [
    "from aiida import engine\n",
    "\n",
    "@engine.calcfunction\n",
    "def multiply(x, y):\n",
    "    return x * y"
   ]
  },
  {
   "cell_type": "markdown",
   "id": "12",
   "metadata": {},
   "source": [
    "This converts the `multiply` function into an AiIDA *calculation function*, the most basic execution unit in AiiDA.\n",
    "Next, Let's create a new `Int` data node and assign it to the variable `y`, and then run the `multiply` function with the `x` and `y` data nodes as inputs:"
   ]
  },
  {
   "cell_type": "code",
   "execution_count": null,
   "id": "13",
   "metadata": {},
   "outputs": [],
   "source": [
    "y = orm.Int(3)"
   ]
  },
  {
   "cell_type": "markdown",
   "id": "14",
   "metadata": {},
   "source": [
    "Now it's time to multiply the two numbers!"
   ]
  },
  {
   "cell_type": "code",
   "execution_count": null,
   "id": "15",
   "metadata": {},
   "outputs": [],
   "source": [
    "multiply(x, y)"
   ]
  },
  {
   "cell_type": "markdown",
   "id": "16",
   "metadata": {},
   "source": [
    "Success!\n",
    "The `calcfunction`-decorated `multiply` function has multiplied the two `Int` data nodes and returned a new `Int` data node whose value is the product of the two input nodes.\n",
    "Note that by executing the `multiply` function, all input and output nodes are automatically stored in the database:"
   ]
  },
  {
   "cell_type": "code",
   "execution_count": null,
   "id": "17",
   "metadata": {},
   "outputs": [],
   "source": [
    "y"
   ]
  },
  {
   "cell_type": "markdown",
   "id": "18",
   "metadata": {},
   "source": [
    "We had not yet stored the data node assigned to the `y` variable, but by providing it as an input argument to the `multiply` function, it was automatically stored with PK = 2.\n",
    "Similarly, the returned `Int` node with value 6 has been stored with PK = 4.\n",
    "\n",
    "Let's look for the process we have just run using the `verdi` CLI:"
   ]
  },
  {
   "cell_type": "code",
   "execution_count": null,
   "id": "19",
   "metadata": {},
   "outputs": [],
   "source": [
    "%verdi process list -a"
   ]
  },
  {
   "cell_type": "markdown",
   "id": "20",
   "metadata": {},
   "source": [
    "We can see that our `multiply` calcfunction was created 1 minute ago, assigned the PK 3, and has `Finished`.\n",
    "\n",
    "### Provenance graph\n",
    "An AiiDA database does not only contain the results of your calculations, but also their inputs and each step that was executed to obtain them. All of this information is stored in the form of a directed acyclic graph (DAG).\n",
    "Let's have a look at the provenance of this simple calculation.\n",
    "The provenance graph can be automatically generated using the verdi CLI.\n",
    "Let's generate the provenance graph for the `multiply` calculation function we have just run with PK = 3:\n",
    "\n",
    "> **note**\n",
    "> Remember that the PK of the `CalcJob` can be different for your database.\n",
    "\n",
    "```console\n",
    "$ verdi node graph generate 3\n",
    "```\n",
    "\n",
    "The command will write the provenance graph to a `.pdf` file.\n",
    "Use your favorite PDF viewer to have a look.\n",
    "It should look something like the graph shown below."
   ]
  },
  {
   "cell_type": "code",
   "execution_count": null,
   "id": "21",
   "metadata": {
    "mystnb": {
     "figure": {
      "caption": "Provenance graph of the `multiply` calculation function.",
      "name": "fig_calcfun_graph"
     },
     "image": {
      "align": "center",
      "width": "300px"
     }
    },
    "tags": [
     "hide-input"
    ]
   },
   "outputs": [],
   "source": [
    "from aiida.tools.visualization import Graph\n",
    "graph = Graph()\n",
    "calc_node = orm.load_node(3)\n",
    "graph.add_incoming(calc_node, annotate_links=\"both\")\n",
    "graph.add_outgoing(calc_node, annotate_links=\"both\")\n",
    "graph.graphviz"
   ]
  },
  {
   "cell_type": "markdown",
   "id": "22",
   "metadata": {},
   "source": [
    "In the provenance graph, you can see different types of *nodes* represented by different shapes.\n",
    "The green ellipses are `Data` nodes, and the rectangles represent *processes*, i.e. the calculations performed in your *workflow*.\n",
    "\n",
    "The provenance graph allows us to not only see what data we have, but also how it was produced."
   ]
  },
  {
   "cell_type": "markdown",
   "id": "23",
   "metadata": {},
   "source": [
    "## CalcJobs\n",
    "When running calculations that require an external code or run on a remote machine, a simple calculation function is no longer sufficient.\n",
    "For this purpose, AiiDA provides the `CalcJob` process class.\n",
    "\n",
    "To run a `CalcJob`, you need to set up two things: a `code` that is going to implement the desired calculation and a `computer` for the calculation to run on.\n",
    "\n",
    "In the previous section, the `verdi presto` command automatically configures the local workstation as the `localhost` computer for you.\n",
    "\n",
    "Now, let's set up the code we're going to use for the tutorial. The following command sets up a code with *label* `add` on the *computer* `localhost`, using the *plugin* `core.arithmetic.add`.\n",
    "\n",
    "\n",
    "More details for how to [run external codes](https://aiida.readthedocs.io/projects/aiida-core/en/stable/howto/run_codes.html#how-to-run-codes) can be found in the AiiDA documentation."
   ]
  },
  {
   "cell_type": "code",
   "execution_count": null,
   "id": "24",
   "metadata": {
    "tags": [
     "hide-cell"
    ]
   },
   "outputs": [],
   "source": [
    "%verdi code create core.code.installed --label add --computer=localhost --default-calc-job-plugin core.arithmetic.add --filepath-executable=/bin/bash -n"
   ]
  },
  {
   "cell_type": "markdown",
   "id": "25",
   "metadata": {},
   "source": [
    "A typical real-world example of a computer is a remote supercomputing facility.\n",
    "Codes can be anything from a Python script to powerful *ab initio* codes such as Quantum Espresso or machine learning tools like Tensorflow.\n",
    "Let's have a look at the codes that are available to us:"
   ]
  },
  {
   "cell_type": "code",
   "execution_count": null,
   "id": "26",
   "metadata": {},
   "outputs": [],
   "source": [
    "%verdi code list"
   ]
  },
  {
   "cell_type": "markdown",
   "id": "27",
   "metadata": {},
   "source": [
    "You can see a single code `add@tutor`, with PK = 5, in the printed list.\n",
    "This code allows us to add two integers together.\n",
    "The `add@tutor` identifier indicates that the code with label `add` is run on the computer with label `tutor`.\n",
    "To see more details about the computer, you can use the following `verdi` command:"
   ]
  },
  {
   "cell_type": "code",
   "execution_count": null,
   "id": "28",
   "metadata": {},
   "outputs": [],
   "source": [
    "%verdi computer show localhost"
   ]
  },
  {
   "cell_type": "markdown",
   "id": "29",
   "metadata": {},
   "source": [
    "We can see that the *Work directory* has been set up as the `work` subdirectory of the current directory.\n",
    "This is the directory in which the calculations running on the `localhost` computer will be executed.\n",
    "\n",
    "> **note**\n",
    "> You may have noticed that the PK of the `localhost` computer is 1, same as the `Int` node we created at the start of this tutorial.\n",
    "> This is because different entities, such as nodes, computers and groups, are stored in different tables of the database.\n",
    "> So, the PKs for each entity type are unique for each database, but entities of different types can have the same PK within one database.\n",
    "\n",
    "Let's now load the `add@localhost` code using its label:"
   ]
  },
  {
   "cell_type": "code",
   "execution_count": null,
   "id": "30",
   "metadata": {},
   "outputs": [],
   "source": [
    "code = orm.load_code(label='add')\n",
    "code"
   ]
  },
  {
   "cell_type": "markdown",
   "id": "31",
   "metadata": {},
   "source": [
    "Every code has a convenient tool for setting up the required input, called the *builder*.\n",
    "It can be obtained by using the `get_builder` method:"
   ]
  },
  {
   "cell_type": "code",
   "execution_count": null,
   "id": "32",
   "metadata": {},
   "outputs": [],
   "source": [
    "builder = code.get_builder()\n",
    "builder"
   ]
  },
  {
   "cell_type": "markdown",
   "id": "33",
   "metadata": {},
   "source": [
    "Using the builder, you can easily set up the calculation by directly providing the input arguments.\n",
    "Let's use the `Int` node that was created by our previous `calcfunction` as one of the inputs and a new node as the second input:"
   ]
  },
  {
   "cell_type": "code",
   "execution_count": null,
   "id": "34",
   "metadata": {},
   "outputs": [],
   "source": [
    "builder.x = orm.load_node(pk=4)\n",
    "builder.y = orm.Int(5)\n",
    "builder"
   ]
  },
  {
   "cell_type": "markdown",
   "id": "35",
   "metadata": {},
   "source": [
    "In case that your nodes' PKs are different and you don't remember the PK of the output node from the previous calculation, check the provenance graph you generated earlier and use the UUID of the output node instead:\n",
    "\n",
    "```ipython\n",
    "In [3]: builder.x = orm.load_node(uuid='42541d38')\n",
    "   ...: builder.y = orm.Int(5)\n",
    "```\n",
    "\n",
    "Note that you don't have to provide the entire UUID to load the node.\n",
    "As long as the first part of the UUID is unique within your database, AiiDA will find the node you are looking for.\n",
    "\n",
    "> **note**\n",
    "> One nifty feature of the builder is the ability to use tab completion for the inputs.\n",
    "> Try it out by typing `builder.` + `<TAB>` in the verdi shell.\n",
    "\n",
    "To execute the `CalcJob`, we use the `run` function provided by the AiiDA engine, and wait for the process to complete:"
   ]
  },
  {
   "cell_type": "code",
   "execution_count": null,
   "id": "36",
   "metadata": {},
   "outputs": [],
   "source": [
    "engine.run(builder)"
   ]
  },
  {
   "cell_type": "markdown",
   "id": "37",
   "metadata": {},
   "source": [
    "Besides the sum of the two `Int` nodes, the calculation function also returns two other outputs: one of type `RemoteData` and one of type `FolderData`.\n",
    "See the [topics section on calculation jobs](https://aiida.readthedocs.io/projects/aiida-core/en/stable/topics/calculations/usage.html#calculation-jobs) for more details.\n",
    "Now, once more check for *all* processes:"
   ]
  },
  {
   "cell_type": "code",
   "execution_count": null,
   "id": "38",
   "metadata": {},
   "outputs": [],
   "source": [
    "%verdi process list -a"
   ]
  },
  {
   "cell_type": "markdown",
   "id": "39",
   "metadata": {},
   "source": [
    "You should now see two processes in the list.\n",
    "One is the `multiply` calcfunction you ran earlier, the second is the `ArithmeticAddCalculation` CalcJob that you have just run.\n",
    "Grab the PK of the `ArithmeticAddCalculation`, and generate the provenance graph.\n",
    "The result should look like the graph shown below.\n",
    "\n",
    "```console\n",
    "$ verdi node graph generate 7\n",
    "```"
   ]
  },
  {
   "cell_type": "code",
   "execution_count": null,
   "id": "40",
   "metadata": {
    "mystnb": {
     "image": {
      "align": "center",
      "width": "400px"
     }
    },
    "tags": [
     "hide-input"
    ]
   },
   "outputs": [],
   "source": [
    "from aiida.tools.visualization import Graph\n",
    "graph = Graph()\n",
    "calc_node = orm.load_node(7)\n",
    "graph.recurse_ancestors(calc_node, annotate_links=\"both\")\n",
    "graph.add_outgoing(calc_node, annotate_links=\"both\")\n",
    "graph.graphviz"
   ]
  },
  {
   "cell_type": "markdown",
   "id": "41",
   "metadata": {},
   "source": [
    "You can see more details on any process, including its inputs and outputs, using the verdi shell:"
   ]
  },
  {
   "cell_type": "code",
   "execution_count": null,
   "id": "42",
   "metadata": {},
   "outputs": [],
   "source": [
    "%verdi process show 7"
   ]
  },
  {
   "cell_type": "markdown",
   "id": "43",
   "metadata": {},
   "source": [
    "## Workflows\n",
    "\n",
    "So far we have executed each process manually.\n",
    "AiiDA allows us to automate these steps by linking them together in a *workflow*, whose provenance is stored to ensure reproducibility.\n",
    "For this tutorial we have prepared a basic `WorkChain` that is already implemented in `aiida-core`.\n",
    "You can see the code below:\n",
    "\n",
    "<details>\n",
    "<summary>Click to show/hide code</summary>\n",
    "\n",
    "```python\n",
    "from aiida.engine import ToContext, WorkChain, calcfunction\n",
    "from aiida.orm import AbstractCode, Int\n",
    "from aiida.plugins.factories import CalculationFactory\n",
    "\n",
    "ArithmeticAddCalculation = CalculationFactory('core.arithmetic.add')\n",
    "\n",
    "\n",
    "@calcfunction\n",
    "def multiply(x, y):\n",
    "    return x * y\n",
    "\n",
    "\n",
    "class MultiplyAddWorkChain(WorkChain):\n",
    "    \"\"\"WorkChain to multiply two numbers and add a third, for testing and demonstration purposes.\"\"\"\n",
    "\n",
    "    @classmethod\n",
    "    def define(cls, spec):\n",
    "        \"\"\"Specify inputs and outputs.\"\"\"\n",
    "        super().define(spec)\n",
    "        spec.input('x', valid_type=Int)\n",
    "        spec.input('y', valid_type=Int)\n",
    "        spec.input('z', valid_type=Int)\n",
    "        spec.input('code', valid_type=AbstractCode)\n",
    "        spec.outline(\n",
    "            cls.multiply,\n",
    "            cls.add,\n",
    "            cls.validate_result,\n",
    "            cls.result,\n",
    "        )\n",
    "        spec.output('result', valid_type=Int)\n",
    "        spec.exit_code(400, 'ERROR_NEGATIVE_NUMBER', message='The result is a negative number.')\n",
    "\n",
    "    def multiply(self):\n",
    "        \"\"\"Multiply two integers.\"\"\"\n",
    "        self.ctx.product = multiply(self.inputs.x, self.inputs.y)\n",
    "\n",
    "    def add(self):\n",
    "        \"\"\"Add two numbers using the `ArithmeticAddCalculation` calculation job plugin.\"\"\"\n",
    "        inputs = {'x': self.ctx.product, 'y': self.inputs.z, 'code': self.inputs.code}\n",
    "        future = self.submit(ArithmeticAddCalculation, **inputs)\n",
    "\n",
    "        return ToContext(addition=future)\n",
    "\n",
    "    def validate_result(self):\n",
    "        \"\"\"Make sure the result is not negative.\"\"\"\n",
    "        result = self.ctx.addition.outputs.sum\n",
    "\n",
    "        if result.value < 0:\n",
    "            return self.exit_codes.ERROR_NEGATIVE_NUMBER\n",
    "\n",
    "    def result(self):\n",
    "        \"\"\"Add the result to the outputs.\"\"\"\n",
    "        self.out('result', self.ctx.addition.outputs.sum)\n",
    "```\n",
    "First, we recognize the `multiply` function we have used earlier, decorated as a `calcfunction`.\n",
    "The `define` class method specifies the `input` and `output` of the `WorkChain`, as well as the `outline`, which are the steps of the workflow.\n",
    "These steps are provided as methods of the `MultiplyAddWorkChain` class.\n"
   ]
  },
  {
   "cell_type": "markdown",
   "id": "44",
   "metadata": {},
   "source": [
    "Let's import and run the `MultiplyAddWorkChain`. Similar to a `CalcJob`, the `WorkChain` input can be set up using a builder:"
   ]
  },
  {
   "cell_type": "code",
   "execution_count": null,
   "id": "45",
   "metadata": {},
   "outputs": [],
   "source": [
    "from aiida.workflows.arithmetic.multiply_add import MultiplyAddWorkChain\n",
    "\n",
    "from aiida import orm\n",
    "builder = MultiplyAddWorkChain.get_builder()\n",
    "builder.code = orm.load_code(label='add')\n",
    "builder.x = orm.Int(2)\n",
    "builder.y = orm.Int(3)\n",
    "builder.z = orm.Int(5)\n",
    "builder"
   ]
  },
  {
   "cell_type": "markdown",
   "id": "46",
   "metadata": {},
   "source": [
    "Once the `WorkChain` input has been set up, we run it with the AiiDA engine:"
   ]
  },
  {
   "cell_type": "code",
   "execution_count": null,
   "id": "47",
   "metadata": {},
   "outputs": [],
   "source": [
    "from aiida import engine\n",
    "engine.run(builder)"
   ]
  },
  {
   "cell_type": "markdown",
   "id": "48",
   "metadata": {},
   "source": [
    "Now quickly leave the IPython shell and check the process list:"
   ]
  },
  {
   "cell_type": "code",
   "execution_count": null,
   "id": "49",
   "metadata": {},
   "outputs": [],
   "source": [
    "%verdi process list -a"
   ]
  },
  {
   "cell_type": "markdown",
   "id": "50",
   "metadata": {},
   "source": [
    "We can see that the `MultiplyAddWorkChain` and its *child process* should be in the `Finished` state."
   ]
  },
  {
   "cell_type": "markdown",
   "id": "51",
   "metadata": {},
   "source": [
    "We can now generate the full provenance graph for the `WorkChain` with:\n",
    "\n",
    "```console\n",
    "$ verdi node graph generate 14\n",
    "```"
   ]
  },
  {
   "cell_type": "code",
   "execution_count": null,
   "id": "52",
   "metadata": {
    "mystnb": {
     "image": {
      "align": "center",
      "width": "400px"
     }
    },
    "tags": [
     "hide-input"
    ]
   },
   "outputs": [],
   "source": [
    "from aiida.tools.visualization import Graph\n",
    "graph = Graph()\n",
    "calc_node = orm.load_node(14)\n",
    "graph.recurse_ancestors(calc_node, annotate_links=\"both\")\n",
    "graph.recurse_descendants(calc_node, annotate_links=\"both\")\n",
    "graph.graphviz"
   ]
  },
  {
   "cell_type": "markdown",
   "id": "53",
   "metadata": {},
   "source": [
    "# Next Steps\n",
    "\n",
    "Congratulations! You have completed the first step to becoming an AiiDA expert.\n",
    "\n",
    "To further enhance your skills, we have compiled several how-to guides tailored for key use cases:\n",
    "\n",
    "- **Querying and Sharing Your Data**: Once you have run multiple computations, the [Managing Data](3-managing-data.ipynb) guide will show you how to efficiently explore and share your data.\n",
    "\n",
    "- **Real-World Example**: The [Quantum Espresso](2-qe-pw-aiida.ipynb) guide demonstrates how to run a Quantum Espresso calculation using AiiDA, providing a practical example of its application.\n",
    "\n",
    "- **Designing a Workflow**: Learn how to encode the logic of a typical scientific workflow with the [EOS Workflow](4-eos-workflow.ipynb) guide.\n",
    "\n",
    "These resources will help you deepen your understanding and proficiency with AiiDA. Happy exploring!\n"
   ]
  }
 ],
 "metadata": {
  "execution": {
   "timeout": 60
  },
  "kernelspec": {
   "display_name": "Python3.10 (AIIDA)",
   "language": "python",
   "name": "aiida"
  },
  "language_info": {
   "codemirror_mode": {
    "name": "ipython",
    "version": 3
   },
   "file_extension": ".py",
   "mimetype": "text/x-python",
   "name": "python",
   "nbconvert_exporter": "python",
   "pygments_lexer": "ipython3",
   "version": "3.10.6"
  },
  "source_map": [
   14,
   41,
   65,
   102,
   106,
   110,
   112,
   123,
   125,
   141,
   143,
   167,
   173,
   178,
   180,
   185,
   187,
   191,
   193,
   199,
   201,
   208,
   210,
   216,
   218,
   234,
   251,
   302,
   308,
   314,
   316,
   323,
   325,
   338,
   341,
   346,
   349,
   354,
   358,
   377,
   379,
   385,
   387,
   398,
   416,
   420,
   422,
   444,
   500,
   511,
   514,
   521,
   529,
   533,
   536,
   540,
   542,
   571,
   573,
   584,
   602
  ],
  "toc": {
   "base_numbering": 1,
   "nav_menu": {},
   "number_sections": true,
   "sideBar": true,
   "skip_h1_title": false,
   "title_cell": "Table of Contents",
   "title_sidebar": "Contents",
   "toc_cell": false,
   "toc_position": {},
   "toc_section_display": true,
   "toc_window_display": false
  },
  "varInspector": {
   "cols": {
    "lenName": 16,
    "lenType": 16,
    "lenVar": 40
   },
   "kernels_config": {
    "python": {
     "delete_cmd_postfix": "",
     "delete_cmd_prefix": "del ",
     "library": "var_list.py",
     "varRefreshCmd": "print(var_dic_list())"
    },
    "r": {
     "delete_cmd_postfix": ") ",
     "delete_cmd_prefix": "rm(",
     "library": "var_list.r",
     "varRefreshCmd": "cat(var_dic_list()) "
    }
   },
   "types_to_exclude": [
    "module",
    "function",
    "builtin_function_or_method",
    "instance",
    "_Feature"
   ],
   "window_display": false
  }
 },
 "nbformat": 4,
 "nbformat_minor": 5
}
