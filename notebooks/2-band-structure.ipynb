{
 "cells": [
  {
   "cell_type": "markdown",
   "metadata": {},
   "source": [
    "# AiiDA by example: Computing a band structure\n"
   ]
  },
  {
   "cell_type": "markdown",
   "metadata": {},
   "source": [
    ":::{admonition} Learning Objectives\n",
    ":class: learning-objectives\n",
    "\n",
    "In this section we will present a complete example of an AiiDA workflow, which defines the sequence of calculations needed to compute the band structure of silicon.\n",
    "\n",
    "How to setup the input data and the details of the workflow execution will be discussed in subsequent sections.\n",
    "Here we simply give an initial overview of what it means to run an AiiDA workflow.\n",
    "\n",
    ":::"
   ]
  },
  {
   "cell_type": "code",
   "execution_count": 3,
   "metadata": {
    "tags": [
     "hide-cell"
    ]
   },
   "outputs": [
    {
     "name": "stderr",
     "output_type": "stream",
     "text": [
      "/home/geiger_j/.aiida_venvs/fair-workflows-workshop/lib/python3.10/site-packages/aiida/orm/nodes/data/code/legacy.py:81: AiidaDeprecationWarning: The `Code` class is deprecated. To create an instance, use the `aiida.orm.nodes.data.code.installed.InstalledCode` or `aiida.orm.nodes.data.code.portable.PortableCode` for a \"remote\" or \"local\" code, respectively. If you are using this class to compare type, e.g. in `isinstance`, use `aiida.orm.nodes.data.code.abstract.AbstractCode`. (this will be removed in v3)\n",
      "  warn_deprecation(\n",
      "/home/geiger_j/.aiida_venvs/fair-workflows-workshop/lib/python3.10/site-packages/aiida/orm/nodes/data/code/legacy.py:94: AiidaDeprecationWarning: The `Code` plugin is deprecated, use the `InstalledCode` (`core.code.remote`) instead. (this will be removed in v3)\n",
      "  warn_deprecation(\n",
      "/home/geiger_j/.aiida_venvs/fair-workflows-workshop/lib/python3.10/site-packages/aiida/orm/nodes/data/code/legacy.py:504: AiidaDeprecationWarning: `Code.set_remote_computer_exec` method is deprecated, use `InstalledCode`. (this will be removed in v3)\n",
      "  warn_deprecation('`Code.set_remote_computer_exec` method is deprecated, use `InstalledCode`.', version=3)\n",
      "/home/geiger_j/.aiida_venvs/fair-workflows-workshop/lib/python3.10/site-packages/aiida/orm/nodes/data/code/legacy.py:423: AiidaDeprecationWarning: `Code.set_input_plugin_name` method is deprecated, use the `default_calc_job_plugin` property instead. (this will be removed in v3)\n",
      "  warn_deprecation(\n",
      "/home/geiger_j/.aiida_venvs/fair-workflows-workshop/lib/python3.10/site-packages/aiida/orm/nodes/data/code/legacy.py:405: AiidaDeprecationWarning: `Code.set_prepend_text` method is deprecated, use the `prepend_text` property instead. (this will be removed in v3)\n",
      "  warn_deprecation(\n",
      "/home/geiger_j/.aiida_venvs/fair-workflows-workshop/lib/python3.10/site-packages/aiida/orm/nodes/data/code/legacy.py:573: AiidaDeprecationWarning: `Code.is_local` method is deprecated, use a `PortableCode` instance and check the type. (this will be removed in v3)\n",
      "  warn_deprecation(\n",
      "/home/geiger_j/.aiida_venvs/fair-workflows-workshop/lib/python3.10/site-packages/aiida/orm/nodes/data/code/legacy.py:534: AiidaDeprecationWarning: `Code.get_remote_computer` method is deprecated, use the `computer` attribute instead. (this will be removed in v3)\n",
      "  warn_deprecation(\n",
      "/home/geiger_j/.aiida_venvs/fair-workflows-workshop/lib/python3.10/site-packages/aiida/orm/nodes/data/code/legacy.py:524: AiidaDeprecationWarning: `Code.get_remote_exec_path` method is deprecated, use `InstalledCode.filepath_executable` instead. (this will be removed in v3)\n",
      "  warn_deprecation(\n"
     ]
    },
    {
     "data": {
      "text/plain": [
       "AiiDALoaded(profile=Profile<uuid='dc9b5b44bddf4889a5aa0166030e07da' name='bands_workflow'>, computer=<Computer: local_direct (localhost), pk: 1>, code=<Code: Remote code 'pw.x' on local_direct pk: 1, uuid: 21e5909c-f369-4ada-a23e-71270325dbab>, pseudos=SsspFamily<1>, structure=<StructureData: uuid: 968cffbf-4cb9-4b38-8d72-9cfddf6cc47d (pk: 87)>, cpu_count=2, workdir=PosixPath('/home/geiger_j/aiida_projects/fair-workflows-workshop/git-repos/aiida-qe-demo/tutorial/local_module/_aiida_workdir/bands_workflow'), pwx_path=PosixPath('/opt/espresso/7.3/pw.x'))"
      ]
     },
     "execution_count": 3,
     "metadata": {},
     "output_type": "execute_result"
    }
   ],
   "source": [
    "from local_module import load_temp_profile\n",
    "\n",
    "data = load_temp_profile(\n",
    "    name=\"bands_workflow\",\n",
    "    add_computer=True,\n",
    "    add_pw_code=True,\n",
    "    add_sssp=True,\n",
    "    add_structure_si=True,\n",
    ")\n",
    "data"
   ]
  },
  {
   "cell_type": "code",
   "execution_count": 4,
   "metadata": {},
   "outputs": [],
   "source": [
    "%load_ext aiida\n",
    "# %verdi status --no-rmq"
   ]
  },
  {
   "cell_type": "markdown",
   "metadata": {},
   "source": [
    "Within this profile, we have stored the initial input components for our workflow, including the pseudo-potentials, and the silicon structure:"
   ]
  },
  {
   "cell_type": "code",
   "execution_count": 5,
   "metadata": {
    "tags": [
     "hide-output"
    ]
   },
   "outputs": [
    {
     "name": "stdout",
     "output_type": "stream",
     "text": [
      "\u001b[22mentities:\n",
      "  Users:\n",
      "    count: 1\n",
      "    emails:\n",
      "    - user@email.com\n",
      "  Computers:\n",
      "    count: 1\n",
      "    labels:\n",
      "    - local_direct\n",
      "  Nodes:\n",
      "    count: 87\n",
      "    node_types:\n",
      "    - data.core.code.Code.\n",
      "    - data.core.structure.StructureData.\n",
      "    - data.pseudo.upf.UpfData.\n",
      "    process_types: []\n",
      "  Groups:\n",
      "    count: 1\n",
      "    type_strings:\n",
      "    - pseudo.family.sssp\n",
      "  Comments:\n",
      "    count: 0\n",
      "  Logs:\n",
      "    count: 0\n",
      "  Links:\n",
      "    count: 0\n",
      "\u001b[0m\n"
     ]
    }
   ],
   "source": [
    "%verdi storage info --detailed"
   ]
  },
  {
   "cell_type": "markdown",
   "metadata": {},
   "source": [
    "We have also set up the compute resource that we will use to run the calculations, and the code (`pw.x`) installed on that computer, which we will use to perform the electronic structure calculations.\n",
    "\n",
    "Here, we will use our \"local\" machine to run the computations, but AiiDA can also be used to submit calculations to remote supercomputer schedulers, transporting data between the local machine and the remote computer."
   ]
  },
  {
   "cell_type": "code",
   "execution_count": 6,
   "metadata": {
    "tags": [
     "hide-output"
    ]
   },
   "outputs": [
    {
     "name": "stdout",
     "output_type": "stream",
     "text": [
      "\u001b[22m---------------------------  ---------------------------------------------------------------------------------------------------------------------------------\n",
      "Label                        local_direct\n",
      "PK                           1\n",
      "UUID                         2909bc8b-49f7-4db6-b811-550c6b5b0984\n",
      "Description                  local computer with direct scheduler\n",
      "Hostname                     localhost\n",
      "Transport type               core.local\n",
      "Scheduler type               core.direct\n",
      "Work directory               /home/geiger_j/aiida_projects/fair-workflows-workshop/git-repos/aiida-qe-demo/tutorial/local_module/_aiida_workdir/bands_workflow\n",
      "Shebang                      #!/bin/bash\n",
      "Mpirun command               mpirun -np {tot_num_mpiprocs}\n",
      "Default #procs/machine       2\n",
      "Default memory (kB)/machine\n",
      "Prepend text\n",
      "Append text\n",
      "---------------------------  ---------------------------------------------------------------------------------------------------------------------------------\u001b[0m\n"
     ]
    }
   ],
   "source": [
    "%verdi computer show local_direct"
   ]
  },
  {
   "cell_type": "code",
   "execution_count": 7,
   "metadata": {
    "tags": [
     "hide-output"
    ]
   },
   "outputs": [
    {
     "name": "stdout",
     "output_type": "stream",
     "text": [
      "\u001b[22m-----------------------  ------------------------------------\n",
      "PK                       1\n",
      "UUID                     21e5909c-f369-4ada-a23e-71270325dbab\n",
      "Type                     core.code\n",
      "Label                    pw.x\n",
      "Description              pw.x code on local computer\n",
      "Default calc job plugin  quantumespresso.pw\n",
      "Use double quotes        False\n",
      "With mpi\n",
      "Prepend text             export OMP_NUM_THREADS=1\n",
      "Append text\n",
      "-----------------------  ------------------------------------\u001b[0m\n"
     ]
    }
   ],
   "source": [
    "%verdi code show pw.x@local_direct"
   ]
  },
  {
   "cell_type": "markdown",
   "metadata": {},
   "source": [
    "## Utilising a pre-defined workflow\n",
    "\n",
    "AiiDA plugins can declare workflow plugins, for use within AiiDA.\n",
    "These are workflows that are pre-defined, and can be used as-is, or as a starting point for your own workflows.\n",
    "\n",
    "Here we utilise the `quantumespresso.pw.bands` workflow defined by the [`aiida-quantumespresso`](https://aiida-quantumespresso.readthedocs.io) plugin."
   ]
  },
  {
   "cell_type": "code",
   "execution_count": 8,
   "metadata": {
    "tags": [
     "hide-output"
    ]
   },
   "outputs": [
    {
     "name": "stdout",
     "output_type": "stream",
     "text": [
      "\u001b[22mRegistered entry points for aiida.workflows:\u001b[0m\n",
      "\u001b[22m* core.arithmetic.add_multiply\u001b[0m\n",
      "\u001b[22m* core.arithmetic.multiply_add\u001b[0m\n",
      "\u001b[22m* quantumespresso.matdyn.base\u001b[0m\n",
      "\u001b[22m* quantumespresso.pdos\u001b[0m\n",
      "\u001b[22m* quantumespresso.ph.base\u001b[0m\n",
      "\u001b[22m* quantumespresso.pw.bands\u001b[0m\n",
      "\u001b[22m* quantumespresso.pw.base\u001b[0m\n",
      "\u001b[22m* quantumespresso.pw.relax\u001b[0m\n",
      "\u001b[22m* quantumespresso.q2r.base\u001b[0m\n",
      "\u001b[22m* quantumespresso.xps\u001b[0m\n",
      "\u001b[22m* quantumespresso.xspectra.base\u001b[0m\n",
      "\u001b[22m* quantumespresso.xspectra.core\u001b[0m\n",
      "\u001b[22m* quantumespresso.xspectra.crystal\u001b[0m\n",
      "\u001b[22m\u001b[0m\n",
      "\u001b[34m\u001b[1mReport\u001b[0m: \u001b[22mPass the entry point as an argument to display detailed information\u001b[0m\n"
     ]
    }
   ],
   "source": [
    "%verdi plugin list aiida.workflows"
   ]
  },
  {
   "cell_type": "code",
   "execution_count": 9,
   "metadata": {
    "tags": [
     "hide-output"
    ]
   },
   "outputs": [
    {
     "name": "stdout",
     "output_type": "stream",
     "text": [
      "\u001b[34m\u001b[1mDescription:\n",
      "\u001b[0m\n",
      "\u001b[22m    Workchain to compute a band structure for a given structure using Quantum ESPRESSO pw.x.      The\n",
      "    logic for the computation of various parameters for the BANDS step is as follows:      Number of\n",
      "    bands:         One can specify the number of bands to be used in the BANDS step either directly\n",
      "    through the input parameters         `bands.pw.parameters.SYSTEM.nbnd` or through `nbands_factor`.\n",
      "    Note that specifying both is not allowed. When         neither is specified nothing will be set by\n",
      "    the work chain and the default of Quantum ESPRESSO will end up being         used. If the\n",
      "    `nbands_factor` is specified the maximum value of the following values will be used:          *\n",
      "    `nbnd` of the preceding SCF calculation         * 0.5 * nelectrons * nbands_factor         * 0.5 *\n",
      "    nelectrons + 4      Kpoints:         There are three options; specify either an existing\n",
      "    `KpointsData` through `bands_kpoints`, or specify the         `bands_kpoint_distance`, or specify\n",
      "    neither. For the former those exact kpoints will be used for the BANDS step.         In the two\n",
      "    other cases, the structure will first be normalized using SeekPath and the path along high-symmetry\n",
      "    k-points will be generated on that structure. The distance between kpoints for the path will be\n",
      "    equal to that         of `bands_kpoints_distance` or the SeekPath default if not specified.\u001b[0m\n",
      "\u001b[34m\u001b[1m\n",
      "Inputs:\u001b[0m\n",
      "\u001b[22m                 \u001b[31m\u001b[1mbands\u001b[0m  Data                   Inputs for the `PwBaseWorkChain` for the BANDS calculation.\n",
      "                   \u001b[31m\u001b[1mscf\u001b[0m  Data                   Inputs for the `PwBaseWorkChain` for the SCF calculation.\n",
      "             \u001b[31m\u001b[1mstructure\u001b[0m  StructureData          The inputs structure.\n",
      "         \u001b[37m\u001b[22mbands_kpoints\u001b[0m  KpointsData, NoneType  Explicit kpoints to use for the BANDS calculation. Specify either this or\n",
      "                                               `bands_kpoints_distance`.\n",
      "\u001b[37m\u001b[22mbands_kpoints_distance\u001b[0m  Float, NoneType        Minimum kpoints distance for the BANDS calculation. Specify either this or\n",
      "                                               `bands_kpoints`.\n",
      "         \u001b[37m\u001b[22mclean_workdir\u001b[0m  Bool                   If `True`, work directories of all called calculation will be cleaned at\n",
      "                                               the end of execution.\n",
      "              \u001b[37m\u001b[22mmetadata\u001b[0m\n",
      "         \u001b[37m\u001b[22mnbands_factor\u001b[0m  Float, NoneType        The number of bands for the BANDS calculation is that used for the SCF\n",
      "                                               multiplied by this factor.\n",
      "                 \u001b[37m\u001b[22mrelax\u001b[0m  Data                   Inputs for the `PwRelaxWorkChain`, if not specified at all, the relaxation\n",
      "                                               step is skipped.\u001b[0m\n",
      "\u001b[22m\u001b[3m\n",
      "Required inputs are displayed in bold red.\n",
      "\u001b[0m\u001b[0m\n",
      "\u001b[34m\u001b[1mOutputs:\u001b[0m\n",
      "\u001b[22m    \u001b[31m\u001b[1mband_parameters\u001b[0m  Dict           The output parameters of the BANDS `PwBaseWorkChain`.\n",
      "     \u001b[31m\u001b[1mband_structure\u001b[0m  BandsData      The computed band structure.\n",
      "     \u001b[31m\u001b[1mscf_parameters\u001b[0m  Dict           The output parameters of the SCF `PwBaseWorkChain`.\n",
      "\u001b[37m\u001b[22mprimitive_structure\u001b[0m  StructureData  The normalized and primitivized structure for which the bands are computed.\n",
      "\u001b[37m\u001b[22mseekpath_parameters\u001b[0m  Dict           The parameters used in the SeeKpath call to normalize the input or relaxed\n",
      "                                    structure.\u001b[0m\n",
      "\u001b[22m\u001b[3m\n",
      "Required outputs are displayed in bold red.\n",
      "\u001b[0m\u001b[0m\n",
      "\u001b[34m\u001b[1mExit codes:\n",
      "\u001b[0m\n",
      "\u001b[22m  0  The process finished successfully.\n",
      "  \u001b[31m\u001b[1m1\u001b[0m  The process has failed with an unspecified error.\n",
      "  \u001b[31m\u001b[1m2\u001b[0m  The process failed with legacy failure mode.\n",
      " \u001b[31m\u001b[1m10\u001b[0m  The process returned an invalid output.\n",
      " \u001b[31m\u001b[1m11\u001b[0m  The process did not register a required output.\n",
      "201  Cannot specify both `nbands_factor` and `bands.pw.parameters.SYSTEM.nbnd`.\n",
      "202  Cannot specify both `bands_kpoints` and `bands_kpoints_distance`.\n",
      "401  The PwRelaxWorkChain sub process failed\n",
      "402  The scf PwBasexWorkChain sub process failed\n",
      "403  The bands PwBasexWorkChain sub process failed\u001b[0m\n",
      "\u001b[22m\u001b[3m\n",
      "Exit codes that invalidate the cache are marked in bold red.\n",
      "\u001b[0m\u001b[0m\n"
     ]
    }
   ],
   "source": [
    "%verdi plugin list aiida.workflows quantumespresso.pw.bands"
   ]
  },
  {
   "cell_type": "markdown",
   "metadata": {},
   "source": [
    "![quantumespresso.pw.bands](_static/bands-workflow.svg){height=250px align=center}"
   ]
  },
  {
   "cell_type": "markdown",
   "metadata": {},
   "source": [
    "The `quantumespresso.pw.bands` workflow provides a helpful method for setting up the default inputs for a given \"protocol\", as to how fast/precise the calculation should be.\n",
    "This provides a \"builder\" object, which stores all the inputs for the workflow."
   ]
  },
  {
   "cell_type": "code",
   "execution_count": 10,
   "metadata": {
    "tags": [
     "hide-output"
    ]
   },
   "outputs": [
    {
     "ename": "ValueError",
     "evalue": "required pseudo family `SSSP/1.3/PBEsol/efficiency` is not installed. Please use `aiida-pseudo install` toinstall it.",
     "output_type": "error",
     "traceback": [
      "\u001b[0;31m---------------------------------------------------------------------------\u001b[0m",
      "\u001b[0;31mNotExistent\u001b[0m                               Traceback (most recent call last)",
      "File \u001b[0;32m~/.aiida_venvs/fair-workflows-workshop/lib/python3.10/site-packages/aiida_quantumespresso/workflows/pw/base.py:161\u001b[0m, in \u001b[0;36mPwBaseWorkChain.get_builder_from_protocol\u001b[0;34m(cls, code, structure, protocol, overrides, electronic_type, spin_type, initial_magnetic_moments, options, **_)\u001b[0m\n\u001b[1;32m    160\u001b[0m     pseudo_set \u001b[38;5;241m=\u001b[39m (PseudoDojoFamily, SsspFamily, CutoffsPseudoPotentialFamily)\n\u001b[0;32m--> 161\u001b[0m     pseudo_family \u001b[38;5;241m=\u001b[39m \u001b[43morm\u001b[49m\u001b[38;5;241;43m.\u001b[39;49m\u001b[43mQueryBuilder\u001b[49m\u001b[43m(\u001b[49m\u001b[43m)\u001b[49m\u001b[38;5;241;43m.\u001b[39;49m\u001b[43mappend\u001b[49m\u001b[43m(\u001b[49m\u001b[43mpseudo_set\u001b[49m\u001b[43m,\u001b[49m\u001b[43m \u001b[49m\u001b[43mfilters\u001b[49m\u001b[38;5;241;43m=\u001b[39;49m\u001b[43m{\u001b[49m\u001b[38;5;124;43m'\u001b[39;49m\u001b[38;5;124;43mlabel\u001b[39;49m\u001b[38;5;124;43m'\u001b[39;49m\u001b[43m:\u001b[49m\u001b[43m \u001b[49m\u001b[43mpseudo_family\u001b[49m\u001b[43m}\u001b[49m\u001b[43m)\u001b[49m\u001b[38;5;241;43m.\u001b[39;49m\u001b[43mone\u001b[49m\u001b[43m(\u001b[49m\u001b[43m)\u001b[49m[\u001b[38;5;241m0\u001b[39m]\n\u001b[1;32m    162\u001b[0m \u001b[38;5;28;01mexcept\u001b[39;00m exceptions\u001b[38;5;241m.\u001b[39mNotExistent \u001b[38;5;28;01mas\u001b[39;00m exception:\n",
      "File \u001b[0;32m~/.aiida_venvs/fair-workflows-workshop/lib/python3.10/site-packages/aiida/orm/querybuilder.py:1146\u001b[0m, in \u001b[0;36mQueryBuilder.one\u001b[0;34m(self)\u001b[0m\n\u001b[1;32m   1145\u001b[0m \u001b[38;5;28;01melif\u001b[39;00m \u001b[38;5;28mlen\u001b[39m(res) \u001b[38;5;241m==\u001b[39m \u001b[38;5;241m0\u001b[39m:\n\u001b[0;32m-> 1146\u001b[0m     \u001b[38;5;28;01mraise\u001b[39;00m NotExistent(\u001b[38;5;124m'\u001b[39m\u001b[38;5;124mNo result was found\u001b[39m\u001b[38;5;124m'\u001b[39m)\n\u001b[1;32m   1147\u001b[0m \u001b[38;5;28;01mreturn\u001b[39;00m res[\u001b[38;5;241m0\u001b[39m]\n",
      "\u001b[0;31mNotExistent\u001b[0m: No result was found",
      "\nThe above exception was the direct cause of the following exception:\n",
      "\u001b[0;31mValueError\u001b[0m                                Traceback (most recent call last)",
      "Cell \u001b[0;32mIn[10], line 3\u001b[0m\n\u001b[1;32m      1\u001b[0m \u001b[38;5;28;01mfrom\u001b[39;00m \u001b[38;5;21;01maiida_quantumespresso\u001b[39;00m\u001b[38;5;21;01m.\u001b[39;00m\u001b[38;5;21;01mworkflows\u001b[39;00m\u001b[38;5;21;01m.\u001b[39;00m\u001b[38;5;21;01mpw\u001b[39;00m\u001b[38;5;21;01m.\u001b[39;00m\u001b[38;5;21;01mbands\u001b[39;00m \u001b[38;5;28;01mimport\u001b[39;00m PwBandsWorkChain\n\u001b[0;32m----> 3\u001b[0m builder \u001b[38;5;241m=\u001b[39m \u001b[43mPwBandsWorkChain\u001b[49m\u001b[38;5;241;43m.\u001b[39;49m\u001b[43mget_builder_from_protocol\u001b[49m\u001b[43m(\u001b[49m\n\u001b[1;32m      4\u001b[0m \u001b[43m    \u001b[49m\u001b[43mcode\u001b[49m\u001b[38;5;241;43m=\u001b[39;49m\u001b[43mdata\u001b[49m\u001b[38;5;241;43m.\u001b[39;49m\u001b[43mcode\u001b[49m\u001b[43m,\u001b[49m\u001b[43m \u001b[49m\n\u001b[1;32m      5\u001b[0m \u001b[43m    \u001b[49m\u001b[43mstructure\u001b[49m\u001b[38;5;241;43m=\u001b[39;49m\u001b[43mdata\u001b[49m\u001b[38;5;241;43m.\u001b[39;49m\u001b[43mstructure\u001b[49m\u001b[43m,\u001b[49m\n\u001b[1;32m      6\u001b[0m \u001b[43m    \u001b[49m\u001b[43mprotocol\u001b[49m\u001b[38;5;241;43m=\u001b[39;49m\u001b[38;5;124;43m\"\u001b[39;49m\u001b[38;5;124;43mfast\u001b[39;49m\u001b[38;5;124;43m\"\u001b[39;49m\u001b[43m,\u001b[49m\n\u001b[1;32m      7\u001b[0m \u001b[43m)\u001b[49m\n\u001b[1;32m      8\u001b[0m builder\n",
      "File \u001b[0;32m~/.aiida_venvs/fair-workflows-workshop/lib/python3.10/site-packages/aiida_quantumespresso/workflows/pw/bands.py:139\u001b[0m, in \u001b[0;36mPwBandsWorkChain.get_builder_from_protocol\u001b[0;34m(cls, code, structure, protocol, overrides, options, **kwargs)\u001b[0m\n\u001b[1;32m    136\u001b[0m inputs \u001b[38;5;241m=\u001b[39m \u001b[38;5;28mcls\u001b[39m\u001b[38;5;241m.\u001b[39mget_protocol_inputs(protocol, overrides)\n\u001b[1;32m    138\u001b[0m args \u001b[38;5;241m=\u001b[39m (code, structure, protocol)\n\u001b[0;32m--> 139\u001b[0m relax \u001b[38;5;241m=\u001b[39m \u001b[43mPwRelaxWorkChain\u001b[49m\u001b[38;5;241;43m.\u001b[39;49m\u001b[43mget_builder_from_protocol\u001b[49m\u001b[43m(\u001b[49m\n\u001b[1;32m    140\u001b[0m \u001b[43m    \u001b[49m\u001b[38;5;241;43m*\u001b[39;49m\u001b[43margs\u001b[49m\u001b[43m,\u001b[49m\u001b[43m \u001b[49m\u001b[43moverrides\u001b[49m\u001b[38;5;241;43m=\u001b[39;49m\u001b[43minputs\u001b[49m\u001b[38;5;241;43m.\u001b[39;49m\u001b[43mget\u001b[49m\u001b[43m(\u001b[49m\u001b[38;5;124;43m'\u001b[39;49m\u001b[38;5;124;43mrelax\u001b[39;49m\u001b[38;5;124;43m'\u001b[39;49m\u001b[43m,\u001b[49m\u001b[43m \u001b[49m\u001b[38;5;28;43;01mNone\u001b[39;49;00m\u001b[43m)\u001b[49m\u001b[43m,\u001b[49m\u001b[43m \u001b[49m\u001b[43moptions\u001b[49m\u001b[38;5;241;43m=\u001b[39;49m\u001b[43moptions\u001b[49m\u001b[43m,\u001b[49m\u001b[43m \u001b[49m\u001b[38;5;241;43m*\u001b[39;49m\u001b[38;5;241;43m*\u001b[39;49m\u001b[43mkwargs\u001b[49m\n\u001b[1;32m    141\u001b[0m \u001b[43m\u001b[49m\u001b[43m)\u001b[49m\n\u001b[1;32m    142\u001b[0m scf \u001b[38;5;241m=\u001b[39m PwBaseWorkChain\u001b[38;5;241m.\u001b[39mget_builder_from_protocol(\n\u001b[1;32m    143\u001b[0m     \u001b[38;5;241m*\u001b[39margs, overrides\u001b[38;5;241m=\u001b[39minputs\u001b[38;5;241m.\u001b[39mget(\u001b[38;5;124m'\u001b[39m\u001b[38;5;124mscf\u001b[39m\u001b[38;5;124m'\u001b[39m, \u001b[38;5;28;01mNone\u001b[39;00m), options\u001b[38;5;241m=\u001b[39moptions, \u001b[38;5;241m*\u001b[39m\u001b[38;5;241m*\u001b[39mkwargs\n\u001b[1;32m    144\u001b[0m )\n\u001b[1;32m    145\u001b[0m bands \u001b[38;5;241m=\u001b[39m PwBaseWorkChain\u001b[38;5;241m.\u001b[39mget_builder_from_protocol(\n\u001b[1;32m    146\u001b[0m     \u001b[38;5;241m*\u001b[39margs, overrides\u001b[38;5;241m=\u001b[39minputs\u001b[38;5;241m.\u001b[39mget(\u001b[38;5;124m'\u001b[39m\u001b[38;5;124mbands\u001b[39m\u001b[38;5;124m'\u001b[39m, \u001b[38;5;28;01mNone\u001b[39;00m), options\u001b[38;5;241m=\u001b[39moptions, \u001b[38;5;241m*\u001b[39m\u001b[38;5;241m*\u001b[39mkwargs\n\u001b[1;32m    147\u001b[0m )\n",
      "File \u001b[0;32m~/.aiida_venvs/fair-workflows-workshop/lib/python3.10/site-packages/aiida_quantumespresso/workflows/pw/relax.py:109\u001b[0m, in \u001b[0;36mPwRelaxWorkChain.get_builder_from_protocol\u001b[0;34m(cls, code, structure, protocol, overrides, relax_type, options, **kwargs)\u001b[0m\n\u001b[1;32m    106\u001b[0m inputs \u001b[38;5;241m=\u001b[39m \u001b[38;5;28mcls\u001b[39m\u001b[38;5;241m.\u001b[39mget_protocol_inputs(protocol, overrides)\n\u001b[1;32m    108\u001b[0m args \u001b[38;5;241m=\u001b[39m (code, structure, protocol)\n\u001b[0;32m--> 109\u001b[0m base \u001b[38;5;241m=\u001b[39m \u001b[43mPwBaseWorkChain\u001b[49m\u001b[38;5;241;43m.\u001b[39;49m\u001b[43mget_builder_from_protocol\u001b[49m\u001b[43m(\u001b[49m\n\u001b[1;32m    110\u001b[0m \u001b[43m    \u001b[49m\u001b[38;5;241;43m*\u001b[39;49m\u001b[43margs\u001b[49m\u001b[43m,\u001b[49m\u001b[43m \u001b[49m\u001b[43moverrides\u001b[49m\u001b[38;5;241;43m=\u001b[39;49m\u001b[43minputs\u001b[49m\u001b[38;5;241;43m.\u001b[39;49m\u001b[43mget\u001b[49m\u001b[43m(\u001b[49m\u001b[38;5;124;43m'\u001b[39;49m\u001b[38;5;124;43mbase\u001b[39;49m\u001b[38;5;124;43m'\u001b[39;49m\u001b[43m,\u001b[49m\u001b[43m \u001b[49m\u001b[38;5;28;43;01mNone\u001b[39;49;00m\u001b[43m)\u001b[49m\u001b[43m,\u001b[49m\u001b[43m \u001b[49m\u001b[43moptions\u001b[49m\u001b[38;5;241;43m=\u001b[39;49m\u001b[43moptions\u001b[49m\u001b[43m,\u001b[49m\u001b[43m \u001b[49m\u001b[38;5;241;43m*\u001b[39;49m\u001b[38;5;241;43m*\u001b[39;49m\u001b[43mkwargs\u001b[49m\n\u001b[1;32m    111\u001b[0m \u001b[43m\u001b[49m\u001b[43m)\u001b[49m\n\u001b[1;32m    112\u001b[0m base_final_scf \u001b[38;5;241m=\u001b[39m PwBaseWorkChain\u001b[38;5;241m.\u001b[39mget_builder_from_protocol(\n\u001b[1;32m    113\u001b[0m     \u001b[38;5;241m*\u001b[39margs, overrides\u001b[38;5;241m=\u001b[39minputs\u001b[38;5;241m.\u001b[39mget(\u001b[38;5;124m'\u001b[39m\u001b[38;5;124mbase_final_scf\u001b[39m\u001b[38;5;124m'\u001b[39m, \u001b[38;5;28;01mNone\u001b[39;00m), options\u001b[38;5;241m=\u001b[39moptions, \u001b[38;5;241m*\u001b[39m\u001b[38;5;241m*\u001b[39mkwargs\n\u001b[1;32m    114\u001b[0m )\n\u001b[1;32m    116\u001b[0m base[\u001b[38;5;124m'\u001b[39m\u001b[38;5;124mpw\u001b[39m\u001b[38;5;124m'\u001b[39m]\u001b[38;5;241m.\u001b[39mpop(\u001b[38;5;124m'\u001b[39m\u001b[38;5;124mstructure\u001b[39m\u001b[38;5;124m'\u001b[39m, \u001b[38;5;28;01mNone\u001b[39;00m)\n",
      "File \u001b[0;32m~/.aiida_venvs/fair-workflows-workshop/lib/python3.10/site-packages/aiida_quantumespresso/workflows/pw/base.py:163\u001b[0m, in \u001b[0;36mPwBaseWorkChain.get_builder_from_protocol\u001b[0;34m(cls, code, structure, protocol, overrides, electronic_type, spin_type, initial_magnetic_moments, options, **_)\u001b[0m\n\u001b[1;32m    161\u001b[0m     pseudo_family \u001b[38;5;241m=\u001b[39m orm\u001b[38;5;241m.\u001b[39mQueryBuilder()\u001b[38;5;241m.\u001b[39mappend(pseudo_set, filters\u001b[38;5;241m=\u001b[39m{\u001b[38;5;124m'\u001b[39m\u001b[38;5;124mlabel\u001b[39m\u001b[38;5;124m'\u001b[39m: pseudo_family})\u001b[38;5;241m.\u001b[39mone()[\u001b[38;5;241m0\u001b[39m]\n\u001b[1;32m    162\u001b[0m \u001b[38;5;28;01mexcept\u001b[39;00m exceptions\u001b[38;5;241m.\u001b[39mNotExistent \u001b[38;5;28;01mas\u001b[39;00m exception:\n\u001b[0;32m--> 163\u001b[0m     \u001b[38;5;28;01mraise\u001b[39;00m \u001b[38;5;167;01mValueError\u001b[39;00m(\n\u001b[1;32m    164\u001b[0m         \u001b[38;5;124mf\u001b[39m\u001b[38;5;124m'\u001b[39m\u001b[38;5;124mrequired pseudo family `\u001b[39m\u001b[38;5;132;01m{\u001b[39;00mpseudo_family\u001b[38;5;132;01m}\u001b[39;00m\u001b[38;5;124m` is not installed. Please use `aiida-pseudo install` to\u001b[39m\u001b[38;5;124m'\u001b[39m\n\u001b[1;32m    165\u001b[0m         \u001b[38;5;124m'\u001b[39m\u001b[38;5;124minstall it.\u001b[39m\u001b[38;5;124m'\u001b[39m\n\u001b[1;32m    166\u001b[0m     ) \u001b[38;5;28;01mfrom\u001b[39;00m \u001b[38;5;21;01mexception\u001b[39;00m\n\u001b[1;32m    168\u001b[0m \u001b[38;5;28;01mtry\u001b[39;00m:\n\u001b[1;32m    169\u001b[0m     cutoff_wfc, cutoff_rho \u001b[38;5;241m=\u001b[39m pseudo_family\u001b[38;5;241m.\u001b[39mget_recommended_cutoffs(structure\u001b[38;5;241m=\u001b[39mstructure, unit\u001b[38;5;241m=\u001b[39m\u001b[38;5;124m'\u001b[39m\u001b[38;5;124mRy\u001b[39m\u001b[38;5;124m'\u001b[39m)\n",
      "\u001b[0;31mValueError\u001b[0m: required pseudo family `SSSP/1.3/PBEsol/efficiency` is not installed. Please use `aiida-pseudo install` toinstall it."
     ]
    }
   ],
   "source": [
    "from aiida_quantumespresso.workflows.pw.bands import PwBandsWorkChain\n",
    "\n",
    "builder = PwBandsWorkChain.get_builder_from_protocol(\n",
    "    code=data.code, \n",
    "    structure=data.structure,\n",
    "    protocol=\"fast\",\n",
    ")\n",
    "builder"
   ]
  },
  {
   "cell_type": "markdown",
   "metadata": {},
   "source": [
    "## Running the workflow\n",
    "\n",
    "Workflows can be run in the interpreter using the `run` method, in a blocking manner, which we shall do here."
   ]
  },
  {
   "cell_type": "code",
   "execution_count": null,
   "metadata": {
    "tags": [
     "hide-output"
    ]
   },
   "outputs": [],
   "source": [
    "from aiida import engine\n",
    "\n",
    "result = engine.run_get_node(builder)\n",
    "result"
   ]
  },
  {
   "cell_type": "markdown",
   "metadata": {},
   "source": [
    "Typically however, long running workflows are executed by using the `submit` method.\n",
    "This will store the initial state of the workflow in the profile storage, and notify the AiiDA daemon to run the workflow in the background.\n",
    "\n",
    "The AiiDA daemon can be launched using the `verdi daemon start n` command, with `n` being the number of worker processes to launch.\n",
    "Each worker can asynchronously handle 1000s of individual calculations, allowing for a high-throughput of workflow submissions.\n",
    "\n",
    "![daemon illustration](_static/aiida/rabbitmq-sysml.svg){height=200px align=center}"
   ]
  },
  {
   "cell_type": "markdown",
   "metadata": {},
   "source": [
    "Each workflow and node stored in the AiiDA profile is assigned a unique identifier (a.k.a Primary Key), which can be used to reference them.\n",
    "The execution of the workflows can be monitored using the `verdi process list` command, which will show the status of all running processes in the profile (or also finished ones with `-a`)."
   ]
  },
  {
   "cell_type": "code",
   "execution_count": null,
   "metadata": {
    "tags": [
     "hide-output"
    ]
   },
   "outputs": [],
   "source": [
    "%verdi process list -a"
   ]
  },
  {
   "cell_type": "markdown",
   "metadata": {},
   "source": [
    "We can also monitor the progress of individual workflows using the `verdi process status` command, which will show the status of the individual steps of the workflow."
   ]
  },
  {
   "cell_type": "code",
   "execution_count": null,
   "metadata": {},
   "outputs": [],
   "source": [
    "%verdi process status {result.node.pk}"
   ]
  },
  {
   "cell_type": "markdown",
   "metadata": {},
   "source": [
    "This work-chain demonstrates how we can build up a complex workflow from a series of individual calculations.\n",
    "In this case, the workflow is made up of the following steps:\n",
    "\n",
    "1. The `PwRelaxWorkChain` will run multiple Quantum ESPRESSO `vc-relax` calculations, to make sure that there are no Pulay stresses present in the material and that the requested k-points density is respected in case there is a significant volume change in the material.\n",
    "2. Once the geometry has been optimized, SeeK-path will be used to primitivize and standardize the structure, as well as find the standard path along which to calculate the band structure.\n",
    "3. A static calculation (`scf`) is run to calculate the charge density for the structure obtained from SeeK-path.\n",
    "4. Finally, an NSCF is run to calculate the band structure along the path determined by Seek-path.\n",
    "\n",
    "We shall also discuss in subsequent sections, how the `PwBaseWorkChain` can identify and recover from known failure modes, such as reaching the wall-time limit of the scheduler, or convergence failures."
   ]
  },
  {
   "cell_type": "markdown",
   "metadata": {},
   "source": [
    "## Inspecting the results"
   ]
  },
  {
   "cell_type": "markdown",
   "metadata": {},
   "source": [
    "Once we the workflow has finished, we can inspect the results using the `verdi process show` command, which will show the results of the workflow, and its \"attached\" outputs."
   ]
  },
  {
   "cell_type": "code",
   "execution_count": null,
   "metadata": {
    "tags": [
     "hide-output"
    ]
   },
   "outputs": [],
   "source": [
    "%verdi process show {result.node.pk}"
   ]
  },
  {
   "cell_type": "markdown",
   "metadata": {},
   "source": [
    "### The provenance graph\n",
    "\n",
    "As well as storing the inputs and outputs of the workflow, and its composite calculations, AiiDA also stores the links between them, which can be used to reconstruct the provenance graph of the workflow.\n",
    "\n",
    "This can be visualised using the `verdi node graph generate` command, or using the `Graph` Python API."
   ]
  },
  {
   "cell_type": "code",
   "execution_count": null,
   "metadata": {},
   "outputs": [],
   "source": [
    "from aiida.tools.visualization import Graph\n",
    "\n",
    "graph = Graph(graph_attr={\"rankdir\": \"TB\", \"size\": \"8!,8!\"})\n",
    "graph.recurse_ancestors(result.node, annotate_links=\"both\")\n",
    "graph.recurse_descendants(result.node, annotate_links=\"both\")\n",
    "graph.graphviz"
   ]
  },
  {
   "cell_type": "markdown",
   "metadata": {},
   "source": [
    "### The output structure\n",
    "\n",
    "AiiDA's `StructureData` class provides integration with both [ASE](https://wiki.fysik.dtu.dk/ase/), and [Pymatgen](https://pymatgen.org/), which can be used to inspect and visualise the structure."
   ]
  },
  {
   "cell_type": "code",
   "execution_count": null,
   "metadata": {},
   "outputs": [],
   "source": [
    "pym_structure = result.node.outputs.primitive_structure.get_pymatgen()\n",
    "pym_structure"
   ]
  },
  {
   "cell_type": "code",
   "execution_count": null,
   "metadata": {},
   "outputs": [],
   "source": [
    "from ase.visualize.plot import plot_atoms\n",
    "\n",
    "ase_atoms = result.node.outputs.primitive_structure.get_ase()\n",
    "ax = plot_atoms(ase_atoms)"
   ]
  },
  {
   "cell_type": "code",
   "execution_count": null,
   "metadata": {
    "tags": [
     "remove-cell"
    ]
   },
   "outputs": [],
   "source": [
    "from ase.visualize.ngl import NGLDisplay\n",
    "\n",
    "NGLDisplay(ase_atoms).gui"
   ]
  },
  {
   "cell_type": "markdown",
   "metadata": {},
   "source": [
    "### The output band structure"
   ]
  },
  {
   "cell_type": "markdown",
   "metadata": {},
   "source": [
    "Finally, we get to our desired result, the band structure of silicon computed using Quantum ESPRESSO 🎉"
   ]
  },
  {
   "cell_type": "code",
   "execution_count": null,
   "metadata": {},
   "outputs": [],
   "source": [
    "from local_module.bandstructure import plot_bandstructure\n",
    "\n",
    "bands = result.node.outputs.band_structure\n",
    "fig, ax = plot_bandstructure(bands)"
   ]
  }
 ],
 "metadata": {
  "kernelspec": {
   "display_name": "FAIR",
   "language": "python",
   "name": "python3"
  },
  "language_info": {
   "codemirror_mode": {
    "name": "ipython",
    "version": 3
   },
   "file_extension": ".py",
   "mimetype": "text/x-python",
   "name": "python",
   "nbconvert_exporter": "python",
   "pygments_lexer": "ipython3",
   "version": "3.10.12"
  },
  "toc-autonumbering": true,
  "toc-showcode": false,
  "toc-showtags": false,
  "vscode": {
   "interpreter": {
    "hash": "20c30adb377910d9d5c8112cf74e9f7ecb37538254a701570d770f074373c53e"
   }
  }
 },
 "nbformat": 4,
 "nbformat_minor": 4
}
