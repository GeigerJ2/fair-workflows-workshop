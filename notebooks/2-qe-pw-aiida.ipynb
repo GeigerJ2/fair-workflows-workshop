{
 "cells": [
  {
   "cell_type": "markdown",
   "metadata": {},
   "source": [
    "# Running a QE calculation with AiiDA\n"
   ]
  },
  {
   "cell_type": "markdown",
   "metadata": {},
   "source": [
    "After we have created an AiiDA profile and covered the most important concepts, let's now have a look at how we can\n",
    "actually run an atomistic simulation. For this tutorial, we'll be using Quantum ESPRESSO (QE), but plugins for most other,\n",
    "commonly used codes exist, as well. At the end of this notebook, we will show you how you can quickly get started with\n",
    "those."
   ]
  },
  {
   "cell_type": "markdown",
   "metadata": {},
   "source": [
    "\n",
    "For a quantum mechanical simulation, we'll need various ingredients:\n",
    "- The code we want to execute for which the necessary infrastructure is provided by the corresponding AiiDA plugin\n",
    "- The atomic structure that should be calculated\n",
    "- The calculation parameters, such as the plane-wave cutoff and convergence criteria, given by a dictionary\n",
    "- The k-point sampling information\n",
    "- The pseudopotentials\n",
    "\n",
    "Each of these inputs is reperesented by an AiiDA class that inherits from the `Node` base class and takes care of\n",
    "the database storage, and the recording of provenance. A visualization is provided in the figure below:\n",
    "\n",
    "![](https://aiida-tutorials.readthedocs.io/en/latest/_images/Si_example.png)\n",
    "<!-- # {height=150px align=center} -->\n",
    "\n",
    "From the calculation (or `CalcJob` in AiiDA jargon), we obtain as outputs:\n",
    "- The remote folder where the calculation was actually executed (if desired, this can automatically be cleaned after\n",
    "  successful execution of a workflow)\n",
    "- The retrieved files which are stored in AiiDA's file repository (these are the main output files, but not large\n",
    "  intermediate files, e.g. charge density)\n",
    "- The output parameters, which are specific entities that are being parsed from the output files, and thus actually\n",
    "  stored in AiiDA's SQL databased, and are therefore also queryabel (more on that later)\n",
    "\n",
    "Additional (parsed) outputs can further be defined by the plugin developer."
   ]
  },
  {
   "cell_type": "markdown",
   "metadata": {},
   "source": [
    "In the following, we will see how we can prepare all necessary inputs for the calculation, run it, and interact with it.\n",
    "First, let's use the AiiDA jupyter magic, which will also load our default profile `fair-workflows`."
   ]
  },
  {
   "cell_type": "code",
   "execution_count": 3,
   "metadata": {},
   "outputs": [
    {
     "data": {
      "application/json": {
       "current_state": "Loaded AiiDA DB environment - profile name: fair-workflows."
      },
      "text/html": [
       "<p>Loaded AiiDA DB environment - profile name: fair-workflows.</p>"
      ],
      "text/latex": [
       "Loaded AiiDA DB environment - profile name: fair-workflows.\n"
      ],
      "text/plain": [
       "Loaded AiiDA DB environment - profile name: fair-workflows.\n"
      ]
     },
     "execution_count": 3,
     "metadata": {},
     "output_type": "execute_result"
    }
   ],
   "source": [
    "%load_ext aiida\n",
    "%aiida"
   ]
  },
  {
   "cell_type": "markdown",
   "metadata": {},
   "source": [
    "---\n",
    "We then import the two main modules needed for this example, the **Object-relational mapper** (ORM), which links\n",
    "entities in AiiDA's SQL database to the Python objects we will be dealing with, as well as the engine necessary to\n",
    "execute our calculation."
   ]
  },
  {
   "cell_type": "code",
   "execution_count": 4,
   "metadata": {},
   "outputs": [],
   "source": [
    "from aiida import orm, engine"
   ]
  },
  {
   "cell_type": "markdown",
   "metadata": {},
   "source": [
    "## `Computer`s and `Code`s\n",
    "\n",
    "The `verdi presto` command used to create the AiiDA profile automatically sets up your local workstation as\n",
    "the `localhost` computer. This will suffice for the sake of the tutorial, but to set up additional `Computer`s such as\n",
    "remote HPC resources in the future, we point you to the [relevant section of the documentation on running external codes](https://aiida.readthedocs.io/projects/aiida-core/en/v2.6.1/howto/run_codes.html#how-to-set-up-a-computer).\n",
    "\n",
    "We then create a `Code` instance for the `pw.x` executable of Quantum ESPRESSO. To keep the notebook idempotent, we are\n",
    "using the Python API here, and try to load it if it already exists, otherwise we create it:"
   ]
  },
  {
   "cell_type": "code",
   "execution_count": 5,
   "metadata": {},
   "outputs": [
    {
     "name": "stdout",
     "output_type": "stream",
     "text": [
      "Loaded pw.x Code of QE v7.1.\n"
     ]
    }
   ],
   "source": [
    "from aiida.common.exceptions import NotExistent\n",
    "\n",
    "try:\n",
    "    pw_code = orm.load_code('qe-7.1-pw@localhost')  # The computer label can also be omitted here\n",
    "    print(\"Loaded pw.x Code of QE v7.1.\")\n",
    "except NotExistent:\n",
    "    pw_code = orm.InstalledCode(\n",
    "        computer=orm.load_computer('localhost'),\n",
    "        filepath_executable='/apps/share64/debian10/espresso/espresso-7.1/bin/pw.x',\n",
    "        label='qe-7.1-pw',\n",
    "        description='Serial version of QE 7.1 pw.x on localhost',\n",
    "        default_calc_job_plugin='quantumespresso.pw',\n",
    "        prepend_text='export OMP_NUM_THREADS=1',\n",
    "        append_text='',\n",
    "        use_double_quotes=False,\n",
    "        with_mpi=False\n",
    "    ).store()\n",
    "    print(\"Created and stored pw.x Code of QE v7.1.\")"
   ]
  },
  {
   "cell_type": "markdown",
   "metadata": {},
   "source": [
    "\n",
    "To create a `Code` in AiiDA, various settings are required:\n",
    "- First, the `Computer` where the code should be executed needs to be specified\n",
    "- The absolute path to the executable must be given, as well, and we have already added the correct path for the nanoHUB deployment\n",
    "- A label (to load the `Code` later on), and a description (optional) are also given\n",
    "- As mentioned above, the way how AiiDA interacts with a given executable, e.g. which input files and parameters are\n",
    "  required, is given by the AiiDA plugins, not `aiida-core` itself. The `aiida-quantumespresso` plugin is already\n",
    "  installed in this workspace, so we can directly set `quantumespresso.pw` as the `default_calc_job_plugin`\n",
    "- In addition, `append_text` and `prepend_text` can be added, and will appear in the submission script before and after\n",
    "  the actual call to the executable. This can be useful to load modules or set environment variables (as done here to\n",
    "  disable hyperthreading)\n",
    "- As the version of QE available on the `localhost` `Computer` of the nanoHUB deployment is serial, we disable MPI via `with_mpi=False`"
   ]
  },
  {
   "cell_type": "markdown",
   "metadata": {},
   "source": [
    "We can further check which `Calculation` plugins are available by running:"
   ]
  },
  {
   "cell_type": "code",
   "execution_count": 6,
   "metadata": {},
   "outputs": [
    {
     "name": "stdout",
     "output_type": "stream",
     "text": [
      "\u001b[22mRegistered entry points for aiida.calculations:\u001b[0m\n",
      "\u001b[22m* core.arithmetic.add\u001b[0m\n",
      "\u001b[22m* core.templatereplacer\u001b[0m\n",
      "\u001b[22m* core.transfer\u001b[0m\n",
      "\u001b[22m* quantumespresso.cp\u001b[0m\n",
      "\u001b[22m* quantumespresso.create_kpoints_from_distance\u001b[0m\n",
      "\u001b[22m* quantumespresso.create_magnetic_configuration\u001b[0m\n",
      "\u001b[22m* quantumespresso.dos\u001b[0m\n",
      "\u001b[22m* quantumespresso.epw\u001b[0m\n",
      "\u001b[22m* quantumespresso.matdyn\u001b[0m\n",
      "\u001b[22m* quantumespresso.merge_ph_outputs\u001b[0m\n",
      "\u001b[22m* quantumespresso.namelists\u001b[0m\n",
      "\u001b[22m* quantumespresso.neb\u001b[0m\n",
      "\u001b[22m* quantumespresso.open_grid\u001b[0m\n",
      "\u001b[22m* quantumespresso.ph\u001b[0m\n",
      "\u001b[22m* quantumespresso.pp\u001b[0m\n",
      "\u001b[22m* quantumespresso.projwfc\u001b[0m\n",
      "\u001b[22m* quantumespresso.pw\u001b[0m\n",
      "\u001b[22m* quantumespresso.pw2gw\u001b[0m\n",
      "\u001b[22m* quantumespresso.pw2wannier90\u001b[0m\n",
      "\u001b[22m* quantumespresso.pwimmigrant\u001b[0m\n",
      "\u001b[22m* quantumespresso.q2r\u001b[0m\n",
      "\u001b[22m* quantumespresso.seekpath_structure_analysis\u001b[0m\n",
      "\u001b[22m* quantumespresso.xspectra\u001b[0m\n",
      "\u001b[22m\u001b[0m\n",
      "\u001b[34m\u001b[1mReport\u001b[0m: \u001b[22mPass the entry point as an argument to display detailed information\u001b[0m\n"
     ]
    }
   ],
   "source": [
    "%verdi plugin list aiida.calculations"
   ]
  },
  {
   "cell_type": "markdown",
   "metadata": {},
   "source": [
    "Note that AiiDA's `verdi` command-line interface (CLI) can also be (and typically is) used to set up a `Code` instance for a profile. To this end, the command:\n",
    "\n",
    "```shell\n",
    "verdi code create core.code.installed\n",
    "```\n",
    "\n",
    "needs to be run on the terminal and will ask you for all required options.\n",
    "\n",
    "For convenience, it is also possible to provide these options via a YAML configuration file using the `--config` flat,\n",
    "which can point either to a local file, or to a URL (e.g. on GitHub). The necessary YAML configuration file to set up\n",
    "`pw.x` of QE v7.1 is part of this repository.\n",
    "\n",
    "In addition, the [aiida-code-registry](https://github.com/aiidateam/aiida-code-registry/) compiles `Computer` and `Code`\n",
    "configuration files of commonly used HPC resources. If you don't find your HPC or code there, pull requests are very\n",
    "welcome.\n",
    "\n",
    "After creating our `Code`, we can then see if everything works fine by running:"
   ]
  },
  {
   "cell_type": "code",
   "execution_count": 7,
   "metadata": {},
   "outputs": [
    {
     "name": "stderr",
     "output_type": "stream",
     "text": [
      "\u001b[31m\u001b[1mCritical\u001b[0m: \u001b[22mvalidation failed: The provided remote absolute path `/apps/share64/debian10/espresso/espresso-7.1/bin/pw.x` does not exist on the computer.\u001b[0m\n"
     ]
    },
    {
     "ename": "AttributeError",
     "evalue": "'tuple' object has no attribute 'tb_frame'",
     "output_type": "error",
     "traceback": [
      "\u001b[0;31m---------------------------------------------------------------------------\u001b[0m",
      "\u001b[0;31mValidationError\u001b[0m                           Traceback (most recent call last)",
      "File \u001b[0;32m~/.aiida_venvs/fair-workflows-workshop/lib/python3.10/site-packages/aiida/cmdline/commands/cmd_code.py:153\u001b[0m, in \u001b[0;36mcode_test\u001b[0;34m(code)\u001b[0m\n\u001b[1;32m    152\u001b[0m \u001b[38;5;28;01mtry\u001b[39;00m:\n\u001b[0;32m--> 153\u001b[0m     \u001b[43mcode\u001b[49m\u001b[38;5;241;43m.\u001b[39;49m\u001b[43mvalidate_filepath_executable\u001b[49m\u001b[43m(\u001b[49m\u001b[43m)\u001b[49m\n\u001b[1;32m    154\u001b[0m \u001b[38;5;28;01mexcept\u001b[39;00m exceptions\u001b[38;5;241m.\u001b[39mValidationError \u001b[38;5;28;01mas\u001b[39;00m exception:\n",
      "File \u001b[0;32m~/.aiida_venvs/fair-workflows-workshop/lib/python3.10/site-packages/aiida/orm/nodes/data/code/installed.py:146\u001b[0m, in \u001b[0;36mInstalledCode.validate_filepath_executable\u001b[0;34m(self)\u001b[0m\n\u001b[1;32m    145\u001b[0m \u001b[38;5;28;01mif\u001b[39;00m \u001b[38;5;129;01mnot\u001b[39;00m file_exists:\n\u001b[0;32m--> 146\u001b[0m     \u001b[38;5;28;01mraise\u001b[39;00m exceptions\u001b[38;5;241m.\u001b[39mValidationError(\n\u001b[1;32m    147\u001b[0m         \u001b[38;5;124mf\u001b[39m\u001b[38;5;124m'\u001b[39m\u001b[38;5;124mThe provided remote absolute path `\u001b[39m\u001b[38;5;132;01m{\u001b[39;00m\u001b[38;5;28mself\u001b[39m\u001b[38;5;241m.\u001b[39mfilepath_executable\u001b[38;5;132;01m}\u001b[39;00m\u001b[38;5;124m` does not exist on the computer.\u001b[39m\u001b[38;5;124m'\u001b[39m\n\u001b[1;32m    148\u001b[0m     )\n",
      "\u001b[0;31mValidationError\u001b[0m: The provided remote absolute path `/apps/share64/debian10/espresso/espresso-7.1/bin/pw.x` does not exist on the computer.",
      "\nDuring handling of the above exception, another exception occurred:\n",
      "\u001b[0;31mSystemExit\u001b[0m                                Traceback (most recent call last)",
      "    \u001b[0;31m[... skipping hidden 1 frame]\u001b[0m\n",
      "Cell \u001b[0;32mIn[7], line 1\u001b[0m\n\u001b[0;32m----> 1\u001b[0m \u001b[43mget_ipython\u001b[49m\u001b[43m(\u001b[49m\u001b[43m)\u001b[49m\u001b[38;5;241;43m.\u001b[39;49m\u001b[43mrun_line_magic\u001b[49m\u001b[43m(\u001b[49m\u001b[38;5;124;43m'\u001b[39;49m\u001b[38;5;124;43mverdi\u001b[39;49m\u001b[38;5;124;43m'\u001b[39;49m\u001b[43m,\u001b[49m\u001b[43m \u001b[49m\u001b[38;5;124;43m'\u001b[39;49m\u001b[38;5;124;43mcode test qe-7.1-pw\u001b[39;49m\u001b[38;5;124;43m'\u001b[39;49m\u001b[43m)\u001b[49m\n",
      "File \u001b[0;32m~/.aiida_venvs/fair-workflows-workshop/lib/python3.10/site-packages/IPython/core/interactiveshell.py:2480\u001b[0m, in \u001b[0;36mInteractiveShell.run_line_magic\u001b[0;34m(self, magic_name, line, _stack_depth)\u001b[0m\n\u001b[1;32m   2479\u001b[0m \u001b[38;5;28;01mwith\u001b[39;00m \u001b[38;5;28mself\u001b[39m\u001b[38;5;241m.\u001b[39mbuiltin_trap:\n\u001b[0;32m-> 2480\u001b[0m     result \u001b[38;5;241m=\u001b[39m \u001b[43mfn\u001b[49m\u001b[43m(\u001b[49m\u001b[38;5;241;43m*\u001b[39;49m\u001b[43margs\u001b[49m\u001b[43m,\u001b[49m\u001b[43m \u001b[49m\u001b[38;5;241;43m*\u001b[39;49m\u001b[38;5;241;43m*\u001b[39;49m\u001b[43mkwargs\u001b[49m\u001b[43m)\u001b[49m\n\u001b[1;32m   2482\u001b[0m \u001b[38;5;66;03m# The code below prevents the output from being displayed\u001b[39;00m\n\u001b[1;32m   2483\u001b[0m \u001b[38;5;66;03m# when using magics with decorator @output_can_be_silenced\u001b[39;00m\n\u001b[1;32m   2484\u001b[0m \u001b[38;5;66;03m# when the last Python token in the expression is a ';'.\u001b[39;00m\n",
      "File \u001b[0;32m~/.aiida_venvs/fair-workflows-workshop/lib/python3.10/site-packages/aiida/tools/ipython/ipython_magics.py:115\u001b[0m, in \u001b[0;36mAiiDALoaderMagics.verdi\u001b[0;34m(self, line, local_ns)\u001b[0m\n\u001b[1;32m    113\u001b[0m     \u001b[38;5;28;01mraise\u001b[39;00m \u001b[38;5;167;01mRuntimeError\u001b[39;00m(\u001b[38;5;124mf\u001b[39m\u001b[38;5;124m'\u001b[39m\u001b[38;5;124mcommand `\u001b[39m\u001b[38;5;132;01m{\u001b[39;00mcommand_name\u001b[38;5;132;01m}\u001b[39;00m\u001b[38;5;124m` not found.\u001b[39m\u001b[38;5;124m'\u001b[39m)\n\u001b[0;32m--> 115\u001b[0m \u001b[38;5;28;01mreturn\u001b[39;00m \u001b[43mcommand\u001b[49m\u001b[43m(\u001b[49m\n\u001b[1;32m    116\u001b[0m \u001b[43m    \u001b[49m\u001b[43mcmdline_arguments\u001b[49m\u001b[43m[\u001b[49m\u001b[38;5;241;43m1\u001b[39;49m\u001b[43m:\u001b[49m\u001b[43m]\u001b[49m\u001b[43m,\u001b[49m\n\u001b[1;32m    117\u001b[0m \u001b[43m    \u001b[49m\u001b[43mprog_name\u001b[49m\u001b[38;5;241;43m=\u001b[39;49m\u001b[38;5;124;43m'\u001b[39;49m\u001b[38;5;124;43m%\u001b[39;49m\u001b[38;5;124;43mverdi\u001b[39;49m\u001b[38;5;124;43m'\u001b[39;49m\u001b[43m,\u001b[49m\n\u001b[1;32m    118\u001b[0m \u001b[43m    \u001b[49m\u001b[43mobj\u001b[49m\u001b[38;5;241;43m=\u001b[39;49m\u001b[43mAttributeDict\u001b[49m\u001b[43m(\u001b[49m\u001b[43m{\u001b[49m\u001b[38;5;124;43m'\u001b[39;49m\u001b[38;5;124;43mconfig\u001b[39;49m\u001b[38;5;124;43m'\u001b[39;49m\u001b[43m:\u001b[49m\u001b[43m \u001b[49m\u001b[43mconfig\u001b[49m\u001b[43m,\u001b[49m\u001b[43m \u001b[49m\u001b[38;5;124;43m'\u001b[39;49m\u001b[38;5;124;43mprofile\u001b[39;49m\u001b[38;5;124;43m'\u001b[39;49m\u001b[43m:\u001b[49m\u001b[43m \u001b[49m\u001b[43mprofile\u001b[49m\u001b[43m}\u001b[49m\u001b[43m)\u001b[49m\u001b[43m,\u001b[49m\n\u001b[1;32m    119\u001b[0m \u001b[43m    \u001b[49m\u001b[43mstandalone_mode\u001b[49m\u001b[38;5;241;43m=\u001b[39;49m\u001b[38;5;28;43;01mFalse\u001b[39;49;00m\u001b[43m,\u001b[49m\n\u001b[1;32m    120\u001b[0m \u001b[43m\u001b[49m\u001b[43m)\u001b[49m\n",
      "File \u001b[0;32m~/.aiida_venvs/fair-workflows-workshop/lib/python3.10/site-packages/click/core.py:1157\u001b[0m, in \u001b[0;36mBaseCommand.__call__\u001b[0;34m(self, *args, **kwargs)\u001b[0m\n\u001b[1;32m   1156\u001b[0m \u001b[38;5;250m\u001b[39m\u001b[38;5;124;03m\"\"\"Alias for :meth:`main`.\"\"\"\u001b[39;00m\n\u001b[0;32m-> 1157\u001b[0m \u001b[38;5;28;01mreturn\u001b[39;00m \u001b[38;5;28;43mself\u001b[39;49m\u001b[38;5;241;43m.\u001b[39;49m\u001b[43mmain\u001b[49m\u001b[43m(\u001b[49m\u001b[38;5;241;43m*\u001b[39;49m\u001b[43margs\u001b[49m\u001b[43m,\u001b[49m\u001b[43m \u001b[49m\u001b[38;5;241;43m*\u001b[39;49m\u001b[38;5;241;43m*\u001b[39;49m\u001b[43mkwargs\u001b[49m\u001b[43m)\u001b[49m\n",
      "File \u001b[0;32m~/.aiida_venvs/fair-workflows-workshop/lib/python3.10/site-packages/click/core.py:1078\u001b[0m, in \u001b[0;36mBaseCommand.main\u001b[0;34m(self, args, prog_name, complete_var, standalone_mode, windows_expand_args, **extra)\u001b[0m\n\u001b[1;32m   1077\u001b[0m \u001b[38;5;28;01mwith\u001b[39;00m \u001b[38;5;28mself\u001b[39m\u001b[38;5;241m.\u001b[39mmake_context(prog_name, args, \u001b[38;5;241m*\u001b[39m\u001b[38;5;241m*\u001b[39mextra) \u001b[38;5;28;01mas\u001b[39;00m ctx:\n\u001b[0;32m-> 1078\u001b[0m     rv \u001b[38;5;241m=\u001b[39m \u001b[38;5;28;43mself\u001b[39;49m\u001b[38;5;241;43m.\u001b[39;49m\u001b[43minvoke\u001b[49m\u001b[43m(\u001b[49m\u001b[43mctx\u001b[49m\u001b[43m)\u001b[49m\n\u001b[1;32m   1079\u001b[0m     \u001b[38;5;28;01mif\u001b[39;00m \u001b[38;5;129;01mnot\u001b[39;00m standalone_mode:\n",
      "File \u001b[0;32m~/.aiida_venvs/fair-workflows-workshop/lib/python3.10/site-packages/click/core.py:1688\u001b[0m, in \u001b[0;36mMultiCommand.invoke\u001b[0;34m(self, ctx)\u001b[0m\n\u001b[1;32m   1687\u001b[0m         \u001b[38;5;28;01mwith\u001b[39;00m sub_ctx:\n\u001b[0;32m-> 1688\u001b[0m             \u001b[38;5;28;01mreturn\u001b[39;00m _process_result(\u001b[43msub_ctx\u001b[49m\u001b[38;5;241;43m.\u001b[39;49m\u001b[43mcommand\u001b[49m\u001b[38;5;241;43m.\u001b[39;49m\u001b[43minvoke\u001b[49m\u001b[43m(\u001b[49m\u001b[43msub_ctx\u001b[49m\u001b[43m)\u001b[49m)\n\u001b[1;32m   1690\u001b[0m \u001b[38;5;66;03m# In chain mode we create the contexts step by step, but after the\u001b[39;00m\n\u001b[1;32m   1691\u001b[0m \u001b[38;5;66;03m# base command has been invoked.  Because at that point we do not\u001b[39;00m\n\u001b[1;32m   1692\u001b[0m \u001b[38;5;66;03m# know the subcommands yet, the invoked subcommand attribute is\u001b[39;00m\n\u001b[1;32m   1693\u001b[0m \u001b[38;5;66;03m# set to ``*`` to inform the command that subcommands are executed\u001b[39;00m\n\u001b[1;32m   1694\u001b[0m \u001b[38;5;66;03m# but nothing else.\u001b[39;00m\n",
      "File \u001b[0;32m~/.aiida_venvs/fair-workflows-workshop/lib/python3.10/site-packages/aiida/cmdline/groups/verdi.py:117\u001b[0m, in \u001b[0;36mVerdiCommand.invoke\u001b[0;34m(self, ctx)\u001b[0m\n\u001b[1;32m    116\u001b[0m \u001b[38;5;28;01mif\u001b[39;00m \u001b[38;5;28mself\u001b[39m\u001b[38;5;241m.\u001b[39mcallback \u001b[38;5;129;01mis\u001b[39;00m \u001b[38;5;129;01mnot\u001b[39;00m \u001b[38;5;28;01mNone\u001b[39;00m:\n\u001b[0;32m--> 117\u001b[0m     \u001b[38;5;28;01mreturn\u001b[39;00m \u001b[43mctx\u001b[49m\u001b[38;5;241;43m.\u001b[39;49m\u001b[43minvoke\u001b[49m\u001b[43m(\u001b[49m\u001b[38;5;28;43mself\u001b[39;49m\u001b[38;5;241;43m.\u001b[39;49m\u001b[43mcallback\u001b[49m\u001b[43m,\u001b[49m\u001b[43m \u001b[49m\u001b[38;5;241;43m*\u001b[39;49m\u001b[38;5;241;43m*\u001b[39;49m\u001b[43mctx\u001b[49m\u001b[38;5;241;43m.\u001b[39;49m\u001b[43mparams\u001b[49m\u001b[43m)\u001b[49m\n",
      "File \u001b[0;32m~/.aiida_venvs/fair-workflows-workshop/lib/python3.10/site-packages/click/core.py:783\u001b[0m, in \u001b[0;36mContext.invoke\u001b[0;34m(_Context__self, _Context__callback, *args, **kwargs)\u001b[0m\n\u001b[1;32m    782\u001b[0m \u001b[38;5;28;01mwith\u001b[39;00m ctx:\n\u001b[0;32m--> 783\u001b[0m     \u001b[38;5;28;01mreturn\u001b[39;00m \u001b[43m__callback\u001b[49m\u001b[43m(\u001b[49m\u001b[38;5;241;43m*\u001b[39;49m\u001b[43margs\u001b[49m\u001b[43m,\u001b[49m\u001b[43m \u001b[49m\u001b[38;5;241;43m*\u001b[39;49m\u001b[38;5;241;43m*\u001b[39;49m\u001b[43mkwargs\u001b[49m\u001b[43m)\u001b[49m\n",
      "File \u001b[0;32m~/.aiida_venvs/fair-workflows-workshop/lib/python3.10/site-packages/aiida/cmdline/utils/decorators.py:102\u001b[0m, in \u001b[0;36mwith_dbenv.<locals>.wrapper\u001b[0;34m(wrapped, _, args, kwargs)\u001b[0m\n\u001b[1;32m    100\u001b[0m     echo\u001b[38;5;241m.\u001b[39mecho_critical(\u001b[38;5;28mstr\u001b[39m(exception))\n\u001b[0;32m--> 102\u001b[0m \u001b[38;5;28;01mreturn\u001b[39;00m \u001b[43mwrapped\u001b[49m\u001b[43m(\u001b[49m\u001b[38;5;241;43m*\u001b[39;49m\u001b[43margs\u001b[49m\u001b[43m,\u001b[49m\u001b[43m \u001b[49m\u001b[38;5;241;43m*\u001b[39;49m\u001b[38;5;241;43m*\u001b[39;49m\u001b[43mkwargs\u001b[49m\u001b[43m)\u001b[49m\n",
      "File \u001b[0;32m~/.aiida_venvs/fair-workflows-workshop/lib/python3.10/site-packages/aiida/cmdline/commands/cmd_code.py:155\u001b[0m, in \u001b[0;36mcode_test\u001b[0;34m(code)\u001b[0m\n\u001b[1;32m    154\u001b[0m     \u001b[38;5;28;01mexcept\u001b[39;00m exceptions\u001b[38;5;241m.\u001b[39mValidationError \u001b[38;5;28;01mas\u001b[39;00m exception:\n\u001b[0;32m--> 155\u001b[0m         \u001b[43mecho\u001b[49m\u001b[38;5;241;43m.\u001b[39;49m\u001b[43mecho_critical\u001b[49m\u001b[43m(\u001b[49m\u001b[38;5;124;43mf\u001b[39;49m\u001b[38;5;124;43m'\u001b[39;49m\u001b[38;5;124;43mvalidation failed: \u001b[39;49m\u001b[38;5;132;43;01m{\u001b[39;49;00m\u001b[43mexception\u001b[49m\u001b[38;5;132;43;01m}\u001b[39;49;00m\u001b[38;5;124;43m'\u001b[39;49m\u001b[43m)\u001b[49m\n\u001b[1;32m    157\u001b[0m echo\u001b[38;5;241m.\u001b[39mecho_success(\u001b[38;5;124m'\u001b[39m\u001b[38;5;124mall tests succeeded.\u001b[39m\u001b[38;5;124m'\u001b[39m)\n",
      "File \u001b[0;32m~/.aiida_venvs/fair-workflows-workshop/lib/python3.10/site-packages/aiida/cmdline/utils/echo.py:182\u001b[0m, in \u001b[0;36mecho_critical\u001b[0;34m(message, bold, nl, err, prefix)\u001b[0m\n\u001b[1;32m    181\u001b[0m CMDLINE_LOGGER\u001b[38;5;241m.\u001b[39mcritical(message, extra\u001b[38;5;241m=\u001b[39m{\u001b[38;5;124m'\u001b[39m\u001b[38;5;124mnl\u001b[39m\u001b[38;5;124m'\u001b[39m: nl, \u001b[38;5;124m'\u001b[39m\u001b[38;5;124merr\u001b[39m\u001b[38;5;124m'\u001b[39m: err, \u001b[38;5;124m'\u001b[39m\u001b[38;5;124mprefix\u001b[39m\u001b[38;5;124m'\u001b[39m: prefix})\n\u001b[0;32m--> 182\u001b[0m \u001b[43msys\u001b[49m\u001b[38;5;241;43m.\u001b[39;49m\u001b[43mexit\u001b[49m\u001b[43m(\u001b[49m\u001b[43mExitCode\u001b[49m\u001b[38;5;241;43m.\u001b[39;49m\u001b[43mCRITICAL\u001b[49m\u001b[43m)\u001b[49m\n",
      "\u001b[0;31mSystemExit\u001b[0m: ExitCode.CRITICAL",
      "\nDuring handling of the above exception, another exception occurred:\n",
      "\u001b[0;31mAttributeError\u001b[0m                            Traceback (most recent call last)",
      "    \u001b[0;31m[... skipping hidden 1 frame]\u001b[0m\n",
      "File \u001b[0;32m~/.aiida_venvs/fair-workflows-workshop/lib/python3.10/site-packages/IPython/core/interactiveshell.py:2145\u001b[0m, in \u001b[0;36mInteractiveShell.showtraceback\u001b[0;34m(self, exc_tuple, filename, tb_offset, exception_only, running_compiled_code)\u001b[0m\n\u001b[1;32m   2142\u001b[0m \u001b[38;5;28;01mif\u001b[39;00m exception_only:\n\u001b[1;32m   2143\u001b[0m     stb \u001b[38;5;241m=\u001b[39m [\u001b[38;5;124m'\u001b[39m\u001b[38;5;124mAn exception has occurred, use \u001b[39m\u001b[38;5;124m%\u001b[39m\u001b[38;5;124mtb to see \u001b[39m\u001b[38;5;124m'\u001b[39m\n\u001b[1;32m   2144\u001b[0m            \u001b[38;5;124m'\u001b[39m\u001b[38;5;124mthe full traceback.\u001b[39m\u001b[38;5;130;01m\\n\u001b[39;00m\u001b[38;5;124m'\u001b[39m]\n\u001b[0;32m-> 2145\u001b[0m     stb\u001b[38;5;241m.\u001b[39mextend(\u001b[38;5;28;43mself\u001b[39;49m\u001b[38;5;241;43m.\u001b[39;49m\u001b[43mInteractiveTB\u001b[49m\u001b[38;5;241;43m.\u001b[39;49m\u001b[43mget_exception_only\u001b[49m\u001b[43m(\u001b[49m\u001b[43metype\u001b[49m\u001b[43m,\u001b[49m\n\u001b[1;32m   2146\u001b[0m \u001b[43m                                                     \u001b[49m\u001b[43mvalue\u001b[49m\u001b[43m)\u001b[49m)\n\u001b[1;32m   2147\u001b[0m \u001b[38;5;28;01melse\u001b[39;00m:\n\u001b[1;32m   2149\u001b[0m     \u001b[38;5;28;01mdef\u001b[39;00m \u001b[38;5;21mcontains_exceptiongroup\u001b[39m(val):\n",
      "File \u001b[0;32m~/.aiida_venvs/fair-workflows-workshop/lib/python3.10/site-packages/IPython/core/ultratb.py:710\u001b[0m, in \u001b[0;36mListTB.get_exception_only\u001b[0;34m(self, etype, value)\u001b[0m\n\u001b[1;32m    702\u001b[0m \u001b[38;5;28;01mdef\u001b[39;00m \u001b[38;5;21mget_exception_only\u001b[39m(\u001b[38;5;28mself\u001b[39m, etype, value):\n\u001b[1;32m    703\u001b[0m \u001b[38;5;250m    \u001b[39m\u001b[38;5;124;03m\"\"\"Only print the exception type and message, without a traceback.\u001b[39;00m\n\u001b[1;32m    704\u001b[0m \n\u001b[1;32m    705\u001b[0m \u001b[38;5;124;03m    Parameters\u001b[39;00m\n\u001b[0;32m   (...)\u001b[0m\n\u001b[1;32m    708\u001b[0m \u001b[38;5;124;03m    value : exception value\u001b[39;00m\n\u001b[1;32m    709\u001b[0m \u001b[38;5;124;03m    \"\"\"\u001b[39;00m\n\u001b[0;32m--> 710\u001b[0m     \u001b[38;5;28;01mreturn\u001b[39;00m \u001b[43mListTB\u001b[49m\u001b[38;5;241;43m.\u001b[39;49m\u001b[43mstructured_traceback\u001b[49m\u001b[43m(\u001b[49m\u001b[38;5;28;43mself\u001b[39;49m\u001b[43m,\u001b[49m\u001b[43m \u001b[49m\u001b[43metype\u001b[49m\u001b[43m,\u001b[49m\u001b[43m \u001b[49m\u001b[43mvalue\u001b[49m\u001b[43m)\u001b[49m\n",
      "File \u001b[0;32m~/.aiida_venvs/fair-workflows-workshop/lib/python3.10/site-packages/IPython/core/ultratb.py:568\u001b[0m, in \u001b[0;36mListTB.structured_traceback\u001b[0;34m(self, etype, evalue, etb, tb_offset, context)\u001b[0m\n\u001b[1;32m    565\u001b[0m     chained_exc_ids\u001b[38;5;241m.\u001b[39madd(\u001b[38;5;28mid\u001b[39m(exception[\u001b[38;5;241m1\u001b[39m]))\n\u001b[1;32m    566\u001b[0m     chained_exceptions_tb_offset \u001b[38;5;241m=\u001b[39m \u001b[38;5;241m0\u001b[39m\n\u001b[1;32m    567\u001b[0m     out_list \u001b[38;5;241m=\u001b[39m (\n\u001b[0;32m--> 568\u001b[0m         \u001b[38;5;28;43mself\u001b[39;49m\u001b[38;5;241;43m.\u001b[39;49m\u001b[43mstructured_traceback\u001b[49m\u001b[43m(\u001b[49m\n\u001b[1;32m    569\u001b[0m \u001b[43m            \u001b[49m\u001b[43metype\u001b[49m\u001b[43m,\u001b[49m\n\u001b[1;32m    570\u001b[0m \u001b[43m            \u001b[49m\u001b[43mevalue\u001b[49m\u001b[43m,\u001b[49m\n\u001b[1;32m    571\u001b[0m \u001b[43m            \u001b[49m\u001b[43m(\u001b[49m\u001b[43metb\u001b[49m\u001b[43m,\u001b[49m\u001b[43m \u001b[49m\u001b[43mchained_exc_ids\u001b[49m\u001b[43m)\u001b[49m\u001b[43m,\u001b[49m\u001b[43m  \u001b[49m\u001b[38;5;66;43;03m# type: ignore\u001b[39;49;00m\n\u001b[1;32m    572\u001b[0m \u001b[43m            \u001b[49m\u001b[43mchained_exceptions_tb_offset\u001b[49m\u001b[43m,\u001b[49m\n\u001b[1;32m    573\u001b[0m \u001b[43m            \u001b[49m\u001b[43mcontext\u001b[49m\u001b[43m,\u001b[49m\n\u001b[1;32m    574\u001b[0m \u001b[43m        \u001b[49m\u001b[43m)\u001b[49m\n\u001b[1;32m    575\u001b[0m         \u001b[38;5;241m+\u001b[39m chained_exception_message\n\u001b[1;32m    576\u001b[0m         \u001b[38;5;241m+\u001b[39m out_list)\n\u001b[1;32m    578\u001b[0m \u001b[38;5;28;01mreturn\u001b[39;00m out_list\n",
      "File \u001b[0;32m~/.aiida_venvs/fair-workflows-workshop/lib/python3.10/site-packages/IPython/core/ultratb.py:1454\u001b[0m, in \u001b[0;36mAutoFormattedTB.structured_traceback\u001b[0;34m(self, etype, evalue, etb, tb_offset, number_of_lines_of_context)\u001b[0m\n\u001b[1;32m   1452\u001b[0m \u001b[38;5;28;01melse\u001b[39;00m:\n\u001b[1;32m   1453\u001b[0m     \u001b[38;5;28mself\u001b[39m\u001b[38;5;241m.\u001b[39mtb \u001b[38;5;241m=\u001b[39m etb\n\u001b[0;32m-> 1454\u001b[0m \u001b[38;5;28;01mreturn\u001b[39;00m \u001b[43mFormattedTB\u001b[49m\u001b[38;5;241;43m.\u001b[39;49m\u001b[43mstructured_traceback\u001b[49m\u001b[43m(\u001b[49m\n\u001b[1;32m   1455\u001b[0m \u001b[43m    \u001b[49m\u001b[38;5;28;43mself\u001b[39;49m\u001b[43m,\u001b[49m\u001b[43m \u001b[49m\u001b[43metype\u001b[49m\u001b[43m,\u001b[49m\u001b[43m \u001b[49m\u001b[43mevalue\u001b[49m\u001b[43m,\u001b[49m\u001b[43m \u001b[49m\u001b[43metb\u001b[49m\u001b[43m,\u001b[49m\u001b[43m \u001b[49m\u001b[43mtb_offset\u001b[49m\u001b[43m,\u001b[49m\u001b[43m \u001b[49m\u001b[43mnumber_of_lines_of_context\u001b[49m\n\u001b[1;32m   1456\u001b[0m \u001b[43m\u001b[49m\u001b[43m)\u001b[49m\n",
      "File \u001b[0;32m~/.aiida_venvs/fair-workflows-workshop/lib/python3.10/site-packages/IPython/core/ultratb.py:1345\u001b[0m, in \u001b[0;36mFormattedTB.structured_traceback\u001b[0;34m(self, etype, value, tb, tb_offset, number_of_lines_of_context)\u001b[0m\n\u001b[1;32m   1342\u001b[0m mode \u001b[38;5;241m=\u001b[39m \u001b[38;5;28mself\u001b[39m\u001b[38;5;241m.\u001b[39mmode\n\u001b[1;32m   1343\u001b[0m \u001b[38;5;28;01mif\u001b[39;00m mode \u001b[38;5;129;01min\u001b[39;00m \u001b[38;5;28mself\u001b[39m\u001b[38;5;241m.\u001b[39mverbose_modes:\n\u001b[1;32m   1344\u001b[0m     \u001b[38;5;66;03m# Verbose modes need a full traceback\u001b[39;00m\n\u001b[0;32m-> 1345\u001b[0m     \u001b[38;5;28;01mreturn\u001b[39;00m \u001b[43mVerboseTB\u001b[49m\u001b[38;5;241;43m.\u001b[39;49m\u001b[43mstructured_traceback\u001b[49m\u001b[43m(\u001b[49m\n\u001b[1;32m   1346\u001b[0m \u001b[43m        \u001b[49m\u001b[38;5;28;43mself\u001b[39;49m\u001b[43m,\u001b[49m\u001b[43m \u001b[49m\u001b[43metype\u001b[49m\u001b[43m,\u001b[49m\u001b[43m \u001b[49m\u001b[43mvalue\u001b[49m\u001b[43m,\u001b[49m\u001b[43m \u001b[49m\u001b[43mtb\u001b[49m\u001b[43m,\u001b[49m\u001b[43m \u001b[49m\u001b[43mtb_offset\u001b[49m\u001b[43m,\u001b[49m\u001b[43m \u001b[49m\u001b[43mnumber_of_lines_of_context\u001b[49m\n\u001b[1;32m   1347\u001b[0m \u001b[43m    \u001b[49m\u001b[43m)\u001b[49m\n\u001b[1;32m   1348\u001b[0m \u001b[38;5;28;01melif\u001b[39;00m mode \u001b[38;5;241m==\u001b[39m \u001b[38;5;124m'\u001b[39m\u001b[38;5;124mMinimal\u001b[39m\u001b[38;5;124m'\u001b[39m:\n\u001b[1;32m   1349\u001b[0m     \u001b[38;5;28;01mreturn\u001b[39;00m ListTB\u001b[38;5;241m.\u001b[39mget_exception_only(\u001b[38;5;28mself\u001b[39m, etype, value)\n",
      "File \u001b[0;32m~/.aiida_venvs/fair-workflows-workshop/lib/python3.10/site-packages/IPython/core/ultratb.py:1192\u001b[0m, in \u001b[0;36mVerboseTB.structured_traceback\u001b[0;34m(self, etype, evalue, etb, tb_offset, number_of_lines_of_context)\u001b[0m\n\u001b[1;32m   1183\u001b[0m \u001b[38;5;28;01mdef\u001b[39;00m \u001b[38;5;21mstructured_traceback\u001b[39m(\n\u001b[1;32m   1184\u001b[0m     \u001b[38;5;28mself\u001b[39m,\n\u001b[1;32m   1185\u001b[0m     etype: \u001b[38;5;28mtype\u001b[39m,\n\u001b[0;32m   (...)\u001b[0m\n\u001b[1;32m   1189\u001b[0m     number_of_lines_of_context: \u001b[38;5;28mint\u001b[39m \u001b[38;5;241m=\u001b[39m \u001b[38;5;241m5\u001b[39m,\n\u001b[1;32m   1190\u001b[0m ):\n\u001b[1;32m   1191\u001b[0m \u001b[38;5;250m    \u001b[39m\u001b[38;5;124;03m\"\"\"Return a nice text document describing the traceback.\"\"\"\u001b[39;00m\n\u001b[0;32m-> 1192\u001b[0m     formatted_exception \u001b[38;5;241m=\u001b[39m \u001b[38;5;28;43mself\u001b[39;49m\u001b[38;5;241;43m.\u001b[39;49m\u001b[43mformat_exception_as_a_whole\u001b[49m\u001b[43m(\u001b[49m\u001b[43metype\u001b[49m\u001b[43m,\u001b[49m\u001b[43m \u001b[49m\u001b[43mevalue\u001b[49m\u001b[43m,\u001b[49m\u001b[43m \u001b[49m\u001b[43metb\u001b[49m\u001b[43m,\u001b[49m\u001b[43m \u001b[49m\u001b[43mnumber_of_lines_of_context\u001b[49m\u001b[43m,\u001b[49m\n\u001b[1;32m   1193\u001b[0m \u001b[43m                                                           \u001b[49m\u001b[43mtb_offset\u001b[49m\u001b[43m)\u001b[49m\n\u001b[1;32m   1195\u001b[0m     colors \u001b[38;5;241m=\u001b[39m \u001b[38;5;28mself\u001b[39m\u001b[38;5;241m.\u001b[39mColors  \u001b[38;5;66;03m# just a shorthand + quicker name lookup\u001b[39;00m\n\u001b[1;32m   1196\u001b[0m     colorsnormal \u001b[38;5;241m=\u001b[39m colors\u001b[38;5;241m.\u001b[39mNormal  \u001b[38;5;66;03m# used a lot\u001b[39;00m\n",
      "File \u001b[0;32m~/.aiida_venvs/fair-workflows-workshop/lib/python3.10/site-packages/IPython/core/ultratb.py:1082\u001b[0m, in \u001b[0;36mVerboseTB.format_exception_as_a_whole\u001b[0;34m(self, etype, evalue, etb, number_of_lines_of_context, tb_offset)\u001b[0m\n\u001b[1;32m   1079\u001b[0m \u001b[38;5;28;01massert\u001b[39;00m \u001b[38;5;28misinstance\u001b[39m(tb_offset, \u001b[38;5;28mint\u001b[39m)\n\u001b[1;32m   1080\u001b[0m head \u001b[38;5;241m=\u001b[39m \u001b[38;5;28mself\u001b[39m\u001b[38;5;241m.\u001b[39mprepare_header(\u001b[38;5;28mstr\u001b[39m(etype), \u001b[38;5;28mself\u001b[39m\u001b[38;5;241m.\u001b[39mlong_header)\n\u001b[1;32m   1081\u001b[0m records \u001b[38;5;241m=\u001b[39m (\n\u001b[0;32m-> 1082\u001b[0m     \u001b[38;5;28;43mself\u001b[39;49m\u001b[38;5;241;43m.\u001b[39;49m\u001b[43mget_records\u001b[49m\u001b[43m(\u001b[49m\u001b[43metb\u001b[49m\u001b[43m,\u001b[49m\u001b[43m \u001b[49m\u001b[43mnumber_of_lines_of_context\u001b[49m\u001b[43m,\u001b[49m\u001b[43m \u001b[49m\u001b[43mtb_offset\u001b[49m\u001b[43m)\u001b[49m \u001b[38;5;28;01mif\u001b[39;00m etb \u001b[38;5;28;01melse\u001b[39;00m []\n\u001b[1;32m   1083\u001b[0m )\n\u001b[1;32m   1085\u001b[0m frames \u001b[38;5;241m=\u001b[39m []\n\u001b[1;32m   1086\u001b[0m skipped \u001b[38;5;241m=\u001b[39m \u001b[38;5;241m0\u001b[39m\n",
      "File \u001b[0;32m~/.aiida_venvs/fair-workflows-workshop/lib/python3.10/site-packages/IPython/core/ultratb.py:1150\u001b[0m, in \u001b[0;36mVerboseTB.get_records\u001b[0;34m(self, etb, number_of_lines_of_context, tb_offset)\u001b[0m\n\u001b[1;32m   1148\u001b[0m \u001b[38;5;28;01mwhile\u001b[39;00m cf \u001b[38;5;129;01mis\u001b[39;00m \u001b[38;5;129;01mnot\u001b[39;00m \u001b[38;5;28;01mNone\u001b[39;00m:\n\u001b[1;32m   1149\u001b[0m     \u001b[38;5;28;01mtry\u001b[39;00m:\n\u001b[0;32m-> 1150\u001b[0m         mod \u001b[38;5;241m=\u001b[39m inspect\u001b[38;5;241m.\u001b[39mgetmodule(\u001b[43mcf\u001b[49m\u001b[38;5;241;43m.\u001b[39;49m\u001b[43mtb_frame\u001b[49m)\n\u001b[1;32m   1151\u001b[0m         \u001b[38;5;28;01mif\u001b[39;00m mod \u001b[38;5;129;01mis\u001b[39;00m \u001b[38;5;129;01mnot\u001b[39;00m \u001b[38;5;28;01mNone\u001b[39;00m:\n\u001b[1;32m   1152\u001b[0m             mod_name \u001b[38;5;241m=\u001b[39m mod\u001b[38;5;241m.\u001b[39m\u001b[38;5;18m__name__\u001b[39m\n",
      "\u001b[0;31mAttributeError\u001b[0m: 'tuple' object has no attribute 'tb_frame'"
     ]
    }
   ],
   "source": [
    "%verdi code test qe-7.1-pw"
   ]
  },
  {
   "cell_type": "markdown",
   "metadata": {},
   "source": [
    "## The atomic structure\n",
    "\n",
    "Next, we need to create the atomic structure for which we actually want to run our simulation. For this, we are using\n",
    "the atomic simulation environment (ASE) and pass it to the `StructureData` AiiDA class:"
   ]
  },
  {
   "cell_type": "code",
   "execution_count": 8,
   "metadata": {},
   "outputs": [
    {
     "data": {
      "text/plain": [
       "<StructureData: uuid: 0a0e9f82-c9d3-445c-b3a6-26851890ce49 (unstored)>"
      ]
     },
     "execution_count": 8,
     "metadata": {},
     "output_type": "execute_result"
    }
   ],
   "source": [
    "from ase.build import bulk\n",
    "si_structure = orm.StructureData(ase=bulk('Si', 'diamond', a=5.43))\n",
    "si_structure"
   ]
  },
  {
   "cell_type": "markdown",
   "metadata": {},
   "source": [
    "We can see that the `StructureData` has been created and a UUID assigned to it, but it is still unstored. AiiDA will\n",
    "automatically store it, as it becomes part of the provenance graph when we run the simulation. Alternatively, we could\n",
    "store it manually here, note the PK or UUID, and reload it, such that we don't create a new structure every time we run\n",
    "the notebook.\n",
    "\n",
    "For high-throughput studies, one would often like to obtain the input structures from databases, rather than creating\n",
    "them manually, as we did here. Naturally, AiiDA provides the necessary tools to do just that, and we point here to [some\n",
    "of the available documentation](https://aiida-qe-demo.readthedocs.io/en/latest/4_generating_inputs.html#importing-structures-from-external-databases)."
   ]
  },
  {
   "cell_type": "markdown",
   "metadata": {},
   "source": [
    "## The ProcessBuilder\n",
    "\n",
    "Before we construct the remaining necessary inputs for running our calculation, let's take a minute to\n",
    "actually see where they will end up. Eventually, they will be used to populate an AiiDA `CalcJob`, which is the main\n",
    "class for running (remote) executables.\n",
    "\n",
    "The `Code` instance, which has the necessary AiiDA plugin required to run the simulation attached, `quantumespresso.pw`\n",
    "in our case,  provides the `get_builder` method, that returns a `ProcessBuilder` that helps us to attach our input\n",
    "entities to the calculation. Effectively, this can be achieved as follows:"
   ]
  },
  {
   "cell_type": "code",
   "execution_count": 9,
   "metadata": {},
   "outputs": [
    {
     "name": "stdout",
     "output_type": "stream",
     "text": [
      "{'metadata': {'options': {'stash': {}}}, 'monitors': {}, 'pseudos': {}, 'code': <InstalledCode: Remote code 'qe-7.3-pw' on localhost pk: 1, uuid: 9fd8303a-7c5a-4b10-b266-44262ac20f98>, 'structure': <StructureData: uuid: 0a0e9f82-c9d3-445c-b3a6-26851890ce49 (unstored)>}\n"
     ]
    },
    {
     "name": "stderr",
     "output_type": "stream",
     "text": [
      "/home/geiger_j/.aiida_venvs/fair-workflows-workshop/lib/python3.10/site-packages/aiida/storage/psql_dos/orm/utils.py:84: SAWarning: Object of type <DbNode> not in session, add operation along 'DbUser.dbnodes' will not proceed (This warning originated from the Session 'autoflush' process, which was invoked automatically in response to a user-initiated operation.)\n",
      "  return getattr(self._model, item)\n"
     ]
    },
    {
     "data": {
      "text/plain": [
       "Process class: PwCalculation\n",
       "Inputs:\n",
       "code: qe-7.3-pw@localhost\n",
       "metadata:\n",
       "  options:\n",
       "    stash: {}\n",
       "monitors: {}\n",
       "pseudos: {}\n",
       "structure: Si\n"
      ]
     },
     "execution_count": 9,
     "metadata": {},
     "output_type": "execute_result"
    }
   ],
   "source": [
    "builder = pw_code.get_builder()\n",
    "\n",
    "# We attach the `Code` to the `ProcessBuilder`\n",
    "builder.code = pw_code\n",
    "\n",
    "# We attach the `StructureData` to the `ProcessBuilder`\n",
    "builder.structure = si_structure\n",
    "\n",
    "# Let's check out the `ProcessBuilder`\n",
    "print(builder)\n",
    "builder"
   ]
  },
  {
   "cell_type": "markdown",
   "metadata": {},
   "source": [
    "As we can see above, the **Process class** of the `ProcessBuilder` has been correctly assigned to the `PwCalculation` as\n",
    "defined in the `aiida-quantumespresso` plugin.\n",
    "\n",
    "The `Code` and `Structure` is attached, but the `pseudos`, `metadata` and our calculation parameters are still missing,\n",
    "so let's add them now!"
   ]
  },
  {
   "cell_type": "markdown",
   "metadata": {},
   "source": [
    "## Pseudopotentials\n",
    "\n",
    "The `aiida-pseudo` package provides a simple interface to download and install pseudopotentials into your AiiDA instance.\n",
    "To install the PBE and PBEsol pseudos from the [*Standard solid-state pseudopotentials (SSSP)*\n",
    "library](https://www.materialscloud.org/discover/sssp/table/efficiency) at *efficiency* precision, we just need to run:"
   ]
  },
  {
   "cell_type": "code",
   "execution_count": 10,
   "metadata": {},
   "outputs": [
    {
     "name": "stdout",
     "output_type": "stream",
     "text": [
      "fish: Unknown command: /apps/share64/debian10/anaconda/anaconda-7/envs/AIIDA/bin/aiida-pseudo\n",
      "fish: \n",
      "/apps/share64/debian10/anaconda/anaconda-7/envs/AIIDA/bin/aiida-pseudo install sssp -x PBE -p efficiency\n",
      "^~~~~~~~~~~~~~~~~~~~~~~~~~~~~~~~~~~~~~~~~~~~~~~~~~~~~~~~~~~~~~~~~~~~~^\n",
      "fish: Unknown command: /apps/share64/debian10/anaconda/anaconda-7/envs/AIIDA/bin/aiida-pseudo\n",
      "fish: \n",
      "/apps/share64/debian10/anaconda/anaconda-7/envs/AIIDA/bin/aiida-pseudo install sssp -x PBEsol -p efficiency\n",
      "^~~~~~~~~~~~~~~~~~~~~~~~~~~~~~~~~~~~~~~~~~~~~~~~~~~~~~~~~~~~~~~~~~~~~^\n"
     ]
    }
   ],
   "source": [
    "!/apps/share64/debian10/anaconda/anaconda-7/envs/AIIDA/bin/aiida-pseudo install sssp -x PBE -p efficiency\n",
    "!/apps/share64/debian10/anaconda/anaconda-7/envs/AIIDA/bin/aiida-pseudo install sssp -x PBEsol -p efficiency"
   ]
  },
  {
   "cell_type": "markdown",
   "metadata": {},
   "source": [
    "While we are using the full path to the `aiida-pseudo` binary here, if you have `aiida-pseudo` installed in your\n",
    "`conda` or virtual environment and it activated, you should have the command directly available from the command line.\n",
    "\n",
    "We can now verify that we have more `Node`s and `Group`s (corresponding to the two pseudopotential familias) in our\n",
    "database via:"
   ]
  },
  {
   "cell_type": "code",
   "execution_count": 11,
   "metadata": {},
   "outputs": [
    {
     "name": "stdout",
     "output_type": "stream",
     "text": [
      "\u001b[22mentities:\n",
      "  Users:\n",
      "    count: 1\n",
      "  Computers:\n",
      "    count: 2\n",
      "  Nodes:\n",
      "    count: 822\n",
      "  Groups:\n",
      "    count: 2\n",
      "  Comments:\n",
      "    count: 0\n",
      "  Logs:\n",
      "    count: 43\n",
      "  Links:\n",
      "    count: 881\n",
      "repository:\n",
      "  SHA-hash algorithm: sha256\n",
      "  Compression algorithm: zlib+1\n",
      "  Objects:\n",
      "    packed: 0\n",
      "    loose: 540\n",
      "    pack_files: 0\n",
      "\u001b[0m\n"
     ]
    }
   ],
   "source": [
    "%verdi storage info"
   ]
  },
  {
   "cell_type": "markdown",
   "metadata": {},
   "source": [
    "Finally, we can attach the pseudopotentials needed to calculate our structure to the builder:"
   ]
  },
  {
   "cell_type": "code",
   "execution_count": 12,
   "metadata": {},
   "outputs": [],
   "source": [
    "pseudo_family = orm.load_group('SSSP/1.3/PBEsol/efficiency')\n",
    "builder.pseudos = pseudo_family.get_pseudos(structure=si_structure)"
   ]
  },
  {
   "cell_type": "markdown",
   "metadata": {},
   "source": [
    "## The calculation `parameters`\n",
    "\n",
    "Of course, we also need to specify the typical settings for our calculation, such as the plane-wave cutoff, convergence\n",
    "criteria, etc. These are recorded in the `parameters` attribute of the `ProcessBuilder`, and are given by a nested\n",
    "dictionary (for users accustomed to Quantum ESPRESSO, the dictionary should look familiar):"
   ]
  },
  {
   "cell_type": "code",
   "execution_count": 13,
   "metadata": {},
   "outputs": [],
   "source": [
    "# Request the recommended wavefunction and charge density cutoffs\n",
    "# for the given structure and energy units.\n",
    "cutoff_wfc, cutoff_rho = pseudo_family.get_recommended_cutoffs(\n",
    "    structure=si_structure,\n",
    "    unit='Ry'\n",
    ")\n",
    "\n",
    "parameters = {\n",
    "    'CONTROL': {\n",
    "        'calculation': 'scf'\n",
    "    },\n",
    "    'SYSTEM': {\n",
    "        'ecutwfc': cutoff_wfc,\n",
    "        'ecutrho': cutoff_rho,\n",
    "    }\n",
    "}\n",
    "builder.parameters = orm.Dict(parameters)"
   ]
  },
  {
   "cell_type": "markdown",
   "metadata": {},
   "source": [
    "To keep things simple, we are only running a single self-consistent field (SCF) calculation here, so a rather small\n",
    "parameter dictionary is sufficient to define all inputs. For larger workflows, possibly including multiple QE\n",
    "calculations, the number of parameters to be specified can of course grow larger.\n",
    "\n",
    "In addition to the inputs required for running QE, other settings, for instance to specify the requested resources on\n",
    "the HPC must be provided. This would usually be done via the submission script, but AiiDA creates the submission script\n",
    "for you on the remote machine, if the `Computer` has been set up correctly. These options are stored under `builder.metadata.options`:"
   ]
  },
  {
   "cell_type": "code",
   "execution_count": 14,
   "metadata": {},
   "outputs": [],
   "source": [
    "builder.metadata.options = {\n",
    "    'resources': {\n",
    "        'num_machines': 1,\n",
    "    },\n",
    "    'max_wallclock_seconds': 1800,\n",
    "    # 'withmpi': False,\n",
    "}"
   ]
  },
  {
   "cell_type": "markdown",
   "metadata": {},
   "source": [
    "## K-points\n",
    "\n",
    "The last missing ingredient now is the k-point sampling, which can be created either by providing the k-point spacing,\n",
    "or an explicit mesh, as follows:"
   ]
  },
  {
   "cell_type": "code",
   "execution_count": 15,
   "metadata": {},
   "outputs": [],
   "source": [
    "# Generate a 2x2x2 Monkhorst-Pack mesh\n",
    "kpoints = orm.KpointsData()\n",
    "kpoints.set_kpoints_mesh([2, 2, 2])\n",
    "builder.kpoints = kpoints"
   ]
  },
  {
   "cell_type": "markdown",
   "metadata": {},
   "source": [
    "## Submitting our calculation\n",
    "\n",
    "Finally, we can run our calculation using the AiiDA engine:"
   ]
  },
  {
   "cell_type": "code",
   "execution_count": 22,
   "metadata": {},
   "outputs": [
    {
     "name": "stderr",
     "output_type": "stream",
     "text": [
      "/home/geiger_j/.aiida_venvs/fair-workflows-workshop/lib/python3.10/site-packages/aiida/storage/psql_dos/orm/querybuilder/main.py:182: SAWarning: Object of type <DbNode> not in session, add operation along 'DbUser.dbnodes' will not proceed (This warning originated from the Session 'autoflush' process, which was invoked automatically in response to a user-initiated operation.)\n",
      "  result = build.query.count()\n",
      "/home/geiger_j/.aiida_venvs/fair-workflows-workshop/lib/python3.10/site-packages/aiida/storage/psql_dos/backend.py:271: SAWarning: Object of type <DbNode> not in session, add operation along 'DbUser.dbnodes' will not proceed\n",
      "  with session.begin_nested() as savepoint:\n",
      "/home/geiger_j/.aiida_venvs/fair-workflows-workshop/lib/python3.10/site-packages/aiida/storage/psql_dos/orm/utils.py:84: SAWarning: Object of type <DbNode> not in session, add operation along 'DbUser.dbnodes' will not proceed (This warning originated from the Session 'autoflush' process, which was invoked automatically in response to a user-initiated operation.)\n",
      "  return getattr(self._model, item)\n",
      "/home/geiger_j/.aiida_venvs/fair-workflows-workshop/lib/python3.10/site-packages/aiida/storage/psql_dos/orm/utils.py:84: SAWarning: Object of type <DbNode> not in session, add operation along 'DbUser.dbnodes' will not proceed (This warning originated from the Session 'autoflush' process, which was invoked automatically in response to a user-initiated operation.)\n",
      "  return getattr(self._model, item)\n",
      "/home/geiger_j/.aiida_venvs/fair-workflows-workshop/lib/python3.10/site-packages/aiida/storage/psql_dos/backend.py:271: SAWarning: Object of type <DbNode> not in session, add operation along 'DbUser.dbnodes' will not proceed\n",
      "  with session.begin_nested() as savepoint:\n",
      "/home/geiger_j/.aiida_venvs/fair-workflows-workshop/lib/python3.10/site-packages/aiida/storage/psql_dos/orm/nodes.py:224: SAWarning: Object of type <DbNode> not in session, add operation along 'DbComputer.dbnodes' will not proceed\n",
      "  session.commit()\n",
      "/home/geiger_j/.aiida_venvs/fair-workflows-workshop/lib/python3.10/site-packages/aiida/storage/psql_dos/orm/utils.py:84: SAWarning: Object of type <DbNode> not in session, add operation along 'DbComputer.dbnodes' will not proceed (This warning originated from the Session 'autoflush' process, which was invoked automatically in response to a user-initiated operation.)\n",
      "  return getattr(self._model, item)\n",
      "/home/geiger_j/.aiida_venvs/fair-workflows-workshop/lib/python3.10/site-packages/aiida/storage/psql_dos/orm/utils.py:84: SAWarning: Object of type <DbNode> not in session, add operation along 'DbUser.dbnodes' will not proceed (This warning originated from the Session 'autoflush' process, which was invoked automatically in response to a user-initiated operation.)\n",
      "  return getattr(self._model, item)\n",
      "/home/geiger_j/.aiida_venvs/fair-workflows-workshop/lib/python3.10/site-packages/aiida/storage/psql_dos/orm/utils.py:84: SAWarning: Object of type <DbNode> not in session, add operation along 'DbUser.dbnodes' will not proceed (This warning originated from the Session 'autoflush' process, which was invoked automatically in response to a user-initiated operation.)\n",
      "  return getattr(self._model, item)\n",
      "/home/geiger_j/.aiida_venvs/fair-workflows-workshop/lib/python3.10/site-packages/aiida/storage/psql_dos/orm/utils.py:84: SAWarning: Object of type <DbNode> not in session, add operation along 'DbUser.dbnodes' will not proceed (This warning originated from the Session 'autoflush' process, which was invoked automatically in response to a user-initiated operation.)\n",
      "  return getattr(self._model, item)\n",
      "/home/geiger_j/.aiida_venvs/fair-workflows-workshop/lib/python3.10/site-packages/aiida/storage/psql_dos/orm/utils.py:84: SAWarning: Object of type <DbNode> not in session, add operation along 'DbUser.dbnodes' will not proceed (This warning originated from the Session 'autoflush' process, which was invoked automatically in response to a user-initiated operation.)\n",
      "  return getattr(self._model, item)\n"
     ]
    },
    {
     "name": "stdout",
     "output_type": "stream",
     "text": [
      "\u001b[34m\u001b[1mReport\u001b[0m: [848|PwBaseWorkChain|run_process]: launching PwCalculation<853> iteration #1\n"
     ]
    },
    {
     "name": "stderr",
     "output_type": "stream",
     "text": [
      "/home/geiger_j/.aiida_venvs/fair-workflows-workshop/lib/python3.10/site-packages/aiida/storage/psql_dos/orm/utils.py:84: SAWarning: Object of type <DbNode> not in session, add operation along 'DbUser.dbnodes' will not proceed (This warning originated from the Session 'autoflush' process, which was invoked automatically in response to a user-initiated operation.)\n",
      "  return getattr(self._model, item)\n"
     ]
    },
    {
     "name": "stdout",
     "output_type": "stream",
     "text": [
      "\u001b[34m\u001b[1mReport\u001b[0m: [848|PwBaseWorkChain|results]: work chain completed after 1 iterations\n",
      "\u001b[34m\u001b[1mReport\u001b[0m: [848|PwBaseWorkChain|on_terminated]: remote folders will not be cleaned\n"
     ]
    }
   ],
   "source": [
    "results, node = engine.run.get_node(builder)\n",
    "print(f'Calculation: {node.process_class}<{node.pk}> {node.process_state.value} [{node.exit_status}]')\n",
    "print(f'Results: {results}')"
   ]
  },
  {
   "cell_type": "markdown",
   "metadata": {},
   "source": [
    "As our calculation is running and after it has finished, we can interact with it using the `verdi` CLI command, or the\n",
    "`%verdi` jupyter magic command, e.g. via:"
   ]
  },
  {
   "cell_type": "code",
   "execution_count": 17,
   "metadata": {},
   "outputs": [
    {
     "name": "stdout",
     "output_type": "stream",
     "text": [
      "\u001b[22m  PK  Created    Process label                 ♻    Process State     Process status\n",
      "----  ---------  ----------------------------  ---  ----------------  ----------------\n",
      " 225  23h ago    PwBandsWorkChain                   ⏹ Finished [0]\n",
      " 227  23h ago    PwRelaxWorkChain                   ⏹ Finished [0]\n",
      " 230  23h ago    PwBaseWorkChain                    ⏹ Finished [0]\n",
      " 231  23h ago    create_kpoints_from_distance       ⏹ Finished [0]\n",
      " 235  23h ago    PwCalculation                      ⏹ Finished [0]\n",
      " 244  23h ago    PwBaseWorkChain                    ⏹ Finished [0]\n",
      " 245  23h ago    create_kpoints_from_distance       ⏹ Finished [0]\n",
      " 249  23h ago    PwCalculation                      ⏹ Finished [0]\n",
      " 256  23h ago    seekpath_structure_analysis        ⏹ Finished [0]\n",
      " 263  23h ago    PwBaseWorkChain                    ⏹ Finished [0]\n",
      " 264  23h ago    create_kpoints_from_distance       ⏹ Finished [0]\n",
      " 268  23h ago    PwCalculation                      ⏹ Finished [0]\n",
      " 276  23h ago    PwBaseWorkChain                    ⏹ Finished [0]\n",
      " 279  23h ago    PwCalculation                      ⏹ Finished [0]\n",
      " 289  20h ago    PwCalculation                      ⏹ Finished [305]\n",
      " 297  20h ago    PwCalculation                      ⏹ Finished [0]\n",
      " 305  20h ago    EquationOfState                    ⨯ Excepted\n",
      " 306  20h ago    rescale_list                       ⏹ Finished [0]\n",
      " 315  20h ago    PwCalculation                      ⏹ Finished [0]\n",
      " 323  20h ago    EquationOfState                    ⨯ Excepted\n",
      " 324  20h ago    rescale_list                       ⏹ Finished [0]\n",
      " 332  20h ago    EquationOfState                    ⨯ Excepted\n",
      " 333  20h ago    rescale_list                       ⏹ Finished [0]\n",
      " 341  20h ago    PwCalculation                      ⏹ Finished [0]\n",
      " 344  20h ago    PwCalculation                      ⏹ Finished [0]\n",
      " 347  20h ago    PwCalculation                      ⏹ Finished [0]\n",
      " 350  20h ago    PwCalculation                      ⏹ Finished [0]\n",
      " 353  20h ago    PwCalculation                      ⏹ Finished [0]\n",
      " 381  20h ago    EquationOfState                    ⨯ Excepted\n",
      " 382  20h ago    rescale_list                       ⏹ Finished [0]\n",
      " 390  20h ago    PwCalculation                      ⏹ Finished [0]\n",
      " 393  20h ago    PwCalculation                      ⏹ Finished [0]\n",
      " 396  20h ago    PwCalculation                      ⏹ Finished [0]\n",
      " 399  20h ago    PwCalculation                      ⏹ Finished [0]\n",
      " 402  20h ago    PwCalculation                      ⏹ Finished [0]\n",
      " 430  20h ago    EquationOfState                    ⨯ Excepted\n",
      " 431  20h ago    rescale_list                       ⏹ Finished [0]\n",
      " 439  20h ago    PwCalculation                      ⏹ Finished [0]\n",
      " 442  20h ago    PwCalculation                      ⏹ Finished [0]\n",
      " 445  20h ago    PwCalculation                      ⏹ Finished [0]\n",
      " 448  20h ago    PwCalculation                      ⏹ Finished [0]\n",
      " 451  20h ago    PwCalculation                      ⏹ Finished [0]\n",
      " 479  20h ago    EquationOfState                    ⨯ Excepted\n",
      " 480  20h ago    rescale_list                       ⏹ Finished [0]\n",
      " 488  20h ago    PwCalculation                      ⏹ Finished [0]\n",
      " 491  20h ago    PwCalculation                      ⏹ Finished [0]\n",
      " 494  20h ago    PwCalculation                      ⏹ Finished [0]\n",
      " 497  20h ago    PwCalculation                      ⏹ Finished [0]\n",
      " 500  20h ago    PwCalculation                      ⏹ Finished [0]\n",
      " 528  20h ago    EquationOfState                    ⏹ Finished [0]\n",
      " 529  20h ago    rescale_list                  ✔    ⏹ Finished [0]\n",
      " 537  20h ago    PwCalculation                 ✔    ⏹ Finished [0]\n",
      " 545  20h ago    PwCalculation                 ✔    ⏹ Finished [0]\n",
      " 553  20h ago    PwCalculation                 ✔    ⏹ Finished [0]\n",
      " 561  20h ago    PwCalculation                 ✔    ⏹ Finished [0]\n",
      " 569  20h ago    PwCalculation                 ✔    ⏹ Finished [0]\n",
      " 580  20h ago    create_eos_dictionary              ⏹ Finished [0]\n",
      " 584  20h ago    EquationOfState                    ⏹ Finished [0]\n",
      " 585  20h ago    rescale_list                  ✔    ⏹ Finished [0]\n",
      " 593  20h ago    PwCalculation                 ✔    ⏹ Finished [0]\n",
      " 601  20h ago    PwCalculation                 ✔    ⏹ Finished [0]\n",
      " 609  20h ago    PwCalculation                 ✔    ⏹ Finished [0]\n",
      " 617  20h ago    PwCalculation                 ✔    ⏹ Finished [0]\n",
      " 625  20h ago    PwCalculation                 ✔    ⏹ Finished [0]\n",
      " 636  20h ago    create_eos_dictionary         ✔    ⏹ Finished [0]\n",
      " 640  20h ago    EquationOfState                    ⏹ Finished [0]\n",
      " 641  20h ago    rescale_list                  ✔    ⏹ Finished [0]\n",
      " 649  20h ago    PwCalculation                 ✔    ⏹ Finished [0]\n",
      " 657  20h ago    PwCalculation                 ✔    ⏹ Finished [0]\n",
      " 665  20h ago    PwCalculation                 ✔    ⏹ Finished [0]\n",
      " 673  20h ago    PwCalculation                 ✔    ⏹ Finished [0]\n",
      " 681  20h ago    PwCalculation                 ✔    ⏹ Finished [0]\n",
      " 692  20h ago    create_eos_dictionary         ✔    ⏹ Finished [0]\n",
      " 696  20h ago    EquationOfState                    ⏹ Finished [0]\n",
      " 697  20h ago    rescale_list                  ✔    ⏹ Finished [0]\n",
      " 705  20h ago    PwCalculation                 ✔    ⏹ Finished [0]\n",
      " 713  20h ago    PwCalculation                 ✔    ⏹ Finished [0]\n",
      " 721  20h ago    PwCalculation                 ✔    ⏹ Finished [0]\n",
      " 729  20h ago    PwCalculation                 ✔    ⏹ Finished [0]\n",
      " 737  20h ago    PwCalculation                 ✔    ⏹ Finished [0]\n",
      " 748  20h ago    create_eos_dictionary         ✔    ⏹ Finished [0]\n",
      " 752  3h ago     EquationOfState                    ⏹ Finished [0]\n",
      " 753  3h ago     rescale_list                  ✔    ⏹ Finished [0]\n",
      " 761  3h ago     PwCalculation                 ✔    ⏹ Finished [0]\n",
      " 769  3h ago     PwCalculation                 ✔    ⏹ Finished [0]\n",
      " 777  3h ago     PwCalculation                 ✔    ⏹ Finished [0]\n",
      " 785  3h ago     PwCalculation                 ✔    ⏹ Finished [0]\n",
      " 793  3h ago     PwCalculation                 ✔    ⏹ Finished [0]\n",
      " 804  3h ago     create_eos_dictionary         ✔    ⏹ Finished [0]\n",
      " 809  1h ago     PwCalculation                      ⏹ Finished [305]\n",
      " 817  1h ago     PwCalculation                      ⏹ Finished [0]\n",
      " 826  15s ago    PwCalculation                 ✔    ⏹ Finished [0]\u001b[0m\n",
      "\u001b[22m\n",
      "Total results: 92\n",
      "\u001b[0m\n",
      "\u001b[34m\u001b[1mReport\u001b[0m: \u001b[22m♻ Processes marked with check-mark were not run but taken from the cache.\u001b[0m\n",
      "\u001b[34m\u001b[1mReport\u001b[0m: \u001b[22mAdd the option `-P pk cached_from` to the command to display cache source.\u001b[0m\n",
      "\u001b[34m\u001b[1mReport\u001b[0m: \u001b[22mLast time an entry changed state: 14s ago (at 13:58:24 on 2024-08-06)\u001b[0m\n",
      "\u001b[93m\u001b[1mWarning\u001b[0m: \u001b[1mThe daemon is not running\u001b[0m\n"
     ]
    }
   ],
   "source": [
    "# Check all processes executed in the last 24 hours\n",
    "%verdi process list -ap 1"
   ]
  },
  {
   "cell_type": "code",
   "execution_count": 18,
   "metadata": {},
   "outputs": [
    {
     "name": "stdout",
     "output_type": "stream",
     "text": [
      "\u001b[22mPwCalculation<826> Finished [0]\u001b[0m\n"
     ]
    }
   ],
   "source": [
    "# Check the status of the `PwCalculation` we just ran -> Should be `Finished [0]` hopefully\n",
    "%verdi process status {node.pk}"
   ]
  },
  {
   "cell_type": "code",
   "execution_count": 19,
   "metadata": {},
   "outputs": [
    {
     "name": "stdout",
     "output_type": "stream",
     "text": [
      "\u001b[22mProperty     Value\n",
      "-----------  ------------------------------------\n",
      "type         PwCalculation\n",
      "state        Finished [0]\n",
      "pk           826\n",
      "uuid         70af02f2-f634-4457-81da-20687032960c\n",
      "label\n",
      "description\n",
      "ctime        2024-08-06 11:58:23.873523+00:00\n",
      "mtime        2024-08-06 11:58:24.767685+00:00\n",
      "computer     [1] localhost\n",
      "\n",
      "Inputs      PK    Type\n",
      "----------  ----  -------------\n",
      "pseudos\n",
      "    Si      166   UpfData\n",
      "code        1     InstalledCode\n",
      "kpoints     825   KpointsData\n",
      "parameters  824   Dict\n",
      "structure   823   StructureData\n",
      "\n",
      "Outputs              PK  Type\n",
      "-----------------  ----  --------------\n",
      "output_band         829  BandsData\n",
      "output_parameters   831  Dict\n",
      "output_trajectory   830  TrajectoryData\n",
      "remote_folder       827  RemoteData\n",
      "retrieved           828  FolderData\u001b[0m\n"
     ]
    }
   ],
   "source": [
    "# Show more information, e.g. the inputs/outputs of the `PwCalculation` we just ran\n",
    "%verdi process show {node.pk}"
   ]
  },
  {
   "cell_type": "markdown",
   "metadata": {},
   "source": [
    "There are many more useful verdi commands to interact with your simulations, so we would like to point you to the [AiiDA\n",
    "cheat sheet](https://aiida.readthedocs.io/projects/aiida-core/en/stable/reference/cheatsheet.html) that provides a\n",
    "concise overview."
   ]
  },
  {
   "cell_type": "markdown",
   "metadata": {},
   "source": [
    "***\n",
    "\n",
    "## Using protocols\n",
    "\n",
    "In the above section, we have fully populated all necessary entries for the `ProcessBuilder` explicitly.\n",
    "In addition to the `get_builder` method of the `Code` as we used before, many workflows (**note**, full workflows, not\n",
    "individual calculations as we ran above) defined in certain AiiDA plugins also provide a `get_builder_from_protocol`\n",
    "method, which provides a quicker way to set up the simulation.\n",
    "\n",
    "Here, in addition to the `code` and `structure`, one of the entries *fast*, *moderate*, or *accurate* can be chosen as\n",
    "the **protocol**, and calculation parameters are automatically set under the hood. This reduces the code to obtain a\n",
    "fully populated builder to:"
   ]
  },
  {
   "cell_type": "code",
   "execution_count": 20,
   "metadata": {},
   "outputs": [
    {
     "name": "stderr",
     "output_type": "stream",
     "text": [
      "/home/geiger_j/.aiida_venvs/fair-workflows-workshop/lib/python3.10/site-packages/aiida/storage/psql_dos/orm/utils.py:84: SAWarning: Object of type <DbNode> not in session, add operation along 'DbUser.dbnodes' will not proceed (This warning originated from the Session 'autoflush' process, which was invoked automatically in response to a user-initiated operation.)\n",
      "  return getattr(self._model, item)\n"
     ]
    },
    {
     "data": {
      "text/plain": [
       "Process class: PwBaseWorkChain\n",
       "Inputs:\n",
       "clean_workdir: false\n",
       "kpoints_distance: 0.5\n",
       "kpoints_force_parity: false\n",
       "max_iterations: 5\n",
       "metadata: {}\n",
       "pw:\n",
       "  code: qe-7.3-pw@localhost\n",
       "  metadata:\n",
       "    options:\n",
       "      max_wallclock_seconds: 43200\n",
       "      resources:\n",
       "        num_machines: 1\n",
       "      stash: {}\n",
       "      withmpi: true\n",
       "  monitors: {}\n",
       "  parameters:\n",
       "    CONTROL:\n",
       "      calculation: scf\n",
       "      etot_conv_thr: 0.0002\n",
       "      forc_conv_thr: 0.001\n",
       "      tprnfor: true\n",
       "      tstress: true\n",
       "    ELECTRONS:\n",
       "      conv_thr: 8.0e-10\n",
       "      electron_maxstep: 80\n",
       "      mixing_beta: 0.4\n",
       "    SYSTEM:\n",
       "      degauss: 0.01\n",
       "      ecutrho: 240.0\n",
       "      ecutwfc: 30.0\n",
       "      nosym: false\n",
       "      occupations: smearing\n",
       "      smearing: cold\n",
       "  pseudos:\n",
       "    Si: ''\n",
       "  structure: Si\n"
      ]
     },
     "execution_count": 20,
     "metadata": {},
     "output_type": "execute_result"
    }
   ],
   "source": [
    "from aiida_quantumespresso.workflows.pw.base import PwBaseWorkChain\n",
    "\n",
    "builder_protocol = PwBaseWorkChain.get_builder_from_protocol(\n",
    "    code=pw_code, \n",
    "    structure=si_structure,\n",
    "    protocol=\"fast\",\n",
    ")\n",
    "builder_protocol"
   ]
  },
  {
   "cell_type": "markdown",
   "metadata": {},
   "source": [
    "As you can see, various properties of the builder, and especially the calculation `parameters` have automatically been\n",
    "populated for us. This not only provides a quicker way to get started with workflows in AiiDA, but also allows one to\n",
    "start using new codes immediately, without having to learn their input tags first. Instead, one can just select a\n",
    "protocol, and then look at the populated builder or the generated input files.\n",
    "\n",
    "However, it should be noted that the `get_builder_from_protocol` method is not implemented in `aiida-core` but in the\n",
    "plugin, and might therefore not be available for the AiiDA plugin you might want to use. More specifically, it\n",
    "originated from the AiiDA common workflows project (the publication can be found\n",
    "[here](https://www.nature.com/articles/s41524-021-00594-6)), which aimed to provide a common interface for computing\n",
    "material properties using different quantum engines:\n",
    "\n",
    "![](https://www.aiida.net/_images/aiida-common-wf-image-2000x1000-1.png)\n",
    "\n",
    "The settings specified in the pre-defined protocols can be overwritten, using nested `parameter` dictionaries,\n",
    "direct assignment to the builder attributes, or YAML files (more in the [relevant documentation\n",
    "section](https://aiida-tutorials.readthedocs.io/en/latest/sections/running_processes/workflows.html#submitting-a-work-chain)).\n",
    "\n",
    "\n",
    "Finally, we can run the workflow, just as we did above:"
   ]
  },
  {
   "cell_type": "code",
   "execution_count": 23,
   "metadata": {},
   "outputs": [
    {
     "name": "stderr",
     "output_type": "stream",
     "text": [
      "/home/geiger_j/.aiida_venvs/fair-workflows-workshop/lib/python3.10/site-packages/aiida/storage/psql_dos/orm/querybuilder/main.py:182: SAWarning: Object of type <DbNode> not in session, add operation along 'DbUser.dbnodes' will not proceed (This warning originated from the Session 'autoflush' process, which was invoked automatically in response to a user-initiated operation.)\n",
      "  result = build.query.count()\n",
      "/home/geiger_j/.aiida_venvs/fair-workflows-workshop/lib/python3.10/site-packages/aiida/storage/psql_dos/backend.py:271: SAWarning: Object of type <DbNode> not in session, add operation along 'DbUser.dbnodes' will not proceed\n",
      "  with session.begin_nested() as savepoint:\n",
      "/home/geiger_j/.aiida_venvs/fair-workflows-workshop/lib/python3.10/site-packages/aiida/storage/psql_dos/orm/utils.py:84: SAWarning: Object of type <DbNode> not in session, add operation along 'DbUser.dbnodes' will not proceed (This warning originated from the Session 'autoflush' process, which was invoked automatically in response to a user-initiated operation.)\n",
      "  return getattr(self._model, item)\n",
      "/home/geiger_j/.aiida_venvs/fair-workflows-workshop/lib/python3.10/site-packages/aiida/storage/psql_dos/orm/utils.py:84: SAWarning: Object of type <DbNode> not in session, add operation along 'DbUser.dbnodes' will not proceed (This warning originated from the Session 'autoflush' process, which was invoked automatically in response to a user-initiated operation.)\n",
      "  return getattr(self._model, item)\n",
      "/home/geiger_j/.aiida_venvs/fair-workflows-workshop/lib/python3.10/site-packages/aiida/storage/psql_dos/backend.py:271: SAWarning: Object of type <DbNode> not in session, add operation along 'DbUser.dbnodes' will not proceed\n",
      "  with session.begin_nested() as savepoint:\n",
      "/home/geiger_j/.aiida_venvs/fair-workflows-workshop/lib/python3.10/site-packages/aiida/storage/psql_dos/orm/nodes.py:224: SAWarning: Object of type <DbNode> not in session, add operation along 'DbComputer.dbnodes' will not proceed\n",
      "  session.commit()\n",
      "/home/geiger_j/.aiida_venvs/fair-workflows-workshop/lib/python3.10/site-packages/aiida/storage/psql_dos/orm/utils.py:84: SAWarning: Object of type <DbNode> not in session, add operation along 'DbComputer.dbnodes' will not proceed (This warning originated from the Session 'autoflush' process, which was invoked automatically in response to a user-initiated operation.)\n",
      "  return getattr(self._model, item)\n",
      "/home/geiger_j/.aiida_venvs/fair-workflows-workshop/lib/python3.10/site-packages/aiida/storage/psql_dos/orm/utils.py:84: SAWarning: Object of type <DbNode> not in session, add operation along 'DbUser.dbnodes' will not proceed (This warning originated from the Session 'autoflush' process, which was invoked automatically in response to a user-initiated operation.)\n",
      "  return getattr(self._model, item)\n",
      "/home/geiger_j/.aiida_venvs/fair-workflows-workshop/lib/python3.10/site-packages/aiida/storage/psql_dos/orm/utils.py:84: SAWarning: Object of type <DbNode> not in session, add operation along 'DbUser.dbnodes' will not proceed (This warning originated from the Session 'autoflush' process, which was invoked automatically in response to a user-initiated operation.)\n",
      "  return getattr(self._model, item)\n",
      "/home/geiger_j/.aiida_venvs/fair-workflows-workshop/lib/python3.10/site-packages/aiida/storage/psql_dos/orm/utils.py:84: SAWarning: Object of type <DbNode> not in session, add operation along 'DbUser.dbnodes' will not proceed (This warning originated from the Session 'autoflush' process, which was invoked automatically in response to a user-initiated operation.)\n",
      "  return getattr(self._model, item)\n",
      "/home/geiger_j/.aiida_venvs/fair-workflows-workshop/lib/python3.10/site-packages/aiida/storage/psql_dos/orm/utils.py:84: SAWarning: Object of type <DbNode> not in session, add operation along 'DbUser.dbnodes' will not proceed (This warning originated from the Session 'autoflush' process, which was invoked automatically in response to a user-initiated operation.)\n",
      "  return getattr(self._model, item)\n"
     ]
    },
    {
     "name": "stdout",
     "output_type": "stream",
     "text": [
      "\u001b[34m\u001b[1mReport\u001b[0m: [859|PwBaseWorkChain|run_process]: launching PwCalculation<864> iteration #1\n"
     ]
    },
    {
     "name": "stderr",
     "output_type": "stream",
     "text": [
      "/home/geiger_j/.aiida_venvs/fair-workflows-workshop/lib/python3.10/site-packages/aiida/storage/psql_dos/orm/utils.py:84: SAWarning: Object of type <DbNode> not in session, add operation along 'DbUser.dbnodes' will not proceed (This warning originated from the Session 'autoflush' process, which was invoked automatically in response to a user-initiated operation.)\n",
      "  return getattr(self._model, item)\n"
     ]
    },
    {
     "name": "stdout",
     "output_type": "stream",
     "text": [
      "\u001b[34m\u001b[1mReport\u001b[0m: [859|PwBaseWorkChain|results]: work chain completed after 1 iterations\n",
      "\u001b[34m\u001b[1mReport\u001b[0m: [859|PwBaseWorkChain|on_terminated]: remote folders will not be cleaned\n",
      "Calculation: <class 'aiida_quantumespresso.workflows.pw.base.PwBaseWorkChain'><859> finished [0]\n",
      "Results: {'remote_folder': <RemoteData: uuid: 8d37818e-9722-4237-ac21-98bc569b395c (pk: 865)>, 'retrieved': <FolderData: uuid: 15a2fad9-8fae-447a-98f3-005b99b3f958 (pk: 866)>, 'output_parameters': <Dict: uuid: 43b9407e-f568-4303-ac69-1d295753c58e (pk: 869)>, 'output_trajectory': <TrajectoryData: uuid: 938fcb26-972d-4fe8-ae10-12f6601da03f (pk: 868)>, 'output_band': <BandsData: uuid: 411b47af-853c-4180-9ae1-daf4ed6f455c (pk: 867)>}\n"
     ]
    }
   ],
   "source": [
    "results, node = engine.run.get_node(builder_protocol)\n",
    "print(f'Calculation: {node.process_class}<{node.pk}> {node.process_state.value} [{node.exit_status}]')\n",
    "print(f'Results: {results}')"
   ]
  },
  {
   "cell_type": "markdown",
   "metadata": {},
   "source": [
    "Finally, don't hesitate to explore the results of your workflow, `%verdi` is your friend ;)"
   ]
  },
  {
   "cell_type": "code",
   "execution_count": 24,
   "metadata": {},
   "outputs": [
    {
     "name": "stdout",
     "output_type": "stream",
     "text": [
      "\u001b[22mProperty     Value\n",
      "-----------  ------------------------------------\n",
      "type         PwBaseWorkChain\n",
      "state        Finished [0]\n",
      "pk           859\n",
      "uuid         6f14eb20-0c55-4edf-b45d-a1e06510236e\n",
      "label\n",
      "description\n",
      "ctime        2024-08-06 12:00:24.366369+00:00\n",
      "mtime        2024-08-06 12:00:26.088583+00:00\n",
      "\n",
      "Inputs                PK    Type\n",
      "--------------------  ----  -------------\n",
      "pw\n",
      "    pseudos\n",
      "        Si            166   UpfData\n",
      "    code              1     InstalledCode\n",
      "    structure         823   StructureData\n",
      "    parameters        832   Dict\n",
      "clean_workdir         833   Bool\n",
      "kpoints_distance      834   Float\n",
      "kpoints_force_parity  835   Bool\n",
      "max_iterations        836   Int\n",
      "\n",
      "Outputs              PK  Type\n",
      "-----------------  ----  --------------\n",
      "output_band         867  BandsData\n",
      "output_parameters   869  Dict\n",
      "output_trajectory   868  TrajectoryData\n",
      "remote_folder       865  RemoteData\n",
      "retrieved           866  FolderData\n",
      "\n",
      "Called                          PK  Type\n",
      "----------------------------  ----  ----------------------------\n",
      "create_kpoints_from_distance   860  create_kpoints_from_distance\n",
      "iteration_01                   864  PwCalculation\u001b[0m\n"
     ]
    }
   ],
   "source": [
    "%verdi process show {node.pk}"
   ]
  }
 ],
 "metadata": {
  "kernelspec": {
   "display_name": "FAIR",
   "language": "python",
   "name": "python3"
  },
  "language_info": {
   "codemirror_mode": {
    "name": "ipython",
    "version": 3
   },
   "file_extension": ".py",
   "mimetype": "text/x-python",
   "name": "python",
   "nbconvert_exporter": "python",
   "pygments_lexer": "ipython3",
   "version": "3.10.12"
  },
  "toc-autonumbering": true,
  "toc-showcode": false,
  "toc-showtags": false,
  "vscode": {
   "interpreter": {
    "hash": "20c30adb377910d9d5c8112cf74e9f7ecb37538254a701570d770f074373c53e"
   }
  }
 },
 "nbformat": 4,
 "nbformat_minor": 4
}
