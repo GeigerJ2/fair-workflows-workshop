{
 "cells": [
  {
   "cell_type": "markdown",
   "metadata": {},
   "source": [
    "# Running a QE calculation with AiiDA\n"
   ]
  },
  {
   "cell_type": "markdown",
   "metadata": {},
   "source": [
    "After we have created an AiiDA profile and covered the most important concepts, let's now have a look at how we can\n",
    "actually run an atomistic simulation. For this tutorial, we'll be using Quantum ESPRESSO (QE), but plugins for most other,\n",
    "commonly used codes exist, as well. At the end of this notebook, we will show you how you can quickly get started with\n",
    "those."
   ]
  },
  {
   "cell_type": "markdown",
   "metadata": {},
   "source": [
    "\n",
    "For a quantum mechanical simulation, we'll need various ingredients:\n",
    "- The code we want to execute for which the necessary infrastructure is provided by the corresponding AiiDA plugin\n",
    "- The atomic structure that should be calculated\n",
    "- The calculation parameters, such as the plane-wave cutoff and convergence criteria, given by a dictionary\n",
    "- The k-point sampling information\n",
    "- The pseudopotentials\n",
    "\n",
    "Each of these inputs is reperesented by an AiiDA class that inherits from the `Node` base class and takes care of\n",
    "the database storage, and the recording of provenance. A visualization is provided in the figure below:\n",
    "\n",
    "![](https://aiida-tutorials.readthedocs.io/en/latest/_images/Si_example.png)\n",
    "<!-- # {height=150px align=center} -->\n",
    "\n",
    "From the calculation (or `CalcJob` in AiiDA jargon), we obtain as outputs:\n",
    "- The remote folder where the calculation was actually executed (if desired, this can automatically be cleaned after\n",
    "  successful execution of a workflow)\n",
    "- The retrieved files which are stored in AiiDA's file repository (these are the main output files, but not large\n",
    "  intermediate files, e.g. charge density)\n",
    "- The output parameters, which are specific entities that are being parsed from the output files, and thus actually\n",
    "  stored in AiiDA's SQL databased, and are therefore also queryabel (more on that later)\n",
    "\n",
    "Additional (parsed) outputs can further be defined by the plugin developer."
   ]
  },
  {
   "cell_type": "markdown",
   "metadata": {},
   "source": [
    "In the following, we will see how we can prepare all necessary inputs for the calculation, run it, and interact with it.\n",
    "First, let's use the AiiDA jupyter magic, which will also load our default profile `fair-workflows`."
   ]
  },
  {
   "cell_type": "code",
   "execution_count": null,
   "metadata": {},
   "outputs": [],
   "source": [
    "%load_ext aiida\n",
    "%aiida"
   ]
  },
  {
   "cell_type": "markdown",
   "metadata": {},
   "source": [
    "---\n",
    "We then import the two main modules needed for this example, the **Object-relational mapper** (ORM), which links\n",
    "entities in AiiDA's SQL database to the Python objects we will be dealing with, as well as the engine necessary to\n",
    "execute our calculation."
   ]
  },
  {
   "cell_type": "code",
   "execution_count": null,
   "metadata": {},
   "outputs": [],
   "source": [
    "from aiida import orm, engine"
   ]
  },
  {
   "cell_type": "markdown",
   "metadata": {},
   "source": [
    "## `Computer`s and `Code`s\n",
    "\n",
    "The `verdi presto` command used to create the AiiDA profile automatically sets up your local workstation as\n",
    "the `localhost` computer. This will suffice for the sake of the tutorial, but to set up additional `Computer`s such as\n",
    "remote HPC resources in the future, we point you to the [relevant section of the documentation on running external codes](https://aiida.readthedocs.io/projects/aiida-core/en/v2.6.1/howto/run_codes.html#how-to-set-up-a-computer).\n",
    "\n",
    "We then create a `Code` instance for the `pw.x` executable of Quantum ESPRESSO. To keep the notebook idempotent, we are\n",
    "using the Python API here, and try to load it if it already exists, otherwise we create it:"
   ]
  },
  {
   "cell_type": "code",
   "execution_count": null,
   "metadata": {},
   "outputs": [],
   "source": [
    "from aiida.common.exceptions import NotExistent\n",
    "\n",
    "try:\n",
    "    pw_code = orm.load_code('qe-7.1-pw@localhost')  # The computer label can also be omitted here\n",
    "    print(\"Loaded pw.x Code of QE v7.1.\")\n",
    "except NotExistent:\n",
    "    pw_code = orm.InstalledCode(\n",
    "        computer=orm.load_computer('localhost'),\n",
    "        filepath_executable='/apps/share64/debian10/espresso/espresso-7.1/bin/pw.x',\n",
    "        label='qe-7.1-pw',\n",
    "        description='Serial version of QE 7.1 pw.x on localhost',\n",
    "        default_calc_job_plugin='quantumespresso.pw',\n",
    "        prepend_text='export OMP_NUM_THREADS=1',\n",
    "        append_text='',\n",
    "        use_double_quotes=False,\n",
    "        with_mpi=False\n",
    "    ).store()\n",
    "    print(\"Created and stored pw.x Code of QE v7.1.\")"
   ]
  },
  {
   "cell_type": "markdown",
   "metadata": {},
   "source": [
    "\n",
    "To create a `Code` in AiiDA, various settings are required:\n",
    "- First, the `Computer` where the code should be executed needs to be specified\n",
    "- The absolute path to the executable must be given, as well, and we have already added the correct path for the nanoHUB deployment\n",
    "- A label (to load the `Code` later on), and a description (optional) are also given\n",
    "- As mentioned above, the way how AiiDA interacts with a given executable, e.g. which input files and parameters are\n",
    "  required, is given by the AiiDA plugins, not `aiida-core` itself. The `aiida-quantumespresso` plugin is already\n",
    "  installed in this workspace, so we can directly set `quantumespresso.pw` as the `default_calc_job_plugin`\n",
    "- In addition, `append_text` and `prepend_text` can be added, and will appear in the submission script before and after\n",
    "  the actual call to the executable. This can be useful to load modules or set environment variables (as done here to\n",
    "  disable hyperthreading)\n",
    "- As the version of QE available on the `localhost` `Computer` of the nanoHUB deployment is serial, we disable MPI via `with_mpi=False`"
   ]
  },
  {
   "cell_type": "markdown",
   "metadata": {},
   "source": [
    "We can further check which `Calculation` plugins are available by running:"
   ]
  },
  {
   "cell_type": "code",
   "execution_count": null,
   "metadata": {},
   "outputs": [],
   "source": [
    "%verdi plugin list aiida.calculations"
   ]
  },
  {
   "cell_type": "markdown",
   "metadata": {},
   "source": [
    "Note that AiiDA's `verdi` command-line interface (CLI) can also be (and typically is) used to set up a `Code` instance for a profile. To this end, the command:\n",
    "\n",
    "```shell\n",
    "verdi code create core.code.installed\n",
    "```\n",
    "\n",
    "needs to be run on the terminal and will ask you for all required options.\n",
    "\n",
    "For convenience, it is also possible to provide these options via a YAML configuration file using the `--config` flat,\n",
    "which can point either to a local file, or to a URL (e.g. on GitHub). The necessary YAML configuration file to set up\n",
    "`pw.x` of QE v7.1 is part of this repository.\n",
    "\n",
    "In addition, the [aiida-code-registry](https://github.com/aiidateam/aiida-code-registry/) compiles `Computer` and `Code`\n",
    "configuration files of commonly used HPC resources. If you don't find your HPC or code there, pull requests are very\n",
    "welcome.\n",
    "\n",
    "After creating our `Code`, we can then see if everything works fine by running:"
   ]
  },
  {
   "cell_type": "code",
   "execution_count": null,
   "metadata": {},
   "outputs": [],
   "source": [
    "%verdi code test qe-7.1-pw"
   ]
  },
  {
   "cell_type": "markdown",
   "metadata": {},
   "source": [
    "## The atomic structure\n",
    "\n",
    "Next, we need to create the atomic structure for which we actually want to run our simulation. For this, we are using\n",
    "the atomic simulation environment (ASE) and pass it to the `StructureData` AiiDA class:"
   ]
  },
  {
   "cell_type": "code",
   "execution_count": null,
   "metadata": {},
   "outputs": [],
   "source": [
    "from ase.build import bulk\n",
    "si_structure = orm.StructureData(ase=bulk('Si', 'diamond', a=5.43))\n",
    "si_structure"
   ]
  },
  {
   "cell_type": "markdown",
   "metadata": {},
   "source": [
    "We can see that the `StructureData` has been created and a UUID assigned to it, but it is still unstored. AiiDA will\n",
    "automatically store it, as it becomes part of the provenance graph when we run the simulation. Alternatively, we could\n",
    "store it manually here, note the PK or UUID, and reload it, such that we don't create a new structure every time we run\n",
    "the notebook.\n",
    "\n",
    "For high-throughput studies, one would often like to obtain the input structures from databases, rather than creating\n",
    "them manually, as we did here. Naturally, AiiDA provides the necessary tools to do just that, and we point here to [some\n",
    "of the available documentation](https://aiida-qe-demo.readthedocs.io/en/latest/4_generating_inputs.html#importing-structures-from-external-databases)."
   ]
  },
  {
   "cell_type": "markdown",
   "metadata": {},
   "source": [
    "## The ProcessBuilder\n",
    "\n",
    "Before we construct the remaining necessary inputs for running our calculation, let's take a minute to\n",
    "actually see where they will end up. Eventually, they will be used to populate an AiiDA `CalcJob`, which is the main\n",
    "class for running (remote) executables.\n",
    "\n",
    "The `Code` instance, which has the necessary AiiDA plugin required to run the simulation attached, `quantumespresso.pw`\n",
    "in our case,  provides the `get_builder` method, that returns a `ProcessBuilder` that helps us to attach our input\n",
    "entities to the calculation. Effectively, this can be achieved as follows:"
   ]
  },
  {
   "cell_type": "code",
   "execution_count": null,
   "metadata": {},
   "outputs": [],
   "source": [
    "builder = pw_code.get_builder()\n",
    "\n",
    "# We attach the `Code` to the `ProcessBuilder`\n",
    "builder.code = pw_code\n",
    "\n",
    "# We attach the `StructureData` to the `ProcessBuilder`\n",
    "builder.structure = si_structure\n",
    "\n",
    "# Let's check out the `ProcessBuilder`\n",
    "print(builder)\n",
    "builder"
   ]
  },
  {
   "cell_type": "markdown",
   "metadata": {},
   "source": [
    "As we can see above, the **Process class** of the `ProcessBuilder` has been correctly assigned to the `PwCalculation` as\n",
    "defined in the `aiida-quantumespresso` plugin.\n",
    "\n",
    "The `Code` and `Structure` is attached, but the `pseudos`, `metadata` and our calculation parameters are still missing,\n",
    "so let's add them now!"
   ]
  },
  {
   "cell_type": "markdown",
   "metadata": {},
   "source": [
    "## Pseudopotentials\n",
    "\n",
    "The `aiida-pseudo` package provides a simple interface to download and install pseudopotentials into your AiiDA instance.\n",
    "To install the PBE and PBEsol pseudos from the [*Standard solid-state pseudopotentials (SSSP)*\n",
    "library](https://www.materialscloud.org/discover/sssp/table/efficiency) at *efficiency* precision, we just need to run:"
   ]
  },
  {
   "cell_type": "code",
   "execution_count": null,
   "metadata": {},
   "outputs": [],
   "source": [
    "!/apps/share64/debian10/anaconda/anaconda-7/envs/AIIDA/bin/aiida-pseudo install sssp -x PBE -p efficiency\n",
    "!/apps/share64/debian10/anaconda/anaconda-7/envs/AIIDA/bin/aiida-pseudo install sssp -x PBEsol -p efficiency"
   ]
  },
  {
   "cell_type": "markdown",
   "metadata": {},
   "source": [
    "While we are using the full path to the `aiida-pseudo` binary here, if you have `aiida-pseudo` installed in your\n",
    "`conda` or virtual environment and it activated, you should have the command directly available from the command line.\n",
    "\n",
    "We can now verify that we have more `Node`s and `Group`s (corresponding to the two pseudopotential familias) in our\n",
    "database via:"
   ]
  },
  {
   "cell_type": "code",
   "execution_count": null,
   "metadata": {},
   "outputs": [],
   "source": [
    "%verdi storage info"
   ]
  },
  {
   "cell_type": "markdown",
   "metadata": {},
   "source": [
    "Finally, we can attach the pseudopotentials needed to calculate our structure to the builder:"
   ]
  },
  {
   "cell_type": "code",
   "execution_count": null,
   "metadata": {},
   "outputs": [],
   "source": [
    "pseudo_family = orm.load_group('SSSP/1.3/PBEsol/efficiency')\n",
    "builder.pseudos = pseudo_family.get_pseudos(structure=si_structure)"
   ]
  },
  {
   "cell_type": "markdown",
   "metadata": {},
   "source": [
    "## The calculation `parameters`\n",
    "\n",
    "Of course, we also need to specify the typical settings for our calculation, such as the plane-wave cutoff, convergence\n",
    "criteria, etc. These are recorded in the `parameters` attribute of the `ProcessBuilder`, and are given by a nested\n",
    "dictionary (for users accustomed to Quantum ESPRESSO, the dictionary should look familiar):"
   ]
  },
  {
   "cell_type": "code",
   "execution_count": null,
   "metadata": {},
   "outputs": [],
   "source": [
    "# Request the recommended wavefunction and charge density cutoffs\n",
    "# for the given structure and energy units.\n",
    "cutoff_wfc, cutoff_rho = pseudo_family.get_recommended_cutoffs(\n",
    "    structure=si_structure,\n",
    "    unit='Ry'\n",
    ")\n",
    "\n",
    "parameters = {\n",
    "    'CONTROL': {\n",
    "        'calculation': 'scf'\n",
    "    },\n",
    "    'SYSTEM': {\n",
    "        'ecutwfc': cutoff_wfc,\n",
    "        'ecutrho': cutoff_rho,\n",
    "    }\n",
    "}\n",
    "builder.parameters = orm.Dict(parameters)"
   ]
  },
  {
   "cell_type": "markdown",
   "metadata": {},
   "source": [
    "To keep things simple, we are only running a single self-consistent field (SCF) calculation here, so a rather small\n",
    "parameter dictionary is sufficient to define all inputs. For larger workflows, possibly including multiple QE\n",
    "calculations, the number of parameters to be specified can of course grow larger.\n",
    "\n",
    "In addition to the inputs required for running QE, other settings, for instance to specify the requested resources on\n",
    "the HPC must be provided. This would usually be done via the submission script, but AiiDA creates the submission script\n",
    "for you on the remote machine, if the `Computer` has been set up correctly. These options are stored under `builder.metadata.options`:"
   ]
  },
  {
   "cell_type": "code",
   "execution_count": null,
   "metadata": {},
   "outputs": [],
   "source": [
    "builder.metadata.options = {\n",
    "    'resources': {\n",
    "        'num_machines': 1,\n",
    "    },\n",
    "    'max_wallclock_seconds': 1800,\n",
    "    # 'withmpi': False,\n",
    "}"
   ]
  },
  {
   "cell_type": "markdown",
   "metadata": {},
   "source": [
    "## K-points\n",
    "\n",
    "The last missing ingredient now is the k-point sampling, which can be created either by providing the k-point spacing,\n",
    "or an explicit mesh, as follows:"
   ]
  },
  {
   "cell_type": "code",
   "execution_count": null,
   "metadata": {},
   "outputs": [],
   "source": [
    "# Generate a 2x2x2 Monkhorst-Pack mesh\n",
    "kpoints = orm.KpointsData()\n",
    "kpoints.set_kpoints_mesh([2, 2, 2])\n",
    "builder.kpoints = kpoints"
   ]
  },
  {
   "cell_type": "markdown",
   "metadata": {},
   "source": [
    "## Submitting our calculation\n",
    "\n",
    "Finally, we can run our calculation using the AiiDA engine:"
   ]
  },
  {
   "cell_type": "code",
   "execution_count": null,
   "metadata": {},
   "outputs": [],
   "source": [
    "results, node = engine.run.get_node(builder)\n",
    "print(f'Calculation: {node.process_class}<{node.pk}> {node.process_state.value} [{node.exit_status}]')\n",
    "print(f'Results: {results}')"
   ]
  },
  {
   "cell_type": "markdown",
   "metadata": {},
   "source": [
    "As our calculation is running and after it has finished, we can interact with it using the `verdi` CLI command, or the\n",
    "`%verdi` jupyter magic command, e.g. via:"
   ]
  },
  {
   "cell_type": "code",
   "execution_count": null,
   "metadata": {},
   "outputs": [],
   "source": [
    "# Check all processes executed in the last 24 hours\n",
    "%verdi process list -ap 1"
   ]
  },
  {
   "cell_type": "code",
   "execution_count": null,
   "metadata": {},
   "outputs": [],
   "source": [
    "# Check the status of the `PwCalculation` we just ran -> Should be `Finished [0]` hopefully\n",
    "%verdi process status {node.pk}"
   ]
  },
  {
   "cell_type": "code",
   "execution_count": null,
   "metadata": {},
   "outputs": [],
   "source": [
    "# Show more information, e.g. the inputs/outputs of the `PwCalculation` we just ran\n",
    "%verdi process show {node.pk}"
   ]
  },
  {
   "cell_type": "markdown",
   "metadata": {},
   "source": [
    "There are many more useful verdi commands to interact with your simulations, so we would like to point you to the [AiiDA\n",
    "cheat sheet](https://aiida.readthedocs.io/projects/aiida-core/en/stable/reference/cheatsheet.html) that provides a\n",
    "concise overview."
   ]
  },
  {
   "cell_type": "markdown",
   "metadata": {},
   "source": [
    "***\n",
    "\n",
    "## Using protocols\n",
    "\n",
    "In the above section, we have fully populated all necessary entries for the `ProcessBuilder` explicitly.\n",
    "In addition to the `get_builder` method of the `Code` as we used before, many workflows (**note**, full workflows, not\n",
    "individual calculations as we ran above) defined in certain AiiDA plugins also provide a `get_builder_from_protocol`\n",
    "method, which provides a quicker way to set up the simulation.\n",
    "\n",
    "Here, in addition to the `code` and `structure`, one of the entries *fast*, *moderate*, or *accurate* can be chosen as\n",
    "the **protocol**, and calculation parameters are automatically set under the hood. This reduces the code to obtain a\n",
    "fully populated builder to:"
   ]
  },
  {
   "cell_type": "code",
   "execution_count": null,
   "metadata": {},
   "outputs": [],
   "source": [
    "from aiida_quantumespresso.workflows.pw.base import PwBaseWorkChain\n",
    "\n",
    "builder_protocol = PwBaseWorkChain.get_builder_from_protocol(\n",
    "    code=pw_code, \n",
    "    structure=si_structure,\n",
    "    protocol=\"fast\",\n",
    ")\n",
    "builder_protocol"
   ]
  },
  {
   "cell_type": "markdown",
   "metadata": {},
   "source": [
    "As you can see, various properties of the builder, and especially the calculation `parameters` have automatically been\n",
    "populated for us. This not only provides a quicker way to get started with workflows in AiiDA, but also allows one to\n",
    "start using new codes immediately, without having to learn their input tags first. Instead, one can just select a\n",
    "protocol, and then look at the populated builder or the generated input files.\n",
    "\n",
    "However, it should be noted that the `get_builder_from_protocol` method is not implemented in `aiida-core` but in the\n",
    "plugin, and might therefore not be available for the AiiDA plugin you might want to use. More specifically, it\n",
    "originated from the AiiDA common workflows project (the publication can be found\n",
    "[here](https://www.nature.com/articles/s41524-021-00594-6)), which aimed to provide a common interface for computing\n",
    "material properties using different quantum engines:\n",
    "\n",
    "![](https://www.aiida.net/_images/aiida-common-wf-image-2000x1000-1.png)\n",
    "\n",
    "The settings specified in the pre-defined protocols can be overwritten, using nested `parameter` dictionaries,\n",
    "direct assignment to the builder attributes, or YAML files (more in the [relevant documentation\n",
    "section](https://aiida-tutorials.readthedocs.io/en/latest/sections/running_processes/workflows.html#submitting-a-work-chain)).\n",
    "\n",
    "\n",
    "Finally, we can run the workflow, just as we did above:"
   ]
  },
  {
   "cell_type": "code",
   "execution_count": null,
   "metadata": {},
   "outputs": [],
   "source": [
    "results, node = engine.run.get_node(builder_protocol)\n",
    "print(f'Calculation: {node.process_class}<{node.pk}> {node.process_state.value} [{node.exit_status}]')\n",
    "print(f'Results: {results}')"
   ]
  },
  {
   "cell_type": "markdown",
   "metadata": {},
   "source": [
    "Finally, don't hesitate to explore the results of your workflow, `%verdi` is your friend ;)"
   ]
  },
  {
   "cell_type": "code",
   "execution_count": null,
   "metadata": {},
   "outputs": [],
   "source": [
    "%verdi process show {node.pk}"
   ]
  }
 ],
 "metadata": {
  "kernelspec": {
   "display_name": "FAIR",
   "language": "python",
   "name": "python3"
  },
  "language_info": {
   "codemirror_mode": {
    "name": "ipython",
    "version": 3
   },
   "file_extension": ".py",
   "mimetype": "text/x-python",
   "name": "python",
   "nbconvert_exporter": "python",
   "pygments_lexer": "ipython3",
   "version": "3.10.12"
  },
  "toc-autonumbering": true,
  "toc-showcode": false,
  "toc-showtags": false,
  "vscode": {
   "interpreter": {
    "hash": "20c30adb377910d9d5c8112cf74e9f7ecb37538254a701570d770f074373c53e"
   }
  }
 },
 "nbformat": 4,
 "nbformat_minor": 4
}
