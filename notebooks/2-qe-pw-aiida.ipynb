{
 "cells": [
  {
   "cell_type": "markdown",
   "metadata": {},
   "source": [
    "# Running a QE calculation with AiiDA\n"
   ]
  },
  {
   "cell_type": "markdown",
   "metadata": {},
   "source": []
  },
  {
   "cell_type": "code",
   "execution_count": 2,
   "metadata": {},
   "outputs": [
    {
     "data": {
      "application/json": {
       "current_state": "Loaded AiiDA DB environment - profile name: fair-workflows."
      },
      "text/html": [
       "<p>Loaded AiiDA DB environment - profile name: fair-workflows.</p>"
      ],
      "text/latex": [
       "Loaded AiiDA DB environment - profile name: fair-workflows.\n"
      ],
      "text/plain": [
       "Loaded AiiDA DB environment - profile name: fair-workflows.\n"
      ]
     },
     "execution_count": 2,
     "metadata": {},
     "output_type": "execute_result"
    }
   ],
   "source": [
    "%load_ext aiida\n",
    "%aiida"
   ]
  },
  {
   "cell_type": "code",
   "execution_count": 3,
   "metadata": {},
   "outputs": [],
   "source": [
    "from aiida.engine import run\n",
    "from aiida.orm import Dict, KpointsData, StructureData, load_code, load_group\n",
    "from ase.build import bulk"
   ]
  },
  {
   "cell_type": "code",
   "execution_count": 4,
   "metadata": {},
   "outputs": [],
   "source": [
    "%%capture\n",
    "# Install aiida-pseudo\n",
    "!pip install aiida-pseudo"
   ]
  },
  {
   "cell_type": "code",
   "execution_count": 5,
   "metadata": {},
   "outputs": [],
   "source": [
    "%%capture\n",
    "# Install PPs using aiida-pseudo\n",
    "!aiida-pseudo install sssp -x PBEsol -p efficiency"
   ]
  },
  {
   "cell_type": "code",
   "execution_count": 6,
   "metadata": {},
   "outputs": [],
   "source": [
    "# Load the code configured for ``pw.x``. Make sure to replace this string\n",
    "# with the label of a ``Code`` that you configured in your profile.\n",
    "code = load_code('qe-7.3-pw@localhost')\n",
    "\n",
    "builder = code.get_builder()\n",
    "\n",
    "from aiida_quantumespresso.workflows.pw.bands import PwBandsWorkChain\n",
    "\n",
    "# builder = PwBandsWorkChain.get_builder_from_protocol(code=code, structure=structure)\n",
    "# builder"
   ]
  },
  {
   "cell_type": "code",
   "execution_count": 7,
   "metadata": {},
   "outputs": [],
   "source": [
    "# Create a silicon fcc crystal\n",
    "structure = StructureData(ase=bulk('Si', 'fcc', 5.43))\n",
    "builder.structure = structure"
   ]
  },
  {
   "cell_type": "code",
   "execution_count": 8,
   "metadata": {},
   "outputs": [],
   "source": [
    "# Load the pseudopotential family.\n",
    "pseudo_family = load_group('SSSP/1.3/PBEsol/efficiency')\n",
    "builder.pseudos = pseudo_family.get_pseudos(structure=structure)"
   ]
  },
  {
   "cell_type": "code",
   "execution_count": 10,
   "metadata": {},
   "outputs": [],
   "source": [
    "# Request the recommended wavefunction and charge density cutoffs\n",
    "# for the given structure and energy units.\n",
    "cutoff_wfc, cutoff_rho = pseudo_family.get_recommended_cutoffs(\n",
    "    structure=structure,\n",
    "    unit='Ry'\n",
    ")\n",
    "\n",
    "parameters = Dict({\n",
    "    'CONTROL': {\n",
    "        'calculation': 'scf'\n",
    "    },\n",
    "    'SYSTEM': {\n",
    "        'ecutwfc': cutoff_wfc,\n",
    "        'ecutrho': cutoff_rho,\n",
    "    }\n",
    "})\n",
    "builder.parameters = parameters"
   ]
  },
  {
   "cell_type": "code",
   "execution_count": 11,
   "metadata": {},
   "outputs": [],
   "source": [
    "# Generate a 2x2x2 Monkhorst-Pack mesh\n",
    "kpoints = KpointsData()\n",
    "kpoints.set_kpoints_mesh([2, 2, 2])\n",
    "builder.kpoints = kpoints"
   ]
  },
  {
   "cell_type": "code",
   "execution_count": 12,
   "metadata": {},
   "outputs": [],
   "source": [
    "# Run the calculation on 1 CPU and kill it if it runs longer than 1800 seconds.\n",
    "# Set ``withmpi`` to ``False`` if ``pw.x`` was compiled without MPI support.\n",
    "builder.metadata.options = {\n",
    "    'resources': {\n",
    "        'num_machines': 1,\n",
    "    },\n",
    "    'max_wallclock_seconds': 1800,\n",
    "    'withmpi': False,\n",
    "}"
   ]
  },
  {
   "cell_type": "code",
   "execution_count": 13,
   "metadata": {},
   "outputs": [
    {
     "name": "stdout",
     "output_type": "stream",
     "text": [
      "Calculation: <class 'aiida_quantumespresso.calculations.pw.PwCalculation'><315> finished [0]\n",
      "Results: {'remote_folder': <RemoteData: uuid: 01ec192c-b083-4e33-a47a-ce8e4f838f72 (pk: 316)>, 'retrieved': <FolderData: uuid: c5f00cbc-8901-40fd-92b1-595b7ce57807 (pk: 317)>, 'output_band': <BandsData: uuid: cbbbff37-c2d5-4072-8036-6fc3e1800a44 (pk: 318)>, 'output_trajectory': <TrajectoryData: uuid: 66a131a5-2571-477f-a34e-4ef5dd4dd8ee (pk: 319)>, 'output_parameters': <Dict: uuid: 0e82b873-39c4-4b71-b456-98e654ecafd5 (pk: 320)>}\n"
     ]
    }
   ],
   "source": [
    "results, node = run.get_node(builder)\n",
    "print(f'Calculation: {node.process_class}<{node.pk}> {node.process_state.value} [{node.exit_status}]')\n",
    "print(f'Results: {results}')\n",
    "assert node.is_finished_ok, f'{node} failed: [{node.exit_status}] {node.exit_message}'"
   ]
  },
  {
   "cell_type": "code",
   "execution_count": 22,
   "metadata": {},
   "outputs": [],
   "source": []
  }
 ],
 "metadata": {
  "kernelspec": {
   "display_name": "FAIR",
   "language": "python",
   "name": "python3"
  },
  "language_info": {
   "codemirror_mode": {
    "name": "ipython",
    "version": 3
   },
   "file_extension": ".py",
   "mimetype": "text/x-python",
   "name": "python",
   "nbconvert_exporter": "python",
   "pygments_lexer": "ipython3",
   "version": "3.10.12"
  },
  "toc-autonumbering": true,
  "toc-showcode": false,
  "toc-showtags": false,
  "vscode": {
   "interpreter": {
    "hash": "20c30adb377910d9d5c8112cf74e9f7ecb37538254a701570d770f074373c53e"
   }
  }
 },
 "nbformat": 4,
 "nbformat_minor": 4
}
