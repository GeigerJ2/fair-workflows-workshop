{
 "cells": [
  {
   "cell_type": "markdown",
   "metadata": {},
   "source": [
    "# AiiDA by example: Computing a band structure\n"
   ]
  },
  {
   "cell_type": "markdown",
   "metadata": {},
   "source": [
    ":::{admonition} Learning Objectives\n",
    ":class: learning-objectives\n",
    "\n",
    "In this section we will present a complete example of an AiiDA workflow, which defines the sequence of calculations needed to compute the band structure of silicon.\n",
    "\n",
    "How to setup the input data and the details of the workflow execution will be discussed in subsequent sections.\n",
    "Here we simply give an initial overview of what it means to run an AiiDA workflow.\n",
    "\n",
    ":::"
   ]
  },
  {
   "cell_type": "code",
   "execution_count": null,
   "metadata": {},
   "outputs": [],
   "source": [
    "%load_ext aiida\n",
    "%aiida"
   ]
  },
  {
   "cell_type": "code",
   "execution_count": null,
   "metadata": {},
   "outputs": [],
   "source": [
    "from aiida import engine, orm\n",
    "from aiida_quantumespresso.calculations.pw import PwCalculation\n",
    "from ase.build import bulk"
   ]
  },
  {
   "cell_type": "code",
   "execution_count": null,
   "metadata": {},
   "outputs": [],
   "source": [
    "scf_inputs = {\n",
    "    'CONTROL': {\n",
    "        'calculation': 'scf',\n",
    "        # 'pseudo_dir': Path('files').absolute().as_posix(),\n",
    "    },\n",
    "    'SYSTEM': {\n",
    "        'occupations': 'smearing',\n",
    "        'smearing': 'cold',\n",
    "        'degauss': 0.02\n",
    "    }\n",
    "}\n",
    "\n",
    "resources = {\n",
    "    'num_machines': 1,\n",
    "    'num_mpiprocs_per_machine': 1\n",
    "}\n",
    "\n",
    "@engine.calcfunction\n",
    "def rescale_list(structure: orm.StructureData, factor_list: orm.List):\n",
    "\n",
    "    scaled_structure_dict = {}\n",
    "\n",
    "    for index, scaling_factor in enumerate(factor_list.get_list()):\n",
    "\n",
    "        ase_structure = structure.get_ase()\n",
    "\n",
    "        new_cell = ase_structure.get_cell() * scaling_factor\n",
    "        ase_structure.set_cell(new_cell, scale_atoms=True)\n",
    "\n",
    "        scaled_structure_dict[f'structure_{index}'] = orm.StructureData(ase=ase_structure)\n",
    "\n",
    "    return scaled_structure_dict\n",
    "\n",
    "@engine.calcfunction\n",
    "def create_eos_dictionary(**kwargs) -> orm.Dict:\n",
    "    eos = {\n",
    "        label: (result['volume'], result['energy'])\n",
    "        for label, result in kwargs.items()\n",
    "    }\n",
    "    return orm.Dict(eos)\n",
    "\n",
    "\n",
    "\n",
    "\n",
    "class EquationOfStateWorkChain(engine.WorkChain):\n",
    "    \"\"\"WorkChain to compute Equation of State using Quantum ESPRESSO.\"\"\"\n",
    "\n",
    "    @classmethod\n",
    "    def define(cls, spec):\n",
    "        \"\"\"Specify inputs and outputs.\"\"\"\n",
    "        super().define(spec)\n",
    "        spec.input(\"code\", valid_type=orm.Code)\n",
    "        spec.input(\"structure\", valid_type=orm.StructureData)\n",
    "        spec.input(\"scale_factors\", valid_type=orm.List)\n",
    "\n",
    "        spec.outline(\n",
    "            cls.run_eos,\n",
    "            cls.results,\n",
    "        )\n",
    "        spec.output(\"eos_dict\", valid_type=orm.Dict)\n",
    "\n",
    "    def run_eos(self):\n",
    "\n",
    "        calcjob_dict = {}\n",
    "\n",
    "        for label, rescaled_structure in rescale_list(self.inputs.structure, self.inputs.scale_factors).items():\n",
    "\n",
    "            builder = PwCalculation.get_builder()\n",
    "            builder.code = self.inputs.code\n",
    "            builder.structure = rescaled_structure\n",
    "            builder.parameters = orm.Dict(scf_inputs)\n",
    "            pseudo_family = orm.load_group('SSSP/1.3/PBEsol/efficiency')\n",
    "            builder.pseudos = pseudo_family.get_pseudos(structure=rescaled_structure)\n",
    "            kpoints = orm.KpointsData()\n",
    "            kpoints.set_kpoints_mesh([2, 2, 2])\n",
    "            builder.kpoints = kpoints\n",
    "            builder.metadata.options.resources = resources\n",
    "\n",
    "            calcjob_dict[label] = self.submit(builder)\n",
    "\n",
    "        self.ctx.labels = list(calcjob_dict.keys())\n",
    "\n",
    "        return calcjob_dict\n",
    "\n",
    "    def results(self):\n",
    "\n",
    "        self.report(self.ctx)\n",
    "\n",
    "        # label: self.ctx[label].outputs['properties'] for label in self.ctx.labels\n",
    "\n",
    "        eos_results = {}\n",
    "        for label in self.ctx.labels:\n",
    "            energy = self.ctx[label].outputs.output_parameters.get_dict()['energy']\n",
    "            volume = self.ctx[label].outputs.output_parameters.get_dict()['volume']\n",
    "            eos_results[label] = orm.Dict({'energy': orm.Float(energy), 'volume': orm.Float(volume)})\n",
    "        # }\n",
    "        eos_dict = create_eos_dictionary(**eos_results)\n",
    "        self.out('eos_dict', eos_dict)\n"
   ]
  },
  {
   "cell_type": "code",
   "execution_count": null,
   "metadata": {},
   "outputs": [],
   "source": [
    "structure = orm.StructureData(ase=bulk('Al', a=4.05, cubic=True))\n",
    "\n",
    "results = engine.run(\n",
    "    EquationOfState,\n",
    "    code=orm.load_code(\"qe-7.3-pw@localhost\"),\n",
    "    structure=structure,\n",
    "    scale_factors=orm.List([0.9, 0.95, 1.0, 1.05, 1.1]),\n",
    ")"
   ]
  },
  {
   "cell_type": "code",
   "execution_count": null,
   "metadata": {},
   "outputs": [],
   "source": [
    "eos_dict = results['eos_dict'].get_dict()"
   ]
  },
  {
   "cell_type": "code",
   "execution_count": null,
   "metadata": {},
   "outputs": [],
   "source": [
    "eos_dict"
   ]
  },
  {
   "cell_type": "code",
   "execution_count": null,
   "metadata": {},
   "outputs": [],
   "source": [
    "from matplotlib import pyplot as plt\n",
    "\n",
    "plt.plot(\n",
    "    [e[0] for e in eos_dict.values()],\n",
    "    [v[1] for v in eos_dict.values()],\n",
    ")"
   ]
  }
 ],
 "metadata": {
  "kernelspec": {
   "display_name": "FAIR",
   "language": "python",
   "name": "python3"
  },
  "language_info": {
   "codemirror_mode": {
    "name": "ipython",
    "version": 3
   },
   "file_extension": ".py",
   "mimetype": "text/x-python",
   "name": "python",
   "nbconvert_exporter": "python",
   "pygments_lexer": "ipython3",
   "version": "3.10.12"
  },
  "toc-autonumbering": true,
  "toc-showcode": false,
  "toc-showtags": false,
  "vscode": {
   "interpreter": {
    "hash": "20c30adb377910d9d5c8112cf74e9f7ecb37538254a701570d770f074373c53e"
   }
  }
 },
 "nbformat": 4,
 "nbformat_minor": 4
}
