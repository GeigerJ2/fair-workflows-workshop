{
 "cells": [
  {
   "cell_type": "markdown",
   "metadata": {},
   "source": [
    "# Writing your own workflow - Equation of State"
   ]
  },
  {
   "cell_type": "markdown",
   "metadata": {},
   "source": [
    "In this notebook, we will construct our own workflow to calculate the **Equation of State** (EOS). We will again start with\n",
    "the necessary preparations, such as creating the structure, loading the code, defining the calculation paremeters, and\n",
    "metadata options."
   ]
  },
  {
   "cell_type": "code",
   "execution_count": 1,
   "metadata": {},
   "outputs": [
    {
     "data": {
      "application/json": {
       "current_state": "Loaded AiiDA DB environment - profile name: default."
      },
      "text/html": [
       "<p>Loaded AiiDA DB environment - profile name: default.</p>"
      ],
      "text/latex": [
       "Loaded AiiDA DB environment - profile name: default.\n"
      ],
      "text/plain": [
       "Loaded AiiDA DB environment - profile name: default.\n"
      ]
     },
     "execution_count": 1,
     "metadata": {},
     "output_type": "execute_result"
    }
   ],
   "source": [
    "%load_ext aiida\n",
    "%aiida"
   ]
  },
  {
   "cell_type": "code",
   "execution_count": 2,
   "metadata": {},
   "outputs": [],
   "source": [
    "from aiida import engine, orm\n",
    "from aiida_quantumespresso.calculations.pw import PwCalculation\n",
    "from ase.build import bulk"
   ]
  },
  {
   "cell_type": "code",
   "execution_count": 3,
   "metadata": {},
   "outputs": [],
   "source": [
    "# Change the label here to 7.1 when running on nanoHUB\n",
    "pw_code = orm.load_code('qe-7.2-pw@localhost')\n",
    "si_structure = orm.StructureData(ase=bulk('Si', 'diamond', a=5.43)).store()\n",
    "\n",
    "kpoints = orm.KpointsData()\n",
    "kpoints.set_kpoints_mesh([2, 2, 2])\n",
    "\n",
    "pseudo_family = orm.load_group('SSSP/1.3/PBEsol/efficiency')\n",
    "\n",
    "cutoff_wfc, cutoff_rho = pseudo_family.get_recommended_cutoffs(\n",
    "    structure=si_structure,\n",
    "    unit='Ry'\n",
    ")\n",
    "\n",
    "parameters = {\n",
    "    'CONTROL': {\n",
    "        'calculation': 'scf',\n",
    "    },\n",
    "    'SYSTEM': {\n",
    "        'occupations': 'smearing',\n",
    "        'smearing': 'cold',\n",
    "        'degauss': 0.02\n",
    "    }\n",
    "}\n",
    "\n",
    "metadata_options = {\n",
    "    \"resources\": {\n",
    "        \"num_machines\": 1\n",
    "    },\n",
    "    \"max_wallclock_seconds\": 1800,\n",
    "}"
   ]
  },
  {
   "cell_type": "markdown",
   "metadata": {},
   "source": [
    "***\n",
    "Now, let's consider the different steps that our workflow should compose:\n",
    "1. Take an input structure and scale it to both compress and expand it\n",
    "2. Calculate the SCF energies for all scaled structures\n",
    "3. Plot the obtained results\n",
    "\n",
    "Ideally, one would also relax the input structure for scaling, but for simplicity we will omit this step here.\n",
    "\n",
    "Before going to the actual implementation, it is good to reiterate some of AiiDA's main concepts:\n",
    "\n",
    "- **Provenance**: AiiDA tracks all data and processes in a provenance graph. To achieve this, data must be in the form\n",
    "  of AiiDA data types, such as `Int`, `Float`, `StructureData`. This is because these classes inherit from the `Node`\n",
    "  base class, which contains the functionality to store the data in the database and record the provenance.\n",
    "- **Calcfunctions**: To run operations that create data, the corresponding Python functions must be converted into AiiDA\n",
    "  `calcfunction`s, which can be achieved with the `@engine.calcfunction` decorator. It's important to note here, that,\n",
    "  to keep provenance, these functions need to take AiiDA data `Node`s as inputs and return those as outputs.\n",
    "- **WorkChains**: To define workflows in AiiDA one has to define a `WorkChain`, which contains the logic of the\n",
    "  workflow. However, as opposed to `calcfunction`s, `WorkChain`s cannot create data. As such, all data creation has to\n",
    "  be handled by `calcfunction`s instead, while the `WorkChain` can only *return* the existing data.\n",
    "\n",
    "With this, let's generate the `calcfunction` to scale the structures:"
   ]
  },
  {
   "cell_type": "code",
   "execution_count": 8,
   "metadata": {},
   "outputs": [],
   "source": [
    "@engine.calcfunction\n",
    "def scale_structures(\n",
    "    structure: orm.StructureData,  # AiiDA StructureData passed rather than ase.Atoms, which we will obtain internally\n",
    "    factor_list: orm.List,  # AiiDA orm.List passed, the Python list will be obtained internally for the iteration\n",
    "    ):\n",
    "\n",
    "    scaled_structure_dict = {}\n",
    "\n",
    "    for index, scaling_factor in enumerate(factor_list.get_list()):\n",
    "\n",
    "        # Here we obtain the ase.Atoms object which we can modify\n",
    "        # Note that the StructureData cannot be directly scaled, as it is immutable to keep provenance\n",
    "        ase_structure = structure.get_ase()\n",
    "\n",
    "        # Scale the ase.Atoms object\n",
    "        new_cell = ase_structure.get_cell() * scaling_factor\n",
    "        ase_structure.set_cell(new_cell, scale_atoms=True)\n",
    "\n",
    "        scaled_structure_dict[f'structure_{index}'] = orm.StructureData(ase=ase_structure)\n",
    "\n",
    "    return scaled_structure_dict"
   ]
  },
  {
   "cell_type": "markdown",
   "metadata": {},
   "source": [
    "For simple Python base data types, such as `int` or `float`, the explicit conversion to AiiDA data types can also be\n",
    "omitted, as converting them internally under the hood is possible."
   ]
  },
  {
   "cell_type": "markdown",
   "metadata": {},
   "source": [
    "Similarly, we need to define a `calcfunction` that returns the *volumes* and *energies* of the structures, and a\n",
    "`calcfunction` that fits the EOS equation. The latter step could, in principle, also be done outside of the context of\n",
    "the `WorkChain` with a normal Python function, however, this step would then **not** be recorded in the provenance of\n",
    "the full workflow. The implementation of both `calcfunction`s is contained in the next cell, but is not that important,\n",
    "so we will just skim over it:"
   ]
  },
  {
   "cell_type": "code",
   "execution_count": 52,
   "metadata": {},
   "outputs": [],
   "source": [
    "\n",
    "@engine.calcfunction\n",
    "def fit_eos(method: str = \"birchmurnaghan\", **scf_outputs) -> dict:\n",
    "    \"\"\"Fit the EOS of the data.\"\"\"\n",
    "    from ase.eos import EquationOfState\n",
    "    from ase.units import kJ\n",
    "\n",
    "    volumes_list = []\n",
    "    energies = []\n",
    "    for _, data in scf_outputs.items():\n",
    "        energies.append(data.dict.energy)\n",
    "        volumes_list.append(data.dict.volume)\n",
    "    #\n",
    "    eos = EquationOfState(volumes_list, energies, eos=method.value)\n",
    "    v0, e0, B = eos.fit()\n",
    "    # convert B to GPa\n",
    "    B = B / kJ * 1.0e24\n",
    "    eos = {\"energy unit\": \"eV\", \"v0\": v0, \"e0\": e0, \"B\": B}\n",
    "\n",
    "    return {\"eos_parameters\": orm.Dict(eos),\n",
    "            \"energies\": orm.List(list=energies),\n",
    "            \"volumes\": orm.List(list=volumes_list)}"
   ]
  },
  {
   "cell_type": "markdown",
   "metadata": {},
   "source": [
    "Finally, we define our `EquationOfStateWorkChain`. To this end, we inherit from `engine.WorkChain`. The main method of\n",
    "our `WorkChain` is the `define` `classmethod`. In it, we define the `input`s, `output`s, and `outline` of our workflow:\n",
    "\n",
    "```python\n",
    "```\n",
    "\n",
    "As you can see above, the outline of the workflow is quite simple: We first run the different SCF calculations, using\n",
    "the previously defined `calcfunction` to scale our input structure, and then return the results. To run the SCF\n",
    "calculations, we iterate over the scaled structures and prepare the `PwCalculation`s using the `ProcessBuilder`, as we\n",
    "did before:\n",
    "\n",
    "```python\n",
    "```"
   ]
  },
  {
   "cell_type": "code",
   "execution_count": 57,
   "metadata": {},
   "outputs": [],
   "source": [
    "class EquationOfStateWorkChain(engine.WorkChain):\n",
    "    \"\"\"WorkChain to compute Equation of State using Quantum ESPRESSO.\"\"\"\n",
    "\n",
    "    @classmethod\n",
    "    def define(cls, spec):\n",
    "        \"\"\"Specify inputs and outputs.\"\"\"\n",
    "        super().define(spec)\n",
    "        spec.input(\"code\", valid_type=orm.Code)\n",
    "        spec.input(\"structure\", valid_type=orm.StructureData)\n",
    "        spec.input(\"scale_factors\", valid_type=orm.List)\n",
    "        spec.input(\"eos_method\", valid_type=orm.Str, default=orm.Str(\"birchmurnaghan\"))\n",
    "\n",
    "        spec.outline(\n",
    "            cls.run_scfs,\n",
    "            cls.fit_eos,\n",
    "        )\n",
    "        spec.output(\"eos_parameters\", valid_type=orm.Dict)\n",
    "        spec.output(\"energies\", valid_type=orm.List)\n",
    "        spec.output(\"volumes\", valid_type=orm.List)\n",
    "\n",
    "    def run_scfs(self):\n",
    "\n",
    "        calcjob_dict = {}\n",
    "\n",
    "        for label, rescaled_structure in scale_structures(self.inputs.structure, self.inputs.scale_factors).items():\n",
    "\n",
    "            builder = PwCalculation.get_builder()\n",
    "            builder.code = self.inputs.code\n",
    "            builder.structure = rescaled_structure\n",
    "            builder.parameters = orm.Dict(parameters)\n",
    "            # pseudo_family = orm.load_group('SSSP/1.3/PBEsol/efficiency')\n",
    "            builder.pseudos = pseudo_family.get_pseudos(structure=rescaled_structure)\n",
    "            kpoints = orm.KpointsData()\n",
    "            kpoints.set_kpoints_mesh([2, 2, 2])\n",
    "            builder.kpoints = kpoints\n",
    "            builder.metadata.options = metadata_options\n",
    "\n",
    "            calcjob_dict[label] = self.submit(builder)\n",
    "\n",
    "        self.ctx.labels = list(calcjob_dict.keys())\n",
    "\n",
    "        return calcjob_dict\n",
    "\n",
    "    def fit_eos(self):\n",
    "        scf_outputs = {label: self.ctx[label].outputs.output_parameters for label in self.ctx.labels}\n",
    "        result = fit_eos(self.inputs.eos_method, **scf_outputs)\n",
    "        self.out('eos_parameters', result[\"eos_parameters\"])\n",
    "        self.out('energies', result[\"energies\"])\n",
    "        self.out('volumes', result[\"volumes\"])"
   ]
  },
  {
   "cell_type": "code",
   "execution_count": 58,
   "metadata": {},
   "outputs": [
    {
     "name": "stderr",
     "output_type": "stream",
     "text": [
      "/home/xing/miniconda3/envs/aiida/lib/python3.11/site-packages/aiida/engine/processes/ports.py:156: UserWarning: default of input port `eos_method` is a `Node` instance, which can lead to unexpected side effects. It is advised to use a lambda instead, e.g.: `default=lambda: orm.Int(5)`.\n",
      "  warnings.warn(UserWarning(message))\n"
     ]
    },
    {
     "name": "stdout",
     "output_type": "stream",
     "text": [
      "process_inited.node: uuid: c095b3f5-1d93-497d-ad37-4c736fc70259 (pk: 96205) (aiida.calculations:quantumespresso.pw)\n",
      "process_inited.node: uuid: d79d967d-a7b9-40eb-8552-2d0ee0b7c4af (pk: 96208) (aiida.calculations:quantumespresso.pw)\n",
      "process_inited.node: uuid: fd8c1a41-15c7-46a8-9d7c-9fabf8096066 (pk: 96211) (aiida.calculations:quantumespresso.pw)\n",
      "process_inited.node: uuid: ad5d2ea1-103a-4815-9830-c6d62abe27ae (pk: 96214) (aiida.calculations:quantumespresso.pw)\n",
      "process_inited.node: uuid: 1633d704-b054-4ae2-83bc-261272a88ddb (pk: 96217) (aiida.calculations:quantumespresso.pw)\n"
     ]
    }
   ],
   "source": [
    "results = engine.run(\n",
    "    EquationOfStateWorkChain,\n",
    "    code=pw_code,\n",
    "    structure=si_structure,\n",
    "    scale_factors=orm.List([0.9, 0.95, 1.0, 1.05, 1.1]),\n",
    ")"
   ]
  },
  {
   "cell_type": "markdown",
   "metadata": {},
   "source": [
    "## Get the results and plot them\n"
   ]
  },
  {
   "cell_type": "code",
   "execution_count": 62,
   "metadata": {},
   "outputs": [
    {
     "name": "stdout",
     "output_type": "stream",
     "text": [
      "Equation of state parameters:\n",
      "B: 79.636137339453\n",
      "v0: 43.448450305621\n",
      "e0: -305.98667545249\n",
      "v0: 43.448450305621\n"
     ]
    },
    {
     "data": {
      "text/plain": [
       "Text(0, 0.5, 'Energy (eV)')"
      ]
     },
     "execution_count": 62,
     "metadata": {},
     "output_type": "execute_result"
    },
    {
     "data": {
      "image/png": "[encoded data removed]",
      "text/plain": [
       "<Figure size 640x480 with 1 Axes>"
      ]
     },
     "metadata": {},
     "output_type": "display_data"
    }
   ],
   "source": [
    "from matplotlib import pyplot as plt\n",
    "print(\"Equation of state parameters:\")\n",
    "print('B: {B}\\nv0: {v0}\\ne0: {e0}\\nv0: {v0}'.format(**results[\"eos_parameters\"]))\n",
    "\n",
    "plt.plot(\n",
    "    results[\"volumes\"].get_list(),\n",
    "    results[\"energies\"].get_list(),\n",
    "    \"-o\",\n",
    ")\n",
    "plt.xlabel(\"Volume (Å^3)\")\n",
    "plt.ylabel(\"Energy (eV)\")"
   ]
  },
  {
   "cell_type": "code",
   "execution_count": null,
   "metadata": {},
   "outputs": [],
   "source": []
  }
 ],
 "metadata": {
  "kernelspec": {
   "display_name": "FAIR",
   "language": "python",
   "name": "python3"
  },
  "language_info": {
   "codemirror_mode": {
    "name": "ipython",
    "version": 3
   },
   "file_extension": ".py",
   "mimetype": "text/x-python",
   "name": "python",
   "nbconvert_exporter": "python",
   "pygments_lexer": "ipython3",
   "version": "3.11.0"
  },
  "toc-autonumbering": true,
  "toc-showcode": false,
  "toc-showtags": false,
  "vscode": {
   "interpreter": {
    "hash": "20c30adb377910d9d5c8112cf74e9f7ecb37538254a701570d770f074373c53e"
   }
  }
 },
 "nbformat": 4,
 "nbformat_minor": 4
}
