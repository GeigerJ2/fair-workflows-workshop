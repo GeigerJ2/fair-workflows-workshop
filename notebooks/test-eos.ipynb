{
 "cells": [
  {
   "cell_type": "code",
   "execution_count": 9,
   "id": "278cbd14",
   "metadata": {
    "ExecuteTime": {
     "end_time": "2024-08-06T08:08:04.550641Z",
     "start_time": "2024-08-06T08:08:01.017207Z"
    }
   },
   "outputs": [
    {
     "name": "stdout",
     "output_type": "stream",
     "text": [
      "\u001b[34m\u001b[1mReport\u001b[0m: \u001b[22mOption `--use-postgres` not enabled: configuring the profile to use SQLite.\u001b[0m\n",
      "\u001b[34m\u001b[1mReport\u001b[0m: \u001b[22mRabbitMQ server not found (Failed to connect with following connection parameters: {'protocol': 'amqp', 'username': 'guest', 'password': 'guest', 'host': '127.0.0.1', 'port': 5672, 'virtual_host': ''}): configuring the profile without a broker.\u001b[0m\n",
      "\u001b[34m\u001b[1mReport\u001b[0m: Initialising the storage backend.\n",
      "\u001b[34m\u001b[1mReport\u001b[0m: Storage initialisation completed.\n",
      "\u001b[32m\u001b[1mSuccess: \u001b[0m\u001b[22mCreated new profile `fair-workflows`.\u001b[0m\n",
      "\u001b[32m\u001b[1mSuccess: \u001b[0m\u001b[22mConfigured the localhost as a computer.\u001b[0m\n"
     ]
    }
   ],
   "source": [
    "!/apps/share64/debian10/anaconda/anaconda-7/envs/AIIDA/bin/verdi presto --profile-name fair-workflows"
   ]
  },
  {
   "cell_type": "code",
   "execution_count": 11,
   "id": "a9e27c17",
   "metadata": {
    "ExecuteTime": {
     "end_time": "2024-08-06T08:08:23.783229Z",
     "start_time": "2024-08-06T08:08:23.554033Z"
    }
   },
   "outputs": [
    {
     "name": "stdout",
     "output_type": "stream",
     "text": [
      "/bin/bash: verdi: command not found\r\n"
     ]
    }
   ],
   "source": [
    "!verdi status # This points to system, one would either have to define an alias or add it to PATH"
   ]
  },
  {
   "cell_type": "code",
   "execution_count": 10,
   "id": "7d1b7503",
   "metadata": {
    "ExecuteTime": {
     "end_time": "2024-08-06T08:08:05.939390Z",
     "start_time": "2024-08-06T08:08:05.751800Z"
    }
   },
   "outputs": [
    {
     "name": "stdout",
     "output_type": "stream",
     "text": [
      "The aiida extension is already loaded. To reload it, use:\n",
      "  %reload_ext aiida\n"
     ]
    }
   ],
   "source": [
    "%load_ext aiida\n",
    "%aiida"
   ]
  },
  {
   "cell_type": "code",
   "execution_count": 12,
   "id": "4bea5f4a",
   "metadata": {
    "ExecuteTime": {
     "end_time": "2024-08-06T08:09:09.449194Z",
     "start_time": "2024-08-06T08:09:09.107251Z"
    }
   },
   "outputs": [
    {
     "name": "stdout",
     "output_type": "stream",
     "text": [
      "\u001b[32m\u001b[22m ✔ \u001b[0m\u001b[22mversion:     AiiDA v2.6.1\u001b[0m\n",
      "\u001b[32m\u001b[22m ✔ \u001b[0m\u001b[22mconfig:      /home/nanohub/jgeiger/.aiida\u001b[0m\n",
      "\u001b[32m\u001b[22m ✔ \u001b[0m\u001b[22mprofile:     fair-workflows\u001b[0m\n",
      "\u001b[32m\u001b[22m ✔ \u001b[0m\u001b[22mstorage:     SqliteDosStorage[/home/nanohub/jgeiger/.aiida/repository/sqlite_dos_be1820e15acc4f319de2f6331f64b2d0]: open,\u001b[0m\n",
      "\u001b[33m\u001b[22m ⏺ \u001b[0m\u001b[22mbroker:      No broker defined for this profile: certain functionality not available.\u001b[0m\n",
      "\u001b[33m\u001b[22m ⏺ \u001b[0m\u001b[22mdaemon:      No broker defined for this profile: daemon is not available.\u001b[0m\n"
     ]
    }
   ],
   "source": [
    "%verdi status"
   ]
  },
  {
   "cell_type": "code",
   "execution_count": null,
   "id": "f012089f",
   "metadata": {},
   "outputs": [],
   "source": [
    "%verdi storage info"
   ]
  },
  {
   "cell_type": "code",
   "execution_count": 25,
   "id": "2b2d3375",
   "metadata": {
    "ExecuteTime": {
     "end_time": "2024-08-06T08:22:47.593438Z",
     "start_time": "2024-08-06T08:21:52.008833Z"
    }
   },
   "outputs": [
    {
     "name": "stdout",
     "output_type": "stream",
     "text": [
      "\u001b[34m\u001b[1mReport\u001b[0m: \u001b[22mdownloading patch versions information... \u001b[0m\u001b[32m\u001b[1m [OK]\u001b[0m\n",
      "\u001b[34m\u001b[1mReport\u001b[0m: \u001b[22mdownloading selected pseudopotentials archive... \u001b[0m\u001b[32m\u001b[1m [OK]\u001b[0m\n",
      "\u001b[34m\u001b[1mReport\u001b[0m: \u001b[22mdownloading selected pseudopotentials metadata... \u001b[0m\u001b[32m\u001b[1m [OK]\u001b[0m\n",
      "\u001b[34m\u001b[1mReport\u001b[0m: \u001b[22munpacking archive and parsing pseudos... \u001b[0m\u001b[32m\u001b[1m [OK]\u001b[0m\n",
      "\u001b[32m\u001b[1mSuccess: \u001b[0m\u001b[22minstalled `SSSP/1.3/PBE/efficiency` containing 103 pseudopotentials.\u001b[0m\n",
      "\u001b[34m\u001b[1mReport\u001b[0m: \u001b[22mdownloading patch versions information... \u001b[0m\u001b[32m\u001b[1m [OK]\u001b[0m\n",
      "\u001b[34m\u001b[1mReport\u001b[0m: \u001b[22mdownloading selected pseudopotentials archive... \u001b[0m\u001b[32m\u001b[1m [OK]\u001b[0m\n",
      "\u001b[34m\u001b[1mReport\u001b[0m: \u001b[22mdownloading selected pseudopotentials metadata... \u001b[0m\u001b[32m\u001b[1m [OK]\u001b[0m\n",
      "\u001b[34m\u001b[1mReport\u001b[0m: \u001b[22munpacking archive and parsing pseudos... \u001b[0m\u001b[32m\u001b[1m [OK]\u001b[0m\n",
      "\u001b[32m\u001b[1mSuccess: \u001b[0m\u001b[22minstalled `SSSP/1.3/PBEsol/efficiency` containing 103 pseudopotentials.\u001b[0m\n"
     ]
    }
   ],
   "source": [
    "!/apps/share64/debian10/anaconda/anaconda-7/envs/AIIDA/bin/aiida-pseudo install sssp -x PBE -p efficiency\n",
    "!/apps/share64/debian10/anaconda/anaconda-7/envs/AIIDA/bin/aiida-pseudo install sssp -x PBEsol -p efficiency"
   ]
  },
  {
   "cell_type": "code",
   "execution_count": 26,
   "id": "7a146a8c",
   "metadata": {
    "ExecuteTime": {
     "end_time": "2024-08-06T08:23:15.385354Z",
     "start_time": "2024-08-06T08:23:15.201169Z"
    }
   },
   "outputs": [
    {
     "name": "stdout",
     "output_type": "stream",
     "text": [
      "\u001b[22mentities:\n",
      "  Users:\n",
      "    count: 1\n",
      "  Computers:\n",
      "    count: 1\n",
      "  Nodes:\n",
      "    count: 207\n",
      "  Groups:\n",
      "    count: 2\n",
      "  Comments:\n",
      "    count: 0\n",
      "  Logs:\n",
      "    count: 0\n",
      "  Links:\n",
      "    count: 0\n",
      "repository:\n",
      "  SHA-hash algorithm: sha256\n",
      "  Compression algorithm: zlib+1\n",
      "  Objects:\n",
      "    packed: 0\n",
      "    loose: 206\n",
      "    pack_files: 0\n",
      "\u001b[0m\n"
     ]
    }
   ],
   "source": [
    "%verdi storage info"
   ]
  },
  {
   "cell_type": "code",
   "execution_count": 23,
   "id": "7c3eb5a7",
   "metadata": {
    "ExecuteTime": {
     "end_time": "2024-08-06T08:20:20.183867Z",
     "start_time": "2024-08-06T08:20:12.378982Z"
    }
   },
   "outputs": [],
   "source": [
    "from aiida import engine, orm\n",
    "from aiida_quantumespresso.calculations.pw import PwCalculation\n",
    "from ase.build import bulk"
   ]
  },
  {
   "cell_type": "code",
   "execution_count": 51,
   "id": "a56c0185",
   "metadata": {
    "ExecuteTime": {
     "end_time": "2024-08-06T08:34:40.225549Z",
     "start_time": "2024-08-06T08:34:40.039840Z"
    }
   },
   "outputs": [
    {
     "name": "stdout",
     "output_type": "stream",
     "text": [
      "\u001b[34m\u001b[1mReport\u001b[0m: 8 Node(s) marked for deletion\n",
      "\u001b[34m\u001b[1mReport\u001b[0m: Starting node deletion...\n",
      "\u001b[34m\u001b[1mReport\u001b[0m: Deletion of nodes completed.\n",
      "\u001b[32m\u001b[1mSuccess: \u001b[0m\u001b[22mFinished deletion.\u001b[0m\n"
     ]
    }
   ],
   "source": [
    "# %verdi code delete 'qe-7.1-pw' --force"
   ]
  },
  {
   "cell_type": "code",
   "execution_count": 49,
   "id": "3aabef86",
   "metadata": {
    "ExecuteTime": {
     "end_time": "2024-08-06T08:34:22.092630Z",
     "start_time": "2024-08-06T08:34:22.015837Z"
    }
   },
   "outputs": [],
   "source": [
    "qe_code = orm.InstalledCode(\n",
    "    append_text='',\n",
    "    computer=orm.load_computer('localhost'),\n",
    "    default_calc_job_plugin='quantumespresso.pw',\n",
    "    description='',\n",
    "    filepath_executable='/apps/share64/debian10/espresso/espresso-7.1/bin/pw.x',\n",
    "    label='qe-7.1-pw',\n",
    "    prepend_text='export OMP_NUM_THREADS=1',\n",
    "    use_double_quotes=False,\n",
    "    with_mpi= False\n",
    ").store()"
   ]
  },
  {
   "cell_type": "code",
   "execution_count": 52,
   "id": "dfa870f1",
   "metadata": {
    "ExecuteTime": {
     "end_time": "2024-08-06T08:34:45.639800Z",
     "start_time": "2024-08-06T08:34:45.534699Z"
    }
   },
   "outputs": [
    {
     "name": "stdout",
     "output_type": "stream",
     "text": [
      "\u001b[22mFull label             Pk  Entry point\n",
      "-------------------  ----  -------------------\n",
      "qe-7.1-pw@localhost   241  core.code.installed\u001b[0m\n",
      "\u001b[22m\n",
      "Use `verdi code show IDENTIFIER` to see details for a code\u001b[0m\n",
      "\u001b[32m\u001b[1mSuccess: \u001b[0m\u001b[22mall tests succeeded.\u001b[0m\n"
     ]
    }
   ],
   "source": [
    "%verdi code list\n",
    "%verdi code test 'qe-7.1-pw'"
   ]
  },
  {
   "cell_type": "code",
   "execution_count": 53,
   "id": "1fe48a9f",
   "metadata": {
    "ExecuteTime": {
     "end_time": "2024-08-06T08:34:50.980561Z",
     "start_time": "2024-08-06T08:34:50.968460Z"
    }
   },
   "outputs": [],
   "source": [
    "scf_inputs = {\n",
    "    'CONTROL': {\n",
    "        'calculation': 'scf',\n",
    "        # 'pseudo_dir': Path('files').absolute().as_posix(),\n",
    "    },\n",
    "    'SYSTEM': {\n",
    "        'occupations': 'smearing',\n",
    "        'smearing': 'cold',\n",
    "        'degauss': 0.02\n",
    "    }\n",
    "}\n",
    "\n",
    "resources = {\n",
    "    'num_machines': 1,\n",
    "    'num_mpiprocs_per_machine': 1,\n",
    "}\n",
    "\n",
    "@engine.calcfunction\n",
    "def rescale_list(structure: orm.StructureData, factor_list: orm.List):\n",
    "\n",
    "    scaled_structure_dict = {}\n",
    "\n",
    "    for index, scaling_factor in enumerate(factor_list.get_list()):\n",
    "\n",
    "        ase_structure = structure.get_ase()\n",
    "\n",
    "        new_cell = ase_structure.get_cell() * scaling_factor\n",
    "        ase_structure.set_cell(new_cell, scale_atoms=True)\n",
    "\n",
    "        scaled_structure_dict[f'structure_{index}'] = orm.StructureData(ase=ase_structure)\n",
    "\n",
    "    return scaled_structure_dict\n",
    "\n",
    "@engine.calcfunction\n",
    "def create_eos_dictionary(**kwargs) -> orm.Dict:\n",
    "    eos = {\n",
    "        label: (result['volume'], result['energy'])\n",
    "        for label, result in kwargs.items()\n",
    "    }\n",
    "    return orm.Dict(eos)\n",
    "\n",
    "class EquationOfStateWorkChain(engine.WorkChain):\n",
    "    \"\"\"WorkChain to compute Equation of State using Quantum ESPRESSO.\"\"\"\n",
    "\n",
    "    @classmethod\n",
    "    def define(cls, spec):\n",
    "        \"\"\"Specify inputs and outputs.\"\"\"\n",
    "        super().define(spec)\n",
    "        spec.input(\"code\", valid_type=orm.Code)\n",
    "        spec.input(\"structure\", valid_type=orm.StructureData)\n",
    "        spec.input(\"scale_factors\", valid_type=orm.List)\n",
    "\n",
    "        spec.outline(\n",
    "            cls.run_eos,\n",
    "            cls.results,\n",
    "        )\n",
    "        spec.output(\"eos_dict\", valid_type=orm.Dict)\n",
    "\n",
    "    def run_eos(self):\n",
    "\n",
    "        calcjob_dict = {}\n",
    "\n",
    "        for label, rescaled_structure in rescale_list(self.inputs.structure, self.inputs.scale_factors).items():\n",
    "\n",
    "            builder = PwCalculation.get_builder()\n",
    "            builder.code = self.inputs.code\n",
    "            builder.structure = rescaled_structure\n",
    "            builder.parameters = orm.Dict(scf_inputs)\n",
    "            pseudo_family = orm.load_group('SSSP/1.3/PBEsol/efficiency')\n",
    "            builder.pseudos = pseudo_family.get_pseudos(structure=rescaled_structure)\n",
    "            kpoints = orm.KpointsData()\n",
    "            kpoints.set_kpoints_mesh([2, 2, 2])\n",
    "            builder.kpoints = kpoints\n",
    "            builder.metadata.options.resources = resources\n",
    "\n",
    "            calcjob_dict[label] = self.submit(builder)\n",
    "\n",
    "        self.ctx.labels = list(calcjob_dict.keys())\n",
    "\n",
    "        return calcjob_dict\n",
    "\n",
    "    def results(self):\n",
    "\n",
    "        self.report(self.ctx)\n",
    "\n",
    "        # label: self.ctx[label].outputs['properties'] for label in self.ctx.labels\n",
    "\n",
    "        eos_results = {}\n",
    "        for label in self.ctx.labels:\n",
    "            energy = self.ctx[label].outputs.output_parameters.get_dict()['energy']\n",
    "            volume = self.ctx[label].outputs.output_parameters.get_dict()['volume']\n",
    "            eos_results[label] = orm.Dict({'energy': orm.Float(energy), 'volume': orm.Float(volume)})\n",
    "        # }\n",
    "        eos_dict = create_eos_dictionary(**eos_results)\n",
    "        self.out('eos_dict', eos_dict)\n"
   ]
  },
  {
   "cell_type": "code",
   "execution_count": 54,
   "id": "a2de84da",
   "metadata": {
    "ExecuteTime": {
     "end_time": "2024-08-06T08:35:38.888200Z",
     "start_time": "2024-08-06T08:34:53.087929Z"
    }
   },
   "outputs": [
    {
     "name": "stdout",
     "output_type": "stream",
     "text": [
      "\u001b[34m\u001b[1mReport\u001b[0m: [244|EquationOfState|results]: AttributeDict({'labels': ['structure_0', 'structure_1', 'structure_2', 'structure_3', 'structure_4'], 'structure_0': <CalcJobNode: uuid: ba67f047-9f82-467b-b9d7-97fd99a49df6 (pk: 253) (aiida.calculations:quantumespresso.pw)>, 'structure_1': <CalcJobNode: uuid: 09bba60b-fa1f-4dbd-919b-e4909abde28c (pk: 256) (aiida.calculations:quantumespresso.pw)>, 'structure_2': <CalcJobNode: uuid: c6b09777-cdd7-4eb5-b4c4-6184d3dacb1a (pk: 259) (aiida.calculations:quantumespresso.pw)>, 'structure_3': <CalcJobNode: uuid: 7b358f87-1929-4805-a91b-cc2e4f108142 (pk: 262) (aiida.calculations:quantumespresso.pw)>, 'structure_4': <CalcJobNode: uuid: f64bb55d-82ce-4bd8-81db-0ebca8883877 (pk: 265) (aiida.calculations:quantumespresso.pw)>})\n"
     ]
    }
   ],
   "source": [
    "structure = orm.StructureData(ase=bulk('Al', a=4.05, cubic=True))\n",
    "\n",
    "results = engine.run(\n",
    "    EquationOfState,\n",
    "    code=orm.load_code(\"qe-7.1-pw@localhost\"),\n",
    "    structure=structure,\n",
    "    scale_factors=orm.List([0.9, 0.95, 1.0, 1.05, 1.1]),\n",
    ")"
   ]
  },
  {
   "cell_type": "code",
   "execution_count": 55,
   "id": "de74cf71",
   "metadata": {
    "ExecuteTime": {
     "end_time": "2024-08-06T08:35:52.532232Z",
     "start_time": "2024-08-06T08:35:52.477450Z"
    }
   },
   "outputs": [
    {
     "name": "stdout",
     "output_type": "stream",
     "text": [
      "\u001b[22m  PK  Created    Process label          ♻    Process State    Process status\n",
      "----  ---------  ---------------------  ---  ---------------  ----------------\n",
      " 244  59s ago    EquationOfState             ⏹ Finished [0]\n",
      " 245  58s ago    rescale_list                ⏹ Finished [0]\n",
      " 253  57s ago    PwCalculation               ⏹ Finished [0]\n",
      " 256  55s ago    PwCalculation               ⏹ Finished [0]\n",
      " 259  54s ago    PwCalculation               ⏹ Finished [0]\n",
      " 262  53s ago    PwCalculation               ⏹ Finished [0]\n",
      " 265  52s ago    PwCalculation               ⏹ Finished [0]\n",
      " 296  14s ago    create_eos_dictionary       ⏹ Finished [0]\u001b[0m\n",
      "\u001b[22m\n",
      "Total results: 8\n",
      "\u001b[0m\n",
      "\u001b[34m\u001b[1mReport\u001b[0m: \u001b[22m♻ Processes marked with check-mark were not run but taken from the cache.\u001b[0m\n",
      "\u001b[34m\u001b[1mReport\u001b[0m: \u001b[22mAdd the option `-P pk cached_from` to the command to display cache source.\u001b[0m\n",
      "\u001b[34m\u001b[1mReport\u001b[0m: \u001b[22mLast time an entry changed state: 13s ago (at 08:35:38 on 2024-08-06)\u001b[0m\n",
      "\u001b[93m\u001b[1mWarning\u001b[0m: \u001b[22mThis profile does not have a broker and so it has no daemon.\u001b[0m\n"
     ]
    }
   ],
   "source": [
    "%verdi process list -ap 1"
   ]
  },
  {
   "cell_type": "code",
   "execution_count": 58,
   "id": "1451cd44",
   "metadata": {
    "ExecuteTime": {
     "end_time": "2024-08-06T08:36:51.138256Z",
     "start_time": "2024-08-06T08:36:50.998043Z"
    }
   },
   "outputs": [
    {
     "name": "stdout",
     "output_type": "stream",
     "text": [
      "\u001b[22mProperty     Value\n",
      "-----------  ------------------------------------\n",
      "type         PwCalculation\n",
      "state        Finished [0]\n",
      "pk           253\n",
      "uuid         ba67f047-9f82-467b-b9d7-97fd99a49df6\n",
      "label\n",
      "description\n",
      "ctime        2024-08-06 08:34:55.396695+00:00\n",
      "mtime        2024-08-06 08:35:25.389799+00:00\n",
      "computer     [1] localhost\n",
      "\n",
      "Inputs      PK    Type\n",
      "----------  ----  -------------\n",
      "pseudos\n",
      "    Al      172   UpfData\n",
      "code        241   InstalledCode\n",
      "kpoints     252   KpointsData\n",
      "parameters  251   Dict\n",
      "structure   246   StructureData\n",
      "\n",
      "Outputs              PK  Type\n",
      "-----------------  ----  --------------\n",
      "output_band         275  BandsData\n",
      "output_parameters   277  Dict\n",
      "output_trajectory   276  TrajectoryData\n",
      "remote_folder       266  RemoteData\n",
      "retrieved           271  FolderData\n",
      "\n",
      "Caller      PK  Type\n",
      "--------  ----  ---------------\n",
      "CALL       244  EquationOfState\u001b[0m\n"
     ]
    }
   ],
   "source": [
    "%verdi process show 253"
   ]
  },
  {
   "cell_type": "code",
   "execution_count": 59,
   "id": "75057bb5",
   "metadata": {
    "ExecuteTime": {
     "end_time": "2024-08-06T08:36:56.519562Z",
     "start_time": "2024-08-06T08:36:56.423713Z"
    }
   },
   "outputs": [
    {
     "name": "stdout",
     "output_type": "stream",
     "text": [
      "\u001b[22m*** 253: None\n",
      "*** (empty scheduler output file)\n",
      "*** (empty scheduler errors file)\n",
      "*** 0 LOG MESSAGES\u001b[0m\n"
     ]
    }
   ],
   "source": [
    "%verdi process report 253"
   ]
  },
  {
   "cell_type": "code",
   "execution_count": 60,
   "id": "f3befede",
   "metadata": {
    "ExecuteTime": {
     "end_time": "2024-08-06T08:37:00.427736Z",
     "start_time": "2024-08-06T08:37:00.293725Z"
    }
   },
   "outputs": [
    {
     "ename": "AttributeError",
     "evalue": "'OutStream' object has no attribute 'buffer'",
     "output_type": "error",
     "traceback": [
      "\u001b[0;31m---------------------------------------------------------------------------\u001b[0m",
      "\u001b[0;31mAttributeError\u001b[0m                            Traceback (most recent call last)",
      "Cell \u001b[0;32mIn[60], line 1\u001b[0m\n\u001b[0;32m----> 1\u001b[0m \u001b[43mget_ipython\u001b[49m\u001b[43m(\u001b[49m\u001b[43m)\u001b[49m\u001b[38;5;241;43m.\u001b[39;49m\u001b[43mrun_line_magic\u001b[49m\u001b[43m(\u001b[49m\u001b[38;5;124;43m'\u001b[39;49m\u001b[38;5;124;43mverdi\u001b[39;49m\u001b[38;5;124;43m'\u001b[39;49m\u001b[43m,\u001b[49m\u001b[43m \u001b[49m\u001b[38;5;124;43m'\u001b[39;49m\u001b[38;5;124;43mcalcjob outputcat 253\u001b[39;49m\u001b[38;5;124;43m'\u001b[39;49m\u001b[43m)\u001b[49m\n",
      "File \u001b[0;32m/apps/share64/debian10/anaconda/anaconda-7/envs/AIIDA/lib/python3.10/site-packages/IPython/core/interactiveshell.py:2480\u001b[0m, in \u001b[0;36mInteractiveShell.run_line_magic\u001b[0;34m(self, magic_name, line, _stack_depth)\u001b[0m\n\u001b[1;32m   2478\u001b[0m     kwargs[\u001b[38;5;124m'\u001b[39m\u001b[38;5;124mlocal_ns\u001b[39m\u001b[38;5;124m'\u001b[39m] \u001b[38;5;241m=\u001b[39m \u001b[38;5;28mself\u001b[39m\u001b[38;5;241m.\u001b[39mget_local_scope(stack_depth)\n\u001b[1;32m   2479\u001b[0m \u001b[38;5;28;01mwith\u001b[39;00m \u001b[38;5;28mself\u001b[39m\u001b[38;5;241m.\u001b[39mbuiltin_trap:\n\u001b[0;32m-> 2480\u001b[0m     result \u001b[38;5;241m=\u001b[39m \u001b[43mfn\u001b[49m\u001b[43m(\u001b[49m\u001b[38;5;241;43m*\u001b[39;49m\u001b[43margs\u001b[49m\u001b[43m,\u001b[49m\u001b[43m \u001b[49m\u001b[38;5;241;43m*\u001b[39;49m\u001b[38;5;241;43m*\u001b[39;49m\u001b[43mkwargs\u001b[49m\u001b[43m)\u001b[49m\n\u001b[1;32m   2482\u001b[0m \u001b[38;5;66;03m# The code below prevents the output from being displayed\u001b[39;00m\n\u001b[1;32m   2483\u001b[0m \u001b[38;5;66;03m# when using magics with decorator @output_can_be_silenced\u001b[39;00m\n\u001b[1;32m   2484\u001b[0m \u001b[38;5;66;03m# when the last Python token in the expression is a ';'.\u001b[39;00m\n\u001b[1;32m   2485\u001b[0m \u001b[38;5;28;01mif\u001b[39;00m \u001b[38;5;28mgetattr\u001b[39m(fn, magic\u001b[38;5;241m.\u001b[39mMAGIC_OUTPUT_CAN_BE_SILENCED, \u001b[38;5;28;01mFalse\u001b[39;00m):\n",
      "File \u001b[0;32m/apps/share64/debian10/anaconda/anaconda-7/envs/AIIDA/lib/python3.10/site-packages/aiida/tools/ipython/ipython_magics.py:115\u001b[0m, in \u001b[0;36mAiiDALoaderMagics.verdi\u001b[0;34m(self, line, local_ns)\u001b[0m\n\u001b[1;32m    112\u001b[0m \u001b[38;5;28;01mif\u001b[39;00m command \u001b[38;5;129;01mis\u001b[39;00m \u001b[38;5;28;01mNone\u001b[39;00m:\n\u001b[1;32m    113\u001b[0m     \u001b[38;5;28;01mraise\u001b[39;00m \u001b[38;5;167;01mRuntimeError\u001b[39;00m(\u001b[38;5;124mf\u001b[39m\u001b[38;5;124m'\u001b[39m\u001b[38;5;124mcommand `\u001b[39m\u001b[38;5;132;01m{\u001b[39;00mcommand_name\u001b[38;5;132;01m}\u001b[39;00m\u001b[38;5;124m` not found.\u001b[39m\u001b[38;5;124m'\u001b[39m)\n\u001b[0;32m--> 115\u001b[0m \u001b[38;5;28;01mreturn\u001b[39;00m \u001b[43mcommand\u001b[49m\u001b[43m(\u001b[49m\n\u001b[1;32m    116\u001b[0m \u001b[43m    \u001b[49m\u001b[43mcmdline_arguments\u001b[49m\u001b[43m[\u001b[49m\u001b[38;5;241;43m1\u001b[39;49m\u001b[43m:\u001b[49m\u001b[43m]\u001b[49m\u001b[43m,\u001b[49m\n\u001b[1;32m    117\u001b[0m \u001b[43m    \u001b[49m\u001b[43mprog_name\u001b[49m\u001b[38;5;241;43m=\u001b[39;49m\u001b[38;5;124;43m'\u001b[39;49m\u001b[38;5;124;43m%\u001b[39;49m\u001b[38;5;124;43mverdi\u001b[39;49m\u001b[38;5;124;43m'\u001b[39;49m\u001b[43m,\u001b[49m\n\u001b[1;32m    118\u001b[0m \u001b[43m    \u001b[49m\u001b[43mobj\u001b[49m\u001b[38;5;241;43m=\u001b[39;49m\u001b[43mAttributeDict\u001b[49m\u001b[43m(\u001b[49m\u001b[43m{\u001b[49m\u001b[38;5;124;43m'\u001b[39;49m\u001b[38;5;124;43mconfig\u001b[39;49m\u001b[38;5;124;43m'\u001b[39;49m\u001b[43m:\u001b[49m\u001b[43m \u001b[49m\u001b[43mconfig\u001b[49m\u001b[43m,\u001b[49m\u001b[43m \u001b[49m\u001b[38;5;124;43m'\u001b[39;49m\u001b[38;5;124;43mprofile\u001b[39;49m\u001b[38;5;124;43m'\u001b[39;49m\u001b[43m:\u001b[49m\u001b[43m \u001b[49m\u001b[43mprofile\u001b[49m\u001b[43m}\u001b[49m\u001b[43m)\u001b[49m\u001b[43m,\u001b[49m\n\u001b[1;32m    119\u001b[0m \u001b[43m    \u001b[49m\u001b[43mstandalone_mode\u001b[49m\u001b[38;5;241;43m=\u001b[39;49m\u001b[38;5;28;43;01mFalse\u001b[39;49;00m\u001b[43m,\u001b[49m\n\u001b[1;32m    120\u001b[0m \u001b[43m\u001b[49m\u001b[43m)\u001b[49m\n",
      "File \u001b[0;32m/apps/share64/debian10/anaconda/anaconda-7/envs/AIIDA/lib/python3.10/site-packages/click/core.py:1157\u001b[0m, in \u001b[0;36mBaseCommand.__call__\u001b[0;34m(self, *args, **kwargs)\u001b[0m\n\u001b[1;32m   1155\u001b[0m \u001b[38;5;28;01mdef\u001b[39;00m \u001b[38;5;21m__call__\u001b[39m(\u001b[38;5;28mself\u001b[39m, \u001b[38;5;241m*\u001b[39margs: t\u001b[38;5;241m.\u001b[39mAny, \u001b[38;5;241m*\u001b[39m\u001b[38;5;241m*\u001b[39mkwargs: t\u001b[38;5;241m.\u001b[39mAny) \u001b[38;5;241m-\u001b[39m\u001b[38;5;241m>\u001b[39m t\u001b[38;5;241m.\u001b[39mAny:\n\u001b[1;32m   1156\u001b[0m \u001b[38;5;250m    \u001b[39m\u001b[38;5;124;03m\"\"\"Alias for :meth:`main`.\"\"\"\u001b[39;00m\n\u001b[0;32m-> 1157\u001b[0m     \u001b[38;5;28;01mreturn\u001b[39;00m \u001b[38;5;28;43mself\u001b[39;49m\u001b[38;5;241;43m.\u001b[39;49m\u001b[43mmain\u001b[49m\u001b[43m(\u001b[49m\u001b[38;5;241;43m*\u001b[39;49m\u001b[43margs\u001b[49m\u001b[43m,\u001b[49m\u001b[43m \u001b[49m\u001b[38;5;241;43m*\u001b[39;49m\u001b[38;5;241;43m*\u001b[39;49m\u001b[43mkwargs\u001b[49m\u001b[43m)\u001b[49m\n",
      "File \u001b[0;32m/apps/share64/debian10/anaconda/anaconda-7/envs/AIIDA/lib/python3.10/site-packages/click/core.py:1078\u001b[0m, in \u001b[0;36mBaseCommand.main\u001b[0;34m(self, args, prog_name, complete_var, standalone_mode, windows_expand_args, **extra)\u001b[0m\n\u001b[1;32m   1076\u001b[0m \u001b[38;5;28;01mtry\u001b[39;00m:\n\u001b[1;32m   1077\u001b[0m     \u001b[38;5;28;01mwith\u001b[39;00m \u001b[38;5;28mself\u001b[39m\u001b[38;5;241m.\u001b[39mmake_context(prog_name, args, \u001b[38;5;241m*\u001b[39m\u001b[38;5;241m*\u001b[39mextra) \u001b[38;5;28;01mas\u001b[39;00m ctx:\n\u001b[0;32m-> 1078\u001b[0m         rv \u001b[38;5;241m=\u001b[39m \u001b[38;5;28;43mself\u001b[39;49m\u001b[38;5;241;43m.\u001b[39;49m\u001b[43minvoke\u001b[49m\u001b[43m(\u001b[49m\u001b[43mctx\u001b[49m\u001b[43m)\u001b[49m\n\u001b[1;32m   1079\u001b[0m         \u001b[38;5;28;01mif\u001b[39;00m \u001b[38;5;129;01mnot\u001b[39;00m standalone_mode:\n\u001b[1;32m   1080\u001b[0m             \u001b[38;5;28;01mreturn\u001b[39;00m rv\n",
      "File \u001b[0;32m/apps/share64/debian10/anaconda/anaconda-7/envs/AIIDA/lib/python3.10/site-packages/click/core.py:1688\u001b[0m, in \u001b[0;36mMultiCommand.invoke\u001b[0;34m(self, ctx)\u001b[0m\n\u001b[1;32m   1686\u001b[0m         sub_ctx \u001b[38;5;241m=\u001b[39m cmd\u001b[38;5;241m.\u001b[39mmake_context(cmd_name, args, parent\u001b[38;5;241m=\u001b[39mctx)\n\u001b[1;32m   1687\u001b[0m         \u001b[38;5;28;01mwith\u001b[39;00m sub_ctx:\n\u001b[0;32m-> 1688\u001b[0m             \u001b[38;5;28;01mreturn\u001b[39;00m _process_result(\u001b[43msub_ctx\u001b[49m\u001b[38;5;241;43m.\u001b[39;49m\u001b[43mcommand\u001b[49m\u001b[38;5;241;43m.\u001b[39;49m\u001b[43minvoke\u001b[49m\u001b[43m(\u001b[49m\u001b[43msub_ctx\u001b[49m\u001b[43m)\u001b[49m)\n\u001b[1;32m   1690\u001b[0m \u001b[38;5;66;03m# In chain mode we create the contexts step by step, but after the\u001b[39;00m\n\u001b[1;32m   1691\u001b[0m \u001b[38;5;66;03m# base command has been invoked.  Because at that point we do not\u001b[39;00m\n\u001b[1;32m   1692\u001b[0m \u001b[38;5;66;03m# know the subcommands yet, the invoked subcommand attribute is\u001b[39;00m\n\u001b[1;32m   1693\u001b[0m \u001b[38;5;66;03m# set to ``*`` to inform the command that subcommands are executed\u001b[39;00m\n\u001b[1;32m   1694\u001b[0m \u001b[38;5;66;03m# but nothing else.\u001b[39;00m\n\u001b[1;32m   1695\u001b[0m \u001b[38;5;28;01mwith\u001b[39;00m ctx:\n",
      "File \u001b[0;32m/apps/share64/debian10/anaconda/anaconda-7/envs/AIIDA/lib/python3.10/site-packages/aiida/cmdline/groups/verdi.py:117\u001b[0m, in \u001b[0;36mVerdiCommand.invoke\u001b[0;34m(self, ctx)\u001b[0m\n\u001b[1;32m    115\u001b[0m \u001b[38;5;28;01mdef\u001b[39;00m \u001b[38;5;21minvoke\u001b[39m(\u001b[38;5;28mself\u001b[39m, ctx: click\u001b[38;5;241m.\u001b[39mContext) \u001b[38;5;241m-\u001b[39m\u001b[38;5;241m>\u001b[39m t\u001b[38;5;241m.\u001b[39mAny:\n\u001b[1;32m    116\u001b[0m     \u001b[38;5;28;01mif\u001b[39;00m \u001b[38;5;28mself\u001b[39m\u001b[38;5;241m.\u001b[39mcallback \u001b[38;5;129;01mis\u001b[39;00m \u001b[38;5;129;01mnot\u001b[39;00m \u001b[38;5;28;01mNone\u001b[39;00m:\n\u001b[0;32m--> 117\u001b[0m         \u001b[38;5;28;01mreturn\u001b[39;00m \u001b[43mctx\u001b[49m\u001b[38;5;241;43m.\u001b[39;49m\u001b[43minvoke\u001b[49m\u001b[43m(\u001b[49m\u001b[38;5;28;43mself\u001b[39;49m\u001b[38;5;241;43m.\u001b[39;49m\u001b[43mcallback\u001b[49m\u001b[43m,\u001b[49m\u001b[43m \u001b[49m\u001b[38;5;241;43m*\u001b[39;49m\u001b[38;5;241;43m*\u001b[39;49m\u001b[43mctx\u001b[49m\u001b[38;5;241;43m.\u001b[39;49m\u001b[43mparams\u001b[49m\u001b[43m)\u001b[49m\n",
      "File \u001b[0;32m/apps/share64/debian10/anaconda/anaconda-7/envs/AIIDA/lib/python3.10/site-packages/click/core.py:783\u001b[0m, in \u001b[0;36mContext.invoke\u001b[0;34m(_Context__self, _Context__callback, *args, **kwargs)\u001b[0m\n\u001b[1;32m    781\u001b[0m \u001b[38;5;28;01mwith\u001b[39;00m augment_usage_errors(__self):\n\u001b[1;32m    782\u001b[0m     \u001b[38;5;28;01mwith\u001b[39;00m ctx:\n\u001b[0;32m--> 783\u001b[0m         \u001b[38;5;28;01mreturn\u001b[39;00m \u001b[43m__callback\u001b[49m\u001b[43m(\u001b[49m\u001b[38;5;241;43m*\u001b[39;49m\u001b[43margs\u001b[49m\u001b[43m,\u001b[49m\u001b[43m \u001b[49m\u001b[38;5;241;43m*\u001b[39;49m\u001b[38;5;241;43m*\u001b[39;49m\u001b[43mkwargs\u001b[49m\u001b[43m)\u001b[49m\n",
      "File \u001b[0;32m/apps/share64/debian10/anaconda/anaconda-7/envs/AIIDA/lib/python3.10/site-packages/aiida/cmdline/utils/decorators.py:102\u001b[0m, in \u001b[0;36mwith_dbenv.<locals>.wrapper\u001b[0;34m(wrapped, _, args, kwargs)\u001b[0m\n\u001b[1;32m     99\u001b[0m \u001b[38;5;28;01mexcept\u001b[39;00m (IntegrityError, ConfigurationError, LockedProfileError) \u001b[38;5;28;01mas\u001b[39;00m exception:\n\u001b[1;32m    100\u001b[0m     echo\u001b[38;5;241m.\u001b[39mecho_critical(\u001b[38;5;28mstr\u001b[39m(exception))\n\u001b[0;32m--> 102\u001b[0m \u001b[38;5;28;01mreturn\u001b[39;00m \u001b[43mwrapped\u001b[49m\u001b[43m(\u001b[49m\u001b[38;5;241;43m*\u001b[39;49m\u001b[43margs\u001b[49m\u001b[43m,\u001b[49m\u001b[43m \u001b[49m\u001b[38;5;241;43m*\u001b[39;49m\u001b[38;5;241;43m*\u001b[39;49m\u001b[43mkwargs\u001b[49m\u001b[43m)\u001b[49m\n",
      "File \u001b[0;32m/apps/share64/debian10/anaconda/anaconda-7/envs/AIIDA/lib/python3.10/site-packages/aiida/cmdline/commands/cmd_calcjob.py:188\u001b[0m, in \u001b[0;36mcalcjob_outputcat\u001b[0;34m(calcjob, path)\u001b[0m\n\u001b[1;32m    185\u001b[0m \u001b[38;5;28;01mtry\u001b[39;00m:\n\u001b[1;32m    186\u001b[0m     \u001b[38;5;66;03m# When we `cat`, it makes sense to directly send the output to stdout as it is\u001b[39;00m\n\u001b[1;32m    187\u001b[0m     \u001b[38;5;28;01mwith\u001b[39;00m retrieved\u001b[38;5;241m.\u001b[39mbase\u001b[38;5;241m.\u001b[39mrepository\u001b[38;5;241m.\u001b[39mopen(path, mode\u001b[38;5;241m=\u001b[39m\u001b[38;5;124m'\u001b[39m\u001b[38;5;124mrb\u001b[39m\u001b[38;5;124m'\u001b[39m) \u001b[38;5;28;01mas\u001b[39;00m fhandle:\n\u001b[0;32m--> 188\u001b[0m         copyfileobj(fhandle, \u001b[43msys\u001b[49m\u001b[38;5;241;43m.\u001b[39;49m\u001b[43mstdout\u001b[49m\u001b[38;5;241;43m.\u001b[39;49m\u001b[43mbuffer\u001b[49m)\n\u001b[1;32m    189\u001b[0m \u001b[38;5;28;01mexcept\u001b[39;00m \u001b[38;5;167;01mOSError\u001b[39;00m \u001b[38;5;28;01mas\u001b[39;00m exception:\n\u001b[1;32m    190\u001b[0m     \u001b[38;5;66;03m# The sepcial case is breakon pipe error, which is usually OK.\u001b[39;00m\n\u001b[1;32m    191\u001b[0m     \u001b[38;5;66;03m# It can happen if the output is redirected, for example, to `head`.\u001b[39;00m\n\u001b[1;32m    192\u001b[0m     \u001b[38;5;28;01mif\u001b[39;00m exception\u001b[38;5;241m.\u001b[39merrno \u001b[38;5;241m!=\u001b[39m errno\u001b[38;5;241m.\u001b[39mEPIPE:\n\u001b[1;32m    193\u001b[0m         \u001b[38;5;66;03m# Incorrect path or file not readable\u001b[39;00m\n",
      "\u001b[0;31mAttributeError\u001b[0m: 'OutStream' object has no attribute 'buffer'"
     ]
    }
   ],
   "source": [
    "%verdi calcjob outputcat 253"
   ]
  },
  {
   "cell_type": "code",
   "execution_count": 61,
   "id": "6ba71863",
   "metadata": {
    "ExecuteTime": {
     "end_time": "2024-08-06T08:37:07.291739Z",
     "start_time": "2024-08-06T08:37:07.192809Z"
    }
   },
   "outputs": [
    {
     "ename": "FileNotFoundError",
     "evalue": "object with path `aiida.in` does not exist.",
     "output_type": "error",
     "traceback": [
      "\u001b[0;31m---------------------------------------------------------------------------\u001b[0m",
      "\u001b[0;31mFileNotFoundError\u001b[0m                         Traceback (most recent call last)",
      "Cell \u001b[0;32mIn[61], line 4\u001b[0m\n\u001b[1;32m      2\u001b[0m retrieved \u001b[38;5;241m=\u001b[39m calcjob\u001b[38;5;241m.\u001b[39moutputs\u001b[38;5;241m.\u001b[39mretrieved\n\u001b[1;32m      3\u001b[0m path \u001b[38;5;241m=\u001b[39m calcjob\u001b[38;5;241m.\u001b[39mget_option(\u001b[38;5;124m'\u001b[39m\u001b[38;5;124minput_filename\u001b[39m\u001b[38;5;124m'\u001b[39m)\n\u001b[0;32m----> 4\u001b[0m \u001b[38;5;28;01mwith\u001b[39;00m retrieved\u001b[38;5;241m.\u001b[39mbase\u001b[38;5;241m.\u001b[39mrepository\u001b[38;5;241m.\u001b[39mopen(path, mode\u001b[38;5;241m=\u001b[39m\u001b[38;5;124m'\u001b[39m\u001b[38;5;124mrb\u001b[39m\u001b[38;5;124m'\u001b[39m) \u001b[38;5;28;01mas\u001b[39;00m fhandle:\n\u001b[1;32m      5\u001b[0m     file_contents \u001b[38;5;241m=\u001b[39m fhandle\u001b[38;5;241m.\u001b[39mread()\n\u001b[1;32m      6\u001b[0m \u001b[38;5;28mprint\u001b[39m(file_contents\u001b[38;5;241m.\u001b[39mdecode(\u001b[38;5;124m'\u001b[39m\u001b[38;5;124mutf-8\u001b[39m\u001b[38;5;124m'\u001b[39m))\n",
      "File \u001b[0;32m/apps/share64/debian10/anaconda/anaconda-7/envs/AIIDA/lib/python3.10/contextlib.py:135\u001b[0m, in \u001b[0;36m_GeneratorContextManager.__enter__\u001b[0;34m(self)\u001b[0m\n\u001b[1;32m    133\u001b[0m \u001b[38;5;28;01mdel\u001b[39;00m \u001b[38;5;28mself\u001b[39m\u001b[38;5;241m.\u001b[39margs, \u001b[38;5;28mself\u001b[39m\u001b[38;5;241m.\u001b[39mkwds, \u001b[38;5;28mself\u001b[39m\u001b[38;5;241m.\u001b[39mfunc\n\u001b[1;32m    134\u001b[0m \u001b[38;5;28;01mtry\u001b[39;00m:\n\u001b[0;32m--> 135\u001b[0m     \u001b[38;5;28;01mreturn\u001b[39;00m \u001b[38;5;28;43mnext\u001b[39;49m\u001b[43m(\u001b[49m\u001b[38;5;28;43mself\u001b[39;49m\u001b[38;5;241;43m.\u001b[39;49m\u001b[43mgen\u001b[49m\u001b[43m)\u001b[49m\n\u001b[1;32m    136\u001b[0m \u001b[38;5;28;01mexcept\u001b[39;00m \u001b[38;5;167;01mStopIteration\u001b[39;00m:\n\u001b[1;32m    137\u001b[0m     \u001b[38;5;28;01mraise\u001b[39;00m \u001b[38;5;167;01mRuntimeError\u001b[39;00m(\u001b[38;5;124m\"\u001b[39m\u001b[38;5;124mgenerator didn\u001b[39m\u001b[38;5;124m'\u001b[39m\u001b[38;5;124mt yield\u001b[39m\u001b[38;5;124m\"\u001b[39m) \u001b[38;5;28;01mfrom\u001b[39;00m \u001b[38;5;28;01mNone\u001b[39;00m\n",
      "File \u001b[0;32m/apps/share64/debian10/anaconda/anaconda-7/envs/AIIDA/lib/python3.10/site-packages/aiida/orm/nodes/repository.py:198\u001b[0m, in \u001b[0;36mNodeRepository.open\u001b[0;34m(self, path, mode)\u001b[0m\n\u001b[1;32m    195\u001b[0m \u001b[38;5;28;01mif\u001b[39;00m mode \u001b[38;5;129;01mnot\u001b[39;00m \u001b[38;5;129;01min\u001b[39;00m [\u001b[38;5;124m'\u001b[39m\u001b[38;5;124mr\u001b[39m\u001b[38;5;124m'\u001b[39m, \u001b[38;5;124m'\u001b[39m\u001b[38;5;124mrb\u001b[39m\u001b[38;5;124m'\u001b[39m]:\n\u001b[1;32m    196\u001b[0m     \u001b[38;5;28;01mraise\u001b[39;00m \u001b[38;5;167;01mValueError\u001b[39;00m(\u001b[38;5;124mf\u001b[39m\u001b[38;5;124m'\u001b[39m\u001b[38;5;124mthe mode \u001b[39m\u001b[38;5;132;01m{\u001b[39;00mmode\u001b[38;5;132;01m}\u001b[39;00m\u001b[38;5;124m is not supported.\u001b[39m\u001b[38;5;124m'\u001b[39m)\n\u001b[0;32m--> 198\u001b[0m \u001b[38;5;28;01mwith\u001b[39;00m \u001b[38;5;28mself\u001b[39m\u001b[38;5;241m.\u001b[39m_repository\u001b[38;5;241m.\u001b[39mopen(path) \u001b[38;5;28;01mas\u001b[39;00m handle:\n\u001b[1;32m    199\u001b[0m     \u001b[38;5;28;01mif\u001b[39;00m \u001b[38;5;124m'\u001b[39m\u001b[38;5;124mb\u001b[39m\u001b[38;5;124m'\u001b[39m \u001b[38;5;129;01mnot\u001b[39;00m \u001b[38;5;129;01min\u001b[39;00m mode:\n\u001b[1;32m    200\u001b[0m         \u001b[38;5;28;01myield\u001b[39;00m io\u001b[38;5;241m.\u001b[39mStringIO(handle\u001b[38;5;241m.\u001b[39mread()\u001b[38;5;241m.\u001b[39mdecode(\u001b[38;5;124m'\u001b[39m\u001b[38;5;124mutf-8\u001b[39m\u001b[38;5;124m'\u001b[39m))\n",
      "File \u001b[0;32m/apps/share64/debian10/anaconda/anaconda-7/envs/AIIDA/lib/python3.10/contextlib.py:135\u001b[0m, in \u001b[0;36m_GeneratorContextManager.__enter__\u001b[0;34m(self)\u001b[0m\n\u001b[1;32m    133\u001b[0m \u001b[38;5;28;01mdel\u001b[39;00m \u001b[38;5;28mself\u001b[39m\u001b[38;5;241m.\u001b[39margs, \u001b[38;5;28mself\u001b[39m\u001b[38;5;241m.\u001b[39mkwds, \u001b[38;5;28mself\u001b[39m\u001b[38;5;241m.\u001b[39mfunc\n\u001b[1;32m    134\u001b[0m \u001b[38;5;28;01mtry\u001b[39;00m:\n\u001b[0;32m--> 135\u001b[0m     \u001b[38;5;28;01mreturn\u001b[39;00m \u001b[38;5;28;43mnext\u001b[39;49m\u001b[43m(\u001b[49m\u001b[38;5;28;43mself\u001b[39;49m\u001b[38;5;241;43m.\u001b[39;49m\u001b[43mgen\u001b[49m\u001b[43m)\u001b[49m\n\u001b[1;32m    136\u001b[0m \u001b[38;5;28;01mexcept\u001b[39;00m \u001b[38;5;167;01mStopIteration\u001b[39;00m:\n\u001b[1;32m    137\u001b[0m     \u001b[38;5;28;01mraise\u001b[39;00m \u001b[38;5;167;01mRuntimeError\u001b[39;00m(\u001b[38;5;124m\"\u001b[39m\u001b[38;5;124mgenerator didn\u001b[39m\u001b[38;5;124m'\u001b[39m\u001b[38;5;124mt yield\u001b[39m\u001b[38;5;124m\"\u001b[39m) \u001b[38;5;28;01mfrom\u001b[39;00m \u001b[38;5;28;01mNone\u001b[39;00m\n",
      "File \u001b[0;32m/apps/share64/debian10/anaconda/anaconda-7/envs/AIIDA/lib/python3.10/site-packages/aiida/repository/repository.py:392\u001b[0m, in \u001b[0;36mRepository.open\u001b[0;34m(self, path)\u001b[0m\n\u001b[1;32m    378\u001b[0m \u001b[38;5;129m@contextlib\u001b[39m\u001b[38;5;241m.\u001b[39mcontextmanager\n\u001b[1;32m    379\u001b[0m \u001b[38;5;28;01mdef\u001b[39;00m \u001b[38;5;21mopen\u001b[39m(\u001b[38;5;28mself\u001b[39m, path: FilePath) \u001b[38;5;241m-\u001b[39m\u001b[38;5;241m>\u001b[39m Iterator[BinaryIO]:\n\u001b[1;32m    380\u001b[0m \u001b[38;5;250m    \u001b[39m\u001b[38;5;124;03m\"\"\"Open a file handle to an object stored under the given path.\u001b[39;00m\n\u001b[1;32m    381\u001b[0m \n\u001b[1;32m    382\u001b[0m \u001b[38;5;124;03m    .. note:: this should only be used to open a handle to read an existing file. To write a new file use the method\u001b[39;00m\n\u001b[0;32m   (...)\u001b[0m\n\u001b[1;32m    390\u001b[0m \u001b[38;5;124;03m    :raises OSError: if the file could not be opened.\u001b[39;00m\n\u001b[1;32m    391\u001b[0m \u001b[38;5;124;03m    \"\"\"\u001b[39;00m\n\u001b[0;32m--> 392\u001b[0m     key \u001b[38;5;241m=\u001b[39m \u001b[38;5;28;43mself\u001b[39;49m\u001b[38;5;241;43m.\u001b[39;49m\u001b[43mget_file\u001b[49m\u001b[43m(\u001b[49m\u001b[43mpath\u001b[49m\u001b[43m)\u001b[49m\u001b[38;5;241m.\u001b[39mkey\n\u001b[1;32m    393\u001b[0m     \u001b[38;5;28;01massert\u001b[39;00m key \u001b[38;5;129;01mis\u001b[39;00m \u001b[38;5;129;01mnot\u001b[39;00m \u001b[38;5;28;01mNone\u001b[39;00m, \u001b[38;5;124m'\u001b[39m\u001b[38;5;124mExpected FileType.File to have a key\u001b[39m\u001b[38;5;124m'\u001b[39m\n\u001b[1;32m    394\u001b[0m     \u001b[38;5;28;01mwith\u001b[39;00m \u001b[38;5;28mself\u001b[39m\u001b[38;5;241m.\u001b[39mbackend\u001b[38;5;241m.\u001b[39mopen(key) \u001b[38;5;28;01mas\u001b[39;00m handle:\n",
      "File \u001b[0;32m/apps/share64/debian10/anaconda/anaconda-7/envs/AIIDA/lib/python3.10/site-packages/aiida/repository/repository.py:273\u001b[0m, in \u001b[0;36mRepository.get_file\u001b[0;34m(self, path)\u001b[0m\n\u001b[1;32m    269\u001b[0m     \u001b[38;5;28;01mraise\u001b[39;00m \u001b[38;5;167;01mTypeError\u001b[39;00m(\u001b[38;5;124m'\u001b[39m\u001b[38;5;124mpath cannot be `None`.\u001b[39m\u001b[38;5;124m'\u001b[39m)\n\u001b[1;32m    271\u001b[0m path \u001b[38;5;241m=\u001b[39m \u001b[38;5;28mself\u001b[39m\u001b[38;5;241m.\u001b[39m_pre_process_path(path)\n\u001b[0;32m--> 273\u001b[0m file_object \u001b[38;5;241m=\u001b[39m \u001b[38;5;28;43mself\u001b[39;49m\u001b[38;5;241;43m.\u001b[39;49m\u001b[43mget_object\u001b[49m\u001b[43m(\u001b[49m\u001b[43mpath\u001b[49m\u001b[43m)\u001b[49m\n\u001b[1;32m    275\u001b[0m \u001b[38;5;28;01mif\u001b[39;00m file_object\u001b[38;5;241m.\u001b[39mfile_type \u001b[38;5;241m!=\u001b[39m FileType\u001b[38;5;241m.\u001b[39mFILE:\n\u001b[1;32m    276\u001b[0m     \u001b[38;5;28;01mraise\u001b[39;00m \u001b[38;5;167;01mIsADirectoryError\u001b[39;00m(\u001b[38;5;124mf\u001b[39m\u001b[38;5;124m'\u001b[39m\u001b[38;5;124mobject with path `\u001b[39m\u001b[38;5;132;01m{\u001b[39;00mpath\u001b[38;5;132;01m}\u001b[39;00m\u001b[38;5;124m` is not a file.\u001b[39m\u001b[38;5;124m'\u001b[39m)\n",
      "File \u001b[0;32m/apps/share64/debian10/anaconda/anaconda-7/envs/AIIDA/lib/python3.10/site-packages/aiida/repository/repository.py:237\u001b[0m, in \u001b[0;36mRepository.get_object\u001b[0;34m(self, path)\u001b[0m\n\u001b[1;32m    235\u001b[0m \u001b[38;5;28;01mfor\u001b[39;00m part \u001b[38;5;129;01min\u001b[39;00m path\u001b[38;5;241m.\u001b[39mparts:\n\u001b[1;32m    236\u001b[0m     \u001b[38;5;28;01mif\u001b[39;00m part \u001b[38;5;129;01mnot\u001b[39;00m \u001b[38;5;129;01min\u001b[39;00m file_object\u001b[38;5;241m.\u001b[39mobjects:\n\u001b[0;32m--> 237\u001b[0m         \u001b[38;5;28;01mraise\u001b[39;00m \u001b[38;5;167;01mFileNotFoundError\u001b[39;00m(\u001b[38;5;124mf\u001b[39m\u001b[38;5;124m'\u001b[39m\u001b[38;5;124mobject with path `\u001b[39m\u001b[38;5;132;01m{\u001b[39;00mpath\u001b[38;5;132;01m}\u001b[39;00m\u001b[38;5;124m` does not exist.\u001b[39m\u001b[38;5;124m'\u001b[39m)\n\u001b[1;32m    239\u001b[0m     file_object \u001b[38;5;241m=\u001b[39m file_object\u001b[38;5;241m.\u001b[39mobjects[part]\n\u001b[1;32m    241\u001b[0m \u001b[38;5;28;01mreturn\u001b[39;00m file_object\n",
      "\u001b[0;31mFileNotFoundError\u001b[0m: object with path `aiida.in` does not exist."
     ]
    }
   ],
   "source": [
    "calcjob = orm.load_node(253)\n",
    "retrieved = calcjob.outputs.retrieved\n",
    "path = calcjob.get_option('input_filename')\n",
    "with retrieved.base.repository.open(path, mode='rb') as fhandle:\n",
    "    file_contents = fhandle.read()\n",
    "print(file_contents.decode('utf-8'))"
   ]
  },
  {
   "cell_type": "code",
   "execution_count": 63,
   "id": "a2a5880b",
   "metadata": {
    "ExecuteTime": {
     "end_time": "2024-08-06T08:38:02.883693Z",
     "start_time": "2024-08-06T08:38:02.551387Z"
    }
   },
   "outputs": [
    {
     "data": {
      "text/plain": [
       "[<matplotlib.lines.Line2D at 0x7f715756fac0>]"
      ]
     },
     "execution_count": 63,
     "metadata": {},
     "output_type": "execute_result"
    },
    {
     "data": {
      "image/png": "[encoded data removed]",
      "text/plain": [
       "<Figure size 640x480 with 1 Axes>"
      ]
     },
     "metadata": {},
     "output_type": "display_data"
    }
   ],
   "source": [
    "from matplotlib import pyplot as plt\n",
    "\n",
    "eos_dict = results['eos_dict'].get_dict()\n",
    "\n",
    "plt.plot(\n",
    "    [e[0] for e in eos_dict.values()],\n",
    "    [v[1] for v in eos_dict.values()],\n",
    ")"
   ]
  }
 ],
 "metadata": {
  "kernelspec": {
   "display_name": "Python3.10 (AIIDA)",
   "language": "python",
   "name": "aiida"
  },
  "language_info": {
   "codemirror_mode": {
    "name": "ipython",
    "version": 3
   },
   "file_extension": ".py",
   "mimetype": "text/x-python",
   "name": "python",
   "nbconvert_exporter": "python",
   "pygments_lexer": "ipython3",
   "version": "3.10.6"
  },
  "toc": {
   "base_numbering": 1,
   "nav_menu": {},
   "number_sections": true,
   "sideBar": true,
   "skip_h1_title": false,
   "title_cell": "Table of Contents",
   "title_sidebar": "Contents",
   "toc_cell": false,
   "toc_position": {},
   "toc_section_display": true,
   "toc_window_display": false
  },
  "varInspector": {
   "cols": {
    "lenName": 16,
    "lenType": 16,
    "lenVar": 40
   },
   "kernels_config": {
    "python": {
     "delete_cmd_postfix": "",
     "delete_cmd_prefix": "del ",
     "library": "var_list.py",
     "varRefreshCmd": "print(var_dic_list())"
    },
    "r": {
     "delete_cmd_postfix": ") ",
     "delete_cmd_prefix": "rm(",
     "library": "var_list.r",
     "varRefreshCmd": "cat(var_dic_list()) "
    }
   },
   "types_to_exclude": [
    "module",
    "function",
    "builtin_function_or_method",
    "instance",
    "_Feature"
   ],
   "window_display": false
  }
 },
 "nbformat": 4,
 "nbformat_minor": 5
}
