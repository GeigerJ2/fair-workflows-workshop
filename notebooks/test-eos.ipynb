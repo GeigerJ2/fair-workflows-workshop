{
 "cells": [
  {
   "cell_type": "code",
   "execution_count": null,
   "id": "0",
   "metadata": {},
   "outputs": [],
   "source": [
    "!/apps/share64/debian10/anaconda/anaconda-7/envs/AIIDA/bin/verdi presto --profile-name fair-workflows"
   ]
  },
  {
   "cell_type": "code",
   "execution_count": null,
   "id": "1",
   "metadata": {},
   "outputs": [],
   "source": [
    "!verdi status # This points to system, one would either have to define an alias or add it to PATH"
   ]
  },
  {
   "cell_type": "code",
   "execution_count": null,
   "id": "2",
   "metadata": {},
   "outputs": [],
   "source": [
    "%load_ext aiida\n",
    "%aiida"
   ]
  },
  {
   "cell_type": "code",
   "execution_count": null,
   "id": "3",
   "metadata": {},
   "outputs": [],
   "source": [
    "%verdi status"
   ]
  },
  {
   "cell_type": "code",
   "execution_count": null,
   "id": "4",
   "metadata": {},
   "outputs": [],
   "source": [
    "%verdi storage info"
   ]
  },
  {
   "cell_type": "code",
   "execution_count": null,
   "id": "5",
   "metadata": {},
   "outputs": [],
   "source": [
    "!/apps/share64/debian10/anaconda/anaconda-7/envs/AIIDA/bin/aiida-pseudo install sssp -x PBE -p efficiency\n",
    "!/apps/share64/debian10/anaconda/anaconda-7/envs/AIIDA/bin/aiida-pseudo install sssp -x PBEsol -p efficiency"
   ]
  },
  {
   "cell_type": "code",
   "execution_count": null,
   "id": "6",
   "metadata": {},
   "outputs": [],
   "source": [
    "%verdi storage info"
   ]
  },
  {
   "cell_type": "code",
   "execution_count": null,
   "id": "7",
   "metadata": {},
   "outputs": [],
   "source": [
    "from aiida import engine, orm\n",
    "from aiida_quantumespresso.calculations.pw import PwCalculation\n",
    "from ase.build import bulk"
   ]
  },
  {
   "cell_type": "code",
   "execution_count": null,
   "id": "8",
   "metadata": {},
   "outputs": [],
   "source": [
    "# %verdi code delete 'qe-7.1-pw' --force"
   ]
  },
  {
   "cell_type": "code",
   "execution_count": null,
   "id": "9",
   "metadata": {},
   "outputs": [],
   "source": [
    "qe_code = orm.InstalledCode(\n",
    "    append_text='',\n",
    "    computer=orm.load_computer('localhost'),\n",
    "    default_calc_job_plugin='quantumespresso.pw',\n",
    "    description='',\n",
    "    filepath_executable='/apps/share64/debian10/espresso/espresso-7.1/bin/pw.x',\n",
    "    label='qe-7.1-pw',\n",
    "    prepend_text='export OMP_NUM_THREADS=1',\n",
    "    use_double_quotes=False,\n",
    "    with_mpi= False\n",
    ").store()"
   ]
  },
  {
   "cell_type": "code",
   "execution_count": null,
   "id": "10",
   "metadata": {},
   "outputs": [],
   "source": [
    "%verdi code list\n",
    "%verdi code test 'qe-7.1-pw'"
   ]
  },
  {
   "cell_type": "code",
   "execution_count": null,
   "id": "11",
   "metadata": {},
   "outputs": [],
   "source": [
    "scf_inputs = {\n",
    "    'CONTROL': {\n",
    "        'calculation': 'scf',\n",
    "        # 'pseudo_dir': Path('files').absolute().as_posix(),\n",
    "    },\n",
    "    'SYSTEM': {\n",
    "        'occupations': 'smearing',\n",
    "        'smearing': 'cold',\n",
    "        'degauss': 0.02\n",
    "    }\n",
    "}\n",
    "\n",
    "resources = {\n",
    "    'num_machines': 1,\n",
    "    'num_mpiprocs_per_machine': 1,\n",
    "}\n",
    "\n",
    "@engine.calcfunction\n",
    "def rescale_list(structure: orm.StructureData, factor_list: orm.List):\n",
    "\n",
    "    scaled_structure_dict = {}\n",
    "\n",
    "    for index, scaling_factor in enumerate(factor_list.get_list()):\n",
    "\n",
    "        ase_structure = structure.get_ase()\n",
    "\n",
    "        new_cell = ase_structure.get_cell() * scaling_factor\n",
    "        ase_structure.set_cell(new_cell, scale_atoms=True)\n",
    "\n",
    "        scaled_structure_dict[f'structure_{index}'] = orm.StructureData(ase=ase_structure)\n",
    "\n",
    "    return scaled_structure_dict\n",
    "\n",
    "@engine.calcfunction\n",
    "def create_eos_dictionary(**kwargs) -> orm.Dict:\n",
    "    eos = {\n",
    "        label: (result['volume'], result['energy'])\n",
    "        for label, result in kwargs.items()\n",
    "    }\n",
    "    return orm.Dict(eos)\n",
    "\n",
    "class EquationOfStateWorkChain(engine.WorkChain):\n",
    "    \"\"\"WorkChain to compute Equation of State using Quantum ESPRESSO.\"\"\"\n",
    "\n",
    "    @classmethod\n",
    "    def define(cls, spec):\n",
    "        \"\"\"Specify inputs and outputs.\"\"\"\n",
    "        super().define(spec)\n",
    "        spec.input(\"code\", valid_type=orm.Code)\n",
    "        spec.input(\"structure\", valid_type=orm.StructureData)\n",
    "        spec.input(\"scale_factors\", valid_type=orm.List)\n",
    "\n",
    "        spec.outline(\n",
    "            cls.run_eos,\n",
    "            cls.results,\n",
    "        )\n",
    "        spec.output(\"eos_dict\", valid_type=orm.Dict)\n",
    "\n",
    "    def run_eos(self):\n",
    "\n",
    "        calcjob_dict = {}\n",
    "\n",
    "        for label, rescaled_structure in rescale_list(self.inputs.structure, self.inputs.scale_factors).items():\n",
    "\n",
    "            builder = PwCalculation.get_builder()\n",
    "            builder.code = self.inputs.code\n",
    "            builder.structure = rescaled_structure\n",
    "            builder.parameters = orm.Dict(scf_inputs)\n",
    "            pseudo_family = orm.load_group('SSSP/1.3/PBEsol/efficiency')\n",
    "            builder.pseudos = pseudo_family.get_pseudos(structure=rescaled_structure)\n",
    "            kpoints = orm.KpointsData()\n",
    "            kpoints.set_kpoints_mesh([2, 2, 2])\n",
    "            builder.kpoints = kpoints\n",
    "            builder.metadata.options.resources = resources\n",
    "\n",
    "            calcjob_dict[label] = self.submit(builder)\n",
    "\n",
    "        self.ctx.labels = list(calcjob_dict.keys())\n",
    "\n",
    "        return calcjob_dict\n",
    "\n",
    "    def results(self):\n",
    "\n",
    "        self.report(self.ctx)\n",
    "\n",
    "        # label: self.ctx[label].outputs['properties'] for label in self.ctx.labels\n",
    "\n",
    "        eos_results = {}\n",
    "        for label in self.ctx.labels:\n",
    "            energy = self.ctx[label].outputs.output_parameters.get_dict()['energy']\n",
    "            volume = self.ctx[label].outputs.output_parameters.get_dict()['volume']\n",
    "            eos_results[label] = orm.Dict({'energy': orm.Float(energy), 'volume': orm.Float(volume)})\n",
    "        # }\n",
    "        eos_dict = create_eos_dictionary(**eos_results)\n",
    "        self.out('eos_dict', eos_dict)\n"
   ]
  },
  {
   "cell_type": "code",
   "execution_count": null,
   "id": "12",
   "metadata": {},
   "outputs": [],
   "source": [
    "structure = orm.StructureData(ase=bulk('Al', a=4.05, cubic=True))\n",
    "\n",
    "results = engine.run(\n",
    "    EquationOfStateWorkChain,\n",
    "    code=orm.load_code(\"qe-7.1-pw@localhost\"),\n",
    "    structure=structure,\n",
    "    scale_factors=orm.List([0.9, 0.95, 1.0, 1.05, 1.1]),\n",
    ")"
   ]
  },
  {
   "cell_type": "code",
   "execution_count": null,
   "id": "13",
   "metadata": {},
   "outputs": [],
   "source": [
    "%verdi process list -ap 1"
   ]
  },
  {
   "cell_type": "code",
   "execution_count": null,
   "id": "14",
   "metadata": {},
   "outputs": [],
   "source": [
    "%verdi process show 253"
   ]
  },
  {
   "cell_type": "code",
   "execution_count": null,
   "id": "15",
   "metadata": {},
   "outputs": [],
   "source": [
    "%verdi process report 253"
   ]
  },
  {
   "cell_type": "code",
   "execution_count": null,
   "id": "16",
   "metadata": {},
   "outputs": [],
   "source": [
    "%verdi calcjob outputcat 253"
   ]
  },
  {
   "cell_type": "code",
   "execution_count": null,
   "id": "17",
   "metadata": {},
   "outputs": [],
   "source": [
    "calcjob = orm.load_node(253)\n",
    "retrieved = calcjob.outputs.retrieved\n",
    "path = calcjob.get_option('input_filename')\n",
    "with retrieved.base.repository.open(path, mode='rb') as fhandle:\n",
    "    file_contents = fhandle.read()\n",
    "print(file_contents.decode('utf-8'))"
   ]
  },
  {
   "cell_type": "code",
   "execution_count": null,
   "id": "18",
   "metadata": {},
   "outputs": [],
   "source": [
    "from matplotlib import pyplot as plt\n",
    "\n",
    "eos_dict = results['eos_dict'].get_dict()\n",
    "\n",
    "plt.plot(\n",
    "    [e[0] for e in eos_dict.values()],\n",
    "    [v[1] for v in eos_dict.values()],\n",
    ")"
   ]
  }
 ],
 "metadata": {
  "kernelspec": {
   "display_name": "Python3.10 (AIIDA)",
   "language": "python",
   "name": "aiida"
  },
  "language_info": {
   "codemirror_mode": {
    "name": "ipython",
    "version": 3
   },
   "file_extension": ".py",
   "mimetype": "text/x-python",
   "name": "python",
   "nbconvert_exporter": "python",
   "pygments_lexer": "ipython3",
   "version": "3.10.6"
  },
  "toc": {
   "base_numbering": 1,
   "nav_menu": {},
   "number_sections": true,
   "sideBar": true,
   "skip_h1_title": false,
   "title_cell": "Table of Contents",
   "title_sidebar": "Contents",
   "toc_cell": false,
   "toc_position": {},
   "toc_section_display": true,
   "toc_window_display": false
  },
  "varInspector": {
   "cols": {
    "lenName": 16,
    "lenType": 16,
    "lenVar": 40
   },
   "kernels_config": {
    "python": {
     "delete_cmd_postfix": "",
     "delete_cmd_prefix": "del ",
     "library": "var_list.py",
     "varRefreshCmd": "print(var_dic_list())"
    },
    "r": {
     "delete_cmd_postfix": ") ",
     "delete_cmd_prefix": "rm(",
     "library": "var_list.r",
     "varRefreshCmd": "cat(var_dic_list()) "
    }
   },
   "types_to_exclude": [
    "module",
    "function",
    "builtin_function_or_method",
    "instance",
    "_Feature"
   ],
   "window_display": false
  }
 },
 "nbformat": 4,
 "nbformat_minor": 5
}
